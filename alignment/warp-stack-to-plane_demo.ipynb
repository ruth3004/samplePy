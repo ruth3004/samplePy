{
 "cells": [
  {
   "cell_type": "code",
   "execution_count": 10,
   "id": "0416f167-5674-4d99-8615-b9a00c280179",
   "metadata": {},
   "outputs": [],
   "source": [
    "import numpy as np\n",
    "import matplotlib.pyplot as plt\n",
    "import napari"
   ]
  },
  {
   "cell_type": "code",
   "execution_count": 11,
   "id": "5f8e03ab-0915-482d-a696-0aede8da1427",
   "metadata": {},
   "outputs": [],
   "source": [
    "from tifffile import imread"
   ]
  },
  {
   "cell_type": "code",
   "execution_count": 12,
   "id": "b65ac1ec-47a3-4bf8-ad7a-6c673502fa4b",
   "metadata": {},
   "outputs": [],
   "source": [
    "viewer = napari.Viewer()"
   ]
  },
  {
   "cell_type": "code",
   "execution_count": 13,
   "id": "82230fa1-0f4c-42a3-b29b-d929389743d3",
   "metadata": {},
   "outputs": [],
   "source": [
    "#plane = imread('/tungstenfs/scratch/gfriedri/montruth/CLEM_Analyses/CLEM_20220426_RM0008_130hpf_fP1_f3/pycpd/plane4_Ala_first_half.tif')\n",
    "#load lm plane image\n",
    "plane = np.flip(imread(r\"\\\\tungsten-nas.fmi.ch\\tungsten\\scratch\\gfriedri\\montruth\\2P_RawData\\2022-04-26\\f3\\results\\anatomy\\plane01\\anatomy_binned_x1y1z1_20220426_RM0008_130hpf_fP1_f3_t1_o1Ala_001_.tif\"),axis=1)\n",
    "plane= plane.astype(np.uint16)[plane.shape[0]//2:]\n",
    "\n",
    "\n",
    "\n"
   ]
  },
  {
   "cell_type": "code",
   "execution_count": 14,
   "id": "3d63b14b-3f10-45e3-9063-e5f63051db18",
   "metadata": {},
   "outputs": [],
   "source": [
    "#stack = imread('/tungstenfs/scratch/gfriedri/montruth/CLEM_Analyses/CLEM_20220426_RM0008_130hpf_fP1_f3/pycpd/lm_stack.tif')\n",
    "#load lm stack image\n",
    "stack  = imread(r\"\\\\tungsten-nas.fmi.ch\\tungsten\\scratch\\gfriedri\\montruth\\CLEM_Analyses\\CLEM_20220426_RM0008_130hpf_fP1_f3\\pycpd\\lm_stack.tif\")\n"
   ]
  },
  {
   "cell_type": "code",
   "execution_count": 15,
   "id": "0133b4a2-1365-4ce3-9aad-3d3f97939658",
   "metadata": {},
   "outputs": [
    {
     "data": {
      "text/plain": [
       "(256, 512)"
      ]
     },
     "execution_count": 15,
     "metadata": {},
     "output_type": "execute_result"
    }
   ],
   "source": [
    "plane.shape"
   ]
  },
  {
   "cell_type": "code",
   "execution_count": 16,
   "id": "2f2b45c3-1dfd-4c50-bedd-11e38ad8ef77",
   "metadata": {},
   "outputs": [
    {
     "data": {
      "text/plain": [
       "(375, 512, 512)"
      ]
     },
     "execution_count": 16,
     "metadata": {},
     "output_type": "execute_result"
    }
   ],
   "source": [
    "stack.shape"
   ]
  },
  {
   "cell_type": "code",
   "execution_count": 17,
   "id": "3e9f5f51-61a3-48af-816a-fde28ca67490",
   "metadata": {},
   "outputs": [
    {
     "data": {
      "text/plain": [
       "<Image layer 'stack' at 0x2190ad2cdf0>"
      ]
     },
     "execution_count": 17,
     "metadata": {},
     "output_type": "execute_result"
    }
   ],
   "source": [
    "viewer.add_image(stack)"
   ]
  },
  {
   "cell_type": "code",
   "execution_count": 18,
   "id": "dadf547b-a863-4052-aef4-102643016e5a",
   "metadata": {},
   "outputs": [],
   "source": [
    "from skimage.transform import SimilarityTransform"
   ]
  },
  {
   "cell_type": "code",
   "execution_count": 19,
   "id": "8b18a2eb-7de7-43ab-9ef9-557c322bef91",
   "metadata": {},
   "outputs": [],
   "source": [
    "transformation = SimilarityTransform(np.array(\n",
    "    [[ 1.06932423e+00, -9.88353099e-02, -1.57206100e-02,  4.83865881e+01],\n",
    "\n",
    "     [ 9.88090846e-02,  1.06943927e+00, -2.50709394e-03,  1.36403526e+02],\n",
    "\n",
    "     [ 1.58846112e-02,  1.04986984e-03,  1.07387916e+00, -2.65635800e+01],\n",
    "\n",
    "     [ 0.00000000e+00,  0.00000000e+00,  0.00000000e+00,  1.00000000e+00]]\n",
    "))"
   ]
  },
  {
   "cell_type": "code",
   "execution_count": 20,
   "id": "49335af9-7505-42bc-ac31-183128330eb2",
   "metadata": {},
   "outputs": [],
   "source": [
    "# Thickness of target stack + 2\n",
    "thickness = 7"
   ]
  },
  {
   "cell_type": "code",
   "execution_count": 21,
   "id": "2458ef78-e54d-41f0-9e8c-8b877e42abe5",
   "metadata": {},
   "outputs": [],
   "source": [
    "t_2 = thickness // 2\n",
    "zz, yy, xx = np.meshgrid(\n",
    "    np.linspace(-t_2, t_2+1, num=int(thickness*transformation.scale) + 1, endpoint=False), \n",
    "    np.linspace(0, plane.shape[0], num=int(transformation.scale * plane.shape[0]) + 1, endpoint=False),\n",
    "    np.linspace(0, plane.shape[1], num=int(transformation.scale * plane.shape[1]) + 1, endpoint=False),\n",
    "    indexing='ij'\n",
    ")\n",
    "# plane coordinates +/- half thickness e.g. -3, -2, -1, 0, 1, 2, 3 in Z\n",
    "plane_coords = np.stack([zz.flatten(), yy.flatten(), xx.flatten()], axis=1)"
   ]
  },
  {
   "cell_type": "code",
   "execution_count": 22,
   "id": "1609da86-0188-4e71-adde-4c1dabe893b8",
   "metadata": {},
   "outputs": [
    {
     "data": {
      "text/plain": [
       "(8, 275, 550)"
      ]
     },
     "execution_count": 22,
     "metadata": {},
     "output_type": "execute_result"
    }
   ],
   "source": [
    "zz.shape"
   ]
  },
  {
   "cell_type": "code",
   "execution_count": 23,
   "id": "792afc0f-57e4-4fc6-93cc-e414e16ff6a3",
   "metadata": {},
   "outputs": [],
   "source": [
    "# These are the target stack coordinates in the overview stack.\n",
    "# They are real numbers.\n",
    "plane_coords_in_stack = transformation(plane_coords)"
   ]
  },
  {
   "cell_type": "code",
   "execution_count": 24,
   "id": "5b12581f-feca-49da-ae33-61149001114a",
   "metadata": {},
   "outputs": [
    {
     "data": {
      "text/plain": [
       "array([[ 45.17861541, 136.10709875, -26.61123383],\n",
       "       [ 45.16398095, 136.10476487, -25.61154996],\n",
       "       [ 45.14934649, 136.10243099, -24.61186609],\n",
       "       ...,\n",
       "       [ 18.51334473, 408.2165763 , 520.58092706],\n",
       "       [ 18.49871027, 408.21424243, 521.58061093],\n",
       "       [ 18.48407581, 408.21190855, 522.5802948 ]])"
      ]
     },
     "execution_count": 24,
     "metadata": {},
     "output_type": "execute_result"
    }
   ],
   "source": [
    "plane_coords_in_stack"
   ]
  },
  {
   "cell_type": "code",
   "execution_count": 25,
   "id": "4f11745a-3f99-469d-bf7e-be219e52f8d9",
   "metadata": {},
   "outputs": [],
   "source": [
    "# viewer.add_points(plane_coords_in_stack, size=3, opacity=0.2)"
   ]
  },
  {
   "cell_type": "code",
   "execution_count": 26,
   "id": "a303d24b-f3ec-415c-9055-8db120b4135e",
   "metadata": {},
   "outputs": [],
   "source": [
    "# Round target stack coordinates to integer grid.\n",
    "plane_stack_source_coordinates = np.round(plane_coords_in_stack).astype(np.int16)"
   ]
  },
  {
   "cell_type": "code",
   "execution_count": 27,
   "id": "f5218e66-fa6f-4b66-803b-b7d500ebd0cd",
   "metadata": {},
   "outputs": [],
   "source": [
    "# viewer.add_points(int_plane_coords_in_stack, size=3, opacity=0.2)"
   ]
  },
  {
   "cell_type": "code",
   "execution_count": 28,
   "id": "0fb75935-3f37-4f98-a85e-79816392aee0",
   "metadata": {},
   "outputs": [
    {
     "data": {
      "text/plain": [
       "array([[ 45, 136, -27],\n",
       "       [ 45, 136, -26],\n",
       "       [ 45, 136, -25],\n",
       "       ...,\n",
       "       [ 19, 408, 521],\n",
       "       [ 18, 408, 522],\n",
       "       [ 18, 408, 523]], dtype=int16)"
      ]
     },
     "execution_count": 28,
     "metadata": {},
     "output_type": "execute_result"
    }
   ],
   "source": [
    "plane_stack_source_coordinates"
   ]
  },
  {
   "cell_type": "code",
   "execution_count": 29,
   "id": "0d8decd6-2c4b-4a59-b8fb-f34ec17c8933",
   "metadata": {},
   "outputs": [
    {
     "data": {
      "text/plain": [
       "(1210000, 3)"
      ]
     },
     "execution_count": 29,
     "metadata": {},
     "output_type": "execute_result"
    }
   ],
   "source": [
    "plane_stack_source_coordinates.shape"
   ]
  },
  {
   "cell_type": "code",
   "execution_count": 30,
   "id": "f69938cc-e881-40ed-82b4-02ff2979c97f",
   "metadata": {},
   "outputs": [],
   "source": [
    "# Remove coordinates outside of the overview stack\n",
    "valid_coords = plane_stack_source_coordinates[np.all(plane_stack_source_coordinates >= 0, axis=1)]\n",
    "valid_coords = valid_coords[np.all(valid_coords < stack.shape, axis=1)]"
   ]
  },
  {
   "cell_type": "code",
   "execution_count": 31,
   "id": "ff0eeb6b-3676-4752-94e5-d695ff4b7d12",
   "metadata": {},
   "outputs": [
    {
     "data": {
      "text/plain": [
       "(1127711, 3)"
      ]
     },
     "execution_count": 31,
     "metadata": {},
     "output_type": "execute_result"
    }
   ],
   "source": [
    "valid_coords.shape"
   ]
  },
  {
   "cell_type": "code",
   "execution_count": 32,
   "id": "43a353b9-6fe4-4548-afaf-8479f32ee169",
   "metadata": {},
   "outputs": [],
   "source": [
    "# Convert coordinates into index which works on the flattened stack.\n",
    "idx = np.ravel_multi_index((valid_coords[:, 0], valid_coords[:, 1], valid_coords[:, 2]), stack.shape)"
   ]
  },
  {
   "cell_type": "code",
   "execution_count": 33,
   "id": "ddea2f0d-8a71-41f6-9843-4d315b2a936b",
   "metadata": {},
   "outputs": [],
   "source": [
    "# Create empty flat stack\n",
    "tmp = np.zeros_like(stack).flatten()"
   ]
  },
  {
   "cell_type": "code",
   "execution_count": 34,
   "id": "50b19fad-6452-4f58-8ca2-678fb17dfd33",
   "metadata": {},
   "outputs": [],
   "source": [
    "# Copy values from flattened stack into empty flat stack.\n",
    "# These values are the ones which are +/- half-thickness around the plane of interest.\n",
    "tmp[idx] = stack.flatten()[idx]"
   ]
  },
  {
   "cell_type": "code",
   "execution_count": 35,
   "id": "c3373c0d-4939-470f-9e8b-b6363580e5a5",
   "metadata": {},
   "outputs": [],
   "source": [
    "tmp.shape = stack.shape"
   ]
  },
  {
   "cell_type": "code",
   "execution_count": 36,
   "id": "2f4bd794-c4aa-48fb-9a22-2d4ea079c3d1",
   "metadata": {},
   "outputs": [
    {
     "data": {
      "text/plain": [
       "<Image layer 'tmp' at 0x21913b22040>"
      ]
     },
     "execution_count": 36,
     "metadata": {},
     "output_type": "execute_result"
    }
   ],
   "source": [
    "viewer.add_image(tmp)"
   ]
  },
  {
   "cell_type": "code",
   "execution_count": 37,
   "id": "4d39d4d4-be56-4ff6-8379-c7b9e3ca6101",
   "metadata": {},
   "outputs": [],
   "source": [
    "from scipy.interpolate import griddata"
   ]
  },
  {
   "cell_type": "code",
   "execution_count": 38,
   "id": "d8f513c1-ac97-496b-b906-1668a0e8cee8",
   "metadata": {},
   "outputs": [
    {
     "data": {
      "text/plain": [
       "\u001b[1;31mSignature:\u001b[0m\n",
       "\u001b[0mgriddata\u001b[0m\u001b[1;33m(\u001b[0m\u001b[1;33m\n",
       "\u001b[0m    \u001b[0mpoints\u001b[0m\u001b[1;33m,\u001b[0m\u001b[1;33m\n",
       "\u001b[0m    \u001b[0mvalues\u001b[0m\u001b[1;33m,\u001b[0m\u001b[1;33m\n",
       "\u001b[0m    \u001b[0mxi\u001b[0m\u001b[1;33m,\u001b[0m\u001b[1;33m\n",
       "\u001b[0m    \u001b[0mmethod\u001b[0m\u001b[1;33m=\u001b[0m\u001b[1;34m'linear'\u001b[0m\u001b[1;33m,\u001b[0m\u001b[1;33m\n",
       "\u001b[0m    \u001b[0mfill_value\u001b[0m\u001b[1;33m=\u001b[0m\u001b[0mnan\u001b[0m\u001b[1;33m,\u001b[0m\u001b[1;33m\n",
       "\u001b[0m    \u001b[0mrescale\u001b[0m\u001b[1;33m=\u001b[0m\u001b[1;32mFalse\u001b[0m\u001b[1;33m,\u001b[0m\u001b[1;33m\n",
       "\u001b[0m\u001b[1;33m)\u001b[0m\u001b[1;33m\u001b[0m\u001b[1;33m\u001b[0m\u001b[0m\n",
       "\u001b[1;31mDocstring:\u001b[0m\n",
       "Interpolate unstructured D-D data.\n",
       "\n",
       "Parameters\n",
       "----------\n",
       "points : 2-D ndarray of floats with shape (n, D), or length D tuple of 1-D ndarrays with shape (n,).\n",
       "    Data point coordinates.\n",
       "values : ndarray of float or complex, shape (n,)\n",
       "    Data values.\n",
       "xi : 2-D ndarray of floats with shape (m, D), or length D tuple of ndarrays broadcastable to the same shape.\n",
       "    Points at which to interpolate data.\n",
       "method : {'linear', 'nearest', 'cubic'}, optional\n",
       "    Method of interpolation. One of\n",
       "\n",
       "    ``nearest``\n",
       "      return the value at the data point closest to\n",
       "      the point of interpolation. See `NearestNDInterpolator` for\n",
       "      more details.\n",
       "\n",
       "    ``linear``\n",
       "      tessellate the input point set to N-D\n",
       "      simplices, and interpolate linearly on each simplex. See\n",
       "      `LinearNDInterpolator` for more details.\n",
       "\n",
       "    ``cubic`` (1-D)\n",
       "      return the value determined from a cubic\n",
       "      spline.\n",
       "\n",
       "    ``cubic`` (2-D)\n",
       "      return the value determined from a\n",
       "      piecewise cubic, continuously differentiable (C1), and\n",
       "      approximately curvature-minimizing polynomial surface. See\n",
       "      `CloughTocher2DInterpolator` for more details.\n",
       "fill_value : float, optional\n",
       "    Value used to fill in for requested points outside of the\n",
       "    convex hull of the input points. If not provided, then the\n",
       "    default is ``nan``. This option has no effect for the\n",
       "    'nearest' method.\n",
       "rescale : bool, optional\n",
       "    Rescale points to unit cube before performing interpolation.\n",
       "    This is useful if some of the input dimensions have\n",
       "    incommensurable units and differ by many orders of magnitude.\n",
       "\n",
       "    .. versionadded:: 0.14.0\n",
       "\n",
       "Returns\n",
       "-------\n",
       "ndarray\n",
       "    Array of interpolated values.\n",
       "\n",
       "Notes\n",
       "-----\n",
       "\n",
       ".. versionadded:: 0.9\n",
       "\n",
       "Examples\n",
       "--------\n",
       "\n",
       "Suppose we want to interpolate the 2-D function\n",
       "\n",
       ">>> def func(x, y):\n",
       "...     return x*(1-x)*np.cos(4*np.pi*x) * np.sin(4*np.pi*y**2)**2\n",
       "\n",
       "on a grid in [0, 1]x[0, 1]\n",
       "\n",
       ">>> grid_x, grid_y = np.mgrid[0:1:100j, 0:1:200j]\n",
       "\n",
       "but we only know its values at 1000 data points:\n",
       "\n",
       ">>> rng = np.random.default_rng()\n",
       ">>> points = rng.random((1000, 2))\n",
       ">>> values = func(points[:,0], points[:,1])\n",
       "\n",
       "This can be done with `griddata` -- below we try out all of the\n",
       "interpolation methods:\n",
       "\n",
       ">>> from scipy.interpolate import griddata\n",
       ">>> grid_z0 = griddata(points, values, (grid_x, grid_y), method='nearest')\n",
       ">>> grid_z1 = griddata(points, values, (grid_x, grid_y), method='linear')\n",
       ">>> grid_z2 = griddata(points, values, (grid_x, grid_y), method='cubic')\n",
       "\n",
       "One can see that the exact result is reproduced by all of the\n",
       "methods to some degree, but for this smooth function the piecewise\n",
       "cubic interpolant gives the best results:\n",
       "\n",
       ">>> import matplotlib.pyplot as plt\n",
       ">>> plt.subplot(221)\n",
       ">>> plt.imshow(func(grid_x, grid_y).T, extent=(0,1,0,1), origin='lower')\n",
       ">>> plt.plot(points[:,0], points[:,1], 'k.', ms=1)\n",
       ">>> plt.title('Original')\n",
       ">>> plt.subplot(222)\n",
       ">>> plt.imshow(grid_z0.T, extent=(0,1,0,1), origin='lower')\n",
       ">>> plt.title('Nearest')\n",
       ">>> plt.subplot(223)\n",
       ">>> plt.imshow(grid_z1.T, extent=(0,1,0,1), origin='lower')\n",
       ">>> plt.title('Linear')\n",
       ">>> plt.subplot(224)\n",
       ">>> plt.imshow(grid_z2.T, extent=(0,1,0,1), origin='lower')\n",
       ">>> plt.title('Cubic')\n",
       ">>> plt.gcf().set_size_inches(6, 6)\n",
       ">>> plt.show()\n",
       "\n",
       "See also\n",
       "--------\n",
       "LinearNDInterpolator :\n",
       "    Piecewise linear interpolant in N dimensions.\n",
       "NearestNDInterpolator :\n",
       "    Nearest-neighbor interpolation in N dimensions.\n",
       "CloughTocher2DInterpolator :\n",
       "    Piecewise cubic, C1 smooth, curvature-minimizing interpolant in 2D.\n",
       "\u001b[1;31mFile:\u001b[0m      c:\\programdata\\mambaforge\\envs\\fishpy\\lib\\site-packages\\scipy\\interpolate\\_ndgriddata.py\n",
       "\u001b[1;31mType:\u001b[0m      function"
      ]
     },
     "metadata": {},
     "output_type": "display_data"
    }
   ],
   "source": [
    "?griddata"
   ]
  },
  {
   "cell_type": "code",
   "execution_count": 39,
   "id": "b0c56a46-968b-4d90-ba73-9f559c2d446c",
   "metadata": {},
   "outputs": [],
   "source": [
    "# Get coordinates for target stack (thicknes -2 (-1 on both sides of z))\n",
    "zz, yy, xx = np.meshgrid(\n",
    "    range(-t_2 + 1, t_2), range(plane.shape[0]), range(plane.shape[1]), indexing='ij'\n",
    ")\n",
    "xi = transformation(np.stack([zz.flatten(), yy.flatten(), xx.flatten()], axis=1))"
   ]
  },
  {
   "cell_type": "code",
   "execution_count": 40,
   "id": "29072b46-8781-40e1-aa2d-dab7b8b71014",
   "metadata": {},
   "outputs": [
    {
     "data": {
      "text/plain": [
       "(5, 256, 512)"
      ]
     },
     "execution_count": 40,
     "metadata": {},
     "output_type": "execute_result"
    }
   ],
   "source": [
    "zz.shape"
   ]
  },
  {
   "cell_type": "code",
   "execution_count": 41,
   "id": "ec74e8c3-eb00-4de0-a807-1ea227f3aaf2",
   "metadata": {},
   "outputs": [],
   "source": [
    "# Get interpolated target stack\n",
    "interpolated_plane = griddata(\n",
    "    points=valid_coords,\n",
    "    values=stack.flatten()[idx],\n",
    "    xi=xi,\n",
    "    method='nearest'\n",
    ").reshape(zz.shape)"
   ]
  },
  {
   "cell_type": "code",
   "execution_count": 42,
   "id": "d93c436b-1045-40fb-9e0f-7ee8cea4100b",
   "metadata": {},
   "outputs": [],
   "source": [
    "# 2 channel image with original plane in 2nd channel in the center z-plane\n",
    "both = np.zeros((2,) + interpolated_plane.shape, dtype=interpolated_plane.dtype)\n",
    "\n",
    "both[0] = interpolated_plane\n",
    "both[1, interpolated_plane.shape[0]//2] = plane"
   ]
  },
  {
   "cell_type": "code",
   "execution_count": 55,
   "id": "66895b26-6979-4e9f-a937-708a1f844066",
   "metadata": {},
   "outputs": [
    {
     "name": "stderr",
     "output_type": "stream",
     "text": [
      "WARNING: DirectWrite: CreateFontFaceFromHDC() failed (Indicates an error in an input file such as a font file.) for QFontDef(Family=\"\", pointsize=12, pixelsize=16, styleHint=5, weight=50, stretch=100, hintingPreference=0) LOGFONT(\"MS Sans Serif\", lfWidth=0, lfHeight=-16) dpi=144\n"
     ]
    },
    {
     "data": {
      "text/plain": [
       "[<Image layer 'Image' at 0x21909a02e20>,\n",
       " <Image layer 'Image [1]' at 0x2190a3a4880>]"
      ]
     },
     "execution_count": 55,
     "metadata": {},
     "output_type": "execute_result"
    }
   ],
   "source": [
    "viewer.add_image(both, channel_axis=0,contrast_limits = [0,5000])"
   ]
  },
  {
   "cell_type": "code",
   "execution_count": 44,
   "id": "9354c8b1-16b6-4770-b175-9a208fef7762",
   "metadata": {},
   "outputs": [],
   "source": [
    "# naive interpolation by simply flooring coordinates. No griddata interpolation.\n",
    "xi = xi.astype(np.uint16)"
   ]
  },
  {
   "cell_type": "code",
   "execution_count": 45,
   "id": "bad8aeab-72b7-438c-9102-34630167de73",
   "metadata": {},
   "outputs": [],
   "source": [
    "valid_xi = np.logical_and(np.all(xi >= 0, axis=1), np.all(xi < stack.shape, axis=1))"
   ]
  },
  {
   "cell_type": "code",
   "execution_count": 46,
   "id": "1d268129-c5af-4253-9ef7-ea944dbf8601",
   "metadata": {},
   "outputs": [
    {
     "data": {
      "text/plain": [
       "611840"
      ]
     },
     "execution_count": 46,
     "metadata": {},
     "output_type": "execute_result"
    }
   ],
   "source": [
    "valid_xi.sum()"
   ]
  },
  {
   "cell_type": "code",
   "execution_count": 47,
   "id": "ea5d06ff-cefd-4e65-8d97-c792f5e89758",
   "metadata": {},
   "outputs": [],
   "source": [
    "interpolation_idx = np.ravel_multi_index((xi[valid_xi, 0], xi[valid_xi, 1], xi[valid_xi,2]), stack.shape)"
   ]
  },
  {
   "cell_type": "code",
   "execution_count": 48,
   "id": "dc7085a0-0e44-4a93-807e-acc16fd451fc",
   "metadata": {},
   "outputs": [
    {
     "data": {
      "text/plain": [
       "array([11866112, 11866112, 11866113, ...,  4665853,  4665854,  4665855],\n",
       "      dtype=int64)"
      ]
     },
     "execution_count": 48,
     "metadata": {},
     "output_type": "execute_result"
    }
   ],
   "source": [
    "interpolation_idx"
   ]
  },
  {
   "cell_type": "code",
   "execution_count": 49,
   "id": "467b2bbb-9c23-452a-a93b-46e2149f6044",
   "metadata": {},
   "outputs": [],
   "source": [
    "stack_plane = np.zeros_like(zz, dtype=stack.dtype).flatten()"
   ]
  },
  {
   "cell_type": "code",
   "execution_count": 50,
   "id": "4aed5e90-f745-4c5a-b17c-6c5a407c3e1b",
   "metadata": {},
   "outputs": [],
   "source": [
    "stack_plane[valid_xi] = stack.flatten()[interpolation_idx]"
   ]
  },
  {
   "cell_type": "code",
   "execution_count": 51,
   "id": "5a33c801-54f2-4116-ab5d-17ca0d875fbc",
   "metadata": {},
   "outputs": [
    {
     "data": {
      "text/plain": [
       "(655360,)"
      ]
     },
     "execution_count": 51,
     "metadata": {},
     "output_type": "execute_result"
    }
   ],
   "source": [
    "stack_plane.shape"
   ]
  },
  {
   "cell_type": "code",
   "execution_count": 52,
   "id": "e27f2254-1e02-42e7-b869-5f194d67e9dd",
   "metadata": {},
   "outputs": [
    {
     "data": {
      "text/plain": [
       "<matplotlib.image.AxesImage at 0x2190b5b5ee0>"
      ]
     },
     "execution_count": 52,
     "metadata": {},
     "output_type": "execute_result"
    },
    {
     "data": {
      "image/png": "[encoded data removed]",
      "text/plain": [
       "<Figure size 640x480 with 1 Axes>"
      ]
     },
     "metadata": {},
     "output_type": "display_data"
    }
   ],
   "source": [
    "plt.imshow(stack_plane.reshape(zz.shape)[zz.shape[0]//2])"
   ]
  },
  {
   "cell_type": "code",
   "execution_count": null,
   "id": "c7197f14-0cba-4814-b99e-4df7da5f6d87",
   "metadata": {},
   "outputs": [],
   "source": []
  }
 ],
 "metadata": {
  "kernelspec": {
   "display_name": "Python 3 (ipykernel)",
   "language": "python",
   "name": "python3"
  },
  "language_info": {
   "codemirror_mode": {
    "name": "ipython",
    "version": 3
   },
   "file_extension": ".py",
   "mimetype": "text/x-python",
   "name": "python",
   "nbconvert_exporter": "python",
   "pygments_lexer": "ipython3",
   "version": "3.9.17"
  }
 },
 "nbformat": 4,
 "nbformat_minor": 5
}
