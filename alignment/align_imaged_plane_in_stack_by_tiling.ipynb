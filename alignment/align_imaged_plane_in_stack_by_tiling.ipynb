{
 "cells": [
  {
   "cell_type": "markdown",
   "id": "9765b3ff-eabf-4fb4-a0db-d7ffeda7240c",
   "metadata": {},
   "source": [
    "Rotating centroids of LM plane into EM warped stack"
   ]
  },
  {
   "cell_type": "code",
   "execution_count": null,
   "id": "76a777d5-de63-49df-a35a-722061a2ab9d",
   "metadata": {},
   "outputs": [],
   "source": [
    "import numpy as np\n",
    "import tifffile\n",
    "\n",
    "#Image processing\n",
    "from skimage import transform, measure, feature\n",
    "from skimage.exposure import match_histograms, equalize_adapthist\n",
    "from skimage.transform import SimilarityTransform, EuclideanTransform\n",
    "from skimage.segmentation import expand_labels # expand EM warped labels\n",
    "from skimage.filters import difference_of_gaussians\n",
    "\n",
    "from warp_stack_to_plane import warp_stack_to_plane\n",
    "\n",
    "#Visualization\n",
    "import matplotlib.pyplot as plt\n",
    "import napari\n",
    "from scipy import ndimage\n",
    "from matplotlib.gridspec import GridSpec, GridSpecFromSubplotSpec\n",
    "\n"
   ]
  },
  {
   "cell_type": "code",
   "execution_count": null,
   "id": "f3da3fe0-50fa-4fec-9913-257535b73b83",
   "metadata": {},
   "outputs": [],
   "source": [
    "#Utils functions (image processing)\n",
    "\n",
    "def bin_2x2_grayscale(image):\n",
    "    ''' Bin image in xy 2 by 2'''\n",
    "    # Ensure the height and width are divisible by 2\n",
    "    h, w = image.shape\n",
    "    h = h // 2 * 2\n",
    "    w = w // 2 * 2\n",
    "    image = image[:h, :w]\n",
    "\n",
    "    # Reshape and calculate the mean along the new axes\n",
    "    binned_image = image.reshape(h//2, 2, w//2, 2).mean(axis=(1, 3))\n",
    "    return binned_image\n",
    "\n",
    "def slice_into_uniform_tiles(image, nx, ny, plot=True):\n",
    "    \"\"\"\n",
    "    Slice an image into uniformly sized tiles.\n",
    "    \n",
    "    Parameters:\n",
    "    - image: 2D NumPy array representing the image to be sliced.\n",
    "    - nx: Number of tiles along the x-axis (width).\n",
    "    - ny: Number of tiles along the y-axis (height).\n",
    "    - plot: Boolean if the tiles should be ploted.\n",
    "    \n",
    "    Returns:\n",
    "    - A 2D NumPy array with desired shape, each space representing a uniformly sized tile.\n",
    "    \"\"\"\n",
    "    height, width = image.shape\n",
    "    print(f\"Original image size: {height}x{width}\")\n",
    "    \n",
    "    # Calculate the size of each tile\n",
    "    M, N = (height // ny, width // nx)\n",
    "    print(f\"Tile size: {M}x{N}\")\n",
    "    \n",
    "    # Adjust the height and width to ensure all tiles are of equal size\n",
    "    adjusted_height = M * ny\n",
    "    adjusted_width = N * nx\n",
    "    print(f\"Adjusted image size for perfect slicing: {adjusted_height}x{adjusted_width}\")\n",
    "    \n",
    "    # Adjust image size for slicing\n",
    "    adjusted_image = image[:adjusted_height, :adjusted_width]\n",
    "    \n",
    "    # Generate perfectly sized tiles\n",
    "    tiles = np.array([adjusted_image[x:x+M, y:y+N] for x in range(0, adjusted_height, M) for y in range(0, adjusted_width, N)])\n",
    "    \n",
    "    print(f\"Number of tiles: {len(tiles)}\")\n",
    "\n",
    "    reshaped_tiles = tiles.reshape(ny,nx, tiles.shape[1],tiles.shape[2])\n",
    "\n",
    "    if plot:\n",
    "        fig, axs = plt.subplots(ncols= nx, nrows= ny)\n",
    "    \n",
    "        count=0\n",
    "        for i in range(ny):\n",
    "            for j in range(nx):\n",
    "                axs[i,j].imshow(reshaped_tiles[i,j])\n",
    "                #axs[i,j].imshow(reshaped_tiles[i,j].astype(np.uint16))\n",
    "                count+=1\n",
    "        plt.show()\n",
    "    \n",
    "    return reshaped_tiles, (M,N), (adjusted_height, adjusted_width)\n",
    "\n",
    "# Example usage:\n",
    "# Assuming `plane` is your 2D numpy array representing the image\n",
    "# plane = np.random.rand(100, 100) # Example initialization, replace with your actual image\n",
    "# nx, ny = (3, 3)  # Desired number of tiles in each dimension\n",
    "# tiles = slice_into_uniform_tiles(plane, nx, ny)\n",
    "# This will print out the details and return the list of tiles.\n",
    "\n",
    "# adding columns to stacks\n",
    "def extend_stack(stack, blank=100):\n",
    "    extended_stack = np.zeros(shape=(stack.shape[0],stack.shape[1]+2*blank,stack.shape[2]+2*blank)) \n",
    "    extended_stack[:,blank:-blank,blank:-blank] = stack#.astype(np.uint16)\n",
    "    return extended_stack"
   ]
  },
  {
   "cell_type": "code",
   "execution_count": null,
   "id": "ed029f22-b75f-4a2f-8816-da25faf175f4",
   "metadata": {},
   "outputs": [],
   "source": [
    "def find_plane_in_stack(plane, stack, reshape=True, plot_all_correlations=False, z_range=None):\n",
    "    \"\"\"\n",
    "    Correlate a given plane with slices in a 3D stack.\n",
    "    If an angle is provided, the stack is rotated before correlation along the plane given.\n",
    "    \n",
    "    Parameters:\n",
    "    - stack: 3D stack where the plane is to be searched.\n",
    "    - plane: The 2D plane to be matched.\n",
    "\n",
    "    Returns:\n",
    "    - (max_corr, max_position): Tuple containing the position of the best match and its coordinates.\n",
    "    \"\"\"\n",
    "\n",
    "    max_corr = -np.inf\n",
    "    max_position = None\n",
    "    \n",
    "\n",
    "    all_correlations = []\n",
    "\n",
    "    slices = [*range(stack.shape[0])] if z_range == None else [*range(z_range[0],z_range[-1])]\n",
    "\n",
    "        \n",
    "    # Loop through each slice in the stack (or rotated stack)\n",
    "    for slice in slices:\n",
    "        corr = feature.match_template(stack[slice], plane, pad_input=True)\n",
    "        max_value = np.max(corr)\n",
    "        position = np.unravel_index(np.argmax(corr), corr.shape)\n",
    "        all_correlations.append(max_value)\n",
    "        \n",
    "        if max_value > max_corr:\n",
    "            max_corr = max_value\n",
    "            max_position = (slice, *position)\n",
    "    \n",
    "    if plot_all_correlations:\n",
    "        plt.scatter(slices, all_correlations)\n",
    "        plt.xlabel('Slice')\n",
    "        plt.ylabel('Correlation')\n",
    "        plt.title('Correlation of Each Slice')\n",
    "        plt.show()\n",
    "        \n",
    "    return (max_corr, max_position, all_correlations)\n",
    "\n",
    "def crop_stack_to_matched_plane(stack, plane, position, blank=100):\n",
    "    \n",
    "    slice_idx, x_offset, y_offset = position\n",
    "    extended_stack = extend_stack(stack, blank)\n",
    "\n",
    "    # Calculate the bounds for cropping the matched slice\n",
    "    width, height = plane.shape\n",
    "    y_start, y_end = y_offset - height//2+blank, y_offset + height//2+blank\n",
    "    x_start, x_end = x_offset - width//2+blank , x_offset + width//2+blank\n",
    "\n",
    "    cropped_slice = extended_stack[slice_idx, x_start:x_end, y_start:y_end]\n",
    "    \n",
    "    return cropped_slice\n",
    "\n",
    "def plot_matched_plane_and_cropped_slice(stack, plane, position, match_hist =True):\n",
    "    \"\"\"\n",
    "    Visualize the matched plane from the stack and a cropped slice from the rotated stack.\n",
    "\n",
    "    Parameters:\n",
    "    - stack: 3D image stack.\n",
    "    - plane: 2D plane to be visualized.\n",
    "    - position: (slice index, x_offset, y_offset) - describes where in the rotated stack the match was found.\n",
    "\n",
    "    Returns:\n",
    "    - Displays a side-by-side visualization of the plane and the matched slice.\n",
    "    \"\"\"\n",
    "\n",
    "    cropped_slice = crop_stack_to_matched_plane(stack, plane, position)\n",
    "\n",
    "    fig, (ax1, ax2) = plt.subplots(1, 2, figsize=(10, 5))\n",
    "    ax1.imshow(plane, cmap='gray')\n",
    "    ax1.set_title(f\"Plane\")\n",
    "    if match_hist:\n",
    "        ax2.imshow(match_histograms(cropped_slice, plane), cmap='gray')\n",
    "    else:\n",
    "        ax2.imshow(cropped_slice, cmap='gray')\n",
    "    ax2.set_title(f\"Matched cropped slice \")\n",
    "    plt.show()\n",
    "\n",
    "\n",
    "def find_best_planes(tiles, stack, tiles_filter, z_range=None):\n",
    "    \"\"\"\n",
    "    Find the best matching plane in a stack for each tile, based on a filter.\n",
    "\n",
    "    Parameters:\n",
    "    - tiles: A 4D numpy array of tiles with shape (ny, nx, tile_height, tile_width).\n",
    "    - stack: A 3D numpy array representing the stack to search through.\n",
    "    - tiles_filter: A 2D numpy array (mask) with shape (ny, nx), where 1 indicates a tile to process and 0 a tile to ignore.\n",
    "\n",
    "    Returns:\n",
    "    - best_plane_matrix: A 2D numpy array storing the best plane's position for each tile.\n",
    "    - all_correlations_matrix: A 3D numpy array storing all correlations for each tile across the stack.\n",
    "    \"\"\"\n",
    "    # E.g. best_plane_matrix, all_correlations_matrix = find_best_planes(tiles, stack, tiles_filter)\n",
    "    \n",
    "    ny, nx = tiles.shape[:2]\n",
    "    best_plane_matrix = np.zeros(shape=(tiles.shape[0],tiles.shape[1],3), dtype=int)\n",
    "    if z_range==None:\n",
    "        all_correlations_matrix = np.zeros((ny, nx, stack.shape[0]))  # Assuming the third dimension of stack is the depth (z)\n",
    "    else:\n",
    "        all_correlations_matrix = np.zeros((ny, nx, stack[z_range[0]:z_range[-1]].shape[0]))\n",
    "\n",
    "    for i in range(ny):\n",
    "        for j in range(nx):\n",
    "            if tiles_filter[i, j] == 1:\n",
    "                # Replace this with the actual function call and its return values\n",
    "                max_corr, max_position, all_correlations = find_plane_in_stack(tiles[i, j], stack, z_range=z_range)\n",
    "                \n",
    "                best_plane_matrix[i, j] = max_position\n",
    "                all_correlations_matrix[i, j, :] = all_correlations\n",
    "\n",
    "    return best_plane_matrix, all_correlations_matrix\n",
    "\n",
    "\n",
    "\n"
   ]
  },
  {
   "cell_type": "code",
   "execution_count": null,
   "id": "12cb2f58-3699-4a9a-a9b5-5e342ed1b364",
   "metadata": {},
   "outputs": [],
   "source": [
    "\n",
    "def plot_image_correlation(tiles, stack, best_plane_matrix, all_correlations_matrix):\n",
    "    \"\"\"\n",
    "    Plots a grid of images, cropped slices, and correlation scatter plots.\n",
    "\n",
    "    Parameters:\n",
    "    - tiles: 4D numpy array of images.\n",
    "    - stack: 3D numpy array representing an interpolated stack of images.\n",
    "    - best_plane_matrix: 2D numpy array with the best plane indices for each tile.\n",
    "    - all_correlations_matrix: 3D numpy array containing correlation data for scatter plots.\n",
    "    \"\"\"\n",
    "    # Define grid shape\n",
    "    num_rows, num_cols = tiles.shape[:2]  # Assumes tiles is a 4D array with shape (num_rows, num_cols, height, width)\n",
    "\n",
    "    # Create figure and gridspec\n",
    "    fig = plt.figure(figsize=(14, 12))\n",
    "    gs_main = GridSpec(1, 2, figure=fig, width_ratios=[1, 1])\n",
    "    gs_sub1 = GridSpecFromSubplotSpec(nrows=num_rows * 3, ncols=num_cols, subplot_spec=gs_main[0], hspace=0.5)\n",
    "\n",
    "    # Compute global Y-axis limits for scatter plots\n",
    "    global_y_min, global_y_max = np.inf, -np.inf\n",
    "    for row in range(num_rows):\n",
    "        for col in range(num_cols):\n",
    "            local_min = all_correlations_matrix[row, col].min()\n",
    "            local_max = all_correlations_matrix[row, col].max()\n",
    "            global_y_min = min(global_y_min, local_min)\n",
    "            global_y_max = max(global_y_max, local_max)\n",
    "\n",
    "    # Populate the grid with plots\n",
    "    for row in range(num_rows):\n",
    "        for col in range(num_cols):\n",
    "            ax = fig.add_subplot(gs_sub1[3*row, col])\n",
    "            ax.imshow(tiles[row, col])\n",
    "            ax.set_title(f'Image ({row},{col})')\n",
    "            ax.set_xticklabels([])\n",
    "\n",
    "            ax = fig.add_subplot(gs_sub1[3*row+1, col])\n",
    "            cropped_slice = crop_stack_to_matched_plane(stack, tiles[row, col], tuple(best_plane_matrix[row, col].astype(int)))\n",
    "            ax.imshow(cropped_slice)\n",
    "            ax.set_title(f'Slice {best_plane_matrix[row, col][0]-stack.shape[0]//2}')\n",
    "            ax.set_xticklabels([])\n",
    "\n",
    "            ax = fig.add_subplot(gs_sub1[3*row+2, col])\n",
    "            ax.scatter(range(all_correlations_matrix.shape[2]), all_correlations_matrix[row, col])\n",
    "            ax.set_ylim(global_y_min, global_y_max)\n",
    "            ax.set_title(f'Correlation ({row},{col})')\n",
    "            ax.set_xticklabels([])\n",
    "            if col > 0:\n",
    "                ax.set_yticklabels([])\n",
    "\n",
    "    plt.tight_layout()\n",
    "    plt.show()"
   ]
  },
  {
   "cell_type": "code",
   "execution_count": null,
   "id": "c9a17ce1-1a3f-43bc-9c8f-750e1702d026",
   "metadata": {},
   "outputs": [],
   "source": [
    "## Loading data\n",
    "\n",
    "#load lm stack image\n",
    "lm_stack  = tifffile.imread(r\"\\\\tungsten-nas.fmi.ch\\tungsten\\scratch\\gfriedri\\montruth\\CLEM_Analyses\\CLEM_20220426_RM0008_130hpf_fP1_f3\\pycpd\\lm_stack.tif\")\n",
    "\n",
    "#load lm plane image\n",
    "lm_plane = np.flip(tifffile.imread(r\"\\\\tungsten-nas.fmi.ch\\tungsten\\scratch\\gfriedri\\montruth\\2P_RawData\\2022-04-26\\f3\\results\\anatomy\\plane01\\anatomy_binned_x1y1z1_20220426_RM0008_130hpf_fP1_f3_t1_o1Ala_001_.tif\"),axis=1)\n",
    "lm_plane= lm_plane.astype(np.uint16)[lm_plane.shape[0]//2:]\n",
    "\n",
    "#load lm plane mask \n",
    "lm_plane_mask = np.flip(tifffile.imread(r\"\\\\tungsten-nas.fmi.ch\\tungsten\\scratch\\gfriedri\\montruth\\2P_RawData\\2022-04-26\\f3\\results\\anatomy\\plane01\\anatomy_binned_x1y1z1_20220426_RM0008_130hpf_fP1_f3_t1_o1Ala_001__cp_masks.tif\"),axis=1)\n",
    "lm_plane_mask = lm_plane_mask[lm_plane_mask.shape[0]//2:] \n",
    "\n",
    "# Extract centroids of lm plane (can be done in a different script)\n",
    "lm_plane_props = measure.regionprops(lm_plane_mask)\n",
    "lm_plane_centroids = np.array([prop.centroid for prop in lm_plane_props])\n",
    "\n",
    "# adding raw and transformed centroids from lm plane \n",
    "print(lm_plane_centroids.shape)\n",
    "lm_plane_centroids_3d = np.hstack((np.zeros(shape=(lm_plane_centroids.shape[0],1)), lm_plane_centroids))\n",
    "print(lm_plane_centroids_3d.shape)\n",
    "\n",
    "# Binning images\n",
    "binned_lm_stack = np.array([bin_2x2_grayscale(slice) for slice in lm_stack])\n",
    "binned_lm_plane = bin_2x2_grayscale(lm_plane)"
   ]
  },
  {
   "cell_type": "code",
   "execution_count": null,
   "id": "99f23363-421b-45f9-a5e9-813bb4bbf8c5",
   "metadata": {},
   "outputs": [],
   "source": [
    "#load em warped (FOV of LM) stack\n",
    "em_warped_stack = tifffile.imread(r\"\\\\tungsten-nas.fmi.ch\\tungsten\\scratch\\gfriedri\\montruth\\CLEM_Analyses\\CLEM_20220426_RM0008_130hpf_fP1_f3\\pycpd\\em_stack_04_warped_fovLM.tif\")\n",
    "\n",
    "#load em warped mask\n",
    "em_warped_mask = tifffile.imread(r\"\\\\tungsten-nas.fmi.ch\\tungsten\\scratch\\gfriedri\\montruth\\CLEM_Analyses\\CLEM_20220426_RM0008_130hpf_fP1_f3\\pycpd\\em_stack_04_warped_fovLM_cp_masks.tif\")\n",
    "expanded_em_labels = expand_labels(em_warped_mask, distance=3)\n",
    "\n",
    "# Extract centroids of lm plane (can be done in a different script)\n",
    "lm_stack_props = measure.regionprops(em_warped_mask)\n",
    "lm_stack_centroids = np.array([prop.centroid for prop in lm_stack_props])"
   ]
  },
  {
   "cell_type": "code",
   "execution_count": null,
   "id": "ce936b73-2ed0-4c49-a0ad-8d70f241af42",
   "metadata": {},
   "outputs": [],
   "source": [
    "all_transformation_matrices = [np.eye(4)]\n",
    "all_transformation_matrices"
   ]
  },
  {
   "cell_type": "code",
   "execution_count": null,
   "id": "3cc6b8ab-c893-4435-9cdf-39e69b37ddf2",
   "metadata": {},
   "outputs": [],
   "source": [
    "equalized_lm_plane =equalize_adapthist(lm_plane, clip_limit=0.03)\n",
    "equalized_lm_stack = np.array([equalize_adapthist(slice, clip_limit=0.03) for slice in lm_stack])\n",
    "fig, axs = plt.subplots(ncols=6)\n",
    "axs[0].imshow(lm_plane)\n",
    "axs[1].imshow(equalized_lm_plane)\n",
    "axs[2].imshow(lm_stack[20])\n",
    "axs[3].imshow(equalized_lm_stack[20])\n",
    "axs[4].imshow(lm_stack[120])\n",
    "axs[5].imshow(equalized_lm_stack[120])"
   ]
  },
  {
   "cell_type": "code",
   "execution_count": null,
   "id": "622f2cce-2f51-4ebe-8f78-b5f79cf4c443",
   "metadata": {},
   "outputs": [],
   "source": [
    "gaussian_equalized_lm_plane = difference_of_gaussians(equalized_lm_plane, low_sigma=1, high_sigma =1000)\n",
    "plt.imshow(gaussian_equalized_lm_plane)\n",
    "\n",
    "#gaussian_equalized_lm_stack = np.array([difference_of_gaussians(slice, low_sigma=1, high_sigma =1000) for slice in equalized_lm_stack])\n",
    "\n",
    "fig, axs = plt.subplots(ncols=2)\n",
    "\n",
    "axs[0].imshow(equalized_lm_plane[50:150,50:150])\n",
    "axs[1].imshow(gaussian_equalized_lm_plane[50:150,50:150])\n"
   ]
  },
  {
   "cell_type": "code",
   "execution_count": null,
   "id": "a26a611b-2c58-49c6-8c18-6d6fb271a226",
   "metadata": {},
   "outputs": [],
   "source": [
    "%%time\n",
    "# find coarse slice to plane  \n",
    "binned_plane = bin_2x2_grayscale(gaussian_equalized_lm_plane)\n",
    "binned_stack = np.array([bin_2x2_grayscale(slice) for slice in equalized_lm_stack])\n",
    "max_corr_coarse, max_position_coarse, all_correlations_coarse = find_plane_in_stack(binned_plane, binned_stack, plot_all_correlations= True)\n",
    "\n"
   ]
  },
  {
   "cell_type": "code",
   "execution_count": null,
   "id": "7c39b962-0239-47e2-a37f-d86b54f5a251",
   "metadata": {},
   "outputs": [],
   "source": [
    "stack = equalized_lm_stack\n",
    "plane = gaussian_equalized_lm_plane"
   ]
  },
  {
   "cell_type": "code",
   "execution_count": 1,
   "id": "0cee1063-e8a3-4fb0-bc9d-624137a57230",
   "metadata": {},
   "outputs": [
    {
     "ename": "NameError",
     "evalue": "name 'max_position_coarse' is not defined",
     "output_type": "error",
     "traceback": [
      "\u001b[1;31m---------------------------------------------------------------------------\u001b[0m",
      "\u001b[1;31mNameError\u001b[0m                                 Traceback (most recent call last)",
      "Cell \u001b[1;32mIn[1], line 1\u001b[0m\n\u001b[1;32m----> 1\u001b[0m \u001b[38;5;28mprint\u001b[39m(\u001b[43mmax_position_coarse\u001b[49m[\u001b[38;5;241m0\u001b[39m])\n\u001b[0;32m      2\u001b[0m z_range \u001b[38;5;241m=\u001b[39m \u001b[38;5;241m50\u001b[39m\n\u001b[0;32m      3\u001b[0m half_z_range \u001b[38;5;241m=\u001b[39m z_range \u001b[38;5;241m/\u001b[39m\u001b[38;5;241m/\u001b[39m \u001b[38;5;241m2\u001b[39m\n",
      "\u001b[1;31mNameError\u001b[0m: name 'max_position_coarse' is not defined"
     ]
    }
   ],
   "source": [
    "print(max_position_coarse[0])\n",
    "z_range = 50\n",
    "half_z_range = z_range // 2\n",
    "# Ensure min_z_range is not less than 0 and max_z_range does not exceed stack.shape[0]\n",
    "min_z_range = max(0, max_position_coarse[0] - half_z_range)\n",
    "max_z_range = min(stack.shape[0], max_position_coarse[0] + half_z_range)\n",
    "\n",
    "z_crop = range(min_z_range, max_z_range)\n",
    "\n",
    "print(z_crop[0], z_crop[-1])"
   ]
  },
  {
   "cell_type": "code",
   "execution_count": null,
   "id": "098aee15-9a24-473f-a517-32ad4ac361e3",
   "metadata": {},
   "outputs": [],
   "source": [
    "#Define stack and planes to match \n",
    "nx, ny = (4, 4)\n",
    "tiles, tile_size, adj_image_size = slice_into_uniform_tiles(plane, nx, ny, plot=True)\n",
    "tiles_filter = np.array([[1, 1, 1, 1],\n",
    "                         [1, 1, 1, 1],\n",
    "                        [1, 1, 1, 1],\n",
    "                        [1, 1, 1, 1]])"
   ]
  },
  {
   "cell_type": "code",
   "execution_count": null,
   "id": "b0bf99d7-79c3-4871-8974-fe9cafe93d89",
   "metadata": {},
   "outputs": [],
   "source": [
    "%%time\n",
    "best_plane_matrix, all_correlations_matrix = find_best_planes(tiles, stack, tiles_filter, z_range=[z_crop[0], z_crop[-1]])"
   ]
  },
  {
   "cell_type": "code",
   "execution_count": null,
   "id": "918dce4a-2752-4f4e-ad46-0ad9eeff36b7",
   "metadata": {},
   "outputs": [],
   "source": [
    "%%time\n",
    "plot_image_correlation(tiles, stack, best_plane_matrix, all_correlations_matrix)"
   ]
  },
  {
   "cell_type": "code",
   "execution_count": null,
   "id": "2b15c722-254a-49ef-85d0-05b49ef36af8",
   "metadata": {},
   "outputs": [],
   "source": [
    "filter_matrix = np.zeros(shape=(nx, ny),dtype=int)\n",
    "filter_matrix"
   ]
  },
  {
   "cell_type": "code",
   "execution_count": null,
   "id": "8b007016-2352-4cf0-a4c6-ef4012214a28",
   "metadata": {},
   "outputs": [],
   "source": [
    "filter_matrix= np.array([[1, 1, 1, 1],\n",
    "                      [0, 1, 1, 0],\n",
    "                      [0, 0, 0, 0],\n",
    "                      [0, 0, 0, 0]])\n",
    "points_filter = np.where(filter_matrix.flatten()==1)\n",
    "print(points_filter)\n",
    "\n",
    "# Create registration model  \n",
    "# lm alignment points\n",
    "lm_stack_points = np.array([best_plane_matrix[i,j] for i in range(nx) for j in range(ny) ])\n",
    "print(lm_stack_points)\n",
    "\n",
    "\n",
    "x = np.arange(tile_size[1]//2, adj_image_size[1], tile_size[1])\n",
    "y = np.arange(tile_size[0]//2, adj_image_size[0], tile_size[0])\n",
    "xv, yv = np.meshgrid(x, y)\n",
    "\n",
    "lm_plane_points = np.array([(0, yv[i,j], xv[i,j])\n",
    "                            for i in range(ny) for j in range(nx)])\n",
    "\n",
    "source = lm_plane_points[points_filter]\n",
    "target = lm_stack_points[points_filter]\n",
    "\n",
    "# Calculate the transformation\n",
    "tform = SimilarityTransform()\n",
    "tform.estimate(source, target)\n",
    "\n",
    "# Apply the transformation to a new set of points\n",
    "transformed_source = tform(source)\n",
    "print(f\"transformed_source\",transformed_source)\n",
    "#print(\"Transformation matrix:\")\n",
    "#print(tform.params)\n",
    "\n",
    "print(target-transformed_source)\n",
    "plt.imshow(target-transformed_source, cmap=\"bwr\", vmin = -5, vmax=5)\n",
    "plt.colorbar()\n",
    "\n",
    "# Apply transformation to lm plane centroids\n",
    "transformed_lm_plane_centroids = tform(lm_plane_centroids_3d)\n",
    "\n",
    "# Find overlay of em warped masks and transformed_lm_plane_centroids\n",
    "labels_at_coords = ndimage.map_coordinates(\n",
    "        expanded_em_labels, np.transpose(list(transformed_lm_plane_centroids)), order=0\n",
    "        )\n",
    "print(f\"Found {np.unique(labels_at_coords[labels_at_coords>0]).shape[0]} from {transformed_lm_plane_centroids.shape[0]} centroids \")\n",
    "\n",
    "# Filter mask of em warped\n",
    "filtered_em_mask = np.isin(expanded_em_labels, list(np.unique(labels_at_coords[labels_at_coords>0])))\n"
   ]
  },
  {
   "cell_type": "code",
   "execution_count": null,
   "id": "240157c5-30f3-4364-97b2-59d122027b49",
   "metadata": {},
   "outputs": [],
   "source": []
  },
  {
   "cell_type": "code",
   "execution_count": null,
   "id": "a5d7d524-6fc1-4d01-b8d5-aae1e7dc8317",
   "metadata": {},
   "outputs": [],
   "source": [
    "#unique_labels = np.unique(expanded_em_labels[filtered_em_mask])\n",
    "#print(len(unique_labels))\n",
    "#gt_unique_labels = np.unique(expanded_em_labels[gt_filtered_em_mask])\n",
    "#print(len(gt_unique_labels))\n",
    "#len(set(unique_labels).intersection(gt_unique_labels))\n",
    "\n",
    "#from matplotlib_venn import venn2\n",
    "\n",
    "#venn2(subsets = (len(unique_labels), len(gt_unique_labels), len(set(unique_labels).intersection(gt_unique_labels))), set_labels = ('filtered_em_mask', 'ground truth'))\n",
    "#plt.show()"
   ]
  },
  {
   "cell_type": "code",
   "execution_count": null,
   "id": "19d90888-d0ac-455a-b03f-a951b305d151",
   "metadata": {},
   "outputs": [],
   "source": [
    "# Visualize\n",
    "viewer = napari.Viewer()\n",
    "\n",
    "# adding plane with mask and centroids\n",
    "viewer.add_image(plane)\n",
    "viewer.add_labels(lm_plane_mask)\n",
    "viewer.add_points(lm_plane_centroids)\n",
    "\n",
    "#adding lm stack \n",
    "viewer.add_image(lm_stack, opacity=0.5)\n",
    "\n",
    "# adding lm points\n",
    "viewer.add_points(source, face_color='r')\n",
    "viewer.add_points(target, face_color='g')\n",
    "\n",
    "# adding transformed lm points\n",
    "viewer.add_points(transformed_source, face_color='b')\n",
    "\n",
    "viewer.add_points(transformed_lm_plane_centroids, face_color='g', size=5, name=\"SimilarityTransform dataset\")\n",
    "viewer.add_points(lm_plane_centroids_3d, face_color='m')\n",
    "\n",
    "\n",
    "# adding em warped mask (extended) and its centroids\n",
    "viewer.add_labels(expanded_em_labels, opacity=0.5, visible=False)\n",
    "viewer.add_points(lm_stack_centroids)"
   ]
  },
  {
   "cell_type": "code",
   "execution_count": null,
   "id": "46aca5da-57fb-4b53-b6cd-49dc69a7cb1c",
   "metadata": {},
   "outputs": [],
   "source": [
    "# adding filtered em mask against ground truth\n",
    "#viewer.add_image(gt_filtered_em_mask, colormap = \"red\", opacity = 0.25 )\n",
    "viewer.add_image(filtered_em_mask, colormap = \"red\", opacity = 0.25 )"
   ]
  },
  {
   "cell_type": "code",
   "execution_count": null,
   "id": "d4ef60d3-42dd-4343-ac2f-30f31f240584",
   "metadata": {},
   "outputs": [],
   "source": [
    "tform"
   ]
  },
  {
   "cell_type": "code",
   "execution_count": null,
   "id": "f338f855-373a-4f4c-a677-a237c6a1b7fa",
   "metadata": {},
   "outputs": [],
   "source": [
    "# Save\n",
    "name = \"plane1_2half\"\n",
    "save_parent_folder = r\"\\\\tungsten-nas.fmi.ch\\tungsten\\scratch\\gfriedri\\montruth\\CLEM_Analyses\\CLEM_20220426_RM0008_130hpf_fP1_f3\\pycpd\"\n",
    "np.save(save_parent_folder+\"\\\\tform_\"+name+\".npy\", tform)\n",
    "np.save(save_parent_folder+\"\\\\labels_at_coords_\"+name+\".npy\", labels_at_coords)\n",
    "np.save(save_parent_folder+\"\\\\transformed_source_\"+name+\".npy\", transformed_source)\n",
    "\n",
    "\n"
   ]
  },
  {
   "cell_type": "code",
   "execution_count": null,
   "id": "b9c481d6-3edd-4d2a-9b57-dd0bb9d49b2a",
   "metadata": {},
   "outputs": [],
   "source": [
    "%%time\n",
    "# Warping stack to plane an iterating\n",
    "name = \"plane1_2half\"\n",
    "save_parent_folder = r\"\\\\tungsten-nas.fmi.ch\\tungsten\\scratch\\gfriedri\\montruth\\CLEM_Analyses\\CLEM_20220426_RM0008_130hpf_fP1_f3\\pycpd\"\n",
    "tform = SimilarityTransform(np.load(save_parent_folder+\"\\\\tform_\"+name+\".npy\"))\n"
   ]
  },
  {
   "cell_type": "markdown",
   "id": "ad735dcf-509f-4531-bed2-fcac84423ac6",
   "metadata": {},
   "source": [
    "# Iterate and add transformation matrices"
   ]
  },
  {
   "cell_type": "code",
   "execution_count": null,
   "id": "70b611b1-874d-43cb-990f-444e62e05af2",
   "metadata": {},
   "outputs": [],
   "source": [
    "all_transformation_matrices.append(tform.params)\n",
    "\n",
    "all_transformation_matrices"
   ]
  },
  {
   "cell_type": "code",
   "execution_count": null,
   "id": "1e1fafb4-5384-4220-98bb-aa427a19d686",
   "metadata": {},
   "outputs": [],
   "source": [
    "updated_tform = np.linalg.multi_dot(all_transformation_matrices[::-1])\n",
    "updated_tform"
   ]
  },
  {
   "cell_type": "code",
   "execution_count": null,
   "id": "95e68817-e299-47ab-a69b-680d516426c6",
   "metadata": {},
   "outputs": [],
   "source": [
    "%%time\n",
    "thickness=20\n",
    "interpolated_stack = warp_stack_to_plane(lm_stack, plane, SimilarityTransform(updated_tform), thickness)\n",
    "equalized_interpolated_stack = np.array([equalize_adapthist(slice, clip_limit=0.03) for slice in interpolated_stack])\n",
    "\n",
    "best_plane_matrix, all_correlations_matrix = find_best_planes(tiles, equalized_interpolated_stack, tiles_filter)\n",
    "\n",
    "plot_image_correlation(tiles, equalized_interpolated_stack, best_plane_matrix, all_correlations_matrix)\n",
    "\n",
    "filter_matrix = np.zeros(shape=(nx, ny))\n",
    "filter_matrix"
   ]
  },
  {
   "cell_type": "code",
   "execution_count": null,
   "id": "329fe10e-052b-4b55-bb81-0cbe69d64354",
   "metadata": {},
   "outputs": [],
   "source": [
    "#viewer = napari.Viewer()\n",
    "#viewer.add_image(stack)\n",
    "\n",
    "# 2 channel image with original plane in 2nd channel in the center z-plane\n",
    "both = np.zeros((2,) + interpolated_stack.shape, dtype=interpolated_stack.dtype)\n",
    "\n",
    "both[0] = interpolated_stack\n",
    "both[1, interpolated_stack.shape[0]//2] = match_histograms(plane, interpolated_stack[-1])\n",
    "\n",
    "viewer.add_image(both, channel_axis=0, contrast_limits = [0,5000], name= \"Original in center\")"
   ]
  },
  {
   "cell_type": "code",
   "execution_count": null,
   "id": "301110cf-1c22-417d-86c4-30e38cd7f30e",
   "metadata": {},
   "outputs": [],
   "source": [
    "#Select which tiles to believe! \n",
    "filter_matrix = np.array([[1., 1., 1., 1.],\n",
    "                           [0., 1., 1., 0.],\n",
    "                           [0., 0., 0., 0.],\n",
    "                           [0., 0., 0., 0.]])\n",
    "\n",
    "points_filter = np.where(filter_matrix.flatten()==1)\n",
    "\n",
    "lm_plane_points = np.array([(interpolated_stack.shape[0]//2, yv[i,j], xv[i,j])\n",
    "                            for i in range(ny) for j in range(nx)])\n",
    "lm_stack_points = np.array([best_plane_matrix[i,j] for i in range(nx) for j in range(ny) ])\n",
    "\n",
    "source = lm_plane_points[points_filter]\n",
    "target = lm_stack_points[points_filter]\n",
    "\n",
    "print(f\"source: \",source)\n",
    "print(f\"target: \",target)\n",
    "\n",
    "# Calculate the transformation\n",
    "tform = SimilarityTransform()\n",
    "tform.estimate(source, target)\n",
    "\n",
    "# Apply the transformation to a new set of points\n",
    "transformed_source = tform(source)\n",
    "\n",
    "print(\"Transformation matrix:\")\n",
    "print(tform.params)\n",
    "\n",
    "print(target-transformed_source)\n",
    "plt.imshow(target-transformed_source, cmap=\"bwr\", vmin = -5, vmax=5)\n",
    "plt.colorbar()"
   ]
  },
  {
   "cell_type": "code",
   "execution_count": null,
   "id": "6a1acaf7-47af-4790-81da-7a326d8775d6",
   "metadata": {},
   "outputs": [],
   "source": [
    "import csv\n",
    "# Compare to ground truth\n",
    "lmks_path = r'\\\\tungsten-nas.fmi.ch\\tungsten\\scratch\\gfriedri\\montruth\\CLEM_Analyses\\CLEM_20220426_RM0008_130hpf_fP1_f3\\pycpd\\landmarks_plane4LM.csv'\n",
    "# Lists to hold the coordinates\n",
    "ilm_landmarks = []  # Points from 2P microscopy\n",
    "alm_landmarks = []  # Corresponding points from EM microscopy\n",
    "\n",
    "with open(lmks_path, 'r') as file:  # Replace with your CSV file path\n",
    "    csv_reader = csv.reader(file)\n",
    "    for row in csv_reader:\n",
    "        # Assuming the format is: \"Pt-0\",\"true\",EM_x,EM_y,EM_z,2P_x,2P_y,2P_z\n",
    "        # (OJO) Here they were converted from um to px and then shifted due to previous cropping!! \n",
    "        alm_landmarks.append([float(row[4])/0.4, float(row[3])/0.4, float(row[2])/0.4]) \n",
    "        ilm_landmarks.append([0, float(row[6])/0.4, float(row[5])/0.4]) \n",
    "\n",
    "# Convert lists to NumPy arrays\n",
    "ilm_landmarks = np.array(ilm_landmarks)\n",
    "alm_landmarks = np.array(alm_landmarks)\n",
    "print(ilm_landmarks)\n",
    "print(alm_landmarks)\n",
    "\n",
    "# doing the whole thing before\n",
    "\n",
    "gt_filtered_em_mask = filtered_em_mask\n",
    "gt_tform = tform\n",
    "print(tform)"
   ]
  },
  {
   "cell_type": "code",
   "execution_count": null,
   "id": "5c957eb6-3f9b-4e9e-b80b-896fbe2f0e89",
   "metadata": {},
   "outputs": [],
   "source": [
    "lm_plane_3d = np.zeros(shape= lm_stack.shape)\n",
    "lm_plane_3d[0,:lm_plane.shape[0]]= lm_plane\n",
    "#or\n",
    "lm_plane_3d = np.zeros(shape= (1,lm_plane.shape[0],lm_plane.shape[1]))\n",
    "                       \n",
    "lm_plane_3d[0]= lm_plane\n",
    "\n",
    "lm_plane_mask_3d = np.zeros(shape= (1,lm_plane.shape[0],lm_plane.shape[1]), dtype=int)\n",
    "                       \n",
    "lm_plane_mask_3d[0]= lm_plane_mask\n"
   ]
  },
  {
   "cell_type": "code",
   "execution_count": null,
   "id": "55374b63-d75a-44be-ab66-ff4018476d80",
   "metadata": {},
   "outputs": [],
   "source": [
    "lm_plane_3d.shape"
   ]
  },
  {
   "cell_type": "code",
   "execution_count": null,
   "id": "b498f355-e426-4799-84c7-db5717e6554d",
   "metadata": {},
   "outputs": [],
   "source": [
    "transform.scale"
   ]
  },
  {
   "cell_type": "code",
   "execution_count": null,
   "id": "8ec03a9b-de93-4577-8a96-b2e3ebb03202",
   "metadata": {},
   "outputs": [],
   "source": [
    "# Adding rotated plane\n",
    "viewer = napari.Viewer()\n",
    "viewer.add_image(lm_stack)\n",
    "viewer.add_labels(lm_plane_mask_3d, translate=transform.translation)\n"
   ]
  },
  {
   "cell_type": "code",
   "execution_count": null,
   "id": "47c44025-ee8d-449b-bddd-8df0887c6fc1",
   "metadata": {},
   "outputs": [],
   "source": [
    "matrix = transform.params.copy()\n",
    "matrix"
   ]
  },
  {
   "cell_type": "code",
   "execution_count": null,
   "id": "ca2f01e1-6cde-4718-af04-a86a4db17917",
   "metadata": {},
   "outputs": [],
   "source": [
    "# Watershed segmentation of LM mask with EM probability map \n",
    "\n",
    "from skimage.segmentation import watershed\n",
    "from skimage.feature import peak_local_max\n",
    "\n",
    "# Generate an initial image with two overlapping circles\n",
    "\n",
    "image = np.logical_or(mask_circle1, mask_circle2)\n",
    "\n",
    "# Now we want to separate the two objects in image\n",
    "# Generate the markers as local maxima of the distance to the background\n",
    "distance = ndi.distance_transform_edt(image)\n",
    "coords = peak_local_max(distance, footprint=np.ones((3, 3)), labels=image)\n",
    "mask = np.zeros(distance.shape, dtype=bool)\n",
    "mask[tuple(coords.T)] = True\n",
    "markers, _ = ndi.label(mask)\n",
    "labels = watershed(-distance, markers, mask=image)\n",
    "\n",
    "fig, axes = plt.subplots(ncols=3, figsize=(9, 3), sharex=True, sharey=True)\n",
    "ax = axes.ravel()\n",
    "\n",
    "ax[0].imshow(image, cmap=plt.cm.gray)\n",
    "ax[0].set_title('Overlapping objects')\n",
    "ax[1].imshow(-distance, cmap=plt.cm.gray)\n",
    "ax[1].set_title('Distances')\n",
    "ax[2].imshow(labels, cmap=plt.cm.nipy_spectral)\n",
    "ax[2].set_title('Separated objects')\n",
    "\n",
    "for a in ax:\n",
    "    a.set_axis_off()\n",
    "\n",
    "fig.tight_layout()\n",
    "plt.show()\n"
   ]
  },
  {
   "cell_type": "code",
   "execution_count": null,
   "id": "33d17830-3fa5-4b2f-b7b7-398cc138f20f",
   "metadata": {},
   "outputs": [],
   "source": [
    "np.save(r\"\\\\tungsten-nas.fmi.ch\\tungsten\\scratch\\gfriedri\\transfer\\RMtoTO\\lm_plane_centroids_3d.npy\",lm_plane_centroids_3d)\n",
    "np.save(r\"\\\\tungsten-nas.fmi.ch\\tungsten\\scratch\\gfriedri\\transfer\\RMtoTO\\lm_stack_centroids.npy\",lm_stack_centroids)"
   ]
  },
  {
   "cell_type": "code",
   "execution_count": null,
   "id": "b8b8b3ed-749a-4441-b020-242b905431f0",
   "metadata": {},
   "outputs": [],
   "source": [
    "# Rotating plane with griddata\n",
    "img = lm_stack[50:100,50:100,50:100]"
   ]
  },
  {
   "cell_type": "code",
   "execution_count": null,
   "id": "59600cf6-472d-4b93-80d4-475cc69ccf65",
   "metadata": {},
   "outputs": [],
   "source": [
    "img.shape"
   ]
  },
  {
   "cell_type": "code",
   "execution_count": null,
   "id": "0dda882f-38a4-4bbe-a504-693cfcf3370d",
   "metadata": {},
   "outputs": [],
   "source": [
    "img_2d = img[0]"
   ]
  },
  {
   "cell_type": "code",
   "execution_count": null,
   "id": "54e19bbd-9e91-4d98-95d6-a4effe9d04be",
   "metadata": {},
   "outputs": [],
   "source": [
    "plt.imshow(img_2d)"
   ]
  },
  {
   "cell_type": "code",
   "execution_count": null,
   "id": "7403aa2f-a0d1-4952-a2bd-f61b57d1da3a",
   "metadata": {},
   "outputs": [],
   "source": [
    "y, x = np.meshgrid(range(img_2d.shape[0]), range(img_2d.shape[1]), indexing='ij')"
   ]
  },
  {
   "cell_type": "code",
   "execution_count": null,
   "id": "32b77799-293b-44bf-8684-6338577dfaf6",
   "metadata": {},
   "outputs": [],
   "source": [
    "points = np.stack([y.flatten(), x.flatten()], axis=1)"
   ]
  },
  {
   "cell_type": "code",
   "execution_count": null,
   "id": "1d3451ca-47d5-487c-9b58-983c46bedf9d",
   "metadata": {},
   "outputs": [],
   "source": [
    "points.shape"
   ]
  },
  {
   "cell_type": "code",
   "execution_count": null,
   "id": "e3691b37-8afb-4f65-ae0f-74a2208a6423",
   "metadata": {},
   "outputs": [],
   "source": [
    "values = img_2d.flatten()\n",
    "values.shape"
   ]
  },
  {
   "cell_type": "code",
   "execution_count": null,
   "id": "581165e1-0a71-4fc4-abba-9d8c09d47807",
   "metadata": {},
   "outputs": [],
   "source": [
    "from skimage.transform import AffineTransform\n",
    "transformation = AffineTransform(rotation=np.pi/4)\n",
    "rotated_points = transformation(points)\n",
    "rotated_points.shape"
   ]
  },
  {
   "cell_type": "code",
   "execution_count": null,
   "id": "16799f87-d2c6-473e-b352-530a0ce99b55",
   "metadata": {},
   "outputs": [],
   "source": [
    "rotated_points"
   ]
  },
  {
   "cell_type": "code",
   "execution_count": null,
   "id": "3655c850-e4e4-4f88-aa3d-2f1ee42a4c0d",
   "metadata": {},
   "outputs": [],
   "source": [
    "from scipy.interpolate import griddata"
   ]
  },
  {
   "cell_type": "code",
   "execution_count": null,
   "id": "7051e291-0d1f-4872-813c-111fc718dc21",
   "metadata": {},
   "outputs": [],
   "source": [
    "transformed_img = griddata(points, values, rotated_points)"
   ]
  },
  {
   "cell_type": "code",
   "execution_count": null,
   "id": "63846e89-1e4a-4e19-a381-48f61334caae",
   "metadata": {},
   "outputs": [],
   "source": [
    "transformed_img.shape = img_2d.shape"
   ]
  },
  {
   "cell_type": "code",
   "execution_count": null,
   "id": "1530c7e8-4cd1-44b3-bcf6-2f359bec6607",
   "metadata": {},
   "outputs": [],
   "source": [
    "plt.imshow(transformed_img)"
   ]
  },
  {
   "cell_type": "markdown",
   "id": "37c3632c-be2a-4c50-a61a-50f8028efe8b",
   "metadata": {},
   "source": [
    "The rotation is around the position (0, 0), which is the top-left pixel. To rotate around the center we would have to shift the coordinate systems"
   ]
  },
  {
   "cell_type": "code",
   "execution_count": null,
   "id": "a88674fb-7980-49e4-bc32-3183f1c97e3a",
   "metadata": {},
   "outputs": [],
   "source": [
    "points_shifted = points - (img.shape[0]//2, img.shape[1]//2)"
   ]
  },
  {
   "cell_type": "code",
   "execution_count": null,
   "id": "2b82cdaa-1315-402e-afe7-d46d9a0ae833",
   "metadata": {},
   "outputs": [],
   "source": [
    "rotated_points = transformation(points_shifted)"
   ]
  },
  {
   "cell_type": "code",
   "execution_count": null,
   "id": "d1f84b1f-41a4-486f-a0f7-3c71d84be19b",
   "metadata": {},
   "outputs": [],
   "source": [
    "transformed_img = griddata(points_shifted, values, rotated_points)"
   ]
  },
  {
   "cell_type": "code",
   "execution_count": null,
   "id": "42d91e13-b91f-40ca-b512-dd92cabb613f",
   "metadata": {},
   "outputs": [],
   "source": [
    "transformed_img.shape = img_2d.shape"
   ]
  },
  {
   "cell_type": "code",
   "execution_count": null,
   "id": "93d6d28d-5f93-49c1-ba46-504748845db2",
   "metadata": {},
   "outputs": [],
   "source": [
    "plt.imshow(transformed_img)"
   ]
  },
  {
   "cell_type": "markdown",
   "id": "3ec665a8-c550-46cb-a42e-c0b245364f78",
   "metadata": {},
   "source": [
    "Now in 3D"
   ]
  },
  {
   "cell_type": "code",
   "execution_count": null,
   "id": "99107294-2725-4246-a47d-d325d804ead4",
   "metadata": {},
   "outputs": [],
   "source": [
    "plt.imshow(img[-1])"
   ]
  },
  {
   "cell_type": "code",
   "execution_count": null,
   "id": "48ad6bce-5549-4c8a-b9b0-320d18f5a60c",
   "metadata": {},
   "outputs": [],
   "source": [
    "z, y, x = np.meshgrid(range(img.shape[0]), range(img.shape[1]),range(img.shape[2]), indexing='ij')"
   ]
  },
  {
   "cell_type": "code",
   "execution_count": null,
   "id": "837d5217-a561-44a6-ad07-4605c06c18b2",
   "metadata": {},
   "outputs": [],
   "source": [
    "points = np.stack([z.flatten(), y.flatten(), x.flatten()], axis=1)"
   ]
  },
  {
   "cell_type": "code",
   "execution_count": null,
   "id": "b297456d-449f-4a6b-a734-9a376f360c4d",
   "metadata": {},
   "outputs": [],
   "source": [
    "points.shape"
   ]
  },
  {
   "cell_type": "code",
   "execution_count": null,
   "id": "02929447-5d64-4a4e-8ecc-522cc4df8bf5",
   "metadata": {},
   "outputs": [],
   "source": [
    "values = img.flatten()\n",
    "values.shape"
   ]
  },
  {
   "cell_type": "code",
   "execution_count": null,
   "id": "05e9034d-d685-441c-8455-8d69f13a5e2c",
   "metadata": {},
   "outputs": [],
   "source": [
    "transformation_3d = AffineTransform(rotation=np.pi/4,dimensionality=3)"
   ]
  },
  {
   "cell_type": "code",
   "execution_count": null,
   "id": "403c44ee-e199-4882-bd51-d9d2257db9ea",
   "metadata": {},
   "outputs": [],
   "source": [
    "shifted_points = points-(img.shape[0]//2, img.shape[1]//2, img.shape[2]//2)\n",
    "rotated_points = tform(shifted_points)"
   ]
  },
  {
   "cell_type": "code",
   "execution_count": null,
   "id": "fa05a951-b5db-4919-ab7b-c2a46b2da0e9",
   "metadata": {},
   "outputs": [],
   "source": [
    "transformed_img = griddata(shifted_points, values, rotated_points)"
   ]
  },
  {
   "cell_type": "code",
   "execution_count": null,
   "id": "79834526-13f6-498d-9260-31732df279e7",
   "metadata": {},
   "outputs": [],
   "source": [
    "# Assuming shifted_points and rotated_points are numpy arrays\n",
    "# Add a small random noise to points to avoid exact duplicates and alignment\n",
    "noise = np.random.normal(0, 1e-4, shifted_points.shape)\n",
    "shifted_points_noisy = shifted_points + noise\n",
    "\n",
    "\n",
    "transformed_img = griddata(shifted_points_noisy, values, rotated_points, method='nearest')"
   ]
  },
  {
   "cell_type": "code",
   "execution_count": null,
   "id": "8583a50f-508b-4c2c-b8b1-70b8ae94a854",
   "metadata": {},
   "outputs": [],
   "source": [
    "rotated_points, points, shifted_points,shifted_points_noisy"
   ]
  },
  {
   "cell_type": "code",
   "execution_count": null,
   "id": "6504b48b-6b1d-4435-b354-7e94053508e5",
   "metadata": {},
   "outputs": [],
   "source": [
    "transformed_img.shape"
   ]
  },
  {
   "cell_type": "code",
   "execution_count": null,
   "id": "3eaf1282-ab32-42e5-9538-9fd13347622b",
   "metadata": {},
   "outputs": [],
   "source": [
    "transformed_img.shape = img.shape\n",
    "transformed_img.shape"
   ]
  },
  {
   "cell_type": "code",
   "execution_count": null,
   "id": "e6868c1c-43f8-45a5-816b-fbc7891989b5",
   "metadata": {},
   "outputs": [],
   "source": [
    "plt.imshow(transformed_img[10])"
   ]
  },
  {
   "cell_type": "code",
   "execution_count": null,
   "id": "b68efaac-b1a2-4923-a28a-b61effe983f1",
   "metadata": {},
   "outputs": [],
   "source": [
    "plt.imshow(img[10])"
   ]
  },
  {
   "cell_type": "code",
   "execution_count": null,
   "id": "eb46f90f-7c9f-40c4-9f5b-0927710bd32a",
   "metadata": {},
   "outputs": [],
   "source": [
    "import matplotlib.pyplot as plt\n",
    "from mpl_toolkits.mplot3d import Axes3D\n",
    "import numpy as np\n",
    "\n",
    "# create a 21 x 21 vertex mesh\n",
    "#xx, yy = np.meshgrid(np.linspace(0,1,21), np.linspace(0,1,21))\n",
    "xx, yy  = np.meshgrid(range(img_2d.shape[0]), range(img_2d.shape[1]), indexing='ij')\n",
    "\n",
    "# create some dummy data (20 x 20) for the image\n",
    "#data = np.random.random((20, 20))\n",
    "data = lm_plane\n",
    "\n",
    "# create vertices for a rotated mesh (3D rotation matrix)\n",
    "X = np.sqrt(1./3) * xx + np.sqrt(1./3) * yy\n",
    "Y = -np.sqrt(1./3) * xx + np.sqrt(1./3) * yy\n",
    "Z = np.sqrt(1./3) * xx - np.sqrt(1./3) * yy\n",
    "\n",
    "\n",
    "# create the figure\n",
    "fig = plt.figure()\n",
    "\n",
    "# show the reference image\n",
    "ax1 = fig.add_subplot(121)\n",
    "ax1.imshow(data, cmap=plt.cm.BrBG, interpolation='nearest', origin='lower', extent=[0,1,0,1])\n",
    "\n",
    "# show the 3D rotated projection\n",
    "ax2 = fig.add_subplot(122, projection='3d')\n",
    "ax2.plot_surface(X, Y, Z, rstride=1, cstride=1, facecolors=plt.cm.BrBG(data), shade=False)"
   ]
  },
  {
   "cell_type": "code",
   "execution_count": null,
   "id": "a24ed593-bc23-473d-a581-e66188cec5da",
   "metadata": {},
   "outputs": [],
   "source": [
    "X.shape"
   ]
  },
  {
   "cell_type": "code",
   "execution_count": null,
   "id": "2c26ed8a-5aaa-4c22-8127-c7dfb5210bf9",
   "metadata": {},
   "outputs": [],
   "source": [
    "rotated_points.shape"
   ]
  },
  {
   "cell_type": "code",
   "execution_count": null,
   "id": "83acfe25-b3d6-4837-b0dd-1627a5e30c9d",
   "metadata": {},
   "outputs": [],
   "source": [
    "from scipy.ndimage import map_coordinates\n",
    "import matplotlib.pyplot as plt\n",
    "\n",
    "# Assuming lm_volume is your 3D volume data with shape (depth, height, width)\n",
    "# Example dimensions for demonstration\n",
    "depth, height, width = lm_plane_3d.shape\n",
    "lm_volume = lm_plane_3d\n",
    "\n",
    "# Your 3D transformation matrix\n",
    "transformation_matrix = np.array(tform)\n",
    "\n",
    "# Generate the original coordinate grid\n",
    "z, y, x = np.mgrid[0:depth, 0:height, 0:width]\n",
    "homogeneous_coordinates = np.vstack([x.ravel(), y.ravel(), z.ravel(), np.ones(z.size)])\n",
    "\n",
    "# Apply the transformation\n",
    "transformed_coordinates_homogeneous = transformation_matrix @ homogeneous_coordinates\n",
    "transformed_coordinates = transformed_coordinates_homogeneous[:3, :]  # Ignore the homogeneous coordinate\n",
    "\n",
    "# The coordinates for map_coordinates need to be in the shape of (3, ...)\n",
    "# and need to be transformed back to the original volume's indexing\n",
    "transformed_coordinates_indices = np.array([\n",
    "    transformed_coordinates[2, :].reshape(depth, height, width),  # Z-coordinates\n",
    "    transformed_coordinates[1, :].reshape(depth, height, width),  # Y-coordinates\n",
    "    transformed_coordinates[0, :].reshape(depth, height, width)   # X-coordinates\n",
    "])\n",
    "\n",
    "# Interpolate the transformed volume back to the original grid\n",
    "# Coordinates passed in the order expected by map_coordinates\n",
    "transformed_volume = map_coordinates(lm_volume, transformed_coordinates_indices, order=1, mode='grid-wrap')\n",
    "\n",
    "# Visualization (showing a single slice for simplicity)\n",
    "plt.imshow(transformed_volume[0], cmap='gray')\n",
    "plt.title('Slice of Transformed Volume')\n",
    "plt.show()\n",
    "viewer.add_image(transformed_volume)\n"
   ]
  },
  {
   "cell_type": "code",
   "execution_count": null,
   "id": "20422c9c-72f4-4894-a633-753d40f617ce",
   "metadata": {},
   "outputs": [],
   "source": [
    "\n",
    "# Step 1: Expand the 2D plane to 3D space\n",
    "# Creating a grid of points for the 2D plane\n",
    "height, width = lm_plane.shape\n",
    "y, x = np.mgrid[0:height, 0:width]\n",
    "z = np.zeros_like(x) # Adding a third dimension (z) initially set to 0\n",
    "points_2d = np.stack((x, y, z), axis=-1) # Shape will be (256, 512, 3)\n",
    "\n",
    "# Step 2: Create a 4x4 transformation matrix\n",
    "# For demonstration, let's use a simple translation matrix that shifts points along the Z-axis\n",
    "translation_distance = 10\n",
    "transformation_matrix = np.array([\n",
    "    [1, 0, 0, 0],\n",
    "    [0, 1, 0, 0],\n",
    "    [0, 0, 1, translation_distance],\n",
    "    [0, 0, 0, 1]\n",
    "])\n",
    "\n",
    "# Reshaping the points_2d to apply the transformation matrix\n",
    "points_2d_reshaped = points_2d.reshape(-1, 3)\n",
    "points_2d_homogeneous = np.hstack((points_2d_reshaped, np.ones((points_2d_reshaped.shape[0], 1)))) # Adding a 1 for homogeneous coordinates\n",
    "\n",
    "# Step 3: Apply the transformation\n",
    "points_3d_transformed = points_2d_homogeneous.dot(transformation_matrix.T)\n",
    "\n",
    "# Checking the shape of the transformed points to confirm the operation\n",
    "points_3d_transformed.shape\n"
   ]
  },
  {
   "cell_type": "code",
   "execution_count": null,
   "id": "ccccd336-b0fd-4dec-990f-30f1a1523a07",
   "metadata": {},
   "outputs": [],
   "source": [
    "# Re-importing necessary libraries and redefining data for visualization due to reset\n",
    "import numpy as np\n",
    "import matplotlib.pyplot as plt\n",
    "from mpl_toolkits.mplot3d import Axes3D\n",
    "\n",
    "# Original data setup\n",
    "height, width = lm_plane.shape\n",
    "y, x = np.mgrid[0:height, 0:width]\n",
    "z = np.zeros_like(x)\n",
    "points_2d = np.stack((x, y, z), axis=-1)\n",
    "\n",
    "# Transformation matrix and transformation application\n",
    "translation_distance = 10\n",
    "transformation_matrix = np.array([\n",
    "    [1, 0, 0, 0],\n",
    "    [0, 1, 0, 0],\n",
    "    [0, 0, 1, translation_distance],\n",
    "    [0, 0, 0, 1]\n",
    "])\n",
    "\n",
    "points_2d_reshaped = points_2d.reshape(-1, 3)\n",
    "points_2d_homogeneous = np.hstack((points_2d_reshaped, np.ones((points_2d_reshaped.shape[0], 1))))\n",
    "points_3d_transformed = points_2d_homogeneous.dot(transformation_matrix.T)\n",
    "points_3d_transformed_dropped = points_3d_transformed[:, :3]\n",
    "\n",
    "# Sampling points for visualization\n",
    "sample_indices = np.random.choice(points_3d_transformed_dropped.shape[0], 1000, replace=False)\n",
    "points_sampled_original = points_2d_reshaped[sample_indices]\n",
    "points_sampled_transformed = points_3d_transformed_dropped[sample_indices]\n",
    "\n",
    "# Plotting\n",
    "fig = plt.figure(figsize=(14, 7))\n",
    "\n",
    "# Original points (before transformation)\n",
    "ax1 = fig.add_subplot(121, projection='3d')\n",
    "ax1.scatter(points_sampled_original[:, 0], points_sampled_original[:, 1], points_sampled_original[:, 2], c='blue', marker='o')\n",
    "ax1.set_title('Original Points (2D Plane in 3D Space)')\n",
    "ax1.set_xlabel('X')\n",
    "ax1.set_ylabel('Y')\n",
    "ax1.set_zlabel('Z')\n",
    "\n",
    "# Transformed points (after translation)\n",
    "ax2 = fig.add_subplot(122, projection='3d')\n",
    "ax2.scatter(points_sampled_transformed[:, 0], points_sampled_transformed[:, 1], points_sampled_transformed[:, 2], c='red', marker='^')\n",
    "ax2.set_title('Transformed Points (After Translation)')\n",
    "ax2.set_xlabel('X')\n",
    "ax2.set_ylabel('Y')\n",
    "ax2.set_zlabel('Z')\n",
    "\n",
    "plt.tight_layout()\n",
    "plt.show()\n"
   ]
  },
  {
   "cell_type": "code",
   "execution_count": null,
   "id": "e9282061-147a-4fc3-8097-a9eb5235055b",
   "metadata": {},
   "outputs": [],
   "source": [
    "import numpy as np\n",
    "import matplotlib.pyplot as plt\n",
    "\n",
    "# Generate a synthetic image for demonstration\n",
    "# Simple pattern: a diagonal line across the plane\n",
    "image = np.zeros((256, 512))\n",
    "np.fill_diagonal(image, 255)\n",
    "\n",
    "# Display the original image\n",
    "plt.figure(figsize=(6, 3))\n",
    "plt.imshow(image, cmap='gray')\n",
    "plt.title('Original Image')\n",
    "plt.show()\n",
    "\n",
    "# Let's assume we want to rotate the image around the Y-axis (vertical axis)\n",
    "# Define a rotation matrix for a 45-degree rotation around the Y-axis\n",
    "angle = np.radians(45)  # Convert angle to radians for np.cos and np.sin\n",
    "rotation_matrix_y = np.array([\n",
    "    [np.cos(angle), 0, np.sin(angle), 0],\n",
    "    [0, 1, 0, 0],\n",
    "    [-np.sin(angle), 0, np.cos(angle), 0],\n",
    "    [0, 0, 0, 1]\n",
    "])\n",
    "\n",
    "# For simplicity in this example, instead of transforming each pixel's position,\n",
    "# we'll discuss the conceptual approach to apply the transformation to the image.\n",
    "\n",
    "# The approach involves:\n",
    "# 1. Mapping each pixel to 3D space (x, y, 0) with homogeneous coordinates (x, y, 0, 1).\n",
    "# 2. Applying the rotation matrix to these points.\n",
    "# 3. Projecting the transformed points back onto a 2D plane for visualization.\n"
   ]
  },
  {
   "cell_type": "code",
   "execution_count": null,
   "id": "26b9e19a-1c29-4c66-8304-167b92f49cc2",
   "metadata": {},
   "outputs": [],
   "source": [
    "tform"
   ]
  },
  {
   "cell_type": "code",
   "execution_count": null,
   "id": "e3c67b9d-5a27-4586-85da-53432765eb80",
   "metadata": {},
   "outputs": [],
   "source": [
    "# [[ 1.03676995e+00, -1.68978215e-01, -6.80538813e-03,  5.16724804e+01],\n",
    " #    [ 1.68959793e-01,  1.03679002e+00, -3.30487294e-03,  1.39775787e+02],\n",
    "  #   [ 7.24836878e-03,  2.16717392e-03,  1.05044498e+00, -2.08744429e+01],\n",
    "   #  [ 0.00000000e+00,  0.00000000e+00,  0.00000000e+00,  1.00000000e+00]]) "
   ]
  },
  {
   "cell_type": "code",
   "execution_count": null,
   "id": "ad9a1a82-6db2-4c32-8a36-73cd75c29be5",
   "metadata": {},
   "outputs": [],
   "source": [
    "\n",
    "from scipy.interpolate import RegularGridInterpolator\n",
    "\n",
    "# Define your transformation matrix here\n",
    "transformation_matrix = np.array([\n",
    "    [1.03676995, -0.168978215, -0.00680538813, 51.6724804],\n",
    "    [0.168959793, 1.03679002, -0.00330487294, 139.775787],\n",
    "    [0.00724836878, 0.00216717392, 1.05044498, -20.8744429],\n",
    "    [0.0, 0.0, 0.0, 1.0]\n",
    "])\n",
    "transformation_matrix = np.array(tform)\n",
    "img_3d = lm_plane_3d\n",
    "\n",
    "# Assuming img_3d is your 3D image with shape (depth, height, width)\n",
    "depth, height, width = img_3d.shape\n",
    "\n",
    "# Generate a 3D grid of points\n",
    "z, y, x = np.mgrid[0:depth, 0:height, 0:width]\n",
    "points = np.stack([x.flatten(), y.flatten(), z.flatten(), np.ones(x.flatten().shape)], axis=1)  # Note the order and homogeneous coordinates\n",
    "\n",
    "# Apply the transformation matrix to each point\n",
    "transformed_points_homogeneous = np.dot(points, transformation_matrix.T)\n",
    "transformed_points = transformed_points_homogeneous[:, :3] / transformed_points_homogeneous[:, [3]]  # Convert back to 3D coordinates\n",
    "\n",
    "# Prepare for 3D interpolation\n",
    "values = img_3d.flatten()\n",
    "interpolator = RegularGridInterpolator((np.arange(depth), np.arange(height), np.arange(width)), img_3d, bounds_error=False, fill_value=0)\n",
    "\n",
    "# The new grid to interpolate onto - in this case, it's the same as the original grid\n",
    "# Note: Depending on the transformation, you might need to adjust this grid\n",
    "new_z, new_y, new_x = np.mgrid[0:depth, 0:height, 0:width]\n",
    "new_points = np.stack([new_x.flatten(), new_y.flatten(), new_z.flatten()], axis=1)\n",
    "\n",
    "# Interpolate\n",
    "transformed_values = interpolator(transformed_points)\n",
    "transformed_img = transformed_values.reshape((depth, height, width))\n",
    "\n",
    "# Visualization (for example, showing a middle slice of the transformed volume)\n",
    "plt.imshow(transformed_img[depth // 2], cmap='gray')\n",
    "plt.show() \n",
    "viewer.add_image(transformed_img)\n"
   ]
  },
  {
   "cell_type": "code",
   "execution_count": null,
   "id": "7e238fea-416f-4ef4-aa04-3d74f90dffcf",
   "metadata": {},
   "outputs": [],
   "source": [
    "shifted_points.shape"
   ]
  },
  {
   "cell_type": "code",
   "execution_count": null,
   "id": "f8e579f1-7e81-41c5-9f9d-1e26a1a54001",
   "metadata": {},
   "outputs": [],
   "source": [
    "z.shape, y.shape, x.shape, points.shape"
   ]
  },
  {
   "cell_type": "code",
   "execution_count": null,
   "id": "bbf6b519-ca27-4088-9abd-ff1ba0910412",
   "metadata": {},
   "outputs": [],
   "source": [
    "from skimage import data, transform\n",
    "import numpy as np\n",
    "import matplotlib.pyplot as plt\n",
    "\n",
    "img = data.camera()\n",
    "\n",
    "theta = np.deg2rad(10)\n",
    "tx = 0\n",
    "ty = 0\n",
    "\n",
    "S, C = np.sin(theta), np.cos(theta)\n",
    "\n",
    "# Rotation matrix, angle theta, translation tx, ty\n",
    "H = np.array([[C, -S, tx],\n",
    "              [S,  C, ty],\n",
    "              [0,  0, 1]])\n",
    "\n",
    "# Translation matrix to shift the image center to the origin\n",
    "r, c = img.shape\n",
    "T = np.array([[1, 0, -c / 2.],\n",
    "              [0, 1, -r / 2.],\n",
    "              [0, 0, 1]])\n",
    "\n",
    "# Skew, for perspective\n",
    "S = np.array([[1, 0, 0],\n",
    "              [0, 1.3, 0],\n",
    "              [0, 1e-3, 1]])\n",
    "\n",
    "img_rot = transform.homography(img, H)\n",
    "img_rot_center_skew = transform.homography(img, S.dot(np.linalg.inv(T).dot(H).dot(T)))\n",
    "\n",
    "f, (ax0, ax1, ax2) = plt.subplots(1, 3)\n",
    "ax0.imshow(img, cmap=plt.cm.gray, interpolation='nearest')\n",
    "ax1.imshow(img_rot, cmap=plt.cm.gray, interpolation='nearest')\n",
    "ax2.imshow(img_rot_center_skew, cmap=plt.cm.gray, interpolation='nearest')\n",
    "plt.show()"
   ]
  },
  {
   "cell_type": "code",
   "execution_count": null,
   "id": "12b5b0a2-4d2b-4588-9eb1-6f84aad97cf3",
   "metadata": {},
   "outputs": [],
   "source": [
    "tform = transform.AffineTransform(\n",
    "        shear=np.pi/6,\n",
    "        )\n",
    "tf_img = transform.warp(lm_plane, tform.inverse)\n",
    "fig, ax = plt.subplots()\n",
    "ax.imshow(tf_img)\n",
    "_ = ax.set_title('Similarity transformation')"
   ]
  },
  {
   "cell_type": "code",
   "execution_count": null,
   "id": "eabcb54b-7693-4654-9ad2-b23cbdb2a77a",
   "metadata": {},
   "outputs": [],
   "source": [
    "matrix = np.array([[1, -0.5, 100],\n",
    "                   [0.1, 0.9, 50],\n",
    "                   [0.0015, 0.0015, 1]])\n",
    "tform3 = transform.ProjectiveTransform(matrix=matrix)\n",
    "tf_img = transform.warp(lm_plane, tform3.inverse)\n",
    "fig, ax = plt.subplots()\n",
    "ax.imshow(tf_img)\n",
    "ax.set_title('Projective transformation')\n",
    "\n",
    "plt.show()"
   ]
  },
  {
   "cell_type": "code",
   "execution_count": null,
   "id": "fea0e439-f7af-4757-8dfa-0afd9879035d",
   "metadata": {},
   "outputs": [],
   "source": [
    "# Example tuning curve data\n",
    "stimulus_orientations = np.array([*range(lm_stack.shape[0])])# slices\n",
    "neural_responses = all_correlations  # Correlations\n",
    "neural_responses_norm = neural_responses/np.max(neural_responses)\n",
    "\n",
    "# Calculate mean and standard deviation\n",
    "mean_response = np.mean(neural_responses)\n",
    "std_response = np.std(neural_responses)\n",
    "\n",
    "# Z-score normalization\n",
    "z_scores = (neural_responses - mean_response) / std_response\n",
    "# print(z_scores)\n",
    "neural_responses=z_scores\n",
    "# Calculate sparseness\n",
    "sparseness = (np.sqrt(len(neural_responses)) - np.sum(neural_responses) / len(neural_responses)) / (np.sqrt(len(neural_responses)) - 1)\n",
    "\n",
    "# Calculate selectivity index\n",
    "pref_response = np.max(neural_responses)\n",
    "non_pref_response = np.min(neural_responses)\n",
    "selectivity_index = (pref_response - non_pref_response) / (pref_response + non_pref_response)\n",
    "\n",
    "print(\"Sparseness:\", sparseness)\n",
    "print(\"Selectivity Index:\", selectivity_index)\n"
   ]
  }
 ],
 "metadata": {
  "kernelspec": {
   "display_name": "Python 3 (ipykernel)",
   "language": "python",
   "name": "python3"
  },
  "language_info": {
   "codemirror_mode": {
    "name": "ipython",
    "version": 3
   },
   "file_extension": ".py",
   "mimetype": "text/x-python",
   "name": "python",
   "nbconvert_exporter": "python",
   "pygments_lexer": "ipython3",
   "version": "3.9.19"
  }
 },
 "nbformat": 4,
 "nbformat_minor": 5
}
