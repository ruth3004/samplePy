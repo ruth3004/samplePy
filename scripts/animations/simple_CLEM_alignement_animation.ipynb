{
 "cells": [
  {
   "cell_type": "code",
   "id": "f1a5c0bd5357a4aa",
   "metadata": {
    "collapsed": true,
    "ExecuteTime": {
     "end_time": "2024-11-09T20:18:37.407127Z",
     "start_time": "2024-11-09T20:18:08.022395Z"
    }
   },
   "source": [
    "import os\n",
    "import napari\n",
    "import numpy as np\n",
    "import tifffile\n",
    "from skimage import measure\n",
    "from napari_animation import Animation\n",
    "\n",
    "parent_folder = r'\\\\tungsten-nas.fmi.ch\\tungsten\\scratch\\gfriedri\\montruth\\CLEM_Analyses\\CLEM_20220511_RM0008_126hpf_fP10_f2\\final_alignment'\n",
    "\n",
    "# Load data\n",
    "em_stack = tifffile.imread(os.path.join(parent_folder, 'fine_aligned_em_stack_20220511_RM0008_126hpf_fP10_f2_ds4_woResin_144nm_px_from15.tif'))\n",
    "em_mask = tifffile.imread(os.path.join(parent_folder, 'fine_aligned_em_stack_20220511_RM0008_126hpf_fP10_f2_ds4_woResin_144nm_px_from15_cp_masks_ft00_cp-3.tif'))\n",
    "lm_stack = tifffile.imread(os.path.join(parent_folder, 'flipped_upsampled_clahe_gaussian_1_20220511_RM0008_126hpf_fP10_f2_anatomyGFRF_001_.tif'))\n",
    "em_warped_stack = tifffile.imread(os.path.join(parent_folder, 'fine_aligned_em_stack_20220511_RM0008_126hpf_fP10_f2_ds4_woResin_144nm_px_from15_resLM_fovLM.tif'))"
   ],
   "outputs": [],
   "execution_count": null
  },
  {
   "metadata": {
    "ExecuteTime": {
     "end_time": "2024-11-09T20:20:56.110219Z",
     "start_time": "2024-11-09T20:20:56.098224Z"
    }
   },
   "cell_type": "code",
   "source": "lm_stack.shape",
   "id": "d9c7ef5bccc34e77",
   "outputs": [
    {
     "data": {
      "text/plain": [
       "(375, 2, 512, 512)"
      ]
     },
     "execution_count": 4,
     "metadata": {},
     "output_type": "execute_result"
    }
   ],
   "execution_count": 4
  },
  {
   "metadata": {
    "ExecuteTime": {
     "end_time": "2024-11-09T21:07:31.922760Z",
     "start_time": "2024-11-09T21:07:29.743704Z"
    }
   },
   "cell_type": "code",
   "source": [
    "\n",
    "# Create viewer\n",
    "viewer = napari.Viewer(ndisplay=2)\n",
    "\n",
    "# Add layers with translations\n",
    "#em_stack_layer = viewer.add_image(em_stack, name='EM Stack', colormap='gray', visible=True)\n",
    "#em_mask_layer = viewer.add_labels(em_mask, name='EM Mask', visible=True)\n",
    "\n",
    "lm_stack_layer_g = viewer.add_image(lm_stack[:,0], name='LM Stack Green', colormap='green', visible=True)\n",
    "lm_stack_layer_r = viewer.add_image(lm_stack[:,1], name='LM Stack Red', colormap='red', visible=True)\n",
    "\n",
    "em_warped_stack_layer = viewer.add_image(em_warped_stack, name='EM Warped Stack', colormap='gray', visible=True)"
   ],
   "id": "17e0733f4df94002",
   "outputs": [
    {
     "name": "stderr",
     "output_type": "stream",
     "text": [
      "WARNING: DirectWrite: CreateFontFaceFromHDC() failed (Indicates an error in an input file such as a font file.) for QFontDef(Family=\"\", pointsize=12, pixelsize=16, styleHint=5, weight=50, stretch=100, hintingPreference=0) LOGFONT(\"MS Sans Serif\", lfWidth=0, lfHeight=-16) dpi=144\n",
      "D:\\montruth\\PycharmProjects\\samplePy\\.venv\\lib\\site-packages\\napari\\plugins\\_plugin_manager.py:555: UserWarning: Plugin 'napari-animated-gif-io' has already registered a function widget 'save as animated gif' which has now been overwritten\n",
      "  warn(message=warn_message)\n"
     ]
    }
   ],
   "execution_count": 12
  },
  {
   "metadata": {
    "ExecuteTime": {
     "end_time": "2024-11-09T21:13:11.817197Z",
     "start_time": "2024-11-09T21:11:41.641117Z"
    }
   },
   "cell_type": "code",
   "source": [
    "# Adjust viewer size to be divisible by 16\n",
    "viewer.window.resize(896, 896)\n",
    "\n",
    "# Create animation\n",
    "animation = Animation(viewer)\n",
    "\n",
    "# 1. EM stack scrolling\n",
    "animation.capture_keyframe()\n",
    "for i in range(0, 50, 2):  # Increased step size\n",
    "    viewer.dims.set_point(0, i)\n",
    "    animation.capture_keyframe()\n",
    "    \n",
    "# 3. LM stack at the comparison frame + first centroid\n",
    "lm_stack_layer_g.visible = False\n",
    "lm_stack_layer_r.visible = False\n",
    "animation.capture_keyframe(steps=2)\n",
    "lm_stack_layer_g.visible = True\n",
    "lm_stack_layer_r.visible = True\n",
    "animation.capture_keyframe(steps=2)  # Reduced steps\n",
    "lm_stack_layer_g.visible = False\n",
    "lm_stack_layer_r.visible = False\n",
    "animation.capture_keyframe(steps=2)\n",
    "lm_stack_layer_g.visible = True\n",
    "lm_stack_layer_r.visible = True\n",
    "animation.capture_keyframe(steps=2) \n",
    "\n",
    "for i in range(em_stack.shape[0]//2,em_stack.shape[0], 10):  # Increased step size\n",
    "    viewer.dims.set_point(0, i)\n",
    "    animation.capture_keyframe()\n",
    "\n",
    "# Save animation\n",
    "animation.animate('clem_alignment_sequence2.mp4', \n",
    "                 fps=30,\n",
    "                 canvas_only=True )   # Increased fps\n",
    "\n",
    "napari.run()"
   ],
   "id": "947dc548018f1547",
   "outputs": [
    {
     "name": "stderr",
     "output_type": "stream",
     "text": [
      "WARNING: QWindowsWindow::setGeometry: Unable to set geometry 1792x1792+0+34 (frame: 1814x1848-11-11) on QWidgetWindow/\"_QtMainWindowClassWindow\" on \"\\\\.\\DISPLAY81\". Resulting geometry: 1792x1410+0+34 (frame: 1814x1466-11-11) margins: 11, 45, 11, 11 minimum size: 510x492 MINMAXINFO maxSize=0,0 maxpos=0,0 mintrack=1042,1040 maxtrack=0,0)\n"
     ]
    },
    {
     "name": "stdout",
     "output_type": "stream",
     "text": [
      "Rendering frames...\n"
     ]
    },
    {
     "name": "stderr",
     "output_type": "stream",
     "text": [
      "  0%|          | 0/954 [00:00<?, ?it/s]IMAGEIO FFMPEG_WRITER WARNING: input image is not divisible by macro_block_size=16, resizing from (1102, 1636) to (1104, 1648) to ensure video compatibility with most codecs and players. To prevent resizing, make your input image divisible by the macro_block_size or set the macro_block_size to 1 (risking incompatibility).\n",
      "100%|██████████| 954/954 [00:54<00:00, 17.38it/s]\n"
     ]
    }
   ],
   "execution_count": 14
  },
  {
   "metadata": {
    "ExecuteTime": {
     "end_time": "2024-11-09T21:29:56.020296Z",
     "start_time": "2024-11-09T21:25:13.993033Z"
    }
   },
   "cell_type": "code",
   "source": [
    "# Create viewer with specific size first\n",
    "viewer = napari.Viewer(ndisplay=2)\n",
    "viewer.window.resize(1104, 1648)  # Multiple of 16 that matches your image dimensions\n",
    "\n",
    "# Add layers\n",
    "lm_stack_layer_g = viewer.add_image(lm_stack[:,0], name='LM Stack Green', colormap='green', visible=True)\n",
    "lm_stack_layer_r = viewer.add_image(lm_stack[:,1], name='LM Stack Red', colormap='red', visible=True)\n",
    "em_warped_stack_layer = viewer.add_image(em_warped_stack, name='EM Warped Stack', colormap='gray', visible=True)\n",
    "\n",
    "# Create animation\n",
    "animation = Animation(viewer)\n",
    "viewer.dims.set_point(0, 0)\n",
    "## Modified animation sequence\n",
    "# 1. Initial state\n",
    "animation.capture_keyframe()\n",
    "\n",
    "# 2. Scroll through EM stack first half\n",
    "for i in range(0, 100, 5):  # Smaller step size for smoother scrolling\n",
    "    viewer.dims.set_point(0, i)\n",
    "    animation.capture_keyframe()\n",
    "\n",
    "# 3. Show/Hide LM channels with longer transitions\n",
    "# First flash\n",
    "lm_stack_layer_g.visible = False\n",
    "lm_stack_layer_r.visible = False\n",
    "animation.capture_keyframe(steps=10)\n",
    "\n",
    "lm_stack_layer_g.visible = True\n",
    "lm_stack_layer_r.visible = True\n",
    "animation.capture_keyframe(steps=10)  # Longer transition\n",
    "lm_stack_layer_g.visible = False\n",
    "lm_stack_layer_r.visible = False\n",
    "animation.capture_keyframe(steps=10)\n",
    "\n",
    "# Second flash\n",
    "lm_stack_layer_g.visible = True\n",
    "lm_stack_layer_r.visible = True\n",
    "animation.capture_keyframe(steps=10)\n",
    "\n",
    "# 4. Continue scrolling through second half\n",
    "for i in range(100, em_warped_stack.shape[0], 5):\n",
    "    viewer.dims.set_point(0, i)\n",
    "    animation.capture_keyframe()\n",
    "\n",
    "# Save animation with adjusted settings\n",
    "animation.animate('clem_alignment_sequence3.mp4', \n",
    "                 fps=15,  # Lower fps for smoother playback\n",
    "                 canvas_only=True)\n",
    "\n",
    "napari.run()\n",
    "\n"
   ],
   "id": "initial_id",
   "outputs": [
    {
     "name": "stderr",
     "output_type": "stream",
     "text": [
      "WARNING: DirectWrite: CreateFontFaceFromHDC() failed (Indicates an error in an input file such as a font file.) for QFontDef(Family=\"\", pointsize=12, pixelsize=16, styleHint=5, weight=50, stretch=100, hintingPreference=0) LOGFONT(\"MS Sans Serif\", lfWidth=0, lfHeight=-16) dpi=144\n",
      "D:\\montruth\\PycharmProjects\\samplePy\\.venv\\lib\\site-packages\\napari\\plugins\\_plugin_manager.py:555: UserWarning: Plugin 'napari-animated-gif-io' has already registered a function widget 'save as animated gif' which has now been overwritten\n",
      "  warn(message=warn_message)\n",
      "WARNING: QWindowsWindow::setGeometry: Unable to set geometry 2208x3296+0+34 (frame: 2230x3352-11-11) on QWidgetWindow/\"_QtMainWindowClassWindow\" on \"\\\\.\\DISPLAY97\". Resulting geometry: 2208x1410+0+34 (frame: 2230x1466-11-11) margins: 11, 45, 11, 11 minimum size: 385x492 MINMAXINFO maxSize=0,0 maxpos=0,0 mintrack=792,1040 maxtrack=0,0)\n"
     ]
    },
    {
     "name": "stdout",
     "output_type": "stream",
     "text": [
      "Rendering frames...\n"
     ]
    },
    {
     "name": "stderr",
     "output_type": "stream",
     "text": [
      "  0%|          | 0/1166 [00:00<?, ?it/s]IMAGEIO FFMPEG_WRITER WARNING: input image is not divisible by macro_block_size=16, resizing from (1518, 3140) to (1520, 3152) to ensure video compatibility with most codecs and players. To prevent resizing, make your input image divisible by the macro_block_size or set the macro_block_size to 1 (risking incompatibility).\n",
      "100%|██████████| 1166/1166 [02:45<00:00,  7.03it/s]\n"
     ]
    }
   ],
   "execution_count": 16
  },
  {
   "metadata": {},
   "cell_type": "code",
   "outputs": [],
   "execution_count": null,
   "source": "",
   "id": "23b1b4125de2e92f"
  }
 ],
 "metadata": {
  "kernelspec": {
   "display_name": "Python 3",
   "language": "python",
   "name": "python3"
  },
  "language_info": {
   "codemirror_mode": {
    "name": "ipython",
    "version": 2
   },
   "file_extension": ".py",
   "mimetype": "text/x-python",
   "name": "python",
   "nbconvert_exporter": "python",
   "pygments_lexer": "ipython2",
   "version": "2.7.6"
  }
 },
 "nbformat": 4,
 "nbformat_minor": 5
}
