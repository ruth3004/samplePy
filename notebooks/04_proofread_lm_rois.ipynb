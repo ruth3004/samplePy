{
 "cells": [
  {
   "metadata": {
    "ExecuteTime": {
     "end_time": "2025-01-15T13:57:05.426547Z",
     "start_time": "2025-01-15T13:57:04.175447Z"
    }
   },
   "cell_type": "code",
   "source": [
    "import napari\n",
    "import tifffile\n",
    "from skimage import measure\n"
   ],
   "id": "3ef861c7f5d9c968",
   "outputs": [],
   "execution_count": 1
  },
  {
   "metadata": {
    "ExecuteTime": {
     "end_time": "2025-01-15T13:57:55.536005Z",
     "start_time": "2025-01-15T13:57:54.766946Z"
    }
   },
   "cell_type": "code",
   "source": [
    "\n",
    "# Load anatomy images \n",
    "\n",
    "sum_elastic_corrected_path = r'\\\\tungsten-nas.fmi.ch\\tungsten\\scratch\\gfriedri\\montruth\\2P_RawData\\2022-04-26\\f3\\trials\\processed\\sum_elastic_corrected_trials_20220426_RM0008_130hpf_fP1_f3.tif'\n",
    "masks_path = r\"\\\\tungsten-nas.fmi.ch\\tungsten\\scratch\\gfriedri\\montruth\\2P_RawData\\2022-04-26\\f3\\trials\\masks\\masks_20220426_RM0008_130hpf_fP1_f3_cp_-3-ft_0-st_0.01-resample_True-augment_False.tif\"\n",
    "images_stack = tifffile.imread(sum_elastic_corrected_path)\n",
    "masks = tifffile.imread(masks_path)\n",
    "print(images_stack.shape)\n",
    "print(masks.shape)\n",
    "\n"
   ],
   "id": "acee89bc798257d4",
   "outputs": [
    {
     "name": "stdout",
     "output_type": "stream",
     "text": [
      "(8, 24, 256, 512)\n",
      "(8, 24, 256, 512)\n"
     ]
    }
   ],
   "execution_count": 3
  },
  {
   "metadata": {
    "ExecuteTime": {
     "end_time": "2025-01-15T13:58:00.749412Z",
     "start_time": "2025-01-15T13:57:58.165209Z"
    }
   },
   "cell_type": "code",
   "source": [
    "viewer = napari.Viewer()\n",
    "viewer.add_image(images_stack, name='sum_elastic_corrected_trials')\n",
    "viewer.add_labels(masks, name= 'masks', opacity=0.3)"
   ],
   "id": "b43ea870053856a1",
   "outputs": [
    {
     "name": "stderr",
     "output_type": "stream",
     "text": [
      "D:\\montruth\\PycharmProjects\\samplePy\\.venv\\lib\\site-packages\\napari\\plugins\\_plugin_manager.py:555: UserWarning: Plugin 'napari_skimage_regionprops2' has already registered a function widget 'duplicate current frame' which has now been overwritten\n",
      "  warn(message=warn_message)\n",
      "D:\\montruth\\PycharmProjects\\samplePy\\.venv\\lib\\site-packages\\napari\\plugins\\_plugin_manager.py:555: UserWarning: Plugin 'napari-animated-gif-io' has already registered a function widget 'save as animated gif' which has now been overwritten\n",
      "  warn(message=warn_message)\n",
      "WARNING: QWindowsWindow::setGeometry: Unable to set geometry 3436x2736+640+210 (frame: 3458x2792+629+165) on QWidgetWindow/\"_QtMainWindowClassWindow\" on \"\\\\.\\DISPLAY545\". Resulting geometry: 2564x1410+640+210 (frame: 2586x1466+629+165) margins: 11, 45, 11, 11 minimum size: 385x488 MINMAXINFO maxSize=0,0 maxpos=0,0 mintrack=792,1032 maxtrack=0,0)\n"
     ]
    },
    {
     "data": {
      "text/plain": [
       "<Labels layer 'masks' at 0x12b5a531ab0>"
      ]
     },
     "execution_count": 4,
     "metadata": {},
     "output_type": "execute_result"
    }
   ],
   "execution_count": 4
  },
  {
   "metadata": {
    "ExecuteTime": {
     "end_time": "2025-01-09T17:28:27.029477Z",
     "start_time": "2025-01-09T17:28:16.583454Z"
    }
   },
   "cell_type": "code",
   "source": [
    "# First, install required packages if not already installed\n",
    "!pip install napari[all] magicgui\n",
    "\n",
    "# Import required libraries\n",
    "from magicgui import magicgui"
   ],
   "id": "20f2be5f78cab9b0",
   "outputs": [
    {
     "name": "stdout",
     "output_type": "stream",
     "text": [
      "Requirement already satisfied: magicgui in d:\\montruth\\pycharmprojects\\samplepy\\.venv\\lib\\site-packages (0.8.2)\n",
      "Requirement already satisfied: napari[all] in d:\\montruth\\pycharmprojects\\samplepy\\.venv\\lib\\site-packages (0.4.19.post1)\n",
      "Requirement already satisfied: appdirs>=1.4.4 in d:\\montruth\\pycharmprojects\\samplepy\\.venv\\lib\\site-packages (from napari[all]) (1.4.4)\n",
      "Requirement already satisfied: app-model<0.3.0,>=0.1.2 in d:\\montruth\\pycharmprojects\\samplepy\\.venv\\lib\\site-packages (from napari[all]) (0.2.7)\n",
      "Requirement already satisfied: cachey>=0.2.1 in d:\\montruth\\pycharmprojects\\samplepy\\.venv\\lib\\site-packages (from napari[all]) (0.2.1)\n",
      "Requirement already satisfied: certifi>=2018.1.18 in d:\\montruth\\pycharmprojects\\samplepy\\.venv\\lib\\site-packages (from napari[all]) (2024.2.2)\n",
      "Requirement already satisfied: dask!=2.28.0,>=2.15.0 in d:\\montruth\\pycharmprojects\\samplepy\\.venv\\lib\\site-packages (from dask[array]!=2.28.0,>=2.15.0->napari[all]) (2024.5.0)\n",
      "Requirement already satisfied: imageio!=2.22.1,>=2.20 in d:\\montruth\\pycharmprojects\\samplepy\\.venv\\lib\\site-packages (from napari[all]) (2.34.1)\n",
      "Requirement already satisfied: jsonschema>=3.2.0 in d:\\montruth\\pycharmprojects\\samplepy\\.venv\\lib\\site-packages (from napari[all]) (4.22.0)\n",
      "Requirement already satisfied: lazy-loader>=0.2 in d:\\montruth\\pycharmprojects\\samplepy\\.venv\\lib\\site-packages (from napari[all]) (0.4)\n",
      "Requirement already satisfied: napari-console>=0.0.9 in d:\\montruth\\pycharmprojects\\samplepy\\.venv\\lib\\site-packages (from napari[all]) (0.0.9)\n",
      "Requirement already satisfied: napari-plugin-engine>=0.1.9 in d:\\montruth\\pycharmprojects\\samplepy\\.venv\\lib\\site-packages (from napari[all]) (0.2.0)\n",
      "Requirement already satisfied: napari-svg>=0.1.8 in d:\\montruth\\pycharmprojects\\samplepy\\.venv\\lib\\site-packages (from napari[all]) (0.1.10)\n",
      "Requirement already satisfied: npe2>=0.7.2 in d:\\montruth\\pycharmprojects\\samplepy\\.venv\\lib\\site-packages (from napari[all]) (0.7.5)\n",
      "Requirement already satisfied: numpy<2,>=1.21 in d:\\montruth\\pycharmprojects\\samplepy\\.venv\\lib\\site-packages (from napari[all]) (1.26.4)\n",
      "Requirement already satisfied: numpydoc>=0.9.2 in d:\\montruth\\pycharmprojects\\samplepy\\.venv\\lib\\site-packages (from napari[all]) (1.7.0)\n",
      "Requirement already satisfied: Pillow!=7.1.0,!=7.1.1 in d:\\montruth\\pycharmprojects\\samplepy\\.venv\\lib\\site-packages (from napari[all]) (10.3.0)\n",
      "Requirement already satisfied: pint>=0.17 in d:\\montruth\\pycharmprojects\\samplepy\\.venv\\lib\\site-packages (from napari[all]) (0.23)\n",
      "Requirement already satisfied: psutil>=5.0 in d:\\montruth\\pycharmprojects\\samplepy\\.venv\\lib\\site-packages (from napari[all]) (5.9.8)\n",
      "Requirement already satisfied: psygnal>=0.3.4 in d:\\montruth\\pycharmprojects\\samplepy\\.venv\\lib\\site-packages (from napari[all]) (0.11.1)\n",
      "Requirement already satisfied: pydantic>=1.9.0 in d:\\montruth\\pycharmprojects\\samplepy\\.venv\\lib\\site-packages (from napari[all]) (1.10.19)\n",
      "Requirement already satisfied: pygments>=2.6.0 in d:\\montruth\\pycharmprojects\\samplepy\\.venv\\lib\\site-packages (from napari[all]) (2.18.0)\n",
      "Requirement already satisfied: PyOpenGL>=3.1.0 in d:\\montruth\\pycharmprojects\\samplepy\\.venv\\lib\\site-packages (from napari[all]) (3.1.7)\n",
      "Requirement already satisfied: PyYAML>=5.1 in d:\\montruth\\pycharmprojects\\samplepy\\.venv\\lib\\site-packages (from napari[all]) (6.0.1)\n",
      "Requirement already satisfied: qtpy>=1.10.0 in d:\\montruth\\pycharmprojects\\samplepy\\.venv\\lib\\site-packages (from napari[all]) (2.4.1)\n",
      "Requirement already satisfied: scikit-image>=0.19.1 in d:\\montruth\\pycharmprojects\\samplepy\\.venv\\lib\\site-packages (from scikit-image[data]>=0.19.1->napari[all]) (0.23.2)\n",
      "Requirement already satisfied: superqt>=0.4.1 in d:\\montruth\\pycharmprojects\\samplepy\\.venv\\lib\\site-packages (from napari[all]) (0.6.6)\n",
      "Requirement already satisfied: tifffile>=2020.2.16 in d:\\montruth\\pycharmprojects\\samplepy\\.venv\\lib\\site-packages (from napari[all]) (2024.5.10)\n",
      "Requirement already satisfied: toolz>=0.10.0 in d:\\montruth\\pycharmprojects\\samplepy\\.venv\\lib\\site-packages (from napari[all]) (0.12.1)\n",
      "Requirement already satisfied: tqdm>=4.56.0 in d:\\montruth\\pycharmprojects\\samplepy\\.venv\\lib\\site-packages (from napari[all]) (4.66.4)\n",
      "Requirement already satisfied: typing-extensions>=4.2.0 in d:\\montruth\\pycharmprojects\\samplepy\\.venv\\lib\\site-packages (from napari[all]) (4.11.0)\n",
      "Requirement already satisfied: vispy<0.15,>=0.14.1 in d:\\montruth\\pycharmprojects\\samplepy\\.venv\\lib\\site-packages (from napari[all]) (0.14.2)\n",
      "Requirement already satisfied: wrapt>=1.11.1 in d:\\montruth\\pycharmprojects\\samplepy\\.venv\\lib\\site-packages (from napari[all]) (1.16.0)\n",
      "Requirement already satisfied: pandas>=1.3.0 in d:\\montruth\\pycharmprojects\\samplepy\\.venv\\lib\\site-packages (from napari[all]) (2.2.2)\n",
      "Requirement already satisfied: scipy>=1.5.4 in d:\\montruth\\pycharmprojects\\samplepy\\.venv\\lib\\site-packages (from napari[all]) (1.13.0)\n",
      "Requirement already satisfied: PyQt5!=5.15.0,>=5.12.3 in d:\\montruth\\pycharmprojects\\samplepy\\.venv\\lib\\site-packages (from napari[all]) (5.15.10)\n",
      "Requirement already satisfied: numba>=0.57.1 in d:\\montruth\\pycharmprojects\\samplepy\\.venv\\lib\\site-packages (from napari[all]) (0.60.0)\n",
      "Requirement already satisfied: napari-plugin-manager<0.2.0,>=0.1.0a1 in d:\\montruth\\pycharmprojects\\samplepy\\.venv\\lib\\site-packages (from napari[all]) (0.1.0a2)\n",
      "Requirement already satisfied: triangle in d:\\montruth\\pycharmprojects\\samplepy\\.venv\\lib\\site-packages (from napari[all]) (20230923)\n",
      "Requirement already satisfied: docstring-parser>=0.7 in d:\\montruth\\pycharmprojects\\samplepy\\.venv\\lib\\site-packages (from magicgui) (0.16)\n",
      "Requirement already satisfied: in-n-out>=0.1.5 in d:\\montruth\\pycharmprojects\\samplepy\\.venv\\lib\\site-packages (from app-model<0.3.0,>=0.1.2->napari[all]) (0.2.1)\n",
      "Requirement already satisfied: pydantic-compat>=0.1.1 in d:\\montruth\\pycharmprojects\\samplepy\\.venv\\lib\\site-packages (from app-model<0.3.0,>=0.1.2->napari[all]) (0.1.2)\n",
      "Requirement already satisfied: heapdict in d:\\montruth\\pycharmprojects\\samplepy\\.venv\\lib\\site-packages (from cachey>=0.2.1->napari[all]) (1.0.1)\n",
      "Requirement already satisfied: click>=8.1 in d:\\montruth\\pycharmprojects\\samplepy\\.venv\\lib\\site-packages (from dask!=2.28.0,>=2.15.0->dask[array]!=2.28.0,>=2.15.0->napari[all]) (8.1.7)\n",
      "Requirement already satisfied: cloudpickle>=1.5.0 in d:\\montruth\\pycharmprojects\\samplepy\\.venv\\lib\\site-packages (from dask!=2.28.0,>=2.15.0->dask[array]!=2.28.0,>=2.15.0->napari[all]) (3.0.0)\n",
      "Requirement already satisfied: fsspec>=2021.09.0 in d:\\montruth\\pycharmprojects\\samplepy\\.venv\\lib\\site-packages (from dask!=2.28.0,>=2.15.0->dask[array]!=2.28.0,>=2.15.0->napari[all]) (2024.5.0)\n",
      "Requirement already satisfied: packaging>=20.0 in d:\\montruth\\pycharmprojects\\samplepy\\.venv\\lib\\site-packages (from dask!=2.28.0,>=2.15.0->dask[array]!=2.28.0,>=2.15.0->napari[all]) (24.0)\n",
      "Requirement already satisfied: partd>=1.2.0 in d:\\montruth\\pycharmprojects\\samplepy\\.venv\\lib\\site-packages (from dask!=2.28.0,>=2.15.0->dask[array]!=2.28.0,>=2.15.0->napari[all]) (1.4.2)\n",
      "Requirement already satisfied: importlib-metadata>=4.13.0 in d:\\montruth\\pycharmprojects\\samplepy\\.venv\\lib\\site-packages (from dask!=2.28.0,>=2.15.0->dask[array]!=2.28.0,>=2.15.0->napari[all]) (7.1.0)\n",
      "Requirement already satisfied: attrs>=22.2.0 in d:\\montruth\\pycharmprojects\\samplepy\\.venv\\lib\\site-packages (from jsonschema>=3.2.0->napari[all]) (23.2.0)\n",
      "Requirement already satisfied: jsonschema-specifications>=2023.03.6 in d:\\montruth\\pycharmprojects\\samplepy\\.venv\\lib\\site-packages (from jsonschema>=3.2.0->napari[all]) (2023.12.1)\n",
      "Requirement already satisfied: referencing>=0.28.4 in d:\\montruth\\pycharmprojects\\samplepy\\.venv\\lib\\site-packages (from jsonschema>=3.2.0->napari[all]) (0.35.1)\n",
      "Requirement already satisfied: rpds-py>=0.7.1 in d:\\montruth\\pycharmprojects\\samplepy\\.venv\\lib\\site-packages (from jsonschema>=3.2.0->napari[all]) (0.18.1)\n",
      "Requirement already satisfied: IPython>=7.7.0 in d:\\montruth\\pycharmprojects\\samplepy\\.venv\\lib\\site-packages (from napari-console>=0.0.9->napari[all]) (8.24.0)\n",
      "Requirement already satisfied: ipykernel>=5.2.0 in d:\\montruth\\pycharmprojects\\samplepy\\.venv\\lib\\site-packages (from napari-console>=0.0.9->napari[all]) (6.29.4)\n",
      "Requirement already satisfied: qtconsole!=4.7.6,!=5.4.2,>=4.5.1 in d:\\montruth\\pycharmprojects\\samplepy\\.venv\\lib\\site-packages (from napari-console>=0.0.9->napari[all]) (5.5.2)\n",
      "Requirement already satisfied: pip in d:\\montruth\\pycharmprojects\\samplepy\\.venv\\lib\\site-packages (from napari-plugin-manager<0.2.0,>=0.1.0a1->napari[all]) (24.2)\n",
      "Requirement already satisfied: build>=1 in d:\\montruth\\pycharmprojects\\samplepy\\.venv\\lib\\site-packages (from npe2>=0.7.2->napari[all]) (1.2.1)\n",
      "Requirement already satisfied: rich in d:\\montruth\\pycharmprojects\\samplepy\\.venv\\lib\\site-packages (from npe2>=0.7.2->napari[all]) (13.7.1)\n",
      "Requirement already satisfied: tomli-w in d:\\montruth\\pycharmprojects\\samplepy\\.venv\\lib\\site-packages (from npe2>=0.7.2->napari[all]) (1.0.0)\n",
      "Requirement already satisfied: tomli in d:\\montruth\\pycharmprojects\\samplepy\\.venv\\lib\\site-packages (from npe2>=0.7.2->napari[all]) (2.0.1)\n",
      "Requirement already satisfied: typer in d:\\montruth\\pycharmprojects\\samplepy\\.venv\\lib\\site-packages (from npe2>=0.7.2->napari[all]) (0.12.3)\n",
      "Requirement already satisfied: llvmlite<0.44,>=0.43.0dev0 in d:\\montruth\\pycharmprojects\\samplepy\\.venv\\lib\\site-packages (from numba>=0.57.1->napari[all]) (0.43.0)\n",
      "Requirement already satisfied: sphinx>=6 in d:\\montruth\\pycharmprojects\\samplepy\\.venv\\lib\\site-packages (from numpydoc>=0.9.2->napari[all]) (7.3.7)\n",
      "Requirement already satisfied: tabulate>=0.8.10 in d:\\montruth\\pycharmprojects\\samplepy\\.venv\\lib\\site-packages (from numpydoc>=0.9.2->napari[all]) (0.9.0)\n",
      "Requirement already satisfied: python-dateutil>=2.8.2 in d:\\montruth\\pycharmprojects\\samplepy\\.venv\\lib\\site-packages (from pandas>=1.3.0->napari[all]) (2.9.0.post0)\n",
      "Requirement already satisfied: pytz>=2020.1 in d:\\montruth\\pycharmprojects\\samplepy\\.venv\\lib\\site-packages (from pandas>=1.3.0->napari[all]) (2024.1)\n",
      "Requirement already satisfied: tzdata>=2022.7 in d:\\montruth\\pycharmprojects\\samplepy\\.venv\\lib\\site-packages (from pandas>=1.3.0->napari[all]) (2024.1)\n",
      "Requirement already satisfied: PyQt5-sip<13,>=12.13 in d:\\montruth\\pycharmprojects\\samplepy\\.venv\\lib\\site-packages (from PyQt5!=5.15.0,>=5.12.3->napari[all]) (12.13.0)\n",
      "Requirement already satisfied: PyQt5-Qt5>=5.15.2 in d:\\montruth\\pycharmprojects\\samplepy\\.venv\\lib\\site-packages (from PyQt5!=5.15.0,>=5.12.3->napari[all]) (5.15.2)\n",
      "Requirement already satisfied: networkx>=2.8 in d:\\montruth\\pycharmprojects\\samplepy\\.venv\\lib\\site-packages (from scikit-image>=0.19.1->scikit-image[data]>=0.19.1->napari[all]) (3.3)\n",
      "Requirement already satisfied: pooch>=1.6.0 in d:\\montruth\\pycharmprojects\\samplepy\\.venv\\lib\\site-packages (from scikit-image[data]>=0.19.1->napari[all]) (1.8.1)\n",
      "Requirement already satisfied: pyconify>=0.1.4 in d:\\montruth\\pycharmprojects\\samplepy\\.venv\\lib\\site-packages (from superqt[iconify]>=0.6.1->magicgui) (0.1.6)\n",
      "Requirement already satisfied: colorama in d:\\montruth\\pycharmprojects\\samplepy\\.venv\\lib\\site-packages (from tqdm>=4.56.0->napari[all]) (0.4.6)\n",
      "Requirement already satisfied: freetype-py in d:\\montruth\\pycharmprojects\\samplepy\\.venv\\lib\\site-packages (from vispy<0.15,>=0.14.1->napari[all]) (2.4.0)\n",
      "Requirement already satisfied: hsluv in d:\\montruth\\pycharmprojects\\samplepy\\.venv\\lib\\site-packages (from vispy<0.15,>=0.14.1->napari[all]) (5.0.4)\n",
      "Requirement already satisfied: kiwisolver in d:\\montruth\\pycharmprojects\\samplepy\\.venv\\lib\\site-packages (from vispy<0.15,>=0.14.1->napari[all]) (1.4.5)\n",
      "Requirement already satisfied: pyproject_hooks in d:\\montruth\\pycharmprojects\\samplepy\\.venv\\lib\\site-packages (from build>=1->npe2>=0.7.2->napari[all]) (1.1.0)\n",
      "Requirement already satisfied: zipp>=0.5 in d:\\montruth\\pycharmprojects\\samplepy\\.venv\\lib\\site-packages (from importlib-metadata>=4.13.0->dask!=2.28.0,>=2.15.0->dask[array]!=2.28.0,>=2.15.0->napari[all]) (3.18.2)\n",
      "Requirement already satisfied: comm>=0.1.1 in d:\\montruth\\pycharmprojects\\samplepy\\.venv\\lib\\site-packages (from ipykernel>=5.2.0->napari-console>=0.0.9->napari[all]) (0.2.2)\n",
      "Requirement already satisfied: debugpy>=1.6.5 in d:\\montruth\\pycharmprojects\\samplepy\\.venv\\lib\\site-packages (from ipykernel>=5.2.0->napari-console>=0.0.9->napari[all]) (1.8.1)\n",
      "Requirement already satisfied: jupyter-client>=6.1.12 in d:\\montruth\\pycharmprojects\\samplepy\\.venv\\lib\\site-packages (from ipykernel>=5.2.0->napari-console>=0.0.9->napari[all]) (8.6.1)\n",
      "Requirement already satisfied: jupyter-core!=5.0.*,>=4.12 in d:\\montruth\\pycharmprojects\\samplepy\\.venv\\lib\\site-packages (from ipykernel>=5.2.0->napari-console>=0.0.9->napari[all]) (5.7.2)\n",
      "Requirement already satisfied: matplotlib-inline>=0.1 in d:\\montruth\\pycharmprojects\\samplepy\\.venv\\lib\\site-packages (from ipykernel>=5.2.0->napari-console>=0.0.9->napari[all]) (0.1.7)\n",
      "Requirement already satisfied: nest-asyncio in d:\\montruth\\pycharmprojects\\samplepy\\.venv\\lib\\site-packages (from ipykernel>=5.2.0->napari-console>=0.0.9->napari[all]) (1.6.0)\n",
      "Requirement already satisfied: pyzmq>=24 in d:\\montruth\\pycharmprojects\\samplepy\\.venv\\lib\\site-packages (from ipykernel>=5.2.0->napari-console>=0.0.9->napari[all]) (26.0.3)\n",
      "Requirement already satisfied: tornado>=6.1 in d:\\montruth\\pycharmprojects\\samplepy\\.venv\\lib\\site-packages (from ipykernel>=5.2.0->napari-console>=0.0.9->napari[all]) (6.4)\n",
      "Requirement already satisfied: traitlets>=5.4.0 in d:\\montruth\\pycharmprojects\\samplepy\\.venv\\lib\\site-packages (from ipykernel>=5.2.0->napari-console>=0.0.9->napari[all]) (5.14.3)\n",
      "Requirement already satisfied: decorator in d:\\montruth\\pycharmprojects\\samplepy\\.venv\\lib\\site-packages (from IPython>=7.7.0->napari-console>=0.0.9->napari[all]) (5.1.1)\n",
      "Requirement already satisfied: jedi>=0.16 in d:\\montruth\\pycharmprojects\\samplepy\\.venv\\lib\\site-packages (from IPython>=7.7.0->napari-console>=0.0.9->napari[all]) (0.19.1)\n",
      "Requirement already satisfied: prompt-toolkit<3.1.0,>=3.0.41 in d:\\montruth\\pycharmprojects\\samplepy\\.venv\\lib\\site-packages (from IPython>=7.7.0->napari-console>=0.0.9->napari[all]) (3.0.43)\n",
      "Requirement already satisfied: stack-data in d:\\montruth\\pycharmprojects\\samplepy\\.venv\\lib\\site-packages (from IPython>=7.7.0->napari-console>=0.0.9->napari[all]) (0.6.3)\n",
      "Requirement already satisfied: exceptiongroup in d:\\montruth\\pycharmprojects\\samplepy\\.venv\\lib\\site-packages (from IPython>=7.7.0->napari-console>=0.0.9->napari[all]) (1.2.1)\n",
      "Requirement already satisfied: locket in d:\\montruth\\pycharmprojects\\samplepy\\.venv\\lib\\site-packages (from partd>=1.2.0->dask!=2.28.0,>=2.15.0->dask[array]!=2.28.0,>=2.15.0->napari[all]) (1.0.0)\n",
      "Requirement already satisfied: platformdirs>=2.5.0 in d:\\montruth\\pycharmprojects\\samplepy\\.venv\\lib\\site-packages (from pooch>=1.6.0->scikit-image[data]>=0.19.1->napari[all]) (4.2.2)\n",
      "Requirement already satisfied: requests>=2.19.0 in d:\\montruth\\pycharmprojects\\samplepy\\.venv\\lib\\site-packages (from pooch>=1.6.0->scikit-image[data]>=0.19.1->napari[all]) (2.31.0)\n",
      "Requirement already satisfied: six>=1.5 in d:\\montruth\\pycharmprojects\\samplepy\\.venv\\lib\\site-packages (from python-dateutil>=2.8.2->pandas>=1.3.0->napari[all]) (1.16.0)\n",
      "Requirement already satisfied: sphinxcontrib-applehelp in d:\\montruth\\pycharmprojects\\samplepy\\.venv\\lib\\site-packages (from sphinx>=6->numpydoc>=0.9.2->napari[all]) (1.0.8)\n",
      "Requirement already satisfied: sphinxcontrib-devhelp in d:\\montruth\\pycharmprojects\\samplepy\\.venv\\lib\\site-packages (from sphinx>=6->numpydoc>=0.9.2->napari[all]) (1.0.6)\n",
      "Requirement already satisfied: sphinxcontrib-jsmath in d:\\montruth\\pycharmprojects\\samplepy\\.venv\\lib\\site-packages (from sphinx>=6->numpydoc>=0.9.2->napari[all]) (1.0.1)\n",
      "Requirement already satisfied: sphinxcontrib-htmlhelp>=2.0.0 in d:\\montruth\\pycharmprojects\\samplepy\\.venv\\lib\\site-packages (from sphinx>=6->numpydoc>=0.9.2->napari[all]) (2.0.5)\n",
      "Requirement already satisfied: sphinxcontrib-serializinghtml>=1.1.9 in d:\\montruth\\pycharmprojects\\samplepy\\.venv\\lib\\site-packages (from sphinx>=6->numpydoc>=0.9.2->napari[all]) (1.1.10)\n",
      "Requirement already satisfied: sphinxcontrib-qthelp in d:\\montruth\\pycharmprojects\\samplepy\\.venv\\lib\\site-packages (from sphinx>=6->numpydoc>=0.9.2->napari[all]) (1.0.7)\n",
      "Requirement already satisfied: Jinja2>=3.0 in d:\\montruth\\pycharmprojects\\samplepy\\.venv\\lib\\site-packages (from sphinx>=6->numpydoc>=0.9.2->napari[all]) (3.1.4)\n",
      "Requirement already satisfied: docutils<0.22,>=0.18.1 in d:\\montruth\\pycharmprojects\\samplepy\\.venv\\lib\\site-packages (from sphinx>=6->numpydoc>=0.9.2->napari[all]) (0.21.2)\n",
      "Requirement already satisfied: snowballstemmer>=2.0 in d:\\montruth\\pycharmprojects\\samplepy\\.venv\\lib\\site-packages (from sphinx>=6->numpydoc>=0.9.2->napari[all]) (2.2.0)\n",
      "Requirement already satisfied: babel>=2.9 in d:\\montruth\\pycharmprojects\\samplepy\\.venv\\lib\\site-packages (from sphinx>=6->numpydoc>=0.9.2->napari[all]) (2.15.0)\n",
      "Requirement already satisfied: alabaster~=0.7.14 in d:\\montruth\\pycharmprojects\\samplepy\\.venv\\lib\\site-packages (from sphinx>=6->numpydoc>=0.9.2->napari[all]) (0.7.16)\n",
      "Requirement already satisfied: imagesize>=1.3 in d:\\montruth\\pycharmprojects\\samplepy\\.venv\\lib\\site-packages (from sphinx>=6->numpydoc>=0.9.2->napari[all]) (1.4.1)\n",
      "Requirement already satisfied: markdown-it-py>=2.2.0 in d:\\montruth\\pycharmprojects\\samplepy\\.venv\\lib\\site-packages (from rich->npe2>=0.7.2->napari[all]) (3.0.0)\n",
      "Requirement already satisfied: shellingham>=1.3.0 in d:\\montruth\\pycharmprojects\\samplepy\\.venv\\lib\\site-packages (from typer->npe2>=0.7.2->napari[all]) (1.5.4)\n",
      "Requirement already satisfied: parso<0.9.0,>=0.8.3 in d:\\montruth\\pycharmprojects\\samplepy\\.venv\\lib\\site-packages (from jedi>=0.16->IPython>=7.7.0->napari-console>=0.0.9->napari[all]) (0.8.4)\n",
      "Requirement already satisfied: MarkupSafe>=2.0 in d:\\montruth\\pycharmprojects\\samplepy\\.venv\\lib\\site-packages (from Jinja2>=3.0->sphinx>=6->numpydoc>=0.9.2->napari[all]) (2.1.5)\n",
      "Requirement already satisfied: pywin32>=300 in d:\\montruth\\pycharmprojects\\samplepy\\.venv\\lib\\site-packages (from jupyter-core!=5.0.*,>=4.12->ipykernel>=5.2.0->napari-console>=0.0.9->napari[all]) (306)\n",
      "Requirement already satisfied: mdurl~=0.1 in d:\\montruth\\pycharmprojects\\samplepy\\.venv\\lib\\site-packages (from markdown-it-py>=2.2.0->rich->npe2>=0.7.2->napari[all]) (0.1.2)\n",
      "Requirement already satisfied: wcwidth in d:\\montruth\\pycharmprojects\\samplepy\\.venv\\lib\\site-packages (from prompt-toolkit<3.1.0,>=3.0.41->IPython>=7.7.0->napari-console>=0.0.9->napari[all]) (0.2.13)\n",
      "Requirement already satisfied: charset-normalizer<4,>=2 in d:\\montruth\\pycharmprojects\\samplepy\\.venv\\lib\\site-packages (from requests>=2.19.0->pooch>=1.6.0->scikit-image[data]>=0.19.1->napari[all]) (3.3.2)\n",
      "Requirement already satisfied: idna<4,>=2.5 in d:\\montruth\\pycharmprojects\\samplepy\\.venv\\lib\\site-packages (from requests>=2.19.0->pooch>=1.6.0->scikit-image[data]>=0.19.1->napari[all]) (3.7)\n",
      "Requirement already satisfied: urllib3<3,>=1.21.1 in d:\\montruth\\pycharmprojects\\samplepy\\.venv\\lib\\site-packages (from requests>=2.19.0->pooch>=1.6.0->scikit-image[data]>=0.19.1->napari[all]) (2.2.1)\n",
      "Requirement already satisfied: executing>=1.2.0 in d:\\montruth\\pycharmprojects\\samplepy\\.venv\\lib\\site-packages (from stack-data->IPython>=7.7.0->napari-console>=0.0.9->napari[all]) (2.0.1)\n",
      "Requirement already satisfied: asttokens>=2.1.0 in d:\\montruth\\pycharmprojects\\samplepy\\.venv\\lib\\site-packages (from stack-data->IPython>=7.7.0->napari-console>=0.0.9->napari[all]) (2.4.1)\n",
      "Requirement already satisfied: pure-eval in d:\\montruth\\pycharmprojects\\samplepy\\.venv\\lib\\site-packages (from stack-data->IPython>=7.7.0->napari-console>=0.0.9->napari[all]) (0.2.2)\n"
     ]
    },
    {
     "name": "stderr",
     "output_type": "stream",
     "text": [
      "\n",
      "[notice] A new release of pip is available: 24.2 -> 24.3.1\n",
      "[notice] To update, run: python.exe -m pip install --upgrade pip\n"
     ]
    }
   ],
   "execution_count": 19
  },
  {
   "metadata": {
    "ExecuteTime": {
     "end_time": "2025-01-10T08:39:22.213576Z",
     "start_time": "2025-01-10T08:39:22.182574Z"
    }
   },
   "cell_type": "code",
   "source": [
    "@magicgui\n",
    "def roi_navigator(roi_id: int, trial: int):\n",
    "    \"\"\"Navigate through ROIs and trials\"\"\"\n",
    "    # Update views to center on selected ROI\n",
    "    current_mask = masks[trial] == roi_id\n",
    "    viewer.layers['Masks'].selected_label = roi_id\n",
    "    # Center view on ROI\n"
   ],
   "id": "74e45851111a5681",
   "outputs": [],
   "execution_count": 20
  },
  {
   "metadata": {
    "ExecuteTime": {
     "end_time": "2025-01-09T17:15:49.075099Z",
     "start_time": "2025-01-09T17:15:49.071096Z"
    }
   },
   "cell_type": "code",
   "source": "",
   "id": "d984add94eb4126e",
   "outputs": [],
   "execution_count": 11
  },
  {
   "metadata": {},
   "cell_type": "code",
   "outputs": [],
   "execution_count": null,
   "source": "",
   "id": "c3c30c4dd828d0b5"
  }
 ],
 "metadata": {
  "kernelspec": {
   "display_name": "Python 3",
   "language": "python",
   "name": "python3"
  },
  "language_info": {
   "codemirror_mode": {
    "name": "ipython",
    "version": 2
   },
   "file_extension": ".py",
   "mimetype": "text/x-python",
   "name": "python",
   "nbconvert_exporter": "python",
   "pygments_lexer": "ipython2",
   "version": "2.7.6"
  }
 },
 "nbformat": 4,
 "nbformat_minor": 5
}
