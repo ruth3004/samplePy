{
 "cells": [
  {
   "metadata": {},
   "cell_type": "markdown",
   "source": [
    "## Segmenting LM Stack using segmented aligned em stack (e.g. from cellpose)\n",
    "\n",
    "In cases where the quality of LM stack in z is not great to segment with high reliability,  using the carefully aligned em stack with e.g. BigWarp can be an option to use the segmentations.\n",
    "\n",
    "**Preparation**:\n",
    "  - Ensure the EM warped stack is aligned with the LM stack using BigWarp or a similar tool\n",
    "  - Consider using a high-memory machine like vm1 from FAIM due to memory requirements\n",
    "  - If encountering memory issues:\n",
    "    - Use a high-memory machine (e.g., vm1 from FAIM)\n",
    "    - Downsample the image stack\n",
    "    - Crop the image to focus on specific regions of interest\n",
    "    - Consider processing the stack in smaller chunks and stitching results (e.g. dask) \n",
    "\n",
    "**Cellpose Model Selection**:\n",
    "  - Use the cyto3 model or a pretrained modified version\n",
    "\n",
    "- **Segmentation Options**:\n",
    "  - GUI: Use the Cellpose graphical user interface\n",
    "  - Python: Write a custom Python script\n",
    "  - CLI: Use the Cellpose command-line interface\n",
    "\n",
    "- **Parameter Settings**:\n",
    "  - Set flow threshold to 0\n",
    "  - Set cell probability threshold to 1\n",
    "\n",
    "- **Segmentation Process**:\n",
    "  1. Load the EM warped stack into Cellpose\n",
    "  2. Select the appropriate model (cyto3 or custom pretrained)\n",
    "  3. Set the flow threshold to 0\n",
    "  4. Set the cell probability threshold to 1\n",
    "  5. Adjust other parameters as needed (e.g., cell diameter)\n",
    "  6. Run the segmentation\n",
    "  7. Review the results and adjust parameters if necessary\n",
    "\n"
   ],
   "id": "3ea357d96df5832e"
  },
  {
   "metadata": {},
   "cell_type": "markdown",
   "source": [
    "** for Cellpose CLI **\n",
    "cellpose --dir /path/to/input/image --pretrained_model cyto3 --diameter 22 --flow_threshold 0 --cellprob_threshold 1 --do_3D --save_tif\n",
    "\n",
    "** for python code **"
   ],
   "id": "ae41d205d7c25f5d"
  },
  {
   "metadata": {
    "ExecuteTime": {
     "start_time": "2024-07-29T08:54:42.035915Z"
    }
   },
   "cell_type": "code",
   "source": [
    "from cellpose import models\n",
    "import tifffile\n",
    "\n",
    "# Load your LM stack\n",
    "image = tifffile.imread('/path/to/your/em_warped_stack.tif')\n",
    "\n",
    "# Initialize model\n",
    "model = models.Cellpose(model_type='cyto3', gpu=True)\n",
    "\n",
    "# Set parameters\n",
    "channels = [0, 0]  # grayscale image\n",
    "diameter = 22    # estimated cell diameter\n",
    "\n",
    "# Run segmentation\n",
    "masks, flows, styles, diams = model.eval(image, \n",
    "                                         channels=channels,\n",
    "                                         diameter=diameter,\n",
    "                                         flow_threshold=0,\n",
    "                                         cellprob_threshold=1,\n",
    "                                         do_3D=True)\n",
    "\n",
    "# Save the segmentation result\n",
    "tifffile.imwrite('/path/to/output/segmentation.tif', masks)\n",
    "\n"
   ],
   "id": "6181275db286630",
   "outputs": [],
   "execution_count": null
  },
  {
   "metadata": {},
   "cell_type": "markdown",
   "source": [
    "**Validation**:\n",
    "  - Visualize segmentation to LM stack \n",
    "\n"
   ],
   "id": "14742c4a02f5bee8"
  },
  {
   "metadata": {},
   "cell_type": "code",
   "outputs": [],
   "execution_count": null,
   "source": [
    "import napari\n",
    "import tifffile\n",
    "\n",
    "# Load original LM stack and segmentation\n",
    "lm_stack = tifffile.imread('/path/to/your/lm_stack.tif')\n",
    "segmentation = tifffile.imread('/path/to/output/segmentation.tif')\n",
    "\n",
    "# Create Napari viewer\n",
    "viewer = napari.Viewer()\n",
    "\n",
    "# Add layers\n",
    "viewer.add_image(lm_stack, name='LM Stack')\n",
    "viewer.add_labels(segmentation, name='Cellpose Segmentation')\n",
    "\n",
    "napari.run()"
   ],
   "id": "242a038c2249ef4e"
  },
  {
   "metadata": {},
   "cell_type": "code",
   "outputs": [],
   "execution_count": null,
   "source": "",
   "id": "8f0948dbcd11326"
  }
 ],
 "metadata": {
  "kernelspec": {
   "display_name": "Python 3",
   "language": "python",
   "name": "python3"
  },
  "language_info": {
   "codemirror_mode": {
    "name": "ipython",
    "version": 2
   },
   "file_extension": ".py",
   "mimetype": "text/x-python",
   "name": "python",
   "nbconvert_exporter": "python",
   "pygments_lexer": "ipython2",
   "version": "2.7.6"
  }
 },
 "nbformat": 4,
 "nbformat_minor": 5
}
