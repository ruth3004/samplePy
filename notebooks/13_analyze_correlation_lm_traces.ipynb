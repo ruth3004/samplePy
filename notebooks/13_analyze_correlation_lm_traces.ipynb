{
 "cells": [
  {
   "metadata": {
    "jupyter": {
     "is_executing": true
    },
    "ExecuteTime": {
     "start_time": "2024-08-14T14:32:02.345216Z"
    }
   },
   "cell_type": "code",
   "source": [
    "import numpy as np\n",
    "import matplotlib.pyplot as plt\n",
    "import seaborn as sns\n",
    "from scipy.stats import pearsonr\n",
    "import h5py\n",
    "from scripts.sample_db import SampleDB\n",
    "\n",
    "def compute_correlation_matrix(traces, window_size):\n",
    "    num_traces, trace_length = traces.shape\n",
    "    num_windows = trace_length - window_size + 1\n",
    "    correlation_matrix = np.zeros((num_traces, num_traces))\n",
    "    \n",
    "    for i in range(num_traces):\n",
    "        for j in range(i, num_traces):\n",
    "            correlations = []\n",
    "            for k in range(num_windows):\n",
    "                window_i = traces[i, k:k+window_size]\n",
    "                window_j = traces[j, k:k+window_size]\n",
    "                corr, _ = pearsonr(window_i, window_j)\n",
    "                correlations.append(corr)\n",
    "            \n",
    "            avg_correlation = np.mean(correlations)\n",
    "            correlation_matrix[i, j] = avg_correlation\n",
    "            correlation_matrix[j, i] = avg_correlation\n",
    "    \n",
    "    return correlation_matrix\n",
    "\n",
    "def plot_correlation_matrix(correlation_matrix, odors, trials, title):\n",
    "    plt.figure(figsize=(12, 10))\n",
    "    sns.heatmap(correlation_matrix, cmap='coolwarm', vmin=-1, vmax=1, center=0,\n",
    "                square=True, annot=False, cbar=True)\n",
    "    \n",
    "    # Add odor and trial labels\n",
    "    ax = plt.gca()\n",
    "    ax.set_xticks(np.arange(len(odors)) + 0.5)\n",
    "    ax.set_yticks(np.arange(len(odors)) + 0.5)\n",
    "    ax.set_xticklabels([f'Odor {o}\\nTrial {t}' for o, t in zip(odors, trials)], rotation=45, ha='right')\n",
    "    ax.set_yticklabels([f'Odor {o}\\nTrial {t}' for o, t in zip(odors, trials)], rotation=0)\n",
    "    \n",
    "    plt.title(title)\n",
    "    plt.tight_layout()\n",
    "    plt.show()\n",
    "\n",
    "# Main script\n",
    "if __name__ == \"__main__\":\n",
    "    # Load the sample database\n",
    "    db_path = r'\\\\tungsten-nas.fmi.ch\\tungsten\\scratch\\gfriedri\\montruth\\sample_db.csv'\n",
    "    sample_db = SampleDB()\n",
    "    sample_db.load(db_path)\n",
    "\n",
    "    # Loading experiment\n",
    "    sample_id = '20220427_RM0008_126hpf_fP3_f3'  \n",
    "    exp = sample_db.get_sample(sample_id)\n",
    "    print(exp.sample.id)\n",
    "\n",
    "    # Path to the HDF5 file\n",
    "    hdf5_file_path = f'{exp.paths.trials_path}/traces/{exp.sample.id}_fluorescence_data.h5'\n",
    "\n",
    "    # Load data from HDF5 file\n",
    "    with h5py.File(hdf5_file_path, 'r') as f:\n",
    "        exp_grp = f[exp.sample.id]\n",
    "        print(exp_grp.keys())\n",
    "        traces = exp_grp['dff_traces'][()]  # Use dF/F traces\n",
    "        odors = exp_grp['odor'][()]\n",
    "        trials = exp_grp['trial_nr'][()]\n",
    "\n",
    "    # Sort traces by odor and trial\n",
    "    sort_indices = np.lexsort((trials, odors))\n",
    "    traces = traces[sort_indices]\n",
    "    odors = odors[sort_indices]\n",
    "    trials = trials[sort_indices]\n",
    "\n",
    "    # User input for window size\n",
    "    window_size = int(input(\"Enter the window size for correlation calculation: \"))\n",
    "\n",
    "    # Compute correlation matrix\n",
    "    correlation_matrix = compute_correlation_matrix(traces, window_size)\n",
    "\n",
    "    # Plot correlation matrix\n",
    "    plot_correlation_matrix(correlation_matrix, odors, trials, f\"Trace Correlation Matrix (Window Size: {window_size})\")"
   ],
   "id": "38d9e3da32425254",
   "outputs": [
    {
     "name": "stdout",
     "output_type": "stream",
     "text": [
      "20220427_RM0008_126hpf_fP3_f3\n",
      "<KeysViewHDF5 ['cell_mapping', 'deconvolved_spikes', 'dff_traces', 'lm_plane_centroids', 'lm_plane_labels', 'odor', 'plane_nr', 'raw_traces', 'trial_nr']>\n"
     ]
    }
   ],
   "execution_count": null
  }
 ],
 "metadata": {
  "kernelspec": {
   "display_name": "Python 3",
   "language": "python",
   "name": "python3"
  },
  "language_info": {
   "codemirror_mode": {
    "name": "ipython",
    "version": 2
   },
   "file_extension": ".py",
   "mimetype": "text/x-python",
   "name": "python",
   "nbconvert_exporter": "python",
   "pygments_lexer": "ipython2",
   "version": "2.7.6"
  }
 },
 "nbformat": 4,
 "nbformat_minor": 5
}
