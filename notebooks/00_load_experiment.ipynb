{
 "cells": [
  {
   "cell_type": "code",
   "execution_count": 5,
   "outputs": [],
   "source": [
    "# Step 1: Load an experiment configuration from a JSON file\n",
    "\n",
    "import os\n",
    "import glob\n",
    "from scripts.sample_db import SampleDB\n",
    "from scripts.config_model import Experiment, Paths, load_experiment_config, save_experiment_config, update_experiment_config\n"
   ],
   "metadata": {
    "collapsed": false
   }
  },
  {
   "cell_type": "code",
   "execution_count": 6,
   "outputs": [],
   "source": [
    "# Inputs\n",
    "# Load database csv file\n",
    "db_file_path = r'\\\\tungsten-nas.fmi.ch\\\\tungsten\\\\scratch\\\\gfriedri\\\\montruth\\\\sample_db.csv'\n",
    "\n",
    "# root path\n",
    "root_path = r'\\\\tungsten-nas.fmi.ch\\\\tungsten\\\\scratch\\\\gfriedri\\\\montruth\\\\2P_RawData\\\\2022-04-26\\\\f3'"
   ],
   "metadata": {
    "collapsed": false
   }
  },
  {
   "cell_type": "code",
   "execution_count": 7,
   "outputs": [
    {
     "name": "stdout",
     "output_type": "stream",
     "text": [
      "\\\\tungsten-nas.fmi.ch\\\\tungsten\\\\scratch\\\\gfriedri\\\\montruth\\\\2P_RawData\\\\2022-04-26\\\\f3\\config_20220426_RM0008_130hpf_fP1_f3.json\n",
      "Loaded experiment configuration:\n",
      "sample=Sample(id='20220426_RM0008_130hpf_fP1_f3', parents_id='P1', genotype='aTubulin:GCamp6s x GAD1b:DsRed', phenotype='positive expression, nacre', dof='21.04.2022-09:30', hpf=130, body_length_mm=4) params_odor=ParamsOdor(odor_list=['Ala', 'Ser', 'Ctrl', 'TCA', 'GCA', 'TDCA', 'Cad', 'SA'], odor_sequence=['Ala', 'Ser', 'Ctrl', 'TCA', 'GCA', 'TDCA', 'Cad', 'SA', 'Cad', 'TDCA', 'GCA', 'TCA', 'Ser', 'Ctrl', 'Ala', 'SA', 'Ctrl', 'Cad', 'Ala', 'Ser', 'TDCA', 'GCA', 'TCA', 'SA'], odor_concentration_uM=[OdorConcentration(name='Ala', concentration_mM=100.0), OdorConcentration(name='Ser', concentration_mM=100.0), OdorConcentration(name='Ctrl', concentration_mM=100.0), OdorConcentration(name='TCA', concentration_mM=10.0), OdorConcentration(name='GCA', concentration_mM=10.0), OdorConcentration(name='TDCA', concentration_mM=10.0), OdorConcentration(name='Cad', concentration_mM=300.0), OdorConcentration(name='SA', concentration_mM=0.0)], n_trials=3, pulse_delay_s=15, pulse_duration_s=5, trial_interval_s=60, missed_trials=[], events=[]) params_lm=ParamsLM(start_time=datetime.datetime(2022, 4, 26, 19, 29), end_time=datetime.datetime(2022, 4, 26, 21, 0), date=datetime.datetime(2022, 4, 26, 0, 0), zoom_x=4.7, power_percentage=30.0, shutter_delay_frames=40, sampling_hz=30, n_frames=1500, n_planes=4, doubling=True, lm_stack_range=150, ref_plane=5, ref_frames_ignored=40, ref_n_frames=300, ref_n_slices=9, ref_slice_interval_um=1.5) params_em=ParamsEM(fixation_protocol='fBROPA', embedding_protocol='anterior-up, silver', acquisition_completed=True, acquisition_resolution_zyx=(25, 10, 10)) paths=Paths(root_path='', config_path='', trials_path='', anatomy_path='', em_path=None)\n",
      "Loaded existing sample database.\n",
      "Sample with ID 20220426_RM0008_130hpf_fP1_f3 already exists.\n",
      "True\n",
      "Sample database saved to \\\\tungsten-nas.fmi.ch\\\\tungsten\\\\scratch\\\\gfriedri\\\\montruth\\\\sample_db.csv.\n"
     ]
    }
   ],
   "source": [
    "# Loading experiment configuration\n",
    "config_file_path = glob.glob(os.path.join(root_path, 'config_*.json'))[0]\n",
    "print(config_file_path)\n",
    "\n",
    "# Define your directories here\n",
    "trials_path = os.path.join(root_path, \"trials\")\n",
    "anatomy_path = os.path.join(root_path, \"anatomy\")\n",
    "raw_trials_path = os.path.join(trials_path, \"raw\")\n",
    "em_path = None  # Set to None if not applicable\n",
    "\n",
    "config = load_experiment_config(config_file_path)\n",
    "print(\"Loaded experiment configuration:\")\n",
    "print(config)\n",
    "\n",
    "# Step 2: Load or create a sample database\n",
    "sample_db = SampleDB()\n",
    "\n",
    "try:\n",
    "    sample_db.load(db_file_path)\n",
    "    print(\"Loaded existing sample database.\")\n",
    "except FileNotFoundError:\n",
    "    print(\"Sample database not found. Creating a new one.\")\n",
    "    sample_db.save(db_file_path)  # Create a new CSV file with headers\n",
    "\n",
    "sample = config.sample\n",
    "existing_sample = sample_db.get_sample(sample.id)\n",
    "\n",
    "# Step 3: Check if the sample is already in the database and ask if you want to update it\n",
    "update = True\n",
    "if existing_sample:\n",
    "    print(f\"Sample with ID {sample.id} already exists.\")\n",
    "    update = input(\"Do you want to update the existing sample? (y/n): \").strip().lower() == 'y'\n",
    "    print(update)\n",
    "\n",
    "# Ensure initial columns are present\n",
    "sample_db.add_column('sample_id')\n",
    "sample_db.add_column('root_path')\n",
    "sample_db.add_column('config_path')\n",
    "sample_db.add_column('trials_path')\n",
    "sample_db.add_column('anatomy_path')\n",
    "sample_db.add_column('em_path')\n",
    "sample_db.add_column('update')\n",
    "\n",
    "# Add the sample data to the database\n",
    "sample_db.samples[sample.id] = {\n",
    "    \"sample\": sample,\n",
    "    \"root_path\": root_path,\n",
    "    \"config_path\": config_file_path,\n",
    "    \"trials_path\": trials_path,\n",
    "    \"anatomy_path\": anatomy_path,\n",
    "    \"em_path\": em_path,\n",
    "    \"update\": update\n",
    "}\n",
    "\n",
    "# Step 4: Save the updated database to a file\n",
    "sample_db.save(db_file_path)\n",
    "print(f\"Sample database saved to {db_file_path}.\")\n",
    "\n",
    "# Step 5: Add paths to the configuration and save back to the JSON file if needed\n",
    "paths_dict = {\n",
    "    \"root_path\":root_path,\n",
    "    \"config_path\":config_file_path,\n",
    "    \"trials_path\":trials_path,\n",
    "    \"anatomy_path\":anatomy_path,\n",
    "    \"em_path\":em_path\n",
    "}\n",
    "\n",
    "updated_config = update_experiment_config(config, paths_dict)\n",
    "save_experiment_config(updated_config, config_file_path)\n"
   ],
   "metadata": {
    "collapsed": false
   }
  }
 ],
 "metadata": {
  "kernelspec": {
   "display_name": "Python 3",
   "language": "python",
   "name": "python3"
  },
  "language_info": {
   "codemirror_mode": {
    "name": "ipython",
    "version": 2
   },
   "file_extension": ".py",
   "mimetype": "text/x-python",
   "name": "python",
   "nbconvert_exporter": "python",
   "pygments_lexer": "ipython2",
   "version": "2.7.6"
  }
 },
 "nbformat": 4,
 "nbformat_minor": 5
}
