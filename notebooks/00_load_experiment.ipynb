{
 "cells": [
  {
   "cell_type": "code",
   "id": "a54e39129e1f3f20",
   "metadata": {
    "collapsed": true,
    "ExecuteTime": {
     "end_time": "2024-05-28T10:13:30.877301Z",
     "start_time": "2024-05-28T10:13:30.651275Z"
    }
   },
   "source": [
    "# Step 1: Load an experiment configuration from a JSON file\n",
    "import json\n",
    "from scripts.experiment_loader import load_experiment_config, save_experiment_config\n",
    "from scripts.sample_db import SampleDB\n",
    "from scripts.config_model import Experiment\n",
    "\n",
    "json_file_path = r'\\\\tungsten-nas.fmi.ch\\tungsten\\scratch\\gfriedri\\montruth\\2P_RawData\\2022-04-26\\f3\\sampleConfig_20220426_RM0008_130hpf_fP1_f3.json'\n",
    "csv_file_path = r'\\\\tungsten-nas.fmi.ch\\tungsten\\scratch\\gfriedri\\montruth\\sample_db.csv'\n",
    "\n",
    "# Define your directories here\n",
    "raw_path = r'\\\\tungsten-nas.fmi.ch\\tungsten\\scratch\\gfriedri\\montruth\\2P_RawData\\2022-04-26\\f3\\raw'\n",
    "anatomy_path = r'\\\\tungsten-nas.fmi.ch\\tungsten\\scratch\\gfriedri\\montruth\\2P_RawData\\2022-04-26\\f3\\anatomy'\n",
    "em_path = None  # Set to None if not applicable\n",
    "\n",
    "config = load_experiment_config(json_file_path)\n",
    "print(\"Loaded experiment configuration:\")\n",
    "print(config)"
   ],
   "outputs": [
    {
     "name": "stdout",
     "output_type": "stream",
     "text": [
      "Loaded experiment configuration:\n",
      "sample=Sample(id='20220426_RM0008_130hpf_fP1_f3', parents_id='P1', genotype='aTubulin:GCamp6s x GAD1b:DsRed', phenotype='positive expression, nacre', dof='21.04.2022-09:30', hpf=130, body_length_mm=4) params_odor=ParamsOdor(odor_list=['Ala', 'Ser', 'Ctrl', 'TCA', 'GCA', 'TDCA', 'Cad', 'SA'], odor_sequence=['Ala', 'Ser', 'Ctrl', 'TCA', 'GCA', 'TDCA', 'Cad', 'SA', 'Cad', 'TDCA', 'GCA', 'TCA', 'Ser', 'Ctrl', 'Ala', 'SA', 'Ctrl', 'Cad', 'Ala', 'Ser', 'TDCA', 'GCA', 'TCA', 'SA'], odor_concentration_uM=[OdorConcentration(name='Ala', concentration_mM=100.0), OdorConcentration(name='Ser', concentration_mM=100.0), OdorConcentration(name='Ctrl', concentration_mM=100.0), OdorConcentration(name='TCA', concentration_mM=10.0), OdorConcentration(name='GCA', concentration_mM=10.0), OdorConcentration(name='TDCA', concentration_mM=10.0), OdorConcentration(name='Cad', concentration_mM=300.0), OdorConcentration(name='SA', concentration_mM=0.0)], n_trials=3, pulse_delay_s=15, pulse_duration_s=5, trial_interval_s=60, missed_trials=[], events=[]) params_lm=ParamsLM(start_time=datetime.datetime(2022, 4, 26, 19, 29), end_time=datetime.datetime(2022, 4, 26, 21, 0), date=datetime.datetime(2022, 4, 26, 0, 0), zoom_x=4.7, power_percentage=30.0, shutter_delay_frames=40, sampling_hz=30, n_frames=1500, n_planes=4, doubling=True, lm_stack_range=150, ref_plane=5, ref_frames_ignored=40, ref_n_frames=300, ref_n_slices=9, ref_slice_interval_um=1.5) params_em=ParamsEM(fixation_protocol='fBROPA', embedding_protocol='anterior-up, silver', acquisition_completed=True, acquisition_resolution_zyx=(25, 9, 9))\n"
     ]
    }
   ],
   "execution_count": 1
  },
  {
   "metadata": {
    "ExecuteTime": {
     "end_time": "2024-05-28T10:13:33.640268Z",
     "start_time": "2024-05-28T10:13:33.629269Z"
    }
   },
   "cell_type": "code",
   "source": [
    "# Step 2: Load or create a sample database\n",
    "sample_db = SampleDB()\n",
    "\n",
    "try:\n",
    "    sample_db.load(csv_file_path)\n",
    "    print(\"Loaded existing sample database.\")\n",
    "except FileNotFoundError:\n",
    "    print(\"Sample database not found. Creating a new one.\")\n",
    "    sample_db.save(csv_file_path)  # Create a new CSV file with headers\n",
    "\n",
    "sample = config.sample\n",
    "existing_sample = sample_db.get_sample(sample.id)\n",
    "\n"
   ],
   "id": "3163d53b87e0dc68",
   "outputs": [
    {
     "name": "stdout",
     "output_type": "stream",
     "text": [
      "Loaded existing sample database.\n"
     ]
    }
   ],
   "execution_count": 2
  },
  {
   "metadata": {
    "ExecuteTime": {
     "end_time": "2024-05-28T10:13:41.006530Z",
     "start_time": "2024-05-28T10:13:36.468425Z"
    }
   },
   "cell_type": "code",
   "source": [
    "# Step 3: Check if the sample is already in the database and ask if you want to update it\n",
    "update=False\n",
    "if existing_sample:\n",
    "    print(f\"Sample with ID {sample.id} already exists.\")\n",
    "    update = input(\"Do you want to update the existing sample? (y/n): \").strip().lower() == 'y'\n",
    "    print(update)\n",
    "sample_db.add_or_update_sample(sample, raw_path, anatomy_path, json_file_path, em_path, update=update)"
   ],
   "id": "da04d1694d794c59",
   "outputs": [
    {
     "name": "stdout",
     "output_type": "stream",
     "text": [
      "Sample with ID 20220426_RM0008_130hpf_fP1_f3 already exists.\n",
      "True\n",
      "Updating existing sample with ID 20220426_RM0008_130hpf_fP1_f3\n"
     ]
    }
   ],
   "execution_count": 3
  },
  {
   "metadata": {
    "ExecuteTime": {
     "end_time": "2024-05-28T10:13:42.422773Z",
     "start_time": "2024-05-28T10:13:42.392773Z"
    }
   },
   "cell_type": "code",
   "source": [
    "# Step 4: Save the updated database to a file\n",
    "sample_db.save(csv_file_path)\n",
    "print(f\"Sample database saved to {csv_file_path}.\")"
   ],
   "id": "9b072ef149e6a5a4",
   "outputs": [
    {
     "name": "stdout",
     "output_type": "stream",
     "text": [
      "Sample database saved to \\\\tungsten-nas.fmi.ch\\tungsten\\scratch\\gfriedri\\montruth\\sample_db.csv.\n"
     ]
    }
   ],
   "execution_count": 4
  },
  {
   "metadata": {
    "ExecuteTime": {
     "end_time": "2024-05-28T10:13:44.154018Z",
     "start_time": "2024-05-28T10:13:44.140016Z"
    }
   },
   "cell_type": "code",
   "source": [
    "# Step 5: Add paths to the configuration and save back to the JSON file if needed\n",
    "paths = {\n",
    "    \"config_path\": json_file_path,\n",
    "    \"raw_path\": raw_path,\n",
    "    \"anatomy_path\": anatomy_path,\n",
    "    \"em_path\": em_path\n",
    "}\n",
    "\n",
    "# TODO: Make function to add parts\n",
    "config_dict = config.dict()\n",
    "config_dict.update({'paths' : paths})\n",
    "save_experiment_config(Experiment(**config_dict),json_file_path)"
   ],
   "id": "5c8200a558a6b77b",
   "outputs": [],
   "execution_count": 5
  }
 ],
 "metadata": {
  "kernelspec": {
   "display_name": "Python 3",
   "language": "python",
   "name": "python3"
  },
  "language_info": {
   "codemirror_mode": {
    "name": "ipython",
    "version": 2
   },
   "file_extension": ".py",
   "mimetype": "text/x-python",
   "name": "python",
   "nbconvert_exporter": "python",
   "pygments_lexer": "ipython2",
   "version": "2.7.6"
  }
 },
 "nbformat": 4,
 "nbformat_minor": 5
}
