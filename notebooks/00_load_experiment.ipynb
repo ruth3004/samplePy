{
 "cells": [
  {
   "cell_type": "code",
   "id": "d933aa9b53f8eec9",
   "metadata": {
    "collapsed": true,
    "ExecuteTime": {
     "end_time": "2024-06-13T18:08:43.048904Z",
     "start_time": "2024-06-13T18:08:42.840893Z"
    }
   },
   "source": [
    "# Step 1: Load an experiment configuration from a JSON file\n",
    "import json\n",
    "import os\n",
    "import glob\n",
    "from scripts.sample_db import SampleDB\n",
    "from scripts.config_model import Experiment, load_experiment_config, save_experiment_config, update_experiment_config\n"
   ],
   "outputs": [],
   "execution_count": 1
  },
  {
   "metadata": {
    "ExecuteTime": {
     "end_time": "2024-06-13T18:08:43.055905Z",
     "start_time": "2024-06-13T18:08:43.050898Z"
    }
   },
   "cell_type": "code",
   "source": [
    "# Inputs\n",
    "# Load database csv file\n",
    "db_file_path = r'\\\\tungsten-nas.fmi.ch\\tungsten\\scratch\\gfriedri\\montruth\\sample_db.csv'\n",
    "\n",
    "# root path \n",
    "root_path = r'\\\\tungsten-nas.fmi.ch\\tungsten\\scratch\\gfriedri\\montruth\\2P_RawData\\2022-04-26\\f3'\n"
   ],
   "id": "66bc3a873cb5a335",
   "outputs": [],
   "execution_count": 2
  },
  {
   "metadata": {
    "ExecuteTime": {
     "end_time": "2024-06-13T18:08:43.116912Z",
     "start_time": "2024-06-13T18:08:43.057903Z"
    }
   },
   "cell_type": "code",
   "source": [
    "# Loading experiment configuration\n",
    "config_file_path = glob.glob(os.path.join(root_path, 'config_*.json'))[0]\n",
    "print(config_file_path)\n",
    "\n",
    "config = load_experiment_config(config_file_path)\n",
    "print(\"Loaded experiment configuration:\")\n",
    "print(config.paths)\n"
   ],
   "id": "a54e39129e1f3f20",
   "outputs": [
    {
     "name": "stdout",
     "output_type": "stream",
     "text": [
      "\\\\tungsten-nas.fmi.ch\\tungsten\\scratch\\gfriedri\\montruth\\2P_RawData\\2022-04-26\\f3\\config_20220426_RM0008_130hpf_fP1_f3.json\n",
      "Loaded experiment configuration:\n",
      "root_path=WindowsPath('//tungsten-nas.fmi.ch/tungsten/scratch/gfriedri/montruth/2P_RawData/2022-04-26/f3') config_path=WindowsPath('//tungsten-nas.fmi.ch/tungsten/scratch/gfriedri/montruth/2P_RawData/2022-04-26/f3/config_20220426_RM0008_130hpf_fP1_f3.json') trials_path=WindowsPath('//tungsten-nas.fmi.ch/tungsten/scratch/gfriedri/montruth/2P_RawData/2022-04-26/f3/trials') anatomy_path=WindowsPath('.') em_path=WindowsPath('.')\n"
     ]
    }
   ],
   "execution_count": 3
  },
  {
   "metadata": {
    "ExecuteTime": {
     "end_time": "2024-06-13T18:08:44.817241Z",
     "start_time": "2024-06-13T18:08:44.795242Z"
    }
   },
   "cell_type": "code",
   "source": [
    "# Define your directories here\n",
    "trials_path = os.path.join(root_path, \"trials\")\n",
    "anatomy_path = os.path.join(root_path, \"anatomy\")\n",
    "raw_trials_path = os.path.join(trials_path,\"raw\")\n",
    "\n",
    "# Add to config structure\n",
    "config.paths.root_path = root_path\n",
    "config.paths.config_path = config_file_path\n",
    "config.paths.anatomy_path = anatomy_path\n",
    "config.paths.trials_path = trials_path\n",
    "\n",
    "save_experiment_config(config)\n"
   ],
   "id": "701214504e6d2ca",
   "outputs": [
    {
     "name": "stdout",
     "output_type": "stream",
     "text": [
      "\\\\tungsten-nas.fmi.ch\\tungsten\\scratch\\gfriedri\\montruth\\2P_RawData\\2022-04-26\\f3\\config_20220426_RM0008_130hpf_fP1_f3.json\n"
     ]
    }
   ],
   "execution_count": 4
  },
  {
   "metadata": {
    "ExecuteTime": {
     "end_time": "2024-06-13T18:08:47.506678Z",
     "start_time": "2024-06-13T18:08:47.496678Z"
    }
   },
   "cell_type": "code",
   "source": [
    "# Step 2: Load or create a sample database\n",
    "sample_db = SampleDB()\n",
    "\n",
    "try:\n",
    "    sample_db.load(db_file_path)\n",
    "    print(\"Loaded existing sample database.\")\n",
    "except FileNotFoundError:\n",
    "    print(\"Sample database not found. Creating a new one.\")\n",
    "    sample_db.save(db_file_path)  # Create a new CSV file with headers\n",
    "\n",
    "sample = config.sample\n",
    "print(sample.id)\n",
    "existing_sample = sample_db.get_sample(sample.id)\n",
    "\n"
   ],
   "id": "3163d53b87e0dc68",
   "outputs": [
    {
     "name": "stdout",
     "output_type": "stream",
     "text": [
      "Loaded existing sample database.\n",
      "20220426_RM0008_130hpf_fP1_f3\n"
     ]
    }
   ],
   "execution_count": 5
  },
  {
   "metadata": {
    "ExecuteTime": {
     "end_time": "2024-06-13T18:09:16.387195Z",
     "start_time": "2024-06-13T18:09:16.379193Z"
    }
   },
   "cell_type": "code",
   "source": [
    "# Step 3: Check if the sample is already in the database and ask if you want to update it\n",
    "update=True\n",
    "if existing_sample:\n",
    "    print(f\"Sample with ID {sample.id} already exists.\")\n",
    "    update = input(\"Do you want to update the existing sample? (y/n): \").strip().lower() == 'y'\n",
    "    print(update)\n",
    "# Ensure initial columns are present\n",
    "sample_db.add_column('sample_id')\n",
    "sample_db.add_column('root_path')\n",
    "sample_db.add_column('config_path')\n",
    "sample_db.add_column('trials_path')\n",
    "sample_db.add_column('anatomy_path')\n",
    "sample_db.add_column('em_path')\n",
    "sample_db.add_column('update')\n",
    "\n",
    "# Add the sample data to the database\n",
    "sample_db.samples[sample.id] = {\n",
    "    \"sample\": sample,\n",
    "    \"root_path\": root_path,\n",
    "    \"config_path\": config_file_path,\n",
    "    \"trials_path\": trials_path,\n",
    "    \"anatomy_path\": anatomy_path,\n",
    "    \"em_path\": \"\",\n",
    "    \"update\": update\n",
    "}\n"
   ],
   "id": "da04d1694d794c59",
   "outputs": [],
   "execution_count": 7
  },
  {
   "metadata": {
    "ExecuteTime": {
     "end_time": "2024-06-13T18:09:26.240996Z",
     "start_time": "2024-06-13T18:09:26.191996Z"
    }
   },
   "cell_type": "code",
   "source": [
    "# Step 4: Save the updated database to a file\n",
    "sample_db.save(db_file_path)\n",
    "print(f\"Sample database saved to {db_file_path}.\")"
   ],
   "id": "9b072ef149e6a5a4",
   "outputs": [
    {
     "name": "stdout",
     "output_type": "stream",
     "text": [
      "Sample database saved to \\\\tungsten-nas.fmi.ch\\tungsten\\scratch\\gfriedri\\montruth\\sample_db.csv.\n"
     ]
    }
   ],
   "execution_count": 9
  },
  {
   "metadata": {
    "ExecuteTime": {
     "end_time": "2024-06-13T18:09:29.039208Z",
     "start_time": "2024-06-13T18:09:29.028210Z"
    }
   },
   "cell_type": "code",
   "source": "sample_db",
   "id": "6cddd0d7b16963b4",
   "outputs": [
    {
     "data": {
      "text/plain": [
       "SampleDB(sample_ids=['20220426_RM0008_130hpf_fP1_f3'])"
      ]
     },
     "execution_count": 10,
     "metadata": {},
     "output_type": "execute_result"
    }
   ],
   "execution_count": 10
  }
 ],
 "metadata": {
  "kernelspec": {
   "display_name": "Python 3",
   "language": "python",
   "name": "python3"
  },
  "language_info": {
   "codemirror_mode": {
    "name": "ipython",
    "version": 2
   },
   "file_extension": ".py",
   "mimetype": "text/x-python",
   "name": "python",
   "nbconvert_exporter": "python",
   "pygments_lexer": "ipython2",
   "version": "2.7.6"
  }
 },
 "nbformat": 4,
 "nbformat_minor": 5
}
