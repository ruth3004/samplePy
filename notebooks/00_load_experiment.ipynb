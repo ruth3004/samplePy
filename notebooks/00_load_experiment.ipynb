{
 "cells": [
  {
   "cell_type": "code",
   "id": "d933aa9b53f8eec9",
   "metadata": {
    "collapsed": true,
    "ExecuteTime": {
     "end_time": "2024-08-16T10:00:47.877455Z",
     "start_time": "2024-08-16T10:00:47.623883Z"
    }
   },
   "source": [
    "# Step 1: Load an experiment configuration from a JSON file\n",
    "import json\n",
    "import os\n",
    "import glob\n",
    "from scripts.sample_db import SampleDB\n",
    "from scripts.config_model import Experiment, load_experiment_config, save_experiment_config, update_experiment_config\n"
   ],
   "outputs": [],
   "execution_count": 1
  },
  {
   "metadata": {
    "ExecuteTime": {
     "end_time": "2024-08-16T10:00:47.885460Z",
     "start_time": "2024-08-16T10:00:47.879455Z"
    }
   },
   "cell_type": "code",
   "source": [
    "# Inputs\n",
    "\n",
    "# sample root path \n",
    "root_path = r'\\\\tungsten-nas.fmi.ch\\tungsten\\scratch\\gfriedri\\montruth\\2P_RawData\\2022-04-27\\f3'\n",
    "\n",
    "# database path\n",
    "db_file_path = r'\\\\tungsten-nas.fmi.ch\\tungsten\\scratch\\gfriedri\\montruth\\sample_db.csv'\n",
    "\n"
   ],
   "id": "66bc3a873cb5a335",
   "outputs": [],
   "execution_count": 2
  },
  {
   "metadata": {
    "ExecuteTime": {
     "end_time": "2024-08-16T10:00:50.883658Z",
     "start_time": "2024-08-16T10:00:47.887456Z"
    }
   },
   "cell_type": "code",
   "source": [
    "# Loading experiment configuration\n",
    "config_file_path = glob.glob(os.path.join(root_path, 'config_*.json'))[0]\n",
    "print(config_file_path)\n",
    "\n",
    "config = load_experiment_config(config_file_path)\n",
    "print(\"Loaded experiment configuration:\")\n",
    "print(config.paths)\n",
    "\n",
    "# Define your directories here\n",
    "trials_path = os.path.join(root_path, \"trials\")\n",
    "anatomy_path = os.path.join(root_path, \"anatomy\")\n",
    "raw_trials_path = os.path.join(trials_path,\"raw\")\n",
    "\n",
    "# Add to config structure\n",
    "config.paths.root_path = root_path\n",
    "config.paths.config_path = config_file_path\n",
    "config.paths.anatomy_path = anatomy_path\n",
    "config.paths.trials_path = trials_path\n",
    "\n",
    "save_experiment_config(config)\n",
    "\n",
    "# Step 2: Load or create a sample database\n",
    "sample_db = SampleDB()\n",
    "\n",
    "try:\n",
    "    sample_db.load(db_file_path)\n",
    "    print(\"Loaded existing sample database.\")\n",
    "except FileNotFoundError:\n",
    "    print(\"Sample database not found. Creating a new one.\")\n",
    "    sample_db.save(db_file_path)  # Create a new CSV file with headers\n",
    "\n",
    "sample = config.sample\n",
    "print(sample.id)\n",
    "existing_sample = sample_db.get_sample(sample.id)\n",
    "\n",
    "\n",
    "# Step 3: Check if the sample is already in the database and ask if you want to update it\n",
    "update=True\n",
    "if existing_sample:\n",
    "    print(f\"Sample with ID {sample.id} already exists.\")\n",
    "    update = input(\"Do you want to update the existing sample? (y/n): \").strip().lower() == 'y'\n",
    "    print(update)\n",
    "# Ensure initial columns are present\n",
    "sample_db.add_column('sample_id')\n",
    "sample_db.add_column('root_path')\n",
    "sample_db.add_column('config_path')\n",
    "sample_db.add_column('trials_path')\n",
    "sample_db.add_column('anatomy_path')\n",
    "sample_db.add_column('em_path')\n",
    "sample_db.add_column('update')\n",
    "\n",
    "\n",
    "# Add the sample data to the database\n",
    "sample_db.samples[sample.id] = {\n",
    "    \"sample\": sample,\n",
    "    \"root_path\": root_path,\n",
    "    \"config_path\": config_file_path,\n",
    "    \"trials_path\": trials_path,\n",
    "    \"anatomy_path\": anatomy_path,\n",
    "    \"em_path\": \"\",\n",
    "    \"update\": update\n",
    "}\n",
    "\n",
    "# Add columns for each processing step\n",
    "processing_steps = [\n",
    "    '00_load_experiment',\n",
    "    '01_register_lm_trials',\n",
    "    '02_register_lm_trials_lm_stack',\n",
    "    '03_segment_lm_trials',\n",
    "    '10_extract_lm_traces',\n",
    "    '11_normalize_lm_traces',\n",
    "    '12_deconvolve_lm_traces',\n",
    "    '13_analyze_correlation_lm_traces',\n",
    "    '20_preprocess_lm_stack',\n",
    "    '21_register_lm_stack_to_ref_stack',\n",
    "    '22_segment_lm_stack_from_em_warped_stack',\n",
    "    '23_extract_marker_from_channel',\n",
    "    '30_segment_em_stack',\n",
    "    '31_segment_glomeruli',\n",
    "    '32_find_landmarks_with_BigWarp',\n",
    "    '33_register_em_stack_lm_stack_from_landmarks',\n",
    "    '34_register_em_stack_lm_trials'\n",
    "]\n",
    "for step in processing_steps:\n",
    "    sample_db.samples[sample.id][step] = False\n",
    "    \n",
    "# Step 4: Save the updated database to a file\n",
    "sample_db.save(db_file_path)\n",
    "print(f\"Sample database saved to {db_file_path}.\")\n",
    "\n",
    "# Update the '00_load_experiment' step to True\n",
    "sample_db.samples[sample.id]['00_load_experiment'] = True\n",
    "sample_db.save(db_file_path)\n",
    "\n",
    "# Function to print the current status of a sample\n",
    "def print_sample_status(sample_id):\n",
    "    sample = sample_db.samples.get(sample_id)\n",
    "    if sample:\n",
    "        print(f\"Status for sample {sample_id}:\")\n",
    "        for step in processing_steps:\n",
    "            status = \"Completed\" if sample[step] else \"Pending\"\n",
    "            print(f\"  {step}: {status}\")\n",
    "    else:\n",
    "        print(f\"Sample {sample_id} not found in database.\")\n",
    "\n",
    "# Print the current status of the sample\n",
    "print_sample_status(sample.id)"
   ],
   "id": "1a3ec23fa77bcbd",
   "outputs": [
    {
     "name": "stdout",
     "output_type": "stream",
     "text": [
      "\\\\tungsten-nas.fmi.ch\\tungsten\\scratch\\gfriedri\\montruth\\2P_RawData\\2022-04-27\\f3\\config_20220427_RM0008_126hpf_fP3_f3.json\n",
      "Loaded experiment configuration:\n",
      "root_path=WindowsPath('//tungsten-nas.fmi.ch/tungsten/scratch/gfriedri/montruth/2P_RawData/2022-04-27/f3') config_path=WindowsPath('//tungsten-nas.fmi.ch/tungsten/scratch/gfriedri/montruth/2P_RawData/2022-04-27/f3/config_20220427_RM0008_126hpf_fP3_f3.json') trials_path=WindowsPath('//tungsten-nas.fmi.ch/tungsten/scratch/gfriedri/montruth/2P_RawData/2022-04-27/f3/trials') anatomy_path=WindowsPath('//tungsten-nas.fmi.ch/tungsten/scratch/gfriedri/montruth/2P_RawData/2022-04-27/f3/anatomy') em_path=WindowsPath('.')\n",
      "\\\\tungsten-nas.fmi.ch\\tungsten\\scratch\\gfriedri\\montruth\\2P_RawData\\2022-04-27\\f3\\config_20220427_RM0008_126hpf_fP3_f3.json\n",
      "Loaded existing sample database.\n",
      "20220427_RM0008_126hpf_fP3_f3\n",
      "Sample with ID 20220427_RM0008_126hpf_fP3_f3 already exists.\n",
      "False\n",
      "Sample database saved to \\\\tungsten-nas.fmi.ch\\tungsten\\scratch\\gfriedri\\montruth\\sample_db.csv.\n",
      "Status for sample 20220427_RM0008_126hpf_fP3_f3:\n",
      "  00_load_experiment: Completed\n",
      "  01_register_lm_trials: Pending\n",
      "  02_register_lm_trials_lm_stack: Pending\n",
      "  03_segment_lm_trials: Pending\n",
      "  10_extract_lm_traces: Pending\n",
      "  11_normalize_lm_traces: Pending\n",
      "  12_deconvolve_lm_traces: Pending\n",
      "  13_analyze_correlation_lm_traces: Pending\n",
      "  20_preprocess_lm_stack: Pending\n",
      "  21_register_lm_stack_to_ref_stack: Pending\n",
      "  22_segment_lm_stack_from_em_warped_stack: Pending\n",
      "  23_extract_marker_from_channel: Pending\n",
      "  30_segment_em_stack: Pending\n",
      "  31_segment_glomeruli: Pending\n",
      "  32_find_landmarks_with_BigWarp: Pending\n",
      "  33_register_em_stack_lm_stack_from_landmarks: Pending\n",
      "  34_register_em_stack_lm_trials: Pending\n"
     ]
    }
   ],
   "execution_count": 3
  },
  {
   "metadata": {
    "ExecuteTime": {
     "end_time": "2024-08-16T10:00:50.895659Z",
     "start_time": "2024-08-16T10:00:50.886660Z"
    }
   },
   "cell_type": "code",
   "source": "sample_db",
   "id": "6cddd0d7b16963b4",
   "outputs": [
    {
     "data": {
      "text/plain": [
       "SampleDB(sample_ids=['20220426_RM0008_130hpf_fP1_f3', '20220118_RM0012_124hpf_fP8_f2', '20220427_RM0008_126hpf_fP3_f3'])"
      ]
     },
     "execution_count": 4,
     "metadata": {},
     "output_type": "execute_result"
    }
   ],
   "execution_count": 4
  }
 ],
 "metadata": {
  "kernelspec": {
   "display_name": "Python 3",
   "language": "python",
   "name": "python3"
  },
  "language_info": {
   "codemirror_mode": {
    "name": "ipython",
    "version": 2
   },
   "file_extension": ".py",
   "mimetype": "text/x-python",
   "name": "python",
   "nbconvert_exporter": "python",
   "pygments_lexer": "ipython2",
   "version": "2.7.6"
  }
 },
 "nbformat": 4,
 "nbformat_minor": 5
}
