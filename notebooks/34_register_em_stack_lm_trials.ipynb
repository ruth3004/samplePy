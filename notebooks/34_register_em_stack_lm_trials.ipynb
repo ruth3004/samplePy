{
 "cells": [
  {
   "metadata": {
    "ExecuteTime": {
     "end_time": "2025-01-23T10:14:45.363700Z",
     "start_time": "2025-01-23T10:14:25.651258Z"
    }
   },
   "cell_type": "code",
   "source": [
    "import numpy as np\n",
    "import tifffile\n",
    "import napari \n",
    "import os\n",
    "from skimage.measure import regionprops, label\n",
    "from scipy.spatial.transform import Rotation\n",
    "\n",
    "from scripts.config_model import save_experiment_config, tree\n",
    "from scripts.sample_db import SampleDB\n",
    "from scripts.utils.image_utils import load_tiff_as_hyperstack, save_array_as_hyperstack_tiff"
   ],
   "id": "a434ee362bc53856",
   "outputs": [],
   "execution_count": 2
  },
  {
   "metadata": {
    "ExecuteTime": {
     "end_time": "2025-01-23T10:14:45.375704Z",
     "start_time": "2025-01-23T10:14:45.366705Z"
    }
   },
   "cell_type": "code",
   "source": [
    "# Function to apply transformation\n",
    "def apply_transformation(points, transform):\n",
    "    rotation = Rotation.from_matrix(transform[:3, :3])\n",
    "    translation = transform[:3, 3]\n",
    "    return rotation.apply(points) + translation\n",
    "\n",
    "\n",
    "# Function to check if a point is within the 3D mask\n",
    "def is_within_mask(point, mask):\n",
    "    x, y, z = np.round(point).astype(int)\n",
    "    if 0 <= x < mask.shape[0] and 0 <= y < mask.shape[1] and 0 <= z < mask.shape[2]:\n",
    "        return mask[x, y, z]\n",
    "    return False\n"
   ],
   "id": "b4045bab05751378",
   "outputs": [],
   "execution_count": 3
  },
  {
   "metadata": {
    "ExecuteTime": {
     "end_time": "2025-01-23T10:14:45.500731Z",
     "start_time": "2025-01-23T10:14:45.378704Z"
    }
   },
   "cell_type": "code",
   "source": [
    "# Step 1: Load the sample database\n",
    "db_path = r'\\\\tungsten-nas.fmi.ch\\tungsten\\scratch\\gfriedri\\montruth\\sample_db.csv'\n",
    "sample_db = SampleDB()\n",
    "sample_db.load(db_path)\n",
    "\n",
    "# Step 2: Load experiment configuration\n",
    "sample_id = '20220426_RM0008_130hpf_fP1_f3'\n",
    "exp = sample_db.get_sample(sample_id)\n",
    "print(exp.sample.id)\n"
   ],
   "id": "c29a89cadcde58c2",
   "outputs": [
    {
     "name": "stdout",
     "output_type": "stream",
     "text": [
      "20220426_RM0008_130hpf_fP1_f3\n"
     ]
    }
   ],
   "execution_count": 4
  },
  {
   "metadata": {
    "ExecuteTime": {
     "end_time": "2025-01-23T10:14:48.559545Z",
     "start_time": "2025-01-23T10:14:45.503736Z"
    }
   },
   "cell_type": "code",
   "source": [
    "# Step 3: Load images and transformation matrices\n",
    "\n",
    "#LM trials images\n",
    "processed_folder = os.path.join(exp.paths.trials_path, \"processed\")\n",
    "\n",
    "lm_trials_images_path = os.path.join(processed_folder, f\"sum_raw_trials_{exp.sample.id}.tif\")\n",
    "lm_trials_images =tifffile.imread(lm_trials_images_path)\n",
    "plane_nr = 1\n",
    "lm_trial = lm_trials_images[plane_nr,-1]\n",
    "print(lm_trial.shape)\n",
    "\n",
    "#LM trials masks\n",
    "lm_planes_masks_path = os.path.join(exp.paths.trials_path,\"masks\",f\"masks_{exp.sample.id}_params_cp_-1-ft_0.4-st_0.01-resample_True_augment=False.tif\")\n",
    "lm_planes_masks = tifffile.imread(lm_planes_masks_path)\n",
    "\n",
    "lm_mask = lm_planes_masks[1,-1]\n",
    "print(lm_mask.shape)\n",
    "\n",
    "lm_plane_props = regionprops(label(lm_mask))\n",
    "lm_plane_centroids =  np.array([prop.centroid for prop in lm_plane_props])\n",
    "\n",
    "#EM warped stack\n",
    "em_warped_stack_path = os.path.join(exp.paths.em_path, '20220426_RM0008_130hpf_fP1_f3_em_stack_cropped_woResin_rough_rotated_to_LM_fov_lm_res_em.tif')\n",
    "em_warped_stack = tifffile.imread(em_warped_stack_path)\n",
    "\n",
    "em_warped_mask_path = os.path.join(exp.paths.em_path, '20220426_RM0008_130hpf_fP1_f3_em_stack_cropped_woResin_rough_rotated_to_LM_fov_lm_res_em_mask_filtered.tif')\n",
    "em_warped_mask = tifffile.imread(em_warped_stack_path)"
   ],
   "id": "a4a401e1525e179b",
   "outputs": [
    {
     "name": "stdout",
     "output_type": "stream",
     "text": [
      "(256, 512)\n",
      "(256, 512)\n"
     ]
    }
   ],
   "execution_count": 58
  },
  {
   "cell_type": "code",
   "execution_count": 59,
   "outputs": [
    {
     "name": "stdout",
     "output_type": "stream",
     "text": [
      "\\\\tungsten-nas.fmi.ch\\tungsten\\scratch\\gfriedri\\montruth\\2P_RawData\\2022-04-26\\f3\\anatomy\\raw\\20220426_RM0008_130hpf_fP1_f3_anatomyGFRF_001_.tif loaded. Shape: (2, 150, 512, 512)\n"
     ]
    }
   ],
   "source": [
    "lm_stack_path =os.path.join(exp.paths.anatomy_path, \"raw\", f\"{exp.sample.id}_anatomyGFRF_001_.tif\")\n",
    "lm_stack = load_tiff_as_hyperstack(lm_stack_path, n_channels=2)\n"
   ],
   "metadata": {
    "collapsed": false
   }
  },
  {
   "cell_type": "code",
   "execution_count": 60,
   "outputs": [
    {
     "name": "stdout",
     "output_type": "stream",
     "text": [
      "[[  0.         247.70860927 364.33112583]\n",
      " [  0.         211.96571429 318.92      ]\n",
      " [  0.         203.55319149 345.08510638]\n",
      " [  0.         197.34579439 378.93457944]\n",
      " [  0.         196.44444444 321.28395062]\n",
      " [  0.         193.19791667 334.40104167]\n",
      " [  0.         190.35353535 349.57575758]\n",
      " [  0.         187.52554745 391.82481752]\n",
      " [  0.         180.13475177 375.10638298]\n",
      " [  0.         178.2781457  359.88741722]\n",
      " [  0.         178.26368159 398.45273632]\n",
      " [  0.         180.11382114 328.57317073]\n",
      " [  0.         177.59633028 343.96788991]\n",
      " [  0.         174.85849057 168.85849057]\n",
      " [  0.         173.0952381  270.69047619]\n",
      " [  0.         170.29304029 417.24175824]\n",
      " [  0.         170.41935484 386.4562212 ]\n",
      " [  0.         164.59390863 290.74111675]\n",
      " [  0.         165.90441176 147.64705882]\n",
      " [  0.         163.53333333 234.8952381 ]\n",
      " [  0.         163.55737705 376.28688525]\n",
      " [  0.         161.51219512 161.94308943]\n",
      " [  0.         161.73684211 268.99521531]\n",
      " [  0.         162.50490196 348.99509804]\n",
      " [  0.         157.70792079 307.41584158]\n",
      " [  0.         156.74876847 245.15270936]\n",
      " [  0.         157.05263158 321.40669856]\n",
      " [  0.         155.58293839 203.4549763 ]\n",
      " [  0.         153.08518519 412.54074074]\n",
      " [  0.         152.21634615 227.57211538]\n",
      " [  0.         151.45728643 175.96482412]\n",
      " [  0.         145.98854962 248.51526718]\n",
      " [  0.         145.74891775 160.11688312]\n",
      " [  0.         147.32698413 141.90793651]\n",
      " [  0.         142.52941176 209.23529412]\n",
      " [  0.         143.535      344.33      ]\n",
      " [  0.         142.69076305 312.48594378]\n",
      " [  0.         141.42122186 195.2926045 ]\n",
      " [  0.         139.16607774 223.54063604]\n",
      " [  0.         133.70042194 170.65822785]\n",
      " [  0.         131.92753623 351.70289855]\n",
      " [  0.         131.33333333 286.71631206]\n",
      " [  0.         132.30534351 133.49236641]\n",
      " [  0.         131.52592593 243.24074074]\n",
      " [  0.         128.47263682 340.12935323]\n",
      " [  0.         127.04216867 257.8373494 ]\n",
      " [  0.         126.08510638 230.5106383 ]\n",
      " [  0.         127.2972973  186.2972973 ]\n",
      " [  0.         120.70945946 276.65540541]\n",
      " [  0.         123.88541667 327.46180556]\n",
      " [  0.         121.13300493 216.99014778]\n",
      " [  0.         120.16842105 434.17192982]\n",
      " [  0.         117.11557789 247.27638191]\n",
      " [  0.         116.9893617  140.31205674]\n",
      " [  0.         113.54901961 390.28921569]\n",
      " [  0.         112.53424658 349.25570776]\n",
      " [  0.         108.66891892 445.23648649]\n",
      " [  0.         109.48979592 324.72653061]\n",
      " [  0.         111.24744898 413.55612245]\n",
      " [  0.         106.99386503 377.8404908 ]\n",
      " [  0.         107.27419355 165.22580645]\n",
      " [  0.         106.59786477 364.27402135]\n",
      " [  0.         101.28700906 151.90634441]\n",
      " [  0.          97.95283019 344.70754717]\n",
      " [  0.          93.92546584 167.95652174]\n",
      " [  0.          92.8034188  332.34188034]\n",
      " [  0.          90.73480663 183.79005525]\n",
      " [  0.          86.0106383  267.14893617]\n",
      " [  0.          90.8006135  137.34662577]\n",
      " [  0.          87.29767442 407.82325581]\n",
      " [  0.          89.52531646 372.53481013]\n",
      " [  0.          83.62686567 206.84328358]\n",
      " [  0.          85.36144578 122.10843373]\n",
      " [  0.          82.05714286 173.33714286]\n",
      " [  0.          81.28225806 155.29032258]\n",
      " [  0.          79.7370892  391.49295775]\n",
      " [  0.          77.08921933 107.94795539]\n",
      " [  0.          73.13380282 411.35211268]\n",
      " [  0.          69.7294686  329.79227053]\n",
      " [  0.          68.22641509 445.04245283]\n",
      " [  0.          67.74626866 353.08955224]\n",
      " [  0.          69.99610895 183.09727626]\n",
      " [  0.          68.70138889 130.45486111]\n",
      " [  0.          66.02061856 396.69587629]\n",
      " [  0.          64.81521739 154.85869565]\n",
      " [  0.          61.50793651 239.6984127 ]\n",
      " [  0.          60.14814815 413.36507937]\n",
      " [  0.          60.4047619  226.52857143]\n",
      " [  0.          61.3655914  102.3172043 ]\n",
      " [  0.          57.73026316 321.30921053]\n",
      " [  0.          56.28965517 186.62758621]\n",
      " [  0.          58.09708738 172.91747573]\n",
      " [  0.          55.60493827 203.95884774]\n",
      " [  0.          52.03007519 143.2481203 ]\n",
      " [  0.          53.60625    366.2       ]\n",
      " [  0.          51.53956835 254.29496403]\n",
      " [  0.          53.03797468 334.32911392]\n",
      " [  0.          51.06060606 295.73333333]\n",
      " [  0.          49.55208333 354.05729167]\n",
      " [  0.          47.14563107 223.05825243]\n",
      " [  0.          44.79354839 180.9483871 ]\n",
      " [  0.          45.3902439   98.38211382]\n",
      " [  0.          42.95238095 393.625     ]\n",
      " [  0.          42.04166667 112.765625  ]\n",
      " [  0.          39.49056604 306.27044025]\n",
      " [  0.          36.21301775 124.9704142 ]\n",
      " [  0.          35.92075472 357.2490566 ]\n",
      " [  0.          36.90822785 142.07594937]\n",
      " [  0.          33.42982456 326.        ]\n",
      " [  0.          35.34117647 231.73333333]\n",
      " [  0.          31.61061947 215.09734513]\n",
      " [  0.          31.28928571 164.48928571]\n",
      " [  0.          27.21875    317.0375    ]\n",
      " [  0.          26.84615385 302.19004525]\n",
      " [  0.          23.09302326 489.41085271]\n",
      " [  0.          23.94186047 240.09302326]\n",
      " [  0.          19.03921569 225.64705882]\n",
      " [  0.          15.83707865 293.79775281]\n",
      " [  0.          14.46692607 330.57198444]\n",
      " [  0.          12.73469388 280.23809524]\n",
      " [  0.          10.79757085 344.69635628]\n",
      " [  0.           5.48913043 272.25      ]\n",
      " [  0.          10.11858974 258.43269231]]\n"
     ]
    }
   ],
   "source": [
    "lm_plane_centroids_3d = np.hstack((np.zeros(shape=(lm_plane_centroids.shape[0],1)), lm_plane_centroids[::-1]))\n",
    "print(lm_plane_centroids_3d)"
   ],
   "metadata": {
    "collapsed": false
   }
  },
  {
   "metadata": {
    "ExecuteTime": {
     "end_time": "2025-01-23T10:14:51.295233Z",
     "start_time": "2025-01-23T10:14:51.284212Z"
    }
   },
   "cell_type": "code",
   "source": [
    "# Transformation matrices\n",
    "t_lm_trial_to_lm_stack_path = os.path.join(processed_folder, f\"registration_tform_lm_plane0{plane_nr}_lm_stack.npy\")\n",
    "t_lm_trial_to_lm_stack = np.load(t_lm_trial_to_lm_stack_path)"
   ],
   "id": "6a75f1710e11674b",
   "outputs": [],
   "execution_count": 61
  },
  {
   "metadata": {
    "ExecuteTime": {
     "end_time": "2025-01-23T10:14:53.216292Z",
     "start_time": "2025-01-23T10:14:53.203285Z"
    }
   },
   "cell_type": "code",
   "source": [
    "t_lm_trial_to_lm_stack.shape"
   ],
   "id": "b918126cc37f5432",
   "outputs": [
    {
     "data": {
      "text/plain": "(4, 4)"
     },
     "execution_count": 62,
     "metadata": {},
     "output_type": "execute_result"
    }
   ],
   "execution_count": 62
  },
  {
   "metadata": {
    "ExecuteTime": {
     "end_time": "2025-01-23T10:14:56.006973Z",
     "start_time": "2025-01-23T10:14:55.027728Z"
    }
   },
   "cell_type": "code",
   "source": [
    "transformed_lm_centroids = apply_transformation(lm_plane_centroids_3d, t_lm_trial_to_lm_stack)"
   ],
   "id": "19a2fbcaa0659b46",
   "outputs": [],
   "execution_count": 63
  },
  {
   "metadata": {
    "ExecuteTime": {
     "end_time": "2025-01-16T14:15:01.172548Z",
     "start_time": "2025-01-16T14:15:00.852461Z"
    }
   },
   "cell_type": "code",
   "source": [
    "#Visualize\n",
    "viewer = napari.Viewer()\n",
    "viewer.add_image(lm_trial, name=\"lm_trial\")\n",
    "viewer.add_labels(label(lm_mask), name=\"lm_mask\")\n",
    "viewer.add_image(lm_stack, name=\"lm_stack\")\n",
    "viewer.add_image(em_warped_stack, name=\"em_warped_stack\")\n",
    "\n",
    "#viewer.add_points(lm_plane_centroids, name=\"lm_plane_centroids\")\n",
    "#viewer.add_points(lm_plane_centroids_3d, name=\"lm_plane_centroids_3d\")\n",
    "viewer.add_points(transformed_lm_centroids, name=\"transformed_lm_centroids\")"
   ],
   "id": "ee4dd2aa27bcd531",
   "outputs": [
    {
     "name": "stderr",
     "output_type": "stream",
     "text": [
      "WARNING: DirectWrite: CreateFontFaceFromHDC() failed (Indicates an error in an input file such as a font file.) for QFontDef(Family=\"\", pointsize=12, pixelsize=16, styleHint=5, weight=50, stretch=100, hintingPreference=0) LOGFONT(\"MS Sans Serif\", lfWidth=0, lfHeight=-16) dpi=96\n"
     ]
    },
    {
     "data": {
      "text/plain": "<Points layer 'transformed_lm_centroids' at 0x15c437387d0>"
     },
     "execution_count": 73,
     "metadata": {},
     "output_type": "execute_result"
    }
   ],
   "execution_count": 73
  },
  {
   "metadata": {},
   "cell_type": "code",
   "outputs": [],
   "execution_count": null,
   "source": [
    "#######################################################"
   ],
   "id": "32699ddf0c081988"
  },
  {
   "metadata": {},
   "cell_type": "code",
   "outputs": [
    {
     "ename": "FileNotFoundError",
     "evalue": "[Errno 2] No such file or directory: 't_lm_trials_to_lm_stack.npy'",
     "output_type": "error",
     "traceback": [
      "\u001B[1;31m---------------------------------------------------------------------------\u001B[0m",
      "\u001B[1;31mFileNotFoundError\u001B[0m                         Traceback (most recent call last)",
      "Cell \u001B[1;32mIn[1], line 23\u001B[0m\n\u001B[0;32m     19\u001B[0m     \u001B[38;5;28;01mreturn\u001B[39;00m \u001B[38;5;28;01mFalse\u001B[39;00m\n\u001B[0;32m     22\u001B[0m \u001B[38;5;66;03m# Load transformation matrix for lm trials to lm_stack\u001B[39;00m\n\u001B[1;32m---> 23\u001B[0m t_lm_trials_to_lm_stack \u001B[38;5;241m=\u001B[39m \u001B[43mnp\u001B[49m\u001B[38;5;241;43m.\u001B[39;49m\u001B[43mload\u001B[49m\u001B[43m(\u001B[49m\u001B[38;5;124;43m\"\u001B[39;49m\u001B[38;5;124;43mt_lm_trials_to_lm_stack.npy\u001B[39;49m\u001B[38;5;124;43m\"\u001B[39;49m\u001B[43m)\u001B[49m\n\u001B[0;32m     25\u001B[0m \u001B[38;5;66;03m# Load centroids of lm plane\u001B[39;00m\n\u001B[0;32m     26\u001B[0m lm_trials_centroids \u001B[38;5;241m=\u001B[39m np\u001B[38;5;241m.\u001B[39mload(\u001B[38;5;124m\"\u001B[39m\u001B[38;5;124mlm_trials_centroids.npy\u001B[39m\u001B[38;5;124m\"\u001B[39m)\n",
      "File \u001B[1;32mD:\\montruth\\PycharmProjects\\samplePy\\.venv\\lib\\site-packages\\numpy\\lib\\npyio.py:427\u001B[0m, in \u001B[0;36mload\u001B[1;34m(file, mmap_mode, allow_pickle, fix_imports, encoding, max_header_size)\u001B[0m\n\u001B[0;32m    425\u001B[0m     own_fid \u001B[38;5;241m=\u001B[39m \u001B[38;5;28;01mFalse\u001B[39;00m\n\u001B[0;32m    426\u001B[0m \u001B[38;5;28;01melse\u001B[39;00m:\n\u001B[1;32m--> 427\u001B[0m     fid \u001B[38;5;241m=\u001B[39m stack\u001B[38;5;241m.\u001B[39menter_context(\u001B[38;5;28;43mopen\u001B[39;49m\u001B[43m(\u001B[49m\u001B[43mos_fspath\u001B[49m\u001B[43m(\u001B[49m\u001B[43mfile\u001B[49m\u001B[43m)\u001B[49m\u001B[43m,\u001B[49m\u001B[43m \u001B[49m\u001B[38;5;124;43m\"\u001B[39;49m\u001B[38;5;124;43mrb\u001B[39;49m\u001B[38;5;124;43m\"\u001B[39;49m\u001B[43m)\u001B[49m)\n\u001B[0;32m    428\u001B[0m     own_fid \u001B[38;5;241m=\u001B[39m \u001B[38;5;28;01mTrue\u001B[39;00m\n\u001B[0;32m    430\u001B[0m \u001B[38;5;66;03m# Code to distinguish from NumPy binary files and pickles.\u001B[39;00m\n",
      "\u001B[1;31mFileNotFoundError\u001B[0m: [Errno 2] No such file or directory: 't_lm_trials_to_lm_stack.npy'"
     ]
    }
   ],
   "execution_count": 1,
   "source": [
    "import numpy as np\n",
    "import pandas as pd\n",
    "import napari\n",
    "from scipy.spatial.transform import Rotation\n",
    "import tifffile\n",
    "\n",
    "# Function to apply transformation\n",
    "def apply_transformation(points, transform):\n",
    "    rotation = Rotation.from_matrix(transform[:3, :3])\n",
    "    translation = transform[:3, 3]\n",
    "    return rotation.apply(points) + translation\n",
    "\n",
    "\n",
    "# Function to check if a point is within the 3D mask\n",
    "def is_within_mask(point, mask):\n",
    "    x, y, z = np.round(point).astype(int)\n",
    "    if 0 <= x < mask.shape[0] and 0 <= y < mask.shape[1] and 0 <= z < mask.shape[2]:\n",
    "        return mask[x, y, z]\n",
    "    return False\n",
    "\n",
    "\n",
    "# Load transformation matrix for lm trials to lm_stack\n",
    "t_lm_trials_to_lm_stack = np.load(\"t_lm_trials_to_lm_stack.npy\")\n",
    "\n",
    "# Load centroids of lm plane\n",
    "lm_trials_centroids = np.load(\"lm_trials_centroids.npy\")\n",
    "\n",
    "# Load em warped mask\n",
    "em_warped_mask = tifffile.imread(\"em_warped_mask.tif\")\n",
    "\n",
    "# Apply transformations to lm_plane_centroids to fit lm_stak and to ultimately fit to em_stack \n",
    "\n",
    "centroids_in_lm_stack = apply_transformation(lm_plane_centroids, lm_to_lm_stack)\n",
    "centroids_in_em_stack = apply_transformation(centroids_in_lm_stack, lm_stack_to_em_stack)\n",
    "\n",
    "\n",
    "# Identify  centroids within the 3D mask\n",
    "\n",
    "centroids_in_mask = [point for point in centroids_in_em_stack if is_within_mask(point, em_mask)]\n",
    "\n",
    "\n",
    "# Validate by visual inspection in napari (Found cells in green)\n",
    "# Create Napari viewer\n",
    "viewer = napari.Viewer()\n",
    "\n",
    "# Add layers to the viewer\n",
    "viewer.add_image(em_mask, name='EM Mask')\n",
    "viewer.add_points(points_layer, size=5, face_color='green', name='Found Cells')\n",
    "\n",
    "# Run Napari viewer\n",
    "napari.run()\n"
   ],
   "id": "initial_id"
  },
  {
   "metadata": {},
   "cell_type": "code",
   "outputs": [],
   "execution_count": null,
   "source": [],
   "id": "e525143d6b8abc6d"
  }
 ],
 "metadata": {
  "kernelspec": {
   "display_name": "Python 3",
   "language": "python",
   "name": "python3"
  },
  "language_info": {
   "codemirror_mode": {
    "name": "ipython",
    "version": 2
   },
   "file_extension": ".py",
   "mimetype": "text/x-python",
   "name": "python",
   "nbconvert_exporter": "python",
   "pygments_lexer": "ipython2",
   "version": "2.7.6"
  }
 },
 "nbformat": 4,
 "nbformat_minor": 5
}
