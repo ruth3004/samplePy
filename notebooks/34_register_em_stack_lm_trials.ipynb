{
 "cells": [
  {
   "cell_type": "code",
   "execution_count": null,
   "id": "initial_id",
   "metadata": {
    "collapsed": true
   },
   "outputs": [],
   "source": [
    "import numpy as np\n",
    "import pandas as pd\n",
    "import napari\n",
    "from scipy.spatial.transform import Rotation\n",
    "import tifffile\n",
    "\n",
    "# Function to apply transformation\n",
    "def apply_transformation(points, transform):\n",
    "    rotation = Rotation.from_matrix(transform[:3, :3])\n",
    "    translation = transform[:3, 3]\n",
    "    return rotation.apply(points) + translation\n",
    "\n",
    "\n",
    "# Function to check if a point is within the 3D mask\n",
    "def is_within_mask(point, mask):\n",
    "    x, y, z = np.round(point).astype(int)\n",
    "    if 0 <= x < mask.shape[0] and 0 <= y < mask.shape[1] and 0 <= z < mask.shape[2]:\n",
    "        return mask[x, y, z]\n",
    "    return False\n",
    "\n",
    "\n",
    "# Load transformation matrix for lm trials to lm_stack\n",
    "t_lm_trials_to_lm_stack = np.load(\"t_lm_trials_to_lm_stack.npy\")\n",
    "\n",
    "# Load centroids of lm plane\n",
    "lm_trials_centroids = np.load(\"lm_trials_centroids.npy\")\n",
    "\n",
    "# Load em warped mask\n",
    "em_warped_mask = tifffile.imread(\"em_warped_mask.tif\")\n",
    "\n",
    "# Apply transformations to lm_plane_centroids to fit lm_stak and to ultimately fit to em_stack \n",
    "\n",
    "centroids_in_lm_stack = apply_transformation(lm_plane_centroids, lm_to_lm_stack)\n",
    "centroids_in_em_stack = apply_transformation(centroids_in_lm_stack, lm_stack_to_em_stack)\n",
    "\n",
    "\n",
    "# Identify  centroids within the 3D mask\n",
    "\n",
    "centroids_in_mask = [point for point in centroids_in_em_stack if is_within_mask(point, em_mask)]\n",
    "\n",
    "\n",
    "# Validate by visual inspection in napari (Found cells in green)\n",
    "# Create Napari viewer\n",
    "viewer = napari.Viewer()\n",
    "\n",
    "# Add layers to the viewer\n",
    "viewer.add_image(em_mask, name='EM Mask')\n",
    "viewer.add_points(points_layer, size=5, face_color='green', name='Found Cells')\n",
    "\n",
    "# Run Napari viewer\n",
    "napari.run()\n"
   ]
  }
 ],
 "metadata": {
  "kernelspec": {
   "display_name": "Python 3",
   "language": "python",
   "name": "python3"
  },
  "language_info": {
   "codemirror_mode": {
    "name": "ipython",
    "version": 2
   },
   "file_extension": ".py",
   "mimetype": "text/x-python",
   "name": "python",
   "nbconvert_exporter": "python",
   "pygments_lexer": "ipython2",
   "version": "2.7.6"
  }
 },
 "nbformat": 4,
 "nbformat_minor": 5
}
