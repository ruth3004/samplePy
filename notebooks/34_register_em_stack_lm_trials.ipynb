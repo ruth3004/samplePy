{
 "cells": [
  {
   "metadata": {
    "ExecuteTime": {
     "end_time": "2025-01-23T10:14:45.363700Z",
     "start_time": "2025-01-23T10:14:25.651258Z"
    }
   },
   "cell_type": "code",
   "source": [
    "import numpy as np\n",
    "import tifffile\n",
    "import napari \n",
    "import os\n",
    "from skimage.measure import regionprops, label\n",
    "\n",
    "from scripts.config_model import save_experiment_config, tree\n",
    "from scripts.sample_db import SampleDB\n",
    "from scripts.utils.image_utils import load_tiff_as_hyperstack, save_array_as_hyperstack_tiff"
   ],
   "id": "a434ee362bc53856",
   "outputs": [
    {
     "data": {
      "text/plain": [
       "<Figure size 640x480 with 0 Axes>"
      ]
     },
     "metadata": {},
     "output_type": "display_data"
    }
   ],
   "execution_count": 1
  },
  {
   "metadata": {
    "ExecuteTime": {
     "end_time": "2025-01-23T10:14:45.375704Z",
     "start_time": "2025-01-23T10:14:45.366705Z"
    }
   },
   "cell_type": "code",
   "source": [
    "# Function to apply transformation\n",
    "def apply_transformation(points, transform):\n",
    "    rotation = Rotation.from_matrix(transform[:3, :3])\n",
    "    translation = transform[:3, 3]\n",
    "    return rotation.apply(points) + translation\n",
    "\n",
    "\n",
    "# Function to check if a point is within the 3D mask\n",
    "def is_within_mask(point, mask):\n",
    "    x, y, z = np.round(point).astype(int)\n",
    "    if 0 <= x < mask.shape[0] and 0 <= y < mask.shape[1] and 0 <= z < mask.shape[2]:\n",
    "        return mask[x, y, z]\n",
    "    return False\n"
   ],
   "id": "b4045bab05751378",
   "outputs": [],
   "execution_count": 2
  },
  {
   "metadata": {
    "ExecuteTime": {
     "end_time": "2025-01-23T10:14:45.500731Z",
     "start_time": "2025-01-23T10:14:45.378704Z"
    }
   },
   "cell_type": "code",
   "source": [
    "# Step 1: Load the sample database\n",
    "db_path = r'\\\\tungsten-nas.fmi.ch\\tungsten\\scratch\\gfriedri\\montruth\\sample_db.csv'\n",
    "sample_db = SampleDB()\n",
    "sample_db.load(db_path)\n",
    "\n",
    "# Step 2: Load experiment configuration\n",
    "sample_id = '20220426_RM0008_130hpf_fP1_f3'\n",
    "exp = sample_db.get_sample(sample_id)\n",
    "print(exp.sample.id)\n"
   ],
   "id": "c29a89cadcde58c2",
   "outputs": [
    {
     "name": "stdout",
     "output_type": "stream",
     "text": [
      "20220426_RM0008_130hpf_fP1_f3\n"
     ]
    }
   ],
   "execution_count": 3
  },
  {
   "metadata": {
    "ExecuteTime": {
     "end_time": "2025-01-23T10:14:48.559545Z",
     "start_time": "2025-01-23T10:14:45.503736Z"
    }
   },
   "cell_type": "code",
   "source": [
    "# Step 3: Load images and transformation matrices\n",
    "\n",
    "#LM trials images\n",
    "processed_folder = os.path.join(exp.paths.trials_path, \"processed\")\n",
    "\n",
    "lm_trials_images_path = os.path.join(processed_folder, f\"sum_raw_trials_{exp.sample.id}.tif\")\n",
    "lm_trials_images =tifffile.imread(lm_trials_images_path)\n",
    "lm_trial = lm_trials_images[6,-1]\n",
    "print(lm_trial.shape)\n",
    "\n",
    "#LM trials masks\n",
    "lm_planes_masks_path = os.path.join(exp.paths.trials_path,\"masks\",f\"masks_{exp.sample.id}_params_cp_-1-ft_0.4-st_0.01-resample_True_augment=False.tif\")\n",
    "lm_planes_masks = tifffile.imread(lm_planes_masks_path)\n",
    "lm_mask = lm_planes_masks[6,-1] \n",
    "print(lm_mask.shape)\n",
    "\n",
    "lm_plane_props = regionprops(label(lm_mask))\n",
    "lm_plane_centroids =  np.array([prop.centroid for prop in lm_plane_props])\n",
    "\n",
    "#EM warped stack\n",
    "em_warped_stack_path = os.path.join(exp.paths.em_path, '20220426_RM0008_130hpf_fP1_f3_em_stack_cropped_woResin_rough_rotated_to_LM_fov_lm_res_em.tif')\n",
    "em_warped_stack = tifffile.imread(em_warped_stack_path)\n"
   ],
   "id": "a4a401e1525e179b",
   "outputs": [
    {
     "name": "stdout",
     "output_type": "stream",
     "text": [
      "(256, 512)\n",
      "(256, 512)\n"
     ]
    }
   ],
   "execution_count": 4
  },
  {
   "metadata": {
    "ExecuteTime": {
     "end_time": "2025-01-23T10:14:48.573551Z",
     "start_time": "2025-01-23T10:14:48.563545Z"
    }
   },
   "cell_type": "code",
   "source": "lm_plane_centroids.shape",
   "id": "9a2cb19c1231831b",
   "outputs": [
    {
     "data": {
      "text/plain": [
       "(111, 2)"
      ]
     },
     "execution_count": 5,
     "metadata": {},
     "output_type": "execute_result"
    }
   ],
   "execution_count": 5
  },
  {
   "metadata": {
    "ExecuteTime": {
     "end_time": "2025-01-23T10:14:51.295233Z",
     "start_time": "2025-01-23T10:14:51.284212Z"
    }
   },
   "cell_type": "code",
   "source": [
    "# Transformation matrices\n",
    "t_lm_trial_to_lm_stack_path = os.path.join(processed_folder, \"registration_tform_lm_plane06_lm_stack.npy\")\n",
    "t_lm_trial_to_lm_stack = np.load(t_lm_trial_to_lm_stack_path)"
   ],
   "id": "6a75f1710e11674b",
   "outputs": [],
   "execution_count": 6
  },
  {
   "metadata": {
    "ExecuteTime": {
     "end_time": "2025-01-23T10:14:53.216292Z",
     "start_time": "2025-01-23T10:14:53.203285Z"
    }
   },
   "cell_type": "code",
   "source": "t_lm_trial_to_lm_stack.shape",
   "id": "b918126cc37f5432",
   "outputs": [
    {
     "data": {
      "text/plain": [
       "(4, 4)"
      ]
     },
     "execution_count": 7,
     "metadata": {},
     "output_type": "execute_result"
    }
   ],
   "execution_count": 7
  },
  {
   "metadata": {
    "ExecuteTime": {
     "end_time": "2025-01-23T10:14:56.006973Z",
     "start_time": "2025-01-23T10:14:55.027728Z"
    }
   },
   "cell_type": "code",
   "source": "transformed_lm_centroids = apply_transformation(lm_plane_centroids, t_lm_trial_to_lm_stack)",
   "id": "19a2fbcaa0659b46",
   "outputs": [
    {
     "ename": "NameError",
     "evalue": "name 'Rotation' is not defined",
     "output_type": "error",
     "traceback": [
      "\u001B[1;31m---------------------------------------------------------------------------\u001B[0m",
      "\u001B[1;31mNameError\u001B[0m                                 Traceback (most recent call last)",
      "Cell \u001B[1;32mIn[8], line 1\u001B[0m\n\u001B[1;32m----> 1\u001B[0m transformed_lm_centroids \u001B[38;5;241m=\u001B[39m \u001B[43mapply_transformation\u001B[49m\u001B[43m(\u001B[49m\u001B[43mlm_plane_centroids\u001B[49m\u001B[43m,\u001B[49m\u001B[43m \u001B[49m\u001B[43mt_lm_trial_to_lm_stack\u001B[49m\u001B[43m)\u001B[49m\n",
      "Cell \u001B[1;32mIn[2], line 3\u001B[0m, in \u001B[0;36mapply_transformation\u001B[1;34m(points, transform)\u001B[0m\n\u001B[0;32m      2\u001B[0m \u001B[38;5;28;01mdef\u001B[39;00m \u001B[38;5;21mapply_transformation\u001B[39m(points, transform):\n\u001B[1;32m----> 3\u001B[0m     rotation \u001B[38;5;241m=\u001B[39m \u001B[43mRotation\u001B[49m\u001B[38;5;241m.\u001B[39mfrom_matrix(transform[:\u001B[38;5;241m3\u001B[39m, :\u001B[38;5;241m3\u001B[39m])\n\u001B[0;32m      4\u001B[0m     translation \u001B[38;5;241m=\u001B[39m transform[:\u001B[38;5;241m3\u001B[39m, \u001B[38;5;241m3\u001B[39m]\n\u001B[0;32m      5\u001B[0m     \u001B[38;5;28;01mreturn\u001B[39;00m rotation\u001B[38;5;241m.\u001B[39mapply(points) \u001B[38;5;241m+\u001B[39m translation\n",
      "\u001B[1;31mNameError\u001B[0m: name 'Rotation' is not defined"
     ]
    }
   ],
   "execution_count": 8
  },
  {
   "metadata": {
    "ExecuteTime": {
     "end_time": "2025-01-16T12:45:18.891343Z",
     "start_time": "2025-01-16T12:45:16.344534Z"
    }
   },
   "cell_type": "code",
   "source": [
    "#Visualize\n",
    "viewer = napari.Viewer()\n",
    "viewer.add_image(lm_trial, name=\"lm_trial\")\n",
    "viewer.add_labels(label(lm_mask), name=\"lm_mask\")"
   ],
   "id": "ee014877257c7977",
   "outputs": [
    {
     "name": "stderr",
     "output_type": "stream",
     "text": [
      "D:\\montruth\\PycharmProjects\\samplePy\\.venv\\lib\\site-packages\\napari\\plugins\\_plugin_manager.py:555: UserWarning: Plugin 'napari_skimage_regionprops2' has already registered a function widget 'duplicate current frame' which has now been overwritten\n",
      "  warn(message=warn_message)\n",
      "D:\\montruth\\PycharmProjects\\samplePy\\.venv\\lib\\site-packages\\napari\\plugins\\_plugin_manager.py:555: UserWarning: Plugin 'napari-animated-gif-io' has already registered a function widget 'save as animated gif' which has now been overwritten\n",
      "  warn(message=warn_message)\n"
     ]
    },
    {
     "data": {
      "text/plain": [
       "<Labels layer 'lm_mask' at 0x1c10ebdba90>"
      ]
     },
     "execution_count": 26,
     "metadata": {},
     "output_type": "execute_result"
    }
   ],
   "execution_count": 26
  },
  {
   "metadata": {
    "ExecuteTime": {
     "end_time": "2025-01-16T13:15:22.409580Z",
     "start_time": "2025-01-16T13:15:22.066573Z"
    }
   },
   "cell_type": "code",
   "source": "viewer.add_image(em_warped_stack, name=\"em_warped_stack\")",
   "id": "3b4136e620fce529",
   "outputs": [
    {
     "data": {
      "text/plain": [
       "<Image layer 'em_warped_stack' at 0x1c12f747ee0>"
      ]
     },
     "execution_count": 35,
     "metadata": {},
     "output_type": "execute_result"
    }
   ],
   "execution_count": 35
  },
  {
   "metadata": {
    "ExecuteTime": {
     "end_time": "2025-01-16T14:15:01.172548Z",
     "start_time": "2025-01-16T14:15:00.852461Z"
    }
   },
   "cell_type": "code",
   "source": "viewer.add_points(lm_plane_centroids, name=\"lm_plane_centroids\")",
   "id": "ee4dd2aa27bcd531",
   "outputs": [
    {
     "data": {
      "text/plain": [
       "<Points layer 'lm_plane_centroids' at 0x1c10eeb7dc0>"
      ]
     },
     "execution_count": 42,
     "metadata": {},
     "output_type": "execute_result"
    }
   ],
   "execution_count": 42
  },
  {
   "metadata": {
    "ExecuteTime": {
     "end_time": "2025-01-16T12:34:20.636835Z",
     "start_time": "2025-01-16T12:34:20.576838Z"
    }
   },
   "cell_type": "code",
   "source": "os.listdir(os.path.join(exp.paths.trials_path,\"masks\"))",
   "id": "73beb2a198a750cf",
   "outputs": [
    {
     "data": {
      "text/plain": [
       "['masks_20220426_RM0008_130hpf_fP1_f3.tif',\n",
       " 'masks_20220426_RM0008_130hpf_fP1_f3_cp_-3-ft_0-st_0.01-resample_True-augment_False.tif',\n",
       " 'masks_20220426_RM0008_130hpf_fP1_f3_params_cp_-1-ft_0.4-st_0.01-resample_True_augment=False.tif']"
      ]
     },
     "execution_count": 11,
     "metadata": {},
     "output_type": "execute_result"
    }
   ],
   "execution_count": 11
  },
  {
   "metadata": {},
   "cell_type": "code",
   "outputs": [],
   "execution_count": null,
   "source": "#######################################################",
   "id": "32699ddf0c081988"
  },
  {
   "metadata": {},
   "cell_type": "code",
   "outputs": [
    {
     "ename": "FileNotFoundError",
     "evalue": "[Errno 2] No such file or directory: 't_lm_trials_to_lm_stack.npy'",
     "output_type": "error",
     "traceback": [
      "\u001B[1;31m---------------------------------------------------------------------------\u001B[0m",
      "\u001B[1;31mFileNotFoundError\u001B[0m                         Traceback (most recent call last)",
      "Cell \u001B[1;32mIn[1], line 23\u001B[0m\n\u001B[0;32m     19\u001B[0m     \u001B[38;5;28;01mreturn\u001B[39;00m \u001B[38;5;28;01mFalse\u001B[39;00m\n\u001B[0;32m     22\u001B[0m \u001B[38;5;66;03m# Load transformation matrix for lm trials to lm_stack\u001B[39;00m\n\u001B[1;32m---> 23\u001B[0m t_lm_trials_to_lm_stack \u001B[38;5;241m=\u001B[39m \u001B[43mnp\u001B[49m\u001B[38;5;241;43m.\u001B[39;49m\u001B[43mload\u001B[49m\u001B[43m(\u001B[49m\u001B[38;5;124;43m\"\u001B[39;49m\u001B[38;5;124;43mt_lm_trials_to_lm_stack.npy\u001B[39;49m\u001B[38;5;124;43m\"\u001B[39;49m\u001B[43m)\u001B[49m\n\u001B[0;32m     25\u001B[0m \u001B[38;5;66;03m# Load centroids of lm plane\u001B[39;00m\n\u001B[0;32m     26\u001B[0m lm_trials_centroids \u001B[38;5;241m=\u001B[39m np\u001B[38;5;241m.\u001B[39mload(\u001B[38;5;124m\"\u001B[39m\u001B[38;5;124mlm_trials_centroids.npy\u001B[39m\u001B[38;5;124m\"\u001B[39m)\n",
      "File \u001B[1;32mD:\\montruth\\PycharmProjects\\samplePy\\.venv\\lib\\site-packages\\numpy\\lib\\npyio.py:427\u001B[0m, in \u001B[0;36mload\u001B[1;34m(file, mmap_mode, allow_pickle, fix_imports, encoding, max_header_size)\u001B[0m\n\u001B[0;32m    425\u001B[0m     own_fid \u001B[38;5;241m=\u001B[39m \u001B[38;5;28;01mFalse\u001B[39;00m\n\u001B[0;32m    426\u001B[0m \u001B[38;5;28;01melse\u001B[39;00m:\n\u001B[1;32m--> 427\u001B[0m     fid \u001B[38;5;241m=\u001B[39m stack\u001B[38;5;241m.\u001B[39menter_context(\u001B[38;5;28;43mopen\u001B[39;49m\u001B[43m(\u001B[49m\u001B[43mos_fspath\u001B[49m\u001B[43m(\u001B[49m\u001B[43mfile\u001B[49m\u001B[43m)\u001B[49m\u001B[43m,\u001B[49m\u001B[43m \u001B[49m\u001B[38;5;124;43m\"\u001B[39;49m\u001B[38;5;124;43mrb\u001B[39;49m\u001B[38;5;124;43m\"\u001B[39;49m\u001B[43m)\u001B[49m)\n\u001B[0;32m    428\u001B[0m     own_fid \u001B[38;5;241m=\u001B[39m \u001B[38;5;28;01mTrue\u001B[39;00m\n\u001B[0;32m    430\u001B[0m \u001B[38;5;66;03m# Code to distinguish from NumPy binary files and pickles.\u001B[39;00m\n",
      "\u001B[1;31mFileNotFoundError\u001B[0m: [Errno 2] No such file or directory: 't_lm_trials_to_lm_stack.npy'"
     ]
    }
   ],
   "execution_count": 1,
   "source": [
    "import numpy as np\n",
    "import pandas as pd\n",
    "import napari\n",
    "from scipy.spatial.transform import Rotation\n",
    "import tifffile\n",
    "\n",
    "# Function to apply transformation\n",
    "def apply_transformation(points, transform):\n",
    "    rotation = Rotation.from_matrix(transform[:3, :3])\n",
    "    translation = transform[:3, 3]\n",
    "    return rotation.apply(points) + translation\n",
    "\n",
    "\n",
    "# Function to check if a point is within the 3D mask\n",
    "def is_within_mask(point, mask):\n",
    "    x, y, z = np.round(point).astype(int)\n",
    "    if 0 <= x < mask.shape[0] and 0 <= y < mask.shape[1] and 0 <= z < mask.shape[2]:\n",
    "        return mask[x, y, z]\n",
    "    return False\n",
    "\n",
    "\n",
    "# Load transformation matrix for lm trials to lm_stack\n",
    "t_lm_trials_to_lm_stack = np.load(\"t_lm_trials_to_lm_stack.npy\")\n",
    "\n",
    "# Load centroids of lm plane\n",
    "lm_trials_centroids = np.load(\"lm_trials_centroids.npy\")\n",
    "\n",
    "# Load em warped mask\n",
    "em_warped_mask = tifffile.imread(\"em_warped_mask.tif\")\n",
    "\n",
    "# Apply transformations to lm_plane_centroids to fit lm_stak and to ultimately fit to em_stack \n",
    "\n",
    "centroids_in_lm_stack = apply_transformation(lm_plane_centroids, lm_to_lm_stack)\n",
    "centroids_in_em_stack = apply_transformation(centroids_in_lm_stack, lm_stack_to_em_stack)\n",
    "\n",
    "\n",
    "# Identify  centroids within the 3D mask\n",
    "\n",
    "centroids_in_mask = [point for point in centroids_in_em_stack if is_within_mask(point, em_mask)]\n",
    "\n",
    "\n",
    "# Validate by visual inspection in napari (Found cells in green)\n",
    "# Create Napari viewer\n",
    "viewer = napari.Viewer()\n",
    "\n",
    "# Add layers to the viewer\n",
    "viewer.add_image(em_mask, name='EM Mask')\n",
    "viewer.add_points(points_layer, size=5, face_color='green', name='Found Cells')\n",
    "\n",
    "# Run Napari viewer\n",
    "napari.run()\n"
   ],
   "id": "initial_id"
  },
  {
   "metadata": {},
   "cell_type": "code",
   "outputs": [],
   "execution_count": null,
   "source": "",
   "id": "e525143d6b8abc6d"
  }
 ],
 "metadata": {
  "kernelspec": {
   "display_name": "Python 3",
   "language": "python",
   "name": "python3"
  },
  "language_info": {
   "codemirror_mode": {
    "name": "ipython",
    "version": 2
   },
   "file_extension": ".py",
   "mimetype": "text/x-python",
   "name": "python",
   "nbconvert_exporter": "python",
   "pygments_lexer": "ipython2",
   "version": "2.7.6"
  }
 },
 "nbformat": 4,
 "nbformat_minor": 5
}
