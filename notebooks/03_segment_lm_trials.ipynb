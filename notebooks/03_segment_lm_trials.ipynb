{
 "cells": [
  {
   "metadata": {},
   "cell_type": "markdown",
   "source": [
    "# Segmentation trial acquisitions (calcium imaging)\n",
    "* Segmentation of (motion corrected) images\n"
   ],
   "id": "396b7a1fd4a06fc6"
  },
  {
   "metadata": {
    "ExecuteTime": {
     "end_time": "2024-08-20T07:58:22.733851Z",
     "start_time": "2024-08-20T07:58:11.448606Z"
    }
   },
   "cell_type": "code",
   "source": [
    "# 03_segment_lm_trials.ipynb\n",
    "\n",
    "import os\n",
    "import glob\n",
    "import numpy as np\n",
    "import napari\n",
    "\n",
    "from tifffile import imwrite, imread\n",
    "from scripts.sample_db import SampleDB\n",
    "from cellpose import models, io\n",
    "import skimage.exposure\n",
    "\n",
    "# Load the sample database\n",
    "db_path = r'\\\\tungsten-nas.fmi.ch\\tungsten\\scratch\\gfriedri\\montruth\\sample_db.csv'\n",
    "sample_db = SampleDB()\n",
    "sample_db.load(db_path)"
   ],
   "id": "854dccefab654e95",
   "outputs": [],
   "execution_count": 1
  },
  {
   "metadata": {
    "ExecuteTime": {
     "end_time": "2024-08-20T08:00:17.503645Z",
     "start_time": "2024-08-20T08:00:17.502646Z"
    }
   },
   "cell_type": "code",
   "source": [
    "# Load experiment\n",
    "sample_id = '20210907_RM0012_5dpf_fP10_f2'  # Replace with your sample ID\n",
    "exp = sample_db.get_sample(sample_id)\n",
    "print(f\"Processing sample: {exp.sample.id}\")\n",
    "\n",
    "# Import model\n",
    "model_path = r'D:\\montruth\\cellpose\\models\\CP_20230803_101131'\n",
    "model = models.CellposeModel(model_type=model_path, gpu=True)\n",
    "\n",
    "# Making shortcuts of sample parameters/information\n",
    "root_path = exp.paths.root_path\n",
    "trials_path = exp.paths.trials_path\n",
    "n_planes = exp.params_lm.n_planes\n",
    "doubling = 2 if exp.params_lm.doubling else 1\n",
    "\n",
    "# Get the path for the preprocessed folder and the images stack\n",
    "processed_folder = os.path.join(trials_path, 'processed')\n",
    "images_path = glob.glob(os.path.join(processed_folder, 'sum_elastic_*.tif'))[0]\n",
    "images_stack = io.imread(images_path)\n",
    "\n",
    "# Preprocess images\n",
    "images_stack_rescaled = skimage.exposure.rescale_intensity(images_stack, out_range=(0, 1))\n",
    "images_stack_clahe = skimage.exposure.equalize_adapthist(images_stack_rescaled)\n",
    "images_stack = images_stack_clahe\n",
    "\n",
    "# Define the path for the masks folder\n",
    "masks_folder = os.path.join(trials_path, \"masks\")\n",
    "os.makedirs(masks_folder, exist_ok=True)\n",
    "\n",
    "# Define parameters for cellpose\n",
    "cellprob_threshold = -3\n",
    "flow_threshold = 0\n",
    "resample = True\n",
    "augment = False\n",
    "stitch_threshold = 0.01\n",
    "\n",
    "# Prepare the output array\n",
    "masks_stack = np.empty(images_stack.shape, dtype=np.uint16)\n",
    "\n",
    "# Loop through each plane and process images\n",
    "for plane in range(n_planes * doubling):\n",
    "    print(f\"Processing plane: {plane}\")\n",
    "    images = images_stack[plane]\n",
    "\n",
    "    # Segment the images using Cellpose\n",
    "    masks, _, _ = model.eval(images,\n",
    "                             channels=[0, 0],\n",
    "                             cellprob_threshold=cellprob_threshold,\n",
    "                             flow_threshold=flow_threshold,\n",
    "                             resample=resample,\n",
    "                             augment=augment,\n",
    "                             stitch_threshold=stitch_threshold)\n",
    "\n",
    "    # Store the masks\n",
    "    masks_stack[plane] = masks\n",
    "\n",
    "# Save masks\n",
    "params_text = f\"cp_{cellprob_threshold}-ft_{flow_threshold}-st_{stitch_threshold}-resample_{resample}-augment_{augment}\"\n",
    "imwrite(os.path.join(masks_folder, f'masks_{exp.sample.id}_{params_text}.tif'), masks_stack)\n",
    "\n",
    "# Display results in Napari\n",
    "viewer = napari.Viewer()\n",
    "viewer.add_image(images_stack, name='Original')\n",
    "viewer.add_labels(masks_stack, name='Segmentation')\n",
    "napari.run()\n",
    "\n",
    "# Update the sample database\n",
    "sample_db.update_sample_field(sample_id, '03_segment_lm_trials', True)\n",
    "sample_db.save(db_path)\n",
    "\n",
    "\n",
    "print(f\"Segmentation completed for sample: {exp.sample.id}\")"
   ],
   "id": "e794e547eecb30c6",
   "outputs": [],
   "execution_count": null
  }
 ],
 "metadata": {
  "kernelspec": {
   "display_name": "Python 3",
   "language": "python",
   "name": "python3"
  },
  "language_info": {
   "codemirror_mode": {
    "name": "ipython",
    "version": 2
   },
   "file_extension": ".py",
   "mimetype": "text/x-python",
   "name": "python",
   "nbconvert_exporter": "python",
   "pygments_lexer": "ipython2",
   "version": "2.7.6"
  }
 },
 "nbformat": 4,
 "nbformat_minor": 5
}
