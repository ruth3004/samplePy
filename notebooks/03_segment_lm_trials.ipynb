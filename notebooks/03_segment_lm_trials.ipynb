{
 "cells": [
  {
   "metadata": {},
   "cell_type": "markdown",
   "source": [
    "# Segmentation trial acquisitions (calcium imaging)\n",
    "* Segmentation of (motion corrected) images\n"
   ],
   "id": "396b7a1fd4a06fc6"
  },
  {
   "metadata": {
    "ExecuteTime": {
     "end_time": "2024-07-04T11:17:28.252371Z",
     "start_time": "2024-07-04T11:17:28.204367Z"
    }
   },
   "cell_type": "code",
   "source": [
    "import numpy as np\n",
    "from cellpose import models\n",
    "import napari\n",
    "import os\n",
    "from scripts.sample_db import SampleDB\n",
    "from tifffile import imwrite, imread\n",
    "import glob\n",
    "from itertools import product\n",
    "\n",
    "# Load the sample database\n",
    "db_path = r'\\\\tungsten-nas.fmi.ch\\tungsten\\scratch\\gfriedri\\montruth\\sample_db.csv'\n",
    "sample_db = SampleDB()\n",
    "sample_db.load(db_path)\n",
    "print(sample_db)"
   ],
   "id": "854dccefab654e95",
   "outputs": [
    {
     "name": "stdout",
     "output_type": "stream",
     "text": [
      "SampleDB(sample_ids=['20220426_RM0008_130hpf_fP1_f3', '20220118_RM0012_124hpf_fP8_f2', '20220427_RM0008_126hpf_fP3_f3'])\n"
     ]
    }
   ],
   "execution_count": 11
  },
  {
   "metadata": {
    "ExecuteTime": {
     "end_time": "2024-07-04T11:17:30.509411Z",
     "start_time": "2024-07-04T11:17:29.392390Z"
    }
   },
   "cell_type": "code",
   "source": [
    "# Loading experiment\n",
    "sample_id = '20220427_RM0008_126hpf_fP3_f3'\n",
    "exp = sample_db.get_sample(sample_id)\n",
    "print(exp.sample.id)\n",
    "\n",
    "# Import model\n",
    "model_path = r'D:\\montruth\\cellpose\\models\\CP_20230803_101131' \n",
    "model = models.CellposeModel(model_type=model_path, gpu=True)\n",
    "\n",
    "# Making shortcuts of sample parameters/information\n",
    "sample = exp.sample\n",
    "root_path = exp.paths.root_path\n",
    "trials_path = exp.paths.trials_path\n",
    "\n",
    "n_planes = exp.params_lm.n_planes\n",
    "n_frames = exp.params_lm.n_frames\n",
    "n_slices = exp.params_lm.lm_stack_range\n",
    "n_trials = exp.params_lm.n_trials\n",
    "doubling = 2 if exp.params_lm.doubling else 1\n",
    "\n",
    "# Getting paths of the trial acquisitions\n",
    "trial_paths = os.listdir(trials_path)\n",
    "\n",
    "# Define the path for the preprocessed folder\n",
    "processed_folder = os.path.join(trials_path, 'processed')\n",
    "os.makedirs(processed_folder, exist_ok=True)\n",
    "\n",
    "# Define the path for the masks folder\n",
    "masks_folder = os.path.join(trials_path, \"masks\")\n",
    "os.makedirs(masks_folder, exist_ok=True)\n",
    "\n",
    "# Segment all trials per plane\n",
    "all_masks = []\n",
    "images_path = glob.glob(os.path.join(processed_folder, 'sum_elastic_*.tif'))[0]\n",
    "mask_plane_path = os.path.join(masks_folder, f\"masks_{exp.sample.id}.tif\")\n",
    "images_stack = imread(images_path)\n",
    "\n"
   ],
   "id": "e103309e28ecd817",
   "outputs": [
    {
     "name": "stdout",
     "output_type": "stream",
     "text": [
      "20220427_RM0008_126hpf_fP3_f3\n"
     ]
    }
   ],
   "execution_count": 12
  },
  {
   "metadata": {
    "ExecuteTime": {
     "end_time": "2024-07-04T11:17:54.151331Z",
     "start_time": "2024-07-04T11:17:54.105329Z"
    }
   },
   "cell_type": "code",
   "source": [
    "# Define parameter ranges\n",
    "cellprob_threshold_range = [-3]\n",
    "flow_threshold_range = [0.1]\n",
    "resample_options = [True]\n",
    "augment_options = [False]\n",
    "stitch_threshold_range = [0.01]\n",
    "\n",
    "# Prepare the output array\n",
    "mask_stack = np.zeros_like(images_stack)\n",
    "print(mask_stack.shape)\n",
    "\n",
    "# Generate all combinations of parameters\n",
    "parameter_combinations = list(product(cellprob_threshold_range, flow_threshold_range, resample_options, augment_options,stitch_threshold_range))\n",
    "print(f\"Number of combinations to test: {len(parameter_combinations)}\")\n"
   ],
   "id": "9cc1add13858de1a",
   "outputs": [
    {
     "name": "stdout",
     "output_type": "stream",
     "text": [
      "(8, 24, 256, 512)\n",
      "Number of combinations to test: 1\n"
     ]
    }
   ],
   "execution_count": 13
  },
  {
   "metadata": {
    "ExecuteTime": {
     "end_time": "2024-07-04T11:31:21.470136Z",
     "start_time": "2024-07-04T11:17:58.544402Z"
    }
   },
   "cell_type": "code",
   "source": [
    "# Initialize the Napari viewer\n",
    "viewer = napari.Viewer()\n",
    "\n",
    "# Loop through each plane and process images\n",
    "for plane in range(n_planes*doubling):\n",
    "    print(f\"Processing plane: {plane}\")\n",
    "    images = images_stack[plane]\n",
    "    print('images shape', images.shape)\n",
    "\n",
    "    for idx, (cellprob_threshold, flow_threshold, resample, augment, stitch_threshold) in enumerate(parameter_combinations):\n",
    "        params_text = f\"cp_{cellprob_threshold}-ft_{flow_threshold}-st_{stitch_threshold}-resample_{resample}_augment={augment}\"\n",
    "        combi_text = f\"Combination {idx + 1}/{len(parameter_combinations)}: {params_text}\"\n",
    "        print(combi_text)\n",
    "\n",
    "        # Segment the images using Cellpose with current parameter combination\n",
    "        masks, _, _ = model.eval(images, \n",
    "                                 channels=[0, 0], \n",
    "                                 cellprob_threshold=cellprob_threshold, \n",
    "                                 flow_threshold=flow_threshold, \n",
    "                                 resample=resample, \n",
    "                                 augment=augment, \n",
    "                                 stitch_threshold=stitch_threshold)\n",
    "        \n",
    "        # Store the masks for visualization\n",
    "        mask_stack[plane] = masks\n",
    "        \n",
    "        # Add the masks to Napari viewer\n",
    "        viewer.add_labels(masks, name=params_text)"
   ],
   "id": "932e95c5f7415cd1",
   "outputs": [
    {
     "name": "stderr",
     "output_type": "stream",
     "text": [
      "D:\\montruth\\PycharmProjects\\samplePy\\.venv\\lib\\site-packages\\napari\\plugins\\_plugin_manager.py:555: UserWarning: Plugin 'napari-animated-gif-io' has already registered a function widget 'save as animated gif' which has now been overwritten\n",
      "  warn(message=warn_message)\n"
     ]
    },
    {
     "name": "stdout",
     "output_type": "stream",
     "text": [
      "Processing plane: 0\n",
      "images shape (24, 256, 512)\n",
      "Combination 1/1: cp_-3-ft_0.1-st_0.01-resample_True_augment=False\n"
     ]
    },
    {
     "name": "stderr",
     "output_type": "stream",
     "text": [
      "100%|██████████| 23/23 [00:00<00:00, 1533.27it/s]\n"
     ]
    },
    {
     "name": "stdout",
     "output_type": "stream",
     "text": [
      "Processing plane: 1\n",
      "images shape (24, 256, 512)\n",
      "Combination 1/1: cp_-3-ft_0.1-st_0.01-resample_True_augment=False\n"
     ]
    },
    {
     "name": "stderr",
     "output_type": "stream",
     "text": [
      "100%|██████████| 23/23 [00:00<00:00, 1533.23it/s]\n"
     ]
    },
    {
     "name": "stdout",
     "output_type": "stream",
     "text": [
      "Processing plane: 2\n",
      "images shape (24, 256, 512)\n",
      "Combination 1/1: cp_-3-ft_0.1-st_0.01-resample_True_augment=False\n"
     ]
    },
    {
     "name": "stderr",
     "output_type": "stream",
     "text": [
      "100%|██████████| 23/23 [00:00<00:00, 1533.54it/s]\n"
     ]
    },
    {
     "name": "stdout",
     "output_type": "stream",
     "text": [
      "Processing plane: 3\n",
      "images shape (24, 256, 512)\n",
      "Combination 1/1: cp_-3-ft_0.1-st_0.01-resample_True_augment=False\n"
     ]
    },
    {
     "name": "stderr",
     "output_type": "stream",
     "text": [
      "100%|██████████| 23/23 [00:00<00:00, 1642.78it/s]\n"
     ]
    },
    {
     "name": "stdout",
     "output_type": "stream",
     "text": [
      "Processing plane: 4\n",
      "images shape (24, 256, 512)\n",
      "Combination 1/1: cp_-3-ft_0.1-st_0.01-resample_True_augment=False\n"
     ]
    },
    {
     "name": "stderr",
     "output_type": "stream",
     "text": [
      "100%|██████████| 23/23 [00:00<00:00, 1533.40it/s]\n"
     ]
    },
    {
     "name": "stdout",
     "output_type": "stream",
     "text": [
      "Processing plane: 5\n",
      "images shape (24, 256, 512)\n",
      "Combination 1/1: cp_-3-ft_0.1-st_0.01-resample_True_augment=False\n"
     ]
    },
    {
     "name": "stderr",
     "output_type": "stream",
     "text": [
      "100%|██████████| 23/23 [00:00<00:00, 1436.96it/s]\n"
     ]
    },
    {
     "name": "stdout",
     "output_type": "stream",
     "text": [
      "Processing plane: 6\n",
      "images shape (24, 256, 512)\n",
      "Combination 1/1: cp_-3-ft_0.1-st_0.01-resample_True_augment=False\n"
     ]
    },
    {
     "name": "stderr",
     "output_type": "stream",
     "text": [
      "100%|██████████| 23/23 [00:00<00:00, 1533.79it/s]\n"
     ]
    },
    {
     "name": "stdout",
     "output_type": "stream",
     "text": [
      "Processing plane: 7\n",
      "images shape (24, 256, 512)\n",
      "Combination 1/1: cp_-3-ft_0.1-st_0.01-resample_True_augment=False\n"
     ]
    },
    {
     "name": "stderr",
     "output_type": "stream",
     "text": [
      "100%|██████████| 23/23 [00:00<00:00, 1149.93it/s]\n"
     ]
    }
   ],
   "execution_count": 14
  },
  {
   "metadata": {},
   "cell_type": "code",
   "outputs": [],
   "execution_count": null,
   "source": "",
   "id": "8cb648d5e11daf7f"
  },
  {
   "metadata": {
    "ExecuteTime": {
     "end_time": "2024-07-04T12:01:10.905602Z",
     "start_time": "2024-07-04T12:01:10.417600Z"
    }
   },
   "cell_type": "code",
   "source": [
    "viewer.add_image(images_stack[0], name=\"images\")\n",
    "viewer.add_labels(mask_stack[0], name= \"masks\")"
   ],
   "id": "ecb608d69641c1fe",
   "outputs": [
    {
     "ename": "TypeError",
     "evalue": "Only integer types are supported for Labels layers, but data contains float32.",
     "output_type": "error",
     "traceback": [
      "\u001B[1;31m---------------------------------------------------------------------------\u001B[0m",
      "\u001B[1;31mTypeError\u001B[0m                                 Traceback (most recent call last)",
      "Cell \u001B[1;32mIn[18], line 2\u001B[0m\n\u001B[0;32m      1\u001B[0m viewer\u001B[38;5;241m.\u001B[39madd_image(images_stack[\u001B[38;5;241m0\u001B[39m], name\u001B[38;5;241m=\u001B[39m\u001B[38;5;124m\"\u001B[39m\u001B[38;5;124mimages\u001B[39m\u001B[38;5;124m\"\u001B[39m)\n\u001B[1;32m----> 2\u001B[0m \u001B[43mviewer\u001B[49m\u001B[38;5;241;43m.\u001B[39;49m\u001B[43madd_labels\u001B[49m\u001B[43m(\u001B[49m\u001B[43mmask_stack\u001B[49m\u001B[43m[\u001B[49m\u001B[38;5;241;43m0\u001B[39;49m\u001B[43m]\u001B[49m\u001B[43m,\u001B[49m\u001B[43m \u001B[49m\u001B[43mname\u001B[49m\u001B[38;5;241;43m=\u001B[39;49m\u001B[43m \u001B[49m\u001B[38;5;124;43m\"\u001B[39;49m\u001B[38;5;124;43mmasks\u001B[39;49m\u001B[38;5;124;43m\"\u001B[39;49m\u001B[43m)\u001B[49m\n",
      "File \u001B[1;32mD:\\montruth\\PycharmProjects\\samplePy\\.venv\\lib\\site-packages\\napari\\components\\viewer_model.py:7\u001B[0m, in \u001B[0;36madd_labels\u001B[1;34m(self, data, affine, blending, cache, colormap, depiction, experimental_clipping_planes, features, metadata, multiscale, name, opacity, plane, properties, rendering, rotate, scale, shear, translate, visible, seed, num_colors, color)\u001B[0m\n\u001B[0;32m      5\u001B[0m \u001B[38;5;28;01mimport\u001B[39;00m \u001B[38;5;21;01mos\u001B[39;00m\n\u001B[0;32m      6\u001B[0m \u001B[38;5;28;01mimport\u001B[39;00m \u001B[38;5;21;01mwarnings\u001B[39;00m\n\u001B[1;32m----> 7\u001B[0m \u001B[38;5;28;01mfrom\u001B[39;00m \u001B[38;5;21;01mfunctools\u001B[39;00m \u001B[38;5;28;01mimport\u001B[39;00m lru_cache\n\u001B[0;32m      8\u001B[0m \u001B[38;5;28;01mfrom\u001B[39;00m \u001B[38;5;21;01mpathlib\u001B[39;00m \u001B[38;5;28;01mimport\u001B[39;00m Path\n\u001B[0;32m      9\u001B[0m \u001B[38;5;28;01mfrom\u001B[39;00m \u001B[38;5;21;01mtyping\u001B[39;00m \u001B[38;5;28;01mimport\u001B[39;00m (\n\u001B[0;32m     10\u001B[0m     TYPE_CHECKING,\n\u001B[0;32m     11\u001B[0m     Any,\n\u001B[1;32m   (...)\u001B[0m\n\u001B[0;32m     19\u001B[0m     Union,\n\u001B[0;32m     20\u001B[0m )\n",
      "File \u001B[1;32mD:\\montruth\\PycharmProjects\\samplePy\\.venv\\lib\\site-packages\\napari\\layers\\base\\base.py:88\u001B[0m, in \u001B[0;36mPostInit.__call__\u001B[1;34m(self, *args, **kwargs)\u001B[0m\n\u001B[0;32m     87\u001B[0m \u001B[38;5;28;01mdef\u001B[39;00m \u001B[38;5;21m__call__\u001B[39m(\u001B[38;5;28mself\u001B[39m, \u001B[38;5;241m*\u001B[39margs, \u001B[38;5;241m*\u001B[39m\u001B[38;5;241m*\u001B[39mkwargs):\n\u001B[1;32m---> 88\u001B[0m     obj \u001B[38;5;241m=\u001B[39m \u001B[38;5;28msuper\u001B[39m()\u001B[38;5;241m.\u001B[39m\u001B[38;5;21m__call__\u001B[39m(\u001B[38;5;241m*\u001B[39margs, \u001B[38;5;241m*\u001B[39m\u001B[38;5;241m*\u001B[39mkwargs)\n\u001B[0;32m     89\u001B[0m     obj\u001B[38;5;241m.\u001B[39m_post_init()\n\u001B[0;32m     90\u001B[0m     \u001B[38;5;28;01mreturn\u001B[39;00m obj\n",
      "File \u001B[1;32mD:\\montruth\\PycharmProjects\\samplePy\\.venv\\lib\\site-packages\\napari\\utils\\migrations.py:92\u001B[0m, in \u001B[0;36mdeprecated_constructor_arg_by_attr.<locals>.wrapper.<locals>._wrapper\u001B[1;34m(*args, **kwargs)\u001B[0m\n\u001B[0;32m     90\u001B[0m \u001B[38;5;28;01mif\u001B[39;00m name \u001B[38;5;129;01min\u001B[39;00m kwargs:\n\u001B[0;32m     91\u001B[0m     value \u001B[38;5;241m=\u001B[39m kwargs\u001B[38;5;241m.\u001B[39mpop(name)\n\u001B[1;32m---> 92\u001B[0m res \u001B[38;5;241m=\u001B[39m func(\u001B[38;5;241m*\u001B[39margs, \u001B[38;5;241m*\u001B[39m\u001B[38;5;241m*\u001B[39mkwargs)\n\u001B[0;32m     94\u001B[0m \u001B[38;5;28;01mif\u001B[39;00m value \u001B[38;5;129;01mis\u001B[39;00m \u001B[38;5;129;01mnot\u001B[39;00m _UNSET:\n\u001B[0;32m     95\u001B[0m     \u001B[38;5;28msetattr\u001B[39m(args[\u001B[38;5;241m0\u001B[39m], name, value)\n",
      "File \u001B[1;32mD:\\montruth\\PycharmProjects\\samplePy\\.venv\\lib\\site-packages\\napari\\utils\\migrations.py:92\u001B[0m, in \u001B[0;36mdeprecated_constructor_arg_by_attr.<locals>.wrapper.<locals>._wrapper\u001B[1;34m(*args, **kwargs)\u001B[0m\n\u001B[0;32m     90\u001B[0m \u001B[38;5;28;01mif\u001B[39;00m name \u001B[38;5;129;01min\u001B[39;00m kwargs:\n\u001B[0;32m     91\u001B[0m     value \u001B[38;5;241m=\u001B[39m kwargs\u001B[38;5;241m.\u001B[39mpop(name)\n\u001B[1;32m---> 92\u001B[0m res \u001B[38;5;241m=\u001B[39m func(\u001B[38;5;241m*\u001B[39margs, \u001B[38;5;241m*\u001B[39m\u001B[38;5;241m*\u001B[39mkwargs)\n\u001B[0;32m     94\u001B[0m \u001B[38;5;28;01mif\u001B[39;00m value \u001B[38;5;129;01mis\u001B[39;00m \u001B[38;5;129;01mnot\u001B[39;00m _UNSET:\n\u001B[0;32m     95\u001B[0m     \u001B[38;5;28msetattr\u001B[39m(args[\u001B[38;5;241m0\u001B[39m], name, value)\n",
      "File \u001B[1;32mD:\\montruth\\PycharmProjects\\samplePy\\.venv\\lib\\site-packages\\napari\\utils\\migrations.py:92\u001B[0m, in \u001B[0;36mdeprecated_constructor_arg_by_attr.<locals>.wrapper.<locals>._wrapper\u001B[1;34m(*args, **kwargs)\u001B[0m\n\u001B[0;32m     90\u001B[0m \u001B[38;5;28;01mif\u001B[39;00m name \u001B[38;5;129;01min\u001B[39;00m kwargs:\n\u001B[0;32m     91\u001B[0m     value \u001B[38;5;241m=\u001B[39m kwargs\u001B[38;5;241m.\u001B[39mpop(name)\n\u001B[1;32m---> 92\u001B[0m res \u001B[38;5;241m=\u001B[39m func(\u001B[38;5;241m*\u001B[39margs, \u001B[38;5;241m*\u001B[39m\u001B[38;5;241m*\u001B[39mkwargs)\n\u001B[0;32m     94\u001B[0m \u001B[38;5;28;01mif\u001B[39;00m value \u001B[38;5;129;01mis\u001B[39;00m \u001B[38;5;129;01mnot\u001B[39;00m _UNSET:\n\u001B[0;32m     95\u001B[0m     \u001B[38;5;28msetattr\u001B[39m(args[\u001B[38;5;241m0\u001B[39m], name, value)\n",
      "File \u001B[1;32mD:\\montruth\\PycharmProjects\\samplePy\\.venv\\lib\\site-packages\\napari\\layers\\labels\\labels.py:306\u001B[0m, in \u001B[0;36mLabels.__init__\u001B[1;34m(self, data, affine, blending, cache, colormap, depiction, experimental_clipping_planes, features, metadata, multiscale, name, opacity, plane, properties, rendering, rotate, scale, shear, translate, visible)\u001B[0m\n\u001B[0;32m    303\u001B[0m \u001B[38;5;28mself\u001B[39m\u001B[38;5;241m.\u001B[39m_show_selected_label \u001B[38;5;241m=\u001B[39m \u001B[38;5;28;01mFalse\u001B[39;00m\n\u001B[0;32m    304\u001B[0m \u001B[38;5;28mself\u001B[39m\u001B[38;5;241m.\u001B[39m_contour \u001B[38;5;241m=\u001B[39m \u001B[38;5;241m0\u001B[39m\n\u001B[1;32m--> 306\u001B[0m data \u001B[38;5;241m=\u001B[39m \u001B[38;5;28;43mself\u001B[39;49m\u001B[38;5;241;43m.\u001B[39;49m\u001B[43m_ensure_int_labels\u001B[49m\u001B[43m(\u001B[49m\u001B[43mdata\u001B[49m\u001B[43m)\u001B[49m\n\u001B[0;32m    308\u001B[0m \u001B[38;5;28msuper\u001B[39m()\u001B[38;5;241m.\u001B[39m\u001B[38;5;21m__init__\u001B[39m(\n\u001B[0;32m    309\u001B[0m     data,\n\u001B[0;32m    310\u001B[0m     rendering\u001B[38;5;241m=\u001B[39mrendering,\n\u001B[1;32m   (...)\u001B[0m\n\u001B[0;32m    325\u001B[0m     experimental_clipping_planes\u001B[38;5;241m=\u001B[39mexperimental_clipping_planes,\n\u001B[0;32m    326\u001B[0m )\n\u001B[0;32m    328\u001B[0m \u001B[38;5;28mself\u001B[39m\u001B[38;5;241m.\u001B[39mevents\u001B[38;5;241m.\u001B[39madd(\n\u001B[0;32m    329\u001B[0m     brush_shape\u001B[38;5;241m=\u001B[39mEvent,\n\u001B[0;32m    330\u001B[0m     brush_size\u001B[38;5;241m=\u001B[39mEvent,\n\u001B[1;32m   (...)\u001B[0m\n\u001B[0;32m    350\u001B[0m     show_selected_label\u001B[38;5;241m=\u001B[39mEvent,\n\u001B[0;32m    351\u001B[0m )\n",
      "File \u001B[1;32mD:\\montruth\\PycharmProjects\\samplePy\\.venv\\lib\\site-packages\\napari\\layers\\labels\\labels.py:691\u001B[0m, in \u001B[0;36mLabels._ensure_int_labels\u001B[1;34m(self, data)\u001B[0m\n\u001B[0;32m    687\u001B[0m \u001B[38;5;28;01mfor\u001B[39;00m data_level \u001B[38;5;129;01min\u001B[39;00m data:\n\u001B[0;32m    688\u001B[0m     \u001B[38;5;66;03m# normalize_dtype turns e.g. tensorstore or torch dtypes into\u001B[39;00m\n\u001B[0;32m    689\u001B[0m     \u001B[38;5;66;03m# numpy dtypes\u001B[39;00m\n\u001B[0;32m    690\u001B[0m     \u001B[38;5;28;01mif\u001B[39;00m np\u001B[38;5;241m.\u001B[39missubdtype(normalize_dtype(data_level\u001B[38;5;241m.\u001B[39mdtype), np\u001B[38;5;241m.\u001B[39mfloating):\n\u001B[1;32m--> 691\u001B[0m         \u001B[38;5;28;01mraise\u001B[39;00m \u001B[38;5;167;01mTypeError\u001B[39;00m(\n\u001B[0;32m    692\u001B[0m             trans\u001B[38;5;241m.\u001B[39m_(\n\u001B[0;32m    693\u001B[0m                 \u001B[38;5;124m\"\u001B[39m\u001B[38;5;124mOnly integer types are supported for Labels layers, but data contains \u001B[39m\u001B[38;5;132;01m{data_level_type}\u001B[39;00m\u001B[38;5;124m.\u001B[39m\u001B[38;5;124m\"\u001B[39m,\n\u001B[0;32m    694\u001B[0m                 data_level_type\u001B[38;5;241m=\u001B[39mdata_level\u001B[38;5;241m.\u001B[39mdtype,\n\u001B[0;32m    695\u001B[0m             )\n\u001B[0;32m    696\u001B[0m         )\n\u001B[0;32m    697\u001B[0m     \u001B[38;5;28;01mif\u001B[39;00m data_level\u001B[38;5;241m.\u001B[39mdtype \u001B[38;5;241m==\u001B[39m \u001B[38;5;28mbool\u001B[39m:\n\u001B[0;32m    698\u001B[0m         int_data\u001B[38;5;241m.\u001B[39mappend(data_level\u001B[38;5;241m.\u001B[39mastype(np\u001B[38;5;241m.\u001B[39mint8))\n",
      "\u001B[1;31mTypeError\u001B[0m: Only integer types are supported for Labels layers, but data contains float32."
     ]
    }
   ],
   "execution_count": 18
  },
  {
   "metadata": {
    "ExecuteTime": {
     "end_time": "2024-07-04T12:00:59.433904Z",
     "start_time": "2024-07-04T12:00:59.425903Z"
    }
   },
   "cell_type": "code",
   "source": "mask_stack.shape",
   "id": "b732dc507ece2837",
   "outputs": [
    {
     "data": {
      "text/plain": [
       "(8, 24, 256, 512)"
      ]
     },
     "execution_count": 17,
     "metadata": {},
     "output_type": "execute_result"
    }
   ],
   "execution_count": 17
  },
  {
   "metadata": {},
   "cell_type": "code",
   "outputs": [
    {
     "name": "stderr",
     "output_type": "stream",
     "text": [
      "WARNING: DirectWrite: CreateFontFaceFromHDC() failed (Indicates an error in an input file such as a font file.) for QFontDef(Family=\"\", pointsize=12, pixelsize=16, styleHint=5, weight=50, stretch=100, hintingPreference=0) LOGFONT(\"MS Sans Serif\", lfWidth=0, lfHeight=-16) dpi=96\n",
      "D:\\montruth\\PycharmProjects\\samplePy\\.venv\\lib\\site-packages\\napari\\plugins\\_plugin_manager.py:555: UserWarning: Plugin 'napari-animated-gif-io' has already registered a function widget 'save as animated gif' which has now been overwritten\n",
      "  warn(message=warn_message)\n"
     ]
    },
    {
     "name": "stdout",
     "output_type": "stream",
     "text": [
      "Processing plane: 0\n",
      "images shape (24, 256, 512)\n",
      "Combination 1/1: cp_-1-ft_0.4-st_0.01-resample_True_augment=False\n"
     ]
    },
    {
     "name": "stderr",
     "output_type": "stream",
     "text": [
      "100%|██████████| 23/23 [00:00<00:00, 348.43it/s]\n"
     ]
    },
    {
     "name": "stdout",
     "output_type": "stream",
     "text": [
      "Processing plane: 1\n",
      "images shape (24, 256, 512)\n",
      "Combination 1/1: cp_-1-ft_0.4-st_0.01-resample_True_augment=False\n"
     ]
    },
    {
     "name": "stderr",
     "output_type": "stream",
     "text": [
      "100%|██████████| 23/23 [00:00<00:00, 353.80it/s]\n"
     ]
    },
    {
     "name": "stdout",
     "output_type": "stream",
     "text": [
      "Processing plane: 2\n",
      "images shape (24, 256, 512)\n",
      "Combination 1/1: cp_-1-ft_0.4-st_0.01-resample_True_augment=False\n"
     ]
    },
    {
     "name": "stderr",
     "output_type": "stream",
     "text": [
      "100%|██████████| 23/23 [00:00<00:00, 343.23it/s]\n"
     ]
    },
    {
     "name": "stdout",
     "output_type": "stream",
     "text": [
      "Processing plane: 3\n",
      "images shape (24, 256, 512)\n",
      "Combination 1/1: cp_-1-ft_0.4-st_0.01-resample_True_augment=False\n"
     ]
    },
    {
     "name": "stderr",
     "output_type": "stream",
     "text": [
      "100%|██████████| 23/23 [00:00<00:00, 307.00it/s]\n"
     ]
    },
    {
     "name": "stdout",
     "output_type": "stream",
     "text": [
      "Processing plane: 4\n",
      "images shape (24, 256, 512)\n",
      "Combination 1/1: cp_-1-ft_0.4-st_0.01-resample_True_augment=False\n"
     ]
    },
    {
     "name": "stderr",
     "output_type": "stream",
     "text": [
      "100%|██████████| 23/23 [00:00<00:00, 221.12it/s]\n"
     ]
    },
    {
     "name": "stdout",
     "output_type": "stream",
     "text": [
      "Processing plane: 5\n",
      "images shape (24, 256, 512)\n",
      "Combination 1/1: cp_-1-ft_0.4-st_0.01-resample_True_augment=False\n"
     ]
    },
    {
     "name": "stderr",
     "output_type": "stream",
     "text": [
      "100%|██████████| 23/23 [00:00<00:00, 280.45it/s]\n"
     ]
    },
    {
     "name": "stdout",
     "output_type": "stream",
     "text": [
      "Processing plane: 6\n",
      "images shape (24, 256, 512)\n",
      "Combination 1/1: cp_-1-ft_0.4-st_0.01-resample_True_augment=False\n"
     ]
    },
    {
     "name": "stderr",
     "output_type": "stream",
     "text": [
      "100%|██████████| 23/23 [00:00<00:00, 348.43it/s]\n"
     ]
    },
    {
     "name": "stdout",
     "output_type": "stream",
     "text": [
      "Processing plane: 7\n",
      "images shape (24, 256, 512)\n",
      "Combination 1/1: cp_-1-ft_0.4-st_0.01-resample_True_augment=False\n"
     ]
    },
    {
     "name": "stderr",
     "output_type": "stream",
     "text": [
      "100%|██████████| 23/23 [00:00<00:00, 396.51it/s]\n"
     ]
    },
    {
     "name": "stdout",
     "output_type": "stream",
     "text": [
      "All combinations processed and saved.\n"
     ]
    }
   ],
   "execution_count": 49,
   "source": [
    "# Save the mask stack for each parameter combination\n",
    "output_path = f\"{mask_plane_path.replace('.tif', '')}_params_{params_text}.tif\"\n",
    "imwrite(output_path, mask_stack)\n",
    "\n",
    "print(\"All combinations processed and saved.\")\n",
    "viewer.add_image(images_stack)\n",
    "napari.run()\n"
   ],
   "id": "3a37584dd4bf7c06"
  },
  {
   "metadata": {
    "ExecuteTime": {
     "end_time": "2024-06-14T14:29:40.345651Z",
     "start_time": "2024-06-14T14:29:39.023408Z"
    }
   },
   "cell_type": "code",
   "source": "viewer.add_image(images_stack[5])",
   "id": "b33c8838ea73e0f3",
   "outputs": [
    {
     "data": {
      "text/plain": [
       "<Image layer 'Image' at 0x1d780e5aa70>"
      ]
     },
     "execution_count": 45,
     "metadata": {},
     "output_type": "execute_result"
    }
   ],
   "execution_count": 45
  },
  {
   "metadata": {
    "ExecuteTime": {
     "end_time": "2024-06-14T07:53:00.309638Z",
     "start_time": "2024-06-14T07:52:47.490274Z"
    }
   },
   "cell_type": "code",
   "source": [
    "from skimage import exposure\n",
    "from skimage.morphology import label\n",
    "# Visualize masks\n",
    "viewer = napari.Viewer()\n",
    "matched_stack = exposure.match_histograms(images_stack,mask_stack)\n",
    "viewer.add_image(images_stack[0], name='images')\n",
    "viewer.add_labels(label(mask_stack[0]), name='masks')"
   ],
   "id": "e24f3dce7f7e502",
   "outputs": [
    {
     "name": "stderr",
     "output_type": "stream",
     "text": [
      "WARNING: DirectWrite: CreateFontFaceFromHDC() failed (Indicates an error in an input file such as a font file.) for QFontDef(Family=\"\", pointsize=12, pixelsize=16, styleHint=5, weight=50, stretch=100, hintingPreference=0) LOGFONT(\"MS Sans Serif\", lfWidth=0, lfHeight=-16) dpi=96\n",
      "D:\\montruth\\PycharmProjects\\samplePy\\.venv\\lib\\site-packages\\napari\\plugins\\_plugin_manager.py:555: UserWarning: Plugin 'napari-animated-gif-io' has already registered a function widget 'save as animated gif' which has now been overwritten\n",
      "  warn(message=warn_message)\n"
     ]
    },
    {
     "data": {
      "text/plain": [
       "<Labels layer 'masks' at 0x1d6cd6e8190>"
      ]
     },
     "execution_count": 19,
     "metadata": {},
     "output_type": "execute_result"
    }
   ],
   "execution_count": 19
  },
  {
   "metadata": {
    "ExecuteTime": {
     "end_time": "2024-06-14T07:52:05.647039Z",
     "start_time": "2024-06-14T07:52:05.640036Z"
    }
   },
   "cell_type": "code",
   "source": "",
   "id": "e178f6f8b491873e",
   "outputs": [
    {
     "data": {
      "text/plain": [
       "(8, 24, 256, 512)"
      ]
     },
     "execution_count": 18,
     "metadata": {},
     "output_type": "execute_result"
    }
   ],
   "execution_count": 18
  },
  {
   "metadata": {
    "ExecuteTime": {
     "end_time": "2024-06-13T21:16:07.068362Z",
     "start_time": "2024-06-13T21:15:51.979536Z"
    }
   },
   "cell_type": "code",
   "source": [
    "#Proofreading segmentation\n",
    "\n",
    "# --- Imports ---\n",
    "# Standard libraries\n",
    "import os\n",
    "import re\n",
    "from datetime import datetime\n",
    "# Image processing and data handling\n",
    "import numpy as np\n",
    "import tifffile\n",
    "import imageio.v2 as imageio\n",
    "# Visualization and GUI\n",
    "import napari\n",
    "from napari.utils.colormaps import Colormap\n",
    "\n",
    "\n",
    "# --- Data Loading ---\n",
    "# Load image data\n",
    "image_path = mask_plane_path\n",
    "img = tifffile.imread(image_path)\n",
    "\n",
    "\n",
    "# Set path to save proofreading\n",
    "dir_to_save = os.path.join(trials_path,\"masks\")\n",
    "print(f\"Predictions will be saved in {dir_to_save}\")\n",
    "\n",
    "# --- Napari Viewer Setup ---\n",
    "viewer = napari.Viewer()\n",
    "scale = (1,1,1)\n",
    "img_layer = viewer.add_image(img, blending=\"additive\",  contrast_limits =[0,8000], name=\"img\", scale=scale)\n",
    "\n",
    "load_proofread = False\n",
    "if load_proofread == True:\n",
    "    proofread_path = r\"C:\\Users\\montruth\\fishPy\\tests\\proofreading\\20231006_162735_proofreading.tif\"\n",
    "    proofread_data = tifffile.imread(proofread_path)\n",
    "else:\n",
    "    # Proofread layer for showing proofreading status\n",
    "    proofread_data = np.zeros_like(img.data)\n",
    "    \n",
    "proofread_layer = viewer.add_labels(proofread_data, name='proofread', opacity=2, visible=True)\n",
    "\n",
    "# Add relabelled stack as a label layer\n",
    "label_layer = viewer.add_labels(img, opacity=0.3, name=\"labels\", scale=scale)\n",
    "label_layer.contour=2\n",
    "\n",
    "# Start at the beginning of the stack\n",
    "viewer.dims.current_step = [0,0,0]\n",
    "\n",
    "# --- Keybindings ---\n",
    "@viewer.bind_key('x')\n",
    "def toggle_label_visibility(viewer):\n",
    "    \"\"\"Toggle visibility of the label layer.\"\"\"\n",
    "    if \"labels\" in viewer.layers:\n",
    "        viewer.layers[\"labels\"].visible = not viewer.layers[\"labels\"].visible\n",
    "\n",
    "@viewer.bind_key('a')\n",
    "def activate_erase_mode(viewer):\n",
    "    \"\"\"Activate erase mode for label layers.\"\"\"\n",
    "    for layer in viewer.layers:\n",
    "        if isinstance(layer, napari.layers.Labels):\n",
    "            layer.mode = 'erase'\n",
    "\n",
    "@viewer.bind_key('s')\n",
    "def activate_paint_mode(viewer):\n",
    "    \"\"\"Activate paint mode for label layers.\"\"\"\n",
    "    for layer in viewer.layers:\n",
    "        if isinstance(layer, napari.layers.Labels):\n",
    "            layer.mode = 'paint'\n",
    "\n",
    "@viewer.bind_key('d')\n",
    "def activate_fill_mode(viewer):\n",
    "    \"\"\"Activate fill mode for label layers.\"\"\"\n",
    "    for layer in viewer.layers:\n",
    "        if isinstance(layer, napari.layers.Labels):\n",
    "            layer.mode = 'fill'\n",
    "\n",
    "@viewer.bind_key('f')\n",
    "def activate_pick_and_mark_mode(viewer):\n",
    "    \"\"\"Activate pick mode for label layers and mark the spot with a point.\"\"\"\n",
    "    global last_added_point_z\n",
    "\n",
    "    layer =  viewer.layers[\"labels\"]\n",
    "    viewer.layers[\"labels\"].visible = True\n",
    "    viewer.layers.selection.active = viewer.layers['labels']\n",
    "    viewer.layers[\"labels\"].mode = 'pick'\n",
    "\n",
    "    def on_click(layer, event):\n",
    "        \"\"\"Handle mouse click event to mark the spot with a point.\"\"\"\n",
    "        global last_added_point_z\n",
    "        if event.type == 'mouse_press':\n",
    "            # Get click coordinates\n",
    "            coord = viewer.cursor.position\n",
    "            last_added_point_z = coord[0]\n",
    "\n",
    "            # If a points layer named 'marks' doesn't exist, create it\n",
    "            if 'marks' not in viewer.layers:\n",
    "                viewer.add_points(coord, name='marks', face_color='green', edge_color='white', symbol= 'cross', size=4, opacity=0.5)\n",
    "            else:\n",
    "                viewer.layers['marks'].data = np.array([coord])  # Update the existing points layer\n",
    "\n",
    "            total_z_slices = int(viewer.dims.range[0][1])\n",
    "\n",
    "            # Add the point at the clicked position on the 'marks' layer for each z-slice\n",
    "            min_mark = int(max(0, last_added_point_z - 10))\n",
    "            max_mark = int(min(total_z_slices, last_added_point_z + 10))\n",
    "\n",
    "            for z in range(min_mark, max_mark):\n",
    "                if z != int(coord[0]):\n",
    "                    viewer.layers['marks'].add([z, coord[1], coord[2]])\n",
    "\n",
    "            viewer.layers.selection.active = viewer.layers['labels']\n",
    "            viewer.layers.selection.selected = [viewer.layers['img'], viewer.layers['labels'], viewer.layers['marks']]\n",
    "            viewer.layers['labels'].mode = 'fill'\n",
    "\n",
    "            # Disconnect the callback to prevent further marking until 'f' is pressed again\n",
    "            layer.mouse_drag_callbacks.remove(on_click)\n",
    "\n",
    "    # Connect the callback\n",
    "    layer.mouse_drag_callbacks.append(on_click)\n",
    "\n",
    "@viewer.bind_key('Control-f')\n",
    "def activate_pick_mode(viewer):\n",
    "    \"\"\"Activate pick mode without marking a point.\"\"\"\n",
    "    for layer in viewer.layers:\n",
    "        if isinstance(layer, napari.layers.Labels):\n",
    "            layer.mode = 'pick'\n",
    "\n",
    "@viewer.bind_key('r')\n",
    "def toggle_proofread_visibility(viewer):\n",
    "    \"\"\"Toggle visibility of the proofread layer.\"\"\"\n",
    "    if \"proofread\" in viewer.layers:\n",
    "        viewer.layers[\"proofread\"].visible = not viewer.layers[\"proofread\"].visible\n",
    "\n",
    "@viewer.bind_key('Space', overwrite=True)\n",
    "def transfer_proofread_label_and_remove_points(viewer):\n",
    "    \"\"\"Transfer the proofread label and remove points.\"\"\"\n",
    "    global proofread_data\n",
    "    # Get the currently selected label\n",
    "    selected_label = label_layer.selected_label\n",
    "    print(f\"selected label: {selected_label}\")\n",
    "    \n",
    "    # Set the currently selected label in the copied_data\n",
    "    proofread_data[label_layer.data == selected_label] = selected_label\n",
    "    \n",
    "    # 3. Refresh the new_label_layer to reflect the changes\n",
    "    proofread_layer.data = proofread_data\n",
    "    \n",
    "    proofread_layer.refresh()\n",
    "    print(f\"ROIs proofread: {len(np.unique(viewer.layers['proofread'].data))}\")\n",
    "\n",
    "@viewer.bind_key('q')  \n",
    "def delete_selected_label(viewer):\n",
    "    \"\"\"Delete the selected label in the active layer.\"\"\"\n",
    "    layer_active = viewer.layers.selection.active\n",
    "    print(layer_active)\n",
    "    selected_label = layer_active.selected_label\n",
    "    if selected_label != 0:  # Ensure you're not deleting the background\n",
    "        layer_active.data[layer_active.data == selected_label] = 0\n",
    "        layer_active.refresh()\n",
    "\n",
    "@viewer.bind_key(\"l\")\n",
    "def save_proofread_labels(viewer):\n",
    "    \"\"\"Save proofread labels to disk.\"\"\"\n",
    "    # Construct the filename\n",
    "    current_time_str = datetime.now().strftime(\"%Y%m%d_%H%M%S\")\n",
    "    proofreading_filename = f\"{current_time_str}_proofreading.tif\"\n",
    "    profreading_save_path = os.path.join(dir_to_save, proofreading_filename)\n",
    "    labels_filename = f\"{current_time_str}_labels.tif\"\n",
    "    labels_save_path = os.path.join(dir_to_save, labels_filename)\n",
    "    # Save\n",
    "    tifffile.imwrite(profreading_save_path, proofread_layer.data)\n",
    "    tifffile.imwrite(labels_save_path, label_layer.data)\n",
    "    print(f\"Saved file {labels_save_path}\")\n",
    "    print(f\"Saved file {profreading_save_path}\")\n",
    "\n",
    "@viewer.bind_key('c')\n",
    "def connect_labels(viewer):\n",
    "    \"\"\"Connect two selected labels in the active layer.\"\"\"\n",
    "    active_layer = viewer.layers.selection.active\n",
    "    if isinstance(active_layer, napari.layers.Labels):\n",
    "        labels = list(active_layer.selected_label)\n",
    "        if len(labels) == 2:\n",
    "            active_layer.data[active_layer.data == labels[1]] = labels[0]\n",
    "            active_layer.refresh()\n",
    "\n",
    "@viewer.bind_key('Ctrl-s')\n",
    "def split_labels(viewer):\n",
    "    \"\"\"Split the selected label into two new labels in the active layer.\"\"\"\n",
    "    active_layer = viewer.layers.selection.active\n",
    "    if isinstance(active_layer, napari.layers.Labels):\n",
    "        selected_label = active_layer.selected_label\n",
    "        if selected_label != 0:\n",
    "            # Generate a new label ID\n",
    "            new_label = active_layer.data.max() + 1\n",
    "            # Logic to split the label can be customized; for simplicity, we'll use a thresholding approach here.\n",
    "            mask = active_layer.data == selected_label\n",
    "            split_mask = mask & (np.random.rand(*mask.shape) > 0.5)\n",
    "            active_layer.data[split_mask] = new_label\n",
    "            active_layer.refresh()\n",
    "\n",
    "# Handling shifts in z\n",
    "@viewer.bind_key('Ctrl-z')\n",
    "def handle_shifts_in_z(viewer):\n",
    "    \"\"\"Handle shifts in z and align the labels accordingly.\"\"\"\n",
    "    active_layer = viewer.layers.selection.active\n",
    "    if isinstance(active_layer, napari.layers.Labels):\n",
    "        data = active_layer.data\n",
    "        for i in range(1, data.shape[0]):\n",
    "            previous_slice = data[i-1]\n",
    "            current_slice = data[i]\n",
    "            unique_labels = np.unique(previous_slice)\n",
    "            for label in unique_labels:\n",
    "                if label != 0:\n",
    "                    shift = np.mean(np.argwhere(current_slice == label)[:, 0] - np.argwhere(previous_slice == label)[:, 0])\n",
    "                    if np.abs(shift) > 1:  # Apply shift threshold to adjust labels\n",
    "                        data[i] = np.roll(data[i], int(-shift), axis=0)\n",
    "        active_layer.data = data\n",
    "        active_layer.refresh()\n",
    "\n",
    "# --- Start the Napari Viewer ---\n",
    "viewer.show()\n"
   ],
   "id": "3b7156376c7c1b87",
   "outputs": [
    {
     "name": "stdout",
     "output_type": "stream",
     "text": [
      "Predictions will be saved in \\\\tungsten-nas.fmi.ch\\tungsten\\scratch\\gfriedri\\montruth\\2P_RawData\\2022-04-26\\f3\\trials\\masks\n"
     ]
    },
    {
     "name": "stderr",
     "output_type": "stream",
     "text": [
      "WARNING: DirectWrite: CreateFontFaceFromHDC() failed (Indicates an error in an input file such as a font file.) for QFontDef(Family=\"\", pointsize=12, pixelsize=16, styleHint=5, weight=50, stretch=100, hintingPreference=0) LOGFONT(\"MS Sans Serif\", lfWidth=0, lfHeight=-16) dpi=144\n",
      "WARNING: QWindowsWindow::setGeometry: Unable to set geometry 3840x2034+1286+544 (frame: 3862x2090+1275+499) on QWidgetWindow/\"_QtMainWindowClassWindow\" on \"\\\\.\\DISPLAY97\". Resulting geometry: 2564x1410+1286+544 (frame: 2586x1466+1275+499) margins: 11, 45, 11, 11 minimum size: 385x488 MINMAXINFO maxSize=0,0 maxpos=0,0 mintrack=792,1032 maxtrack=0,0)\n"
     ]
    },
    {
     "ename": "TypeError",
     "evalue": "Only integer types are supported for Labels layers, but data contains float32.",
     "output_type": "error",
     "traceback": [
      "\u001B[1;31m---------------------------------------------------------------------------\u001B[0m",
      "\u001B[1;31mTypeError\u001B[0m                                 Traceback (most recent call last)",
      "Cell \u001B[1;32mIn[13], line 40\u001B[0m\n\u001B[0;32m     36\u001B[0m \u001B[38;5;28;01melse\u001B[39;00m:\n\u001B[0;32m     37\u001B[0m     \u001B[38;5;66;03m# Proofread layer for showing proofreading status\u001B[39;00m\n\u001B[0;32m     38\u001B[0m     proofread_data \u001B[38;5;241m=\u001B[39m np\u001B[38;5;241m.\u001B[39mzeros_like(img\u001B[38;5;241m.\u001B[39mdata)\n\u001B[1;32m---> 40\u001B[0m proofread_layer \u001B[38;5;241m=\u001B[39m \u001B[43mviewer\u001B[49m\u001B[38;5;241;43m.\u001B[39;49m\u001B[43madd_labels\u001B[49m\u001B[43m(\u001B[49m\u001B[43mproofread_data\u001B[49m\u001B[43m,\u001B[49m\u001B[43m \u001B[49m\u001B[43mname\u001B[49m\u001B[38;5;241;43m=\u001B[39;49m\u001B[38;5;124;43m'\u001B[39;49m\u001B[38;5;124;43mproofread\u001B[39;49m\u001B[38;5;124;43m'\u001B[39;49m\u001B[43m,\u001B[49m\u001B[43m \u001B[49m\u001B[43mopacity\u001B[49m\u001B[38;5;241;43m=\u001B[39;49m\u001B[38;5;241;43m2\u001B[39;49m\u001B[43m,\u001B[49m\u001B[43m \u001B[49m\u001B[43mvisible\u001B[49m\u001B[38;5;241;43m=\u001B[39;49m\u001B[38;5;28;43;01mTrue\u001B[39;49;00m\u001B[43m)\u001B[49m\n\u001B[0;32m     42\u001B[0m \u001B[38;5;66;03m# Add relabelled stack as a label layer\u001B[39;00m\n\u001B[0;32m     43\u001B[0m label_layer \u001B[38;5;241m=\u001B[39m viewer\u001B[38;5;241m.\u001B[39madd_labels(img, opacity\u001B[38;5;241m=\u001B[39m\u001B[38;5;241m0.3\u001B[39m, name\u001B[38;5;241m=\u001B[39m\u001B[38;5;124m\"\u001B[39m\u001B[38;5;124mlabels\u001B[39m\u001B[38;5;124m\"\u001B[39m, scale\u001B[38;5;241m=\u001B[39mscale)\n",
      "File \u001B[1;32mD:\\montruth\\PycharmProjects\\samplePy\\.venv\\lib\\site-packages\\napari\\components\\viewer_model.py:7\u001B[0m, in \u001B[0;36madd_labels\u001B[1;34m(self, data, affine, blending, cache, colormap, depiction, experimental_clipping_planes, features, metadata, multiscale, name, opacity, plane, properties, rendering, rotate, scale, shear, translate, visible, seed, num_colors, color)\u001B[0m\n\u001B[0;32m      5\u001B[0m \u001B[38;5;28;01mimport\u001B[39;00m \u001B[38;5;21;01mos\u001B[39;00m\n\u001B[0;32m      6\u001B[0m \u001B[38;5;28;01mimport\u001B[39;00m \u001B[38;5;21;01mwarnings\u001B[39;00m\n\u001B[1;32m----> 7\u001B[0m \u001B[38;5;28;01mfrom\u001B[39;00m \u001B[38;5;21;01mfunctools\u001B[39;00m \u001B[38;5;28;01mimport\u001B[39;00m lru_cache\n\u001B[0;32m      8\u001B[0m \u001B[38;5;28;01mfrom\u001B[39;00m \u001B[38;5;21;01mpathlib\u001B[39;00m \u001B[38;5;28;01mimport\u001B[39;00m Path\n\u001B[0;32m      9\u001B[0m \u001B[38;5;28;01mfrom\u001B[39;00m \u001B[38;5;21;01mtyping\u001B[39;00m \u001B[38;5;28;01mimport\u001B[39;00m (\n\u001B[0;32m     10\u001B[0m     TYPE_CHECKING,\n\u001B[0;32m     11\u001B[0m     Any,\n\u001B[1;32m   (...)\u001B[0m\n\u001B[0;32m     19\u001B[0m     Union,\n\u001B[0;32m     20\u001B[0m )\n",
      "File \u001B[1;32mD:\\montruth\\PycharmProjects\\samplePy\\.venv\\lib\\site-packages\\napari\\layers\\base\\base.py:88\u001B[0m, in \u001B[0;36mPostInit.__call__\u001B[1;34m(self, *args, **kwargs)\u001B[0m\n\u001B[0;32m     87\u001B[0m \u001B[38;5;28;01mdef\u001B[39;00m \u001B[38;5;21m__call__\u001B[39m(\u001B[38;5;28mself\u001B[39m, \u001B[38;5;241m*\u001B[39margs, \u001B[38;5;241m*\u001B[39m\u001B[38;5;241m*\u001B[39mkwargs):\n\u001B[1;32m---> 88\u001B[0m     obj \u001B[38;5;241m=\u001B[39m \u001B[38;5;28msuper\u001B[39m()\u001B[38;5;241m.\u001B[39m\u001B[38;5;21m__call__\u001B[39m(\u001B[38;5;241m*\u001B[39margs, \u001B[38;5;241m*\u001B[39m\u001B[38;5;241m*\u001B[39mkwargs)\n\u001B[0;32m     89\u001B[0m     obj\u001B[38;5;241m.\u001B[39m_post_init()\n\u001B[0;32m     90\u001B[0m     \u001B[38;5;28;01mreturn\u001B[39;00m obj\n",
      "File \u001B[1;32mD:\\montruth\\PycharmProjects\\samplePy\\.venv\\lib\\site-packages\\napari\\utils\\migrations.py:92\u001B[0m, in \u001B[0;36mdeprecated_constructor_arg_by_attr.<locals>.wrapper.<locals>._wrapper\u001B[1;34m(*args, **kwargs)\u001B[0m\n\u001B[0;32m     90\u001B[0m \u001B[38;5;28;01mif\u001B[39;00m name \u001B[38;5;129;01min\u001B[39;00m kwargs:\n\u001B[0;32m     91\u001B[0m     value \u001B[38;5;241m=\u001B[39m kwargs\u001B[38;5;241m.\u001B[39mpop(name)\n\u001B[1;32m---> 92\u001B[0m res \u001B[38;5;241m=\u001B[39m func(\u001B[38;5;241m*\u001B[39margs, \u001B[38;5;241m*\u001B[39m\u001B[38;5;241m*\u001B[39mkwargs)\n\u001B[0;32m     94\u001B[0m \u001B[38;5;28;01mif\u001B[39;00m value \u001B[38;5;129;01mis\u001B[39;00m \u001B[38;5;129;01mnot\u001B[39;00m _UNSET:\n\u001B[0;32m     95\u001B[0m     \u001B[38;5;28msetattr\u001B[39m(args[\u001B[38;5;241m0\u001B[39m], name, value)\n",
      "File \u001B[1;32mD:\\montruth\\PycharmProjects\\samplePy\\.venv\\lib\\site-packages\\napari\\utils\\migrations.py:92\u001B[0m, in \u001B[0;36mdeprecated_constructor_arg_by_attr.<locals>.wrapper.<locals>._wrapper\u001B[1;34m(*args, **kwargs)\u001B[0m\n\u001B[0;32m     90\u001B[0m \u001B[38;5;28;01mif\u001B[39;00m name \u001B[38;5;129;01min\u001B[39;00m kwargs:\n\u001B[0;32m     91\u001B[0m     value \u001B[38;5;241m=\u001B[39m kwargs\u001B[38;5;241m.\u001B[39mpop(name)\n\u001B[1;32m---> 92\u001B[0m res \u001B[38;5;241m=\u001B[39m func(\u001B[38;5;241m*\u001B[39margs, \u001B[38;5;241m*\u001B[39m\u001B[38;5;241m*\u001B[39mkwargs)\n\u001B[0;32m     94\u001B[0m \u001B[38;5;28;01mif\u001B[39;00m value \u001B[38;5;129;01mis\u001B[39;00m \u001B[38;5;129;01mnot\u001B[39;00m _UNSET:\n\u001B[0;32m     95\u001B[0m     \u001B[38;5;28msetattr\u001B[39m(args[\u001B[38;5;241m0\u001B[39m], name, value)\n",
      "File \u001B[1;32mD:\\montruth\\PycharmProjects\\samplePy\\.venv\\lib\\site-packages\\napari\\utils\\migrations.py:92\u001B[0m, in \u001B[0;36mdeprecated_constructor_arg_by_attr.<locals>.wrapper.<locals>._wrapper\u001B[1;34m(*args, **kwargs)\u001B[0m\n\u001B[0;32m     90\u001B[0m \u001B[38;5;28;01mif\u001B[39;00m name \u001B[38;5;129;01min\u001B[39;00m kwargs:\n\u001B[0;32m     91\u001B[0m     value \u001B[38;5;241m=\u001B[39m kwargs\u001B[38;5;241m.\u001B[39mpop(name)\n\u001B[1;32m---> 92\u001B[0m res \u001B[38;5;241m=\u001B[39m func(\u001B[38;5;241m*\u001B[39margs, \u001B[38;5;241m*\u001B[39m\u001B[38;5;241m*\u001B[39mkwargs)\n\u001B[0;32m     94\u001B[0m \u001B[38;5;28;01mif\u001B[39;00m value \u001B[38;5;129;01mis\u001B[39;00m \u001B[38;5;129;01mnot\u001B[39;00m _UNSET:\n\u001B[0;32m     95\u001B[0m     \u001B[38;5;28msetattr\u001B[39m(args[\u001B[38;5;241m0\u001B[39m], name, value)\n",
      "File \u001B[1;32mD:\\montruth\\PycharmProjects\\samplePy\\.venv\\lib\\site-packages\\napari\\layers\\labels\\labels.py:306\u001B[0m, in \u001B[0;36mLabels.__init__\u001B[1;34m(self, data, affine, blending, cache, colormap, depiction, experimental_clipping_planes, features, metadata, multiscale, name, opacity, plane, properties, rendering, rotate, scale, shear, translate, visible)\u001B[0m\n\u001B[0;32m    303\u001B[0m \u001B[38;5;28mself\u001B[39m\u001B[38;5;241m.\u001B[39m_show_selected_label \u001B[38;5;241m=\u001B[39m \u001B[38;5;28;01mFalse\u001B[39;00m\n\u001B[0;32m    304\u001B[0m \u001B[38;5;28mself\u001B[39m\u001B[38;5;241m.\u001B[39m_contour \u001B[38;5;241m=\u001B[39m \u001B[38;5;241m0\u001B[39m\n\u001B[1;32m--> 306\u001B[0m data \u001B[38;5;241m=\u001B[39m \u001B[38;5;28;43mself\u001B[39;49m\u001B[38;5;241;43m.\u001B[39;49m\u001B[43m_ensure_int_labels\u001B[49m\u001B[43m(\u001B[49m\u001B[43mdata\u001B[49m\u001B[43m)\u001B[49m\n\u001B[0;32m    308\u001B[0m \u001B[38;5;28msuper\u001B[39m()\u001B[38;5;241m.\u001B[39m\u001B[38;5;21m__init__\u001B[39m(\n\u001B[0;32m    309\u001B[0m     data,\n\u001B[0;32m    310\u001B[0m     rendering\u001B[38;5;241m=\u001B[39mrendering,\n\u001B[1;32m   (...)\u001B[0m\n\u001B[0;32m    325\u001B[0m     experimental_clipping_planes\u001B[38;5;241m=\u001B[39mexperimental_clipping_planes,\n\u001B[0;32m    326\u001B[0m )\n\u001B[0;32m    328\u001B[0m \u001B[38;5;28mself\u001B[39m\u001B[38;5;241m.\u001B[39mevents\u001B[38;5;241m.\u001B[39madd(\n\u001B[0;32m    329\u001B[0m     brush_shape\u001B[38;5;241m=\u001B[39mEvent,\n\u001B[0;32m    330\u001B[0m     brush_size\u001B[38;5;241m=\u001B[39mEvent,\n\u001B[1;32m   (...)\u001B[0m\n\u001B[0;32m    350\u001B[0m     show_selected_label\u001B[38;5;241m=\u001B[39mEvent,\n\u001B[0;32m    351\u001B[0m )\n",
      "File \u001B[1;32mD:\\montruth\\PycharmProjects\\samplePy\\.venv\\lib\\site-packages\\napari\\layers\\labels\\labels.py:691\u001B[0m, in \u001B[0;36mLabels._ensure_int_labels\u001B[1;34m(self, data)\u001B[0m\n\u001B[0;32m    687\u001B[0m \u001B[38;5;28;01mfor\u001B[39;00m data_level \u001B[38;5;129;01min\u001B[39;00m data:\n\u001B[0;32m    688\u001B[0m     \u001B[38;5;66;03m# normalize_dtype turns e.g. tensorstore or torch dtypes into\u001B[39;00m\n\u001B[0;32m    689\u001B[0m     \u001B[38;5;66;03m# numpy dtypes\u001B[39;00m\n\u001B[0;32m    690\u001B[0m     \u001B[38;5;28;01mif\u001B[39;00m np\u001B[38;5;241m.\u001B[39missubdtype(normalize_dtype(data_level\u001B[38;5;241m.\u001B[39mdtype), np\u001B[38;5;241m.\u001B[39mfloating):\n\u001B[1;32m--> 691\u001B[0m         \u001B[38;5;28;01mraise\u001B[39;00m \u001B[38;5;167;01mTypeError\u001B[39;00m(\n\u001B[0;32m    692\u001B[0m             trans\u001B[38;5;241m.\u001B[39m_(\n\u001B[0;32m    693\u001B[0m                 \u001B[38;5;124m\"\u001B[39m\u001B[38;5;124mOnly integer types are supported for Labels layers, but data contains \u001B[39m\u001B[38;5;132;01m{data_level_type}\u001B[39;00m\u001B[38;5;124m.\u001B[39m\u001B[38;5;124m\"\u001B[39m,\n\u001B[0;32m    694\u001B[0m                 data_level_type\u001B[38;5;241m=\u001B[39mdata_level\u001B[38;5;241m.\u001B[39mdtype,\n\u001B[0;32m    695\u001B[0m             )\n\u001B[0;32m    696\u001B[0m         )\n\u001B[0;32m    697\u001B[0m     \u001B[38;5;28;01mif\u001B[39;00m data_level\u001B[38;5;241m.\u001B[39mdtype \u001B[38;5;241m==\u001B[39m \u001B[38;5;28mbool\u001B[39m:\n\u001B[0;32m    698\u001B[0m         int_data\u001B[38;5;241m.\u001B[39mappend(data_level\u001B[38;5;241m.\u001B[39mastype(np\u001B[38;5;241m.\u001B[39mint8))\n",
      "\u001B[1;31mTypeError\u001B[0m: Only integer types are supported for Labels layers, but data contains float32."
     ]
    }
   ],
   "execution_count": 13
  }
 ],
 "metadata": {
  "kernelspec": {
   "display_name": "Python 3",
   "language": "python",
   "name": "python3"
  },
  "language_info": {
   "codemirror_mode": {
    "name": "ipython",
    "version": 2
   },
   "file_extension": ".py",
   "mimetype": "text/x-python",
   "name": "python",
   "nbconvert_exporter": "python",
   "pygments_lexer": "ipython2",
   "version": "2.7.6"
  }
 },
 "nbformat": 4,
 "nbformat_minor": 5
}
