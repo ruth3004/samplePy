{
 "cells": [
  {
   "metadata": {},
   "cell_type": "markdown",
   "source": [
    "# Segmentation trial acquisitions (calcium imaging)\n",
    "* Segmentation of (motion corrected) images\n"
   ],
   "id": "396b7a1fd4a06fc6"
  },
  {
   "metadata": {
    "ExecuteTime": {
     "end_time": "2024-08-02T13:18:10.681707Z",
     "start_time": "2024-08-02T13:18:10.673702Z"
    }
   },
   "cell_type": "code",
   "source": [
    "# Imports\n",
    "import os\n",
    "import glob\n",
    "from tifffile import imwrite, imread\n",
    "from scripts.sample_db import SampleDB\n",
    "\n",
    "import numpy as np\n",
    "\n",
    "import napari\n",
    "from cellpose import models, io\n",
    "\n",
    "from itertools import product\n",
    "\n",
    "# Load the sample database\n",
    "db_path = r'\\\\tungsten-nas.fmi.ch\\tungsten\\scratch\\gfriedri\\montruth\\sample_db.csv'\n",
    "sample_db = SampleDB()\n",
    "sample_db.load(db_path)\n",
    "print(sample_db)"
   ],
   "id": "854dccefab654e95",
   "outputs": [
    {
     "name": "stdout",
     "output_type": "stream",
     "text": [
      "SampleDB(sample_ids=['20220426_RM0008_130hpf_fP1_f3', '20220118_RM0012_124hpf_fP8_f2', '20220427_RM0008_126hpf_fP3_f3'])\n"
     ]
    }
   ],
   "execution_count": 2
  },
  {
   "metadata": {
    "ExecuteTime": {
     "end_time": "2024-08-02T13:20:20.216482Z",
     "start_time": "2024-08-02T13:19:59.739306Z"
    }
   },
   "cell_type": "code",
   "source": [
    "# Loading experiment\n",
    "sample_id = '20220427_RM0008_126hpf_fP3_f3'\n",
    "exp = sample_db.get_sample(sample_id)\n",
    "print(exp.sample.id)\n",
    "\n",
    "# Import model\n",
    "model_path = r'D:\\montruth\\cellpose\\models\\CP_20230803_101131' \n",
    "model = models.CellposeModel(model_type=model_path, gpu=True)\n",
    "\n",
    "# Making shortcuts of sample parameters/information\n",
    "sample = exp.sample\n",
    "root_path = exp.paths.root_path\n",
    "trials_path = exp.paths.trials_path\n",
    "\n",
    "n_planes = exp.params_lm.n_planes\n",
    "n_frames = exp.params_lm.n_frames\n",
    "n_slices = exp.params_lm.lm_stack_range\n",
    "n_trials = exp.params_lm.n_trials\n",
    "doubling = 2 if exp.params_lm.doubling else 1\n",
    "\n",
    "# Getting paths of the trial acquisitions\n",
    "trial_paths = os.listdir(trials_path)\n",
    "\n",
    "# Get the path for the preprocessed folder and the images stack\n",
    "processed_folder = os.path.join(trials_path, 'processed')\n",
    "print(f'Processed trials folder exists: {os.path.exists(processed_folder)}')\n",
    "images_path = glob.glob(os.path.join(processed_folder, 'sum_elastic_*.tif'))[0]\n",
    "images_stack = io.imread(images_path)\n",
    "\n",
    "import skimage.exposure\n",
    "# Rescale the image to [0, 1] range\n",
    "images_stack_rescaled = skimage.exposure.rescale_intensity(images_stack, out_range=(0, 1))\n",
    "\n",
    "# Apply CLAHE\n",
    "images_stack_clahe = skimage.exposure.equalize_adapthist(images_stack_rescaled)\n",
    "images_stack = images_stack_clahe\n",
    "\n",
    "# Define the path for the masks folder\n",
    "masks_folder = os.path.join(trials_path, \"masks\")\n",
    "os.makedirs(masks_folder, exist_ok=True)\n"
   ],
   "id": "e103309e28ecd817",
   "outputs": [
    {
     "name": "stdout",
     "output_type": "stream",
     "text": [
      "20220427_RM0008_126hpf_fP3_f3\n",
      "Processed trials folder exists: True\n"
     ]
    },
    {
     "name": "stderr",
     "output_type": "stream",
     "text": [
      "100%|██████████| 192/192 [00:00<00:00, 266.29it/s]\n"
     ]
    }
   ],
   "execution_count": 3
  },
  {
   "metadata": {
    "ExecuteTime": {
     "end_time": "2024-08-02T13:20:20.226488Z",
     "start_time": "2024-08-02T13:20:20.219485Z"
    }
   },
   "cell_type": "code",
   "source": [
    "# Define parameter (ranges) for cellpose to apply or test\n",
    "cellprob_threshold_range = [-3]\n",
    "flow_threshold_range = [0]\n",
    "resample_options = [True]\n",
    "augment_options = [False]\n",
    "stitch_threshold_range = [0.01]\n",
    "\n",
    "# Prepare the output array\n",
    "masks_stack = np.empty(images_stack.shape, dtype=np.uint16)\n",
    "\n",
    "# Generate all combinations of parameters\n",
    "parameter_combinations = list(product(cellprob_threshold_range, flow_threshold_range, resample_options, augment_options,stitch_threshold_range))\n",
    "print(f\"Number of combinations to test: {len(parameter_combinations)}\")\n"
   ],
   "id": "9cc1add13858de1a",
   "outputs": [
    {
     "name": "stdout",
     "output_type": "stream",
     "text": [
      "Number of combinations to test: 1\n"
     ]
    }
   ],
   "execution_count": 4
  },
  {
   "metadata": {
    "ExecuteTime": {
     "end_time": "2024-08-02T13:43:41.414287Z",
     "start_time": "2024-08-02T13:35:20.880245Z"
    }
   },
   "cell_type": "code",
   "source": [
    "if len(parameter_combinations)>1:\n",
    "    print('Multiple combinations found: Test mode active')\n",
    "    test_viewer = napari.Viewer()\n",
    "    test_plane = 3\n",
    "    images = images_stack[test_plane]\n",
    "    \n",
    "    for idx, (cellprob_threshold, flow_threshold, resample, augment, stitch_threshold) in enumerate(parameter_combinations):\n",
    "        params_text = f\"cp_{cellprob_threshold}-ft_{flow_threshold}-st_{stitch_threshold}-resample_{resample}-augment_{augment}\"\n",
    "        combi_text = f\"Combination {idx + 1}/{len(parameter_combinations)}: {params_text}\"\n",
    "        print(combi_text)\n",
    "\n",
    "        # Segment the images using Cellpose with current parameter combination\n",
    "        masks, _, _ = model.eval(images, \n",
    "                                 channels=[0, 0], \n",
    "                                 cellprob_threshold=cellprob_threshold, \n",
    "                                 flow_threshold=flow_threshold, \n",
    "                                 resample=resample, \n",
    "                                 augment=augment, \n",
    "                                 stitch_threshold=stitch_threshold)\n",
    "\n",
    "        # Add the masks to Napari viewer\n",
    "        test_viewer.add_labels(masks, name=params_text)\n",
    "    \n",
    "else:\n",
    "    # Loop through each plane and process images\n",
    "    for plane in range(n_planes*doubling):\n",
    "        print(f\"Processing plane: {plane}\")\n",
    "        images = images_stack[plane]\n",
    "        print('images shape', images.shape)\n",
    "    \n",
    "        for idx, (cellprob_threshold, flow_threshold, resample, augment, stitch_threshold) in enumerate(parameter_combinations):\n",
    "            params_text = f\"cp_{cellprob_threshold}-ft_{flow_threshold}-st_{stitch_threshold}-resample_{resample}-augment_{augment}\"\n",
    "            combi_text = f\"Combination {idx + 1}/{len(parameter_combinations)}: {params_text}\"\n",
    "            print(combi_text)\n",
    "    \n",
    "            # Segment the images using Cellpose with current parameter combination\n",
    "            masks, _, _ = model.eval(images, \n",
    "                                 channels=[0, 0], \n",
    "                                 cellprob_threshold=cellprob_threshold, \n",
    "                                 flow_threshold=flow_threshold, \n",
    "                                 resample=resample, \n",
    "                                 augment=augment, \n",
    "                                 stitch_threshold=stitch_threshold)\n",
    "            \n",
    "            # Store the masks for visualization\n",
    "            masks_stack[plane] = masks\n",
    "    viewer = napari.Viewer()\n",
    "    viewer.add_image(images_stack)\n",
    "    viewer.add_labels(masks_stack)\n"
   ],
   "id": "937f04b63fdd8003",
   "outputs": [
    {
     "name": "stdout",
     "output_type": "stream",
     "text": [
      "Processing plane: 0\n",
      "images shape (24, 256, 512)\n",
      "Combination 1/1: cp_-3-ft_0-st_0.01-resample_True-augment_False\n"
     ]
    },
    {
     "name": "stderr",
     "output_type": "stream",
     "text": [
      "100%|██████████| 23/23 [00:00<00:00, 95.02it/s] \n"
     ]
    },
    {
     "name": "stdout",
     "output_type": "stream",
     "text": [
      "Processing plane: 1\n",
      "images shape (24, 256, 512)\n",
      "Combination 1/1: cp_-3-ft_0-st_0.01-resample_True-augment_False\n"
     ]
    },
    {
     "name": "stderr",
     "output_type": "stream",
     "text": [
      "100%|██████████| 23/23 [00:00<00:00, 119.78it/s]\n"
     ]
    },
    {
     "name": "stdout",
     "output_type": "stream",
     "text": [
      "Processing plane: 2\n",
      "images shape (24, 256, 512)\n",
      "Combination 1/1: cp_-3-ft_0-st_0.01-resample_True-augment_False\n"
     ]
    },
    {
     "name": "stderr",
     "output_type": "stream",
     "text": [
      "100%|██████████| 23/23 [00:00<00:00, 105.73it/s]\n"
     ]
    },
    {
     "name": "stdout",
     "output_type": "stream",
     "text": [
      "Processing plane: 3\n",
      "images shape (24, 256, 512)\n",
      "Combination 1/1: cp_-3-ft_0-st_0.01-resample_True-augment_False\n"
     ]
    },
    {
     "name": "stderr",
     "output_type": "stream",
     "text": [
      "100%|██████████| 23/23 [00:00<00:00, 85.82it/s] \n"
     ]
    },
    {
     "name": "stdout",
     "output_type": "stream",
     "text": [
      "Processing plane: 4\n",
      "images shape (24, 256, 512)\n",
      "Combination 1/1: cp_-3-ft_0-st_0.01-resample_True-augment_False\n"
     ]
    },
    {
     "name": "stderr",
     "output_type": "stream",
     "text": [
      "100%|██████████| 23/23 [00:00<00:00, 82.72it/s] \n"
     ]
    },
    {
     "name": "stdout",
     "output_type": "stream",
     "text": [
      "Processing plane: 5\n",
      "images shape (24, 256, 512)\n",
      "Combination 1/1: cp_-3-ft_0-st_0.01-resample_True-augment_False\n"
     ]
    },
    {
     "name": "stderr",
     "output_type": "stream",
     "text": [
      "100%|██████████| 23/23 [00:00<00:00, 77.82it/s] \n"
     ]
    },
    {
     "name": "stdout",
     "output_type": "stream",
     "text": [
      "Processing plane: 6\n",
      "images shape (24, 256, 512)\n",
      "Combination 1/1: cp_-3-ft_0-st_0.01-resample_True-augment_False\n"
     ]
    },
    {
     "name": "stderr",
     "output_type": "stream",
     "text": [
      "100%|██████████| 23/23 [00:00<00:00, 74.19it/s] \n"
     ]
    },
    {
     "name": "stdout",
     "output_type": "stream",
     "text": [
      "Processing plane: 7\n",
      "images shape (24, 256, 512)\n",
      "Combination 1/1: cp_-3-ft_0-st_0.01-resample_True-augment_False\n"
     ]
    },
    {
     "name": "stderr",
     "output_type": "stream",
     "text": [
      "100%|██████████| 23/23 [00:00<00:00, 82.73it/s] \n",
      "D:\\montruth\\PycharmProjects\\samplePy\\.venv\\lib\\site-packages\\napari\\plugins\\_plugin_manager.py:555: UserWarning: Plugin 'napari-animated-gif-io' has already registered a function widget 'save as animated gif' which has now been overwritten\n",
      "  warn(message=warn_message)\n"
     ]
    }
   ],
   "execution_count": 14
  },
  {
   "metadata": {
    "ExecuteTime": {
     "end_time": "2024-08-02T13:45:43.153904Z",
     "start_time": "2024-08-02T13:45:42.987898Z"
    }
   },
   "cell_type": "code",
   "source": [
    "# Save masks\n",
    "\n",
    "imwrite(os.path.join(masks_folder, f'masks_{exp.sample.id}_{params_text}.tif'), masks_stack)"
   ],
   "id": "d0aec0a7803884c9",
   "outputs": [],
   "execution_count": 15
  }
 ],
 "metadata": {
  "kernelspec": {
   "display_name": "Python 3",
   "language": "python",
   "name": "python3"
  },
  "language_info": {
   "codemirror_mode": {
    "name": "ipython",
    "version": 2
   },
   "file_extension": ".py",
   "mimetype": "text/x-python",
   "name": "python",
   "nbconvert_exporter": "python",
   "pygments_lexer": "ipython2",
   "version": "2.7.6"
  }
 },
 "nbformat": 4,
 "nbformat_minor": 5
}
