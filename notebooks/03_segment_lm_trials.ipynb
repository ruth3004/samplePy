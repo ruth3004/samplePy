{
 "cells": [
  {
   "metadata": {},
   "cell_type": "markdown",
   "source": [
    "# Segmentation trial acquisitions (calcium imaging)\n",
    "* Segmentation of (motion corrected) images\n"
   ],
   "id": "396b7a1fd4a06fc6"
  },
  {
   "metadata": {
    "ExecuteTime": {
     "end_time": "2024-08-17T10:32:46.287625Z",
     "start_time": "2024-08-17T10:32:46.268623Z"
    }
   },
   "cell_type": "code",
   "source": [
    "# 03_segment_lm_trials.ipynb\n",
    "\n",
    "import os\n",
    "import glob\n",
    "import numpy as np\n",
    "import napari\n",
    "\n",
    "from tifffile import imwrite, imread\n",
    "from scripts.sample_db import SampleDB\n",
    "from cellpose import models, io\n",
    "import skimage.exposure\n",
    "\n",
    "# Load the sample database\n",
    "db_path = r'\\\\tungsten-nas.fmi.ch\\tungsten\\scratch\\gfriedri\\montruth\\sample_db.csv'\n",
    "sample_db = SampleDB()\n",
    "sample_db.load(db_path)"
   ],
   "id": "854dccefab654e95",
   "outputs": [],
   "execution_count": 6
  },
  {
   "metadata": {
    "ExecuteTime": {
     "end_time": "2024-08-17T09:59:54.209217Z",
     "start_time": "2024-08-17T09:46:24.024648Z"
    }
   },
   "cell_type": "code",
   "source": [
    "# Load experiment\n",
    "sample_id = '20220118_RM0012_124hpf_fP8_f2'  # Replace with your sample ID\n",
    "exp = sample_db.get_sample(sample_id)\n",
    "print(f\"Processing sample: {exp.sample.id}\")\n",
    "\n",
    "# Import model\n",
    "model_path = r'D:\\montruth\\cellpose\\models\\CP_20230803_101131'\n",
    "model = models.CellposeModel(model_type=model_path, gpu=True)\n",
    "\n",
    "# Making shortcuts of sample parameters/information\n",
    "root_path = exp.paths.root_path\n",
    "trials_path = exp.paths.trials_path\n",
    "n_planes = exp.params_lm.n_planes\n",
    "doubling = 2 if exp.params_lm.doubling else 1\n",
    "\n",
    "# Get the path for the preprocessed folder and the images stack\n",
    "processed_folder = os.path.join(trials_path, 'processed')\n",
    "images_path = glob.glob(os.path.join(processed_folder, 'sum_elastic_*.tif'))[0]\n",
    "images_stack = io.imread(images_path)\n",
    "\n",
    "# Preprocess images\n",
    "images_stack_rescaled = skimage.exposure.rescale_intensity(images_stack, out_range=(0, 1))\n",
    "images_stack_clahe = skimage.exposure.equalize_adapthist(images_stack_rescaled)\n",
    "images_stack = images_stack_clahe\n",
    "\n",
    "# Define the path for the masks folder\n",
    "masks_folder = os.path.join(trials_path, \"masks\")\n",
    "os.makedirs(masks_folder, exist_ok=True)\n",
    "\n",
    "# Define parameters for cellpose\n",
    "cellprob_threshold = -3\n",
    "flow_threshold = 0\n",
    "resample = True\n",
    "augment = False\n",
    "stitch_threshold = 0.01\n",
    "\n",
    "# Prepare the output array\n",
    "masks_stack = np.empty(images_stack.shape, dtype=np.uint16)\n",
    "\n",
    "# Loop through each plane and process images\n",
    "for plane in range(n_planes * doubling):\n",
    "    print(f\"Processing plane: {plane}\")\n",
    "    images = images_stack[plane]\n",
    "\n",
    "    # Segment the images using Cellpose\n",
    "    masks, _, _ = model.eval(images,\n",
    "                             channels=[0, 0],\n",
    "                             cellprob_threshold=cellprob_threshold,\n",
    "                             flow_threshold=flow_threshold,\n",
    "                             resample=resample,\n",
    "                             augment=augment,\n",
    "                             stitch_threshold=stitch_threshold)\n",
    "\n",
    "    # Store the masks\n",
    "    masks_stack[plane] = masks\n",
    "\n",
    "# Save masks\n",
    "params_text = f\"cp_{cellprob_threshold}-ft_{flow_threshold}-st_{stitch_threshold}-resample_{resample}-augment_{augment}\"\n",
    "imwrite(os.path.join(masks_folder, f'masks_{exp.sample.id}_{params_text}.tif'), masks_stack)\n",
    "\n",
    "# Display results in Napari\n",
    "viewer = napari.Viewer()\n",
    "viewer.add_image(images_stack, name='Original')\n",
    "viewer.add_labels(masks_stack, name='Segmentation')\n",
    "napari.run()\n",
    "\n",
    "# Update the sample database\n",
    "sample_db.update_sample_field(sample_id, '03_segment_lm_trials', True)\n",
    "sample_db.save(db_path)\n",
    "\n",
    "\n",
    "print(f\"Segmentation completed for sample: {exp.sample.id}\")"
   ],
   "id": "e794e547eecb30c6",
   "outputs": [],
   "execution_count": null
  },
  {
   "metadata": {
    "ExecuteTime": {
     "end_time": "2024-08-17T10:17:11.651422Z",
     "start_time": "2024-08-17T10:17:11.345403Z"
    }
   },
   "cell_type": "code",
   "source": "\n",
   "id": "2ae3b713654575a6",
   "outputs": [
    {
     "ename": "TypeError",
     "evalue": "Invalid shape (24, 256, 512) for image data",
     "output_type": "error",
     "traceback": [
      "\u001B[1;31m---------------------------------------------------------------------------\u001B[0m",
      "\u001B[1;31mTypeError\u001B[0m                                 Traceback (most recent call last)",
      "Cell \u001B[1;32mIn[4], line 7\u001B[0m\n\u001B[0;32m      5\u001B[0m \u001B[38;5;28;01mfor\u001B[39;00m plane \u001B[38;5;129;01min\u001B[39;00m \u001B[38;5;28mrange\u001B[39m(n_planes \u001B[38;5;241m*\u001B[39m doubling):\n\u001B[0;32m      6\u001B[0m     fig, ax \u001B[38;5;241m=\u001B[39m plt\u001B[38;5;241m.\u001B[39msubplots(figsize\u001B[38;5;241m=\u001B[39m(\u001B[38;5;241m10\u001B[39m, \u001B[38;5;241m10\u001B[39m))\n\u001B[1;32m----> 7\u001B[0m     \u001B[43max\u001B[49m\u001B[38;5;241;43m.\u001B[39;49m\u001B[43mimshow\u001B[49m\u001B[43m(\u001B[49m\u001B[43mimages_stack\u001B[49m\u001B[43m[\u001B[49m\u001B[43mplane\u001B[49m\u001B[43m]\u001B[49m\u001B[43m,\u001B[49m\u001B[43m \u001B[49m\u001B[43mcmap\u001B[49m\u001B[38;5;241;43m=\u001B[39;49m\u001B[38;5;124;43m'\u001B[39;49m\u001B[38;5;124;43mgray\u001B[39;49m\u001B[38;5;124;43m'\u001B[39;49m\u001B[43m)\u001B[49m\n\u001B[0;32m      8\u001B[0m     ax\u001B[38;5;241m.\u001B[39mimshow(masks_stack[plane], cmap\u001B[38;5;241m=\u001B[39m\u001B[38;5;124m'\u001B[39m\u001B[38;5;124mjet\u001B[39m\u001B[38;5;124m'\u001B[39m, alpha\u001B[38;5;241m=\u001B[39m\u001B[38;5;241m0.5\u001B[39m)\n\u001B[0;32m      9\u001B[0m     ax\u001B[38;5;241m.\u001B[39mset_title(\u001B[38;5;124mf\u001B[39m\u001B[38;5;124m\"\u001B[39m\u001B[38;5;124mPlane \u001B[39m\u001B[38;5;132;01m{\u001B[39;00mplane\u001B[38;5;132;01m}\u001B[39;00m\u001B[38;5;124m - Overlay\u001B[39m\u001B[38;5;124m\"\u001B[39m)\n",
      "File \u001B[1;32mD:\\montruth\\PycharmProjects\\samplePy\\.venv\\lib\\site-packages\\matplotlib\\__init__.py:1486\u001B[0m, in \u001B[0;36m_preprocess_data.<locals>.inner\u001B[1;34m(ax, data, *args, **kwargs)\u001B[0m\n\u001B[0;32m   1483\u001B[0m \u001B[38;5;129m@functools\u001B[39m\u001B[38;5;241m.\u001B[39mwraps(func)\n\u001B[0;32m   1484\u001B[0m \u001B[38;5;28;01mdef\u001B[39;00m \u001B[38;5;21minner\u001B[39m(ax, \u001B[38;5;241m*\u001B[39margs, data\u001B[38;5;241m=\u001B[39m\u001B[38;5;28;01mNone\u001B[39;00m, \u001B[38;5;241m*\u001B[39m\u001B[38;5;241m*\u001B[39mkwargs):\n\u001B[0;32m   1485\u001B[0m     \u001B[38;5;28;01mif\u001B[39;00m data \u001B[38;5;129;01mis\u001B[39;00m \u001B[38;5;28;01mNone\u001B[39;00m:\n\u001B[1;32m-> 1486\u001B[0m         \u001B[38;5;28;01mreturn\u001B[39;00m func(\n\u001B[0;32m   1487\u001B[0m             ax,\n\u001B[0;32m   1488\u001B[0m             \u001B[38;5;241m*\u001B[39m\u001B[38;5;28mmap\u001B[39m(sanitize_sequence, args),\n\u001B[0;32m   1489\u001B[0m             \u001B[38;5;241m*\u001B[39m\u001B[38;5;241m*\u001B[39m{k: sanitize_sequence(v) \u001B[38;5;28;01mfor\u001B[39;00m k, v \u001B[38;5;129;01min\u001B[39;00m kwargs\u001B[38;5;241m.\u001B[39mitems()})\n\u001B[0;32m   1491\u001B[0m     bound \u001B[38;5;241m=\u001B[39m new_sig\u001B[38;5;241m.\u001B[39mbind(ax, \u001B[38;5;241m*\u001B[39margs, \u001B[38;5;241m*\u001B[39m\u001B[38;5;241m*\u001B[39mkwargs)\n\u001B[0;32m   1492\u001B[0m     auto_label \u001B[38;5;241m=\u001B[39m (bound\u001B[38;5;241m.\u001B[39marguments\u001B[38;5;241m.\u001B[39mget(label_namer)\n\u001B[0;32m   1493\u001B[0m                   \u001B[38;5;129;01mor\u001B[39;00m bound\u001B[38;5;241m.\u001B[39mkwargs\u001B[38;5;241m.\u001B[39mget(label_namer))\n",
      "File \u001B[1;32mD:\\montruth\\PycharmProjects\\samplePy\\.venv\\lib\\site-packages\\matplotlib\\axes\\_axes.py:5895\u001B[0m, in \u001B[0;36mAxes.imshow\u001B[1;34m(self, X, cmap, norm, aspect, interpolation, alpha, vmin, vmax, origin, extent, interpolation_stage, filternorm, filterrad, resample, url, **kwargs)\u001B[0m\n\u001B[0;32m   5892\u001B[0m \u001B[38;5;28;01mif\u001B[39;00m aspect \u001B[38;5;129;01mis\u001B[39;00m \u001B[38;5;129;01mnot\u001B[39;00m \u001B[38;5;28;01mNone\u001B[39;00m:\n\u001B[0;32m   5893\u001B[0m     \u001B[38;5;28mself\u001B[39m\u001B[38;5;241m.\u001B[39mset_aspect(aspect)\n\u001B[1;32m-> 5895\u001B[0m \u001B[43mim\u001B[49m\u001B[38;5;241;43m.\u001B[39;49m\u001B[43mset_data\u001B[49m\u001B[43m(\u001B[49m\u001B[43mX\u001B[49m\u001B[43m)\u001B[49m\n\u001B[0;32m   5896\u001B[0m im\u001B[38;5;241m.\u001B[39mset_alpha(alpha)\n\u001B[0;32m   5897\u001B[0m \u001B[38;5;28;01mif\u001B[39;00m im\u001B[38;5;241m.\u001B[39mget_clip_path() \u001B[38;5;129;01mis\u001B[39;00m \u001B[38;5;28;01mNone\u001B[39;00m:\n\u001B[0;32m   5898\u001B[0m     \u001B[38;5;66;03m# image does not already have clipping set, clip to Axes patch\u001B[39;00m\n",
      "File \u001B[1;32mD:\\montruth\\PycharmProjects\\samplePy\\.venv\\lib\\site-packages\\matplotlib\\image.py:729\u001B[0m, in \u001B[0;36m_ImageBase.set_data\u001B[1;34m(self, A)\u001B[0m\n\u001B[0;32m    727\u001B[0m \u001B[38;5;28;01mif\u001B[39;00m \u001B[38;5;28misinstance\u001B[39m(A, PIL\u001B[38;5;241m.\u001B[39mImage\u001B[38;5;241m.\u001B[39mImage):\n\u001B[0;32m    728\u001B[0m     A \u001B[38;5;241m=\u001B[39m pil_to_array(A)  \u001B[38;5;66;03m# Needed e.g. to apply png palette.\u001B[39;00m\n\u001B[1;32m--> 729\u001B[0m \u001B[38;5;28mself\u001B[39m\u001B[38;5;241m.\u001B[39m_A \u001B[38;5;241m=\u001B[39m \u001B[38;5;28;43mself\u001B[39;49m\u001B[38;5;241;43m.\u001B[39;49m\u001B[43m_normalize_image_array\u001B[49m\u001B[43m(\u001B[49m\u001B[43mA\u001B[49m\u001B[43m)\u001B[49m\n\u001B[0;32m    730\u001B[0m \u001B[38;5;28mself\u001B[39m\u001B[38;5;241m.\u001B[39m_imcache \u001B[38;5;241m=\u001B[39m \u001B[38;5;28;01mNone\u001B[39;00m\n\u001B[0;32m    731\u001B[0m \u001B[38;5;28mself\u001B[39m\u001B[38;5;241m.\u001B[39mstale \u001B[38;5;241m=\u001B[39m \u001B[38;5;28;01mTrue\u001B[39;00m\n",
      "File \u001B[1;32mD:\\montruth\\PycharmProjects\\samplePy\\.venv\\lib\\site-packages\\matplotlib\\image.py:697\u001B[0m, in \u001B[0;36m_ImageBase._normalize_image_array\u001B[1;34m(A)\u001B[0m\n\u001B[0;32m    695\u001B[0m     A \u001B[38;5;241m=\u001B[39m A\u001B[38;5;241m.\u001B[39msqueeze(\u001B[38;5;241m-\u001B[39m\u001B[38;5;241m1\u001B[39m)  \u001B[38;5;66;03m# If just (M, N, 1), assume scalar and apply colormap.\u001B[39;00m\n\u001B[0;32m    696\u001B[0m \u001B[38;5;28;01mif\u001B[39;00m \u001B[38;5;129;01mnot\u001B[39;00m (A\u001B[38;5;241m.\u001B[39mndim \u001B[38;5;241m==\u001B[39m \u001B[38;5;241m2\u001B[39m \u001B[38;5;129;01mor\u001B[39;00m A\u001B[38;5;241m.\u001B[39mndim \u001B[38;5;241m==\u001B[39m \u001B[38;5;241m3\u001B[39m \u001B[38;5;129;01mand\u001B[39;00m A\u001B[38;5;241m.\u001B[39mshape[\u001B[38;5;241m-\u001B[39m\u001B[38;5;241m1\u001B[39m] \u001B[38;5;129;01min\u001B[39;00m [\u001B[38;5;241m3\u001B[39m, \u001B[38;5;241m4\u001B[39m]):\n\u001B[1;32m--> 697\u001B[0m     \u001B[38;5;28;01mraise\u001B[39;00m \u001B[38;5;167;01mTypeError\u001B[39;00m(\u001B[38;5;124mf\u001B[39m\u001B[38;5;124m\"\u001B[39m\u001B[38;5;124mInvalid shape \u001B[39m\u001B[38;5;132;01m{\u001B[39;00mA\u001B[38;5;241m.\u001B[39mshape\u001B[38;5;132;01m}\u001B[39;00m\u001B[38;5;124m for image data\u001B[39m\u001B[38;5;124m\"\u001B[39m)\n\u001B[0;32m    698\u001B[0m \u001B[38;5;28;01mif\u001B[39;00m A\u001B[38;5;241m.\u001B[39mndim \u001B[38;5;241m==\u001B[39m \u001B[38;5;241m3\u001B[39m:\n\u001B[0;32m    699\u001B[0m     \u001B[38;5;66;03m# If the input data has values outside the valid range (after\u001B[39;00m\n\u001B[0;32m    700\u001B[0m     \u001B[38;5;66;03m# normalisation), we issue a warning and then clip X to the bounds\u001B[39;00m\n\u001B[0;32m    701\u001B[0m     \u001B[38;5;66;03m# - otherwise casting wraps extreme values, hiding outliers and\u001B[39;00m\n\u001B[0;32m    702\u001B[0m     \u001B[38;5;66;03m# making reliable interpretation impossible.\u001B[39;00m\n\u001B[0;32m    703\u001B[0m     high \u001B[38;5;241m=\u001B[39m \u001B[38;5;241m255\u001B[39m \u001B[38;5;28;01mif\u001B[39;00m np\u001B[38;5;241m.\u001B[39missubdtype(A\u001B[38;5;241m.\u001B[39mdtype, np\u001B[38;5;241m.\u001B[39minteger) \u001B[38;5;28;01melse\u001B[39;00m \u001B[38;5;241m1\u001B[39m\n",
      "\u001B[1;31mTypeError\u001B[0m: Invalid shape (24, 256, 512) for image data"
     ]
    },
    {
     "data": {
      "text/plain": [
       "<Figure size 1000x1000 with 1 Axes>"
      ],
      "image/png": "[encoded data removed]"
     },
     "metadata": {},
     "output_type": "display_data"
    }
   ],
   "execution_count": 4
  }
 ],
 "metadata": {
  "kernelspec": {
   "display_name": "Python 3",
   "language": "python",
   "name": "python3"
  },
  "language_info": {
   "codemirror_mode": {
    "name": "ipython",
    "version": 2
   },
   "file_extension": ".py",
   "mimetype": "text/x-python",
   "name": "python",
   "nbconvert_exporter": "python",
   "pygments_lexer": "ipython2",
   "version": "2.7.6"
  }
 },
 "nbformat": 4,
 "nbformat_minor": 5
}
