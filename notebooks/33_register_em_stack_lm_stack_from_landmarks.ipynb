{
 "cells": [
  {
   "cell_type": "code",
   "id": "109f7eaad96f9682",
   "metadata": {
    "collapsed": true,
    "ExecuteTime": {
     "end_time": "2024-07-25T14:35:30.898496Z",
     "start_time": "2024-07-25T14:35:30.892492Z"
    }
   },
   "source": [
    "# Import\n",
    "import numpy as np\n",
    "import pandas as pd\n",
    "import napari\n",
    "import numpy as np\n",
    "from scipy.interpolate import RBFInterpolator\n",
    "\n",
    "import tifffile \n"
   ],
   "outputs": [],
   "execution_count": 29
  },
  {
   "metadata": {
    "ExecuteTime": {
     "end_time": "2024-07-25T14:35:30.943498Z",
     "start_time": "2024-07-25T14:35:30.900493Z"
    }
   },
   "cell_type": "code",
   "source": [
    "# Load lut with em centroids to transform (csv file)\n",
    "lut = pd.read_csv(r'\\\\tungsten-nas.fmi.ch\\tungsten\\scratch\\gfriedri\\montruth\\CLEM_Analyses\\CLEM_20220426_RM0008_130hpf_fP1_f3\\bigwarp_alignment\\lut_centroids.csv')\n",
    "lut.head()"
   ],
   "id": "4ec07dfe62cbefca",
   "outputs": [
    {
     "data": {
      "text/plain": [
       "   id                                em_centroids_zyx_px\n",
       "0   1  (292.07773851590105, 2.097173144876325, 34.254...\n",
       "1   2  (216.02410939186757, 2.485066570708888, 40.270...\n",
       "2   3  (290.19642857142856, 2.044642857142857, 36.955...\n",
       "3   4  (299.05970149253733, 1.7014925373134329, 42.16...\n",
       "4   5  (300.7578947368421, 2.3157894736842106, 36.726..."
      ],
      "text/html": [
       "<div>\n",
       "<style scoped>\n",
       "    .dataframe tbody tr th:only-of-type {\n",
       "        vertical-align: middle;\n",
       "    }\n",
       "\n",
       "    .dataframe tbody tr th {\n",
       "        vertical-align: top;\n",
       "    }\n",
       "\n",
       "    .dataframe thead th {\n",
       "        text-align: right;\n",
       "    }\n",
       "</style>\n",
       "<table border=\"1\" class=\"dataframe\">\n",
       "  <thead>\n",
       "    <tr style=\"text-align: right;\">\n",
       "      <th></th>\n",
       "      <th>id</th>\n",
       "      <th>em_centroids_zyx_px</th>\n",
       "    </tr>\n",
       "  </thead>\n",
       "  <tbody>\n",
       "    <tr>\n",
       "      <th>0</th>\n",
       "      <td>1</td>\n",
       "      <td>(292.07773851590105, 2.097173144876325, 34.254...</td>\n",
       "    </tr>\n",
       "    <tr>\n",
       "      <th>1</th>\n",
       "      <td>2</td>\n",
       "      <td>(216.02410939186757, 2.485066570708888, 40.270...</td>\n",
       "    </tr>\n",
       "    <tr>\n",
       "      <th>2</th>\n",
       "      <td>3</td>\n",
       "      <td>(290.19642857142856, 2.044642857142857, 36.955...</td>\n",
       "    </tr>\n",
       "    <tr>\n",
       "      <th>3</th>\n",
       "      <td>4</td>\n",
       "      <td>(299.05970149253733, 1.7014925373134329, 42.16...</td>\n",
       "    </tr>\n",
       "    <tr>\n",
       "      <th>4</th>\n",
       "      <td>5</td>\n",
       "      <td>(300.7578947368421, 2.3157894736842106, 36.726...</td>\n",
       "    </tr>\n",
       "  </tbody>\n",
       "</table>\n",
       "</div>"
      ]
     },
     "execution_count": 30,
     "metadata": {},
     "output_type": "execute_result"
    }
   ],
   "execution_count": 30
  },
  {
   "metadata": {
    "ExecuteTime": {
     "end_time": "2024-07-25T14:35:31.178497Z",
     "start_time": "2024-07-25T14:35:30.945494Z"
    }
   },
   "cell_type": "code",
   "source": [
    "em_centroids = np.array([eval(t) for t in lut['em_centroids_zyx_px']])\n",
    "print(em_centroids.shape)"
   ],
   "id": "5272ab175468e7b4",
   "outputs": [
    {
     "name": "stdout",
     "output_type": "stream",
     "text": [
      "(11288, 3)\n"
     ]
    }
   ],
   "execution_count": 31
  },
  {
   "metadata": {
    "ExecuteTime": {
     "end_time": "2024-07-25T14:35:31.186503Z",
     "start_time": "2024-07-25T14:35:31.180498Z"
    }
   },
   "cell_type": "code",
   "source": [
    "# Load landmarks to create transform\n",
    "lmks_path = r'\\\\tungsten-nas.fmi.ch\\tungsten\\scratch\\gfriedri\\montruth\\CLEM_Analyses\\CLEM_20220426_RM0008_130hpf_fP1_f3\\bigwarp_alignment\\20240710_mov_EM_fix_LM_landmarks.csv'"
   ],
   "id": "dface4dd171f24c4",
   "outputs": [],
   "execution_count": 32
  },
  {
   "metadata": {
    "ExecuteTime": {
     "end_time": "2024-07-25T14:35:31.250500Z",
     "start_time": "2024-07-25T14:35:31.189502Z"
    }
   },
   "cell_type": "code",
   "source": [
    "lmks = pd.read_csv(lmks_path, header= None)\n",
    "# Add the headers as shown in the image\n",
    "headers = ['Name', 'Active', 'mvg-x', 'mvg-y', 'mvg-z', 'fix-x', 'fix-y', 'fix-z']\n",
    "\n",
    "# Assign the headers to the DataFrame\n",
    "lmks.columns = headers\n",
    "lmks.head()"
   ],
   "id": "5dea1348c24cc302",
   "outputs": [
    {
     "data": {
      "text/plain": [
       "   Name  Active      mvg-x      mvg-y      mvg-z      fix-x      fix-y  \\\n",
       "0  Pt-0   False  15.401238  23.064857  67.894922   8.473757  50.299048   \n",
       "1  Pt-1   False  16.572585  36.465325  98.828049  35.424851  66.547966   \n",
       "2  Pt-2   False  51.741957  17.723752  93.737745  67.471004  42.754333   \n",
       "3  Pt-5   False  43.160962  38.318928  39.673012  41.138765  51.146687   \n",
       "4  Pt-6   False  38.967385  36.177572  37.005390  35.281416  47.460107   \n",
       "\n",
       "       fix-z  \n",
       "0  48.974068  \n",
       "1  79.553103  \n",
       "2  74.472040  \n",
       "3   6.435591  \n",
       "4   9.680567  "
      ],
      "text/html": [
       "<div>\n",
       "<style scoped>\n",
       "    .dataframe tbody tr th:only-of-type {\n",
       "        vertical-align: middle;\n",
       "    }\n",
       "\n",
       "    .dataframe tbody tr th {\n",
       "        vertical-align: top;\n",
       "    }\n",
       "\n",
       "    .dataframe thead th {\n",
       "        text-align: right;\n",
       "    }\n",
       "</style>\n",
       "<table border=\"1\" class=\"dataframe\">\n",
       "  <thead>\n",
       "    <tr style=\"text-align: right;\">\n",
       "      <th></th>\n",
       "      <th>Name</th>\n",
       "      <th>Active</th>\n",
       "      <th>mvg-x</th>\n",
       "      <th>mvg-y</th>\n",
       "      <th>mvg-z</th>\n",
       "      <th>fix-x</th>\n",
       "      <th>fix-y</th>\n",
       "      <th>fix-z</th>\n",
       "    </tr>\n",
       "  </thead>\n",
       "  <tbody>\n",
       "    <tr>\n",
       "      <th>0</th>\n",
       "      <td>Pt-0</td>\n",
       "      <td>False</td>\n",
       "      <td>15.401238</td>\n",
       "      <td>23.064857</td>\n",
       "      <td>67.894922</td>\n",
       "      <td>8.473757</td>\n",
       "      <td>50.299048</td>\n",
       "      <td>48.974068</td>\n",
       "    </tr>\n",
       "    <tr>\n",
       "      <th>1</th>\n",
       "      <td>Pt-1</td>\n",
       "      <td>False</td>\n",
       "      <td>16.572585</td>\n",
       "      <td>36.465325</td>\n",
       "      <td>98.828049</td>\n",
       "      <td>35.424851</td>\n",
       "      <td>66.547966</td>\n",
       "      <td>79.553103</td>\n",
       "    </tr>\n",
       "    <tr>\n",
       "      <th>2</th>\n",
       "      <td>Pt-2</td>\n",
       "      <td>False</td>\n",
       "      <td>51.741957</td>\n",
       "      <td>17.723752</td>\n",
       "      <td>93.737745</td>\n",
       "      <td>67.471004</td>\n",
       "      <td>42.754333</td>\n",
       "      <td>74.472040</td>\n",
       "    </tr>\n",
       "    <tr>\n",
       "      <th>3</th>\n",
       "      <td>Pt-5</td>\n",
       "      <td>False</td>\n",
       "      <td>43.160962</td>\n",
       "      <td>38.318928</td>\n",
       "      <td>39.673012</td>\n",
       "      <td>41.138765</td>\n",
       "      <td>51.146687</td>\n",
       "      <td>6.435591</td>\n",
       "    </tr>\n",
       "    <tr>\n",
       "      <th>4</th>\n",
       "      <td>Pt-6</td>\n",
       "      <td>False</td>\n",
       "      <td>38.967385</td>\n",
       "      <td>36.177572</td>\n",
       "      <td>37.005390</td>\n",
       "      <td>35.281416</td>\n",
       "      <td>47.460107</td>\n",
       "      <td>9.680567</td>\n",
       "    </tr>\n",
       "  </tbody>\n",
       "</table>\n",
       "</div>"
      ]
     },
     "execution_count": 33,
     "metadata": {},
     "output_type": "execute_result"
    }
   ],
   "execution_count": 33
  },
  {
   "metadata": {
    "ExecuteTime": {
     "end_time": "2024-07-25T14:35:31.265502Z",
     "start_time": "2024-07-25T14:35:31.254498Z"
    }
   },
   "cell_type": "code",
   "source": [
    "em_landmarks = lmks[lmks['Active']==True][['mvg-z','mvg-y','mvg-x']].to_numpy()/[.16,0.4,0.16]\n",
    "lm_landmarks = lmks[lmks['Active'] == True][['fix-z', 'fix-y', 'fix-x']].to_numpy()/[.4,0.4,0.4]\n",
    "print(em_landmarks.shape)"
   ],
   "id": "964f20c48da49d04",
   "outputs": [
    {
     "name": "stdout",
     "output_type": "stream",
     "text": [
      "(351, 3)\n"
     ]
    }
   ],
   "execution_count": 34
  },
  {
   "metadata": {
    "ExecuteTime": {
     "end_time": "2024-07-25T14:35:31.278502Z",
     "start_time": "2024-07-25T14:35:31.267502Z"
    }
   },
   "cell_type": "code",
   "source": [
    "# Setting up the RBFInterpolator for TPS\n",
    "source_landmarks = em_landmarks\n",
    "target_landmarks = lm_landmarks\n",
    "# The 'thin_plate' kernel is used for TPS\n",
    "tps_kernel = 'thin_plate_spline'\n",
    "\n",
    "# Instantiate the RBFInterpolator for each dimension\n",
    "rbf_interpolator = RBFInterpolator(source_landmarks, target_landmarks, kernel=tps_kernel)"
   ],
   "id": "59fa766c60ac264",
   "outputs": [],
   "execution_count": 35
  },
  {
   "metadata": {
    "ExecuteTime": {
     "end_time": "2024-07-25T14:35:31.487504Z",
     "start_time": "2024-07-25T14:35:31.287513Z"
    }
   },
   "cell_type": "code",
   "source": [
    "\n",
    "# Apply the transformation using the RBFInterpolator\n",
    "transformed_landmarks = rbf_interpolator(em_landmarks)\n",
    "transformed_centroids = rbf_interpolator(em_centroids)\n",
    "# Save lut "
   ],
   "id": "initial_id",
   "outputs": [],
   "execution_count": 36
  },
  {
   "metadata": {
    "ExecuteTime": {
     "end_time": "2024-07-25T14:35:35.037605Z",
     "start_time": "2024-07-25T14:35:31.491503Z"
    }
   },
   "cell_type": "code",
   "source": [
    "# Visualize\n",
    "vv = napari.Viewer()\n",
    "#landmarks\n",
    "vv.add_points(em_landmarks, face_color='m')\n",
    "vv.add_points(lm_landmarks, face_color='y')\n",
    "vv.add_points(transformed_landmarks , face_color='c')\n",
    "#centroids\n",
    "vv.add_points(em_centroids, face_color='r')\n",
    "vv.add_points(transformed_centroids, face_color='b')"
   ],
   "id": "52d64241b7ceced4",
   "outputs": [
    {
     "name": "stderr",
     "output_type": "stream",
     "text": [
      "WARNING: DirectWrite: CreateFontFaceFromHDC() failed (Indicates an error in an input file such as a font file.) for QFontDef(Family=\"\", pointsize=12, pixelsize=16, styleHint=5, weight=50, stretch=100, hintingPreference=0) LOGFONT(\"MS Sans Serif\", lfWidth=0, lfHeight=-16) dpi=144\n",
      "D:\\montruth\\PycharmProjects\\samplePy\\.venv\\lib\\site-packages\\napari\\plugins\\_plugin_manager.py:555: UserWarning: Plugin 'napari-animated-gif-io' has already registered a function widget 'save as animated gif' which has now been overwritten\n",
      "  warn(message=warn_message)\n"
     ]
    },
    {
     "data": {
      "text/plain": [
       "<Points layer 'transformed_centroids' at 0x2bb359cb7f0>"
      ]
     },
     "execution_count": 37,
     "metadata": {},
     "output_type": "execute_result"
    }
   ],
   "execution_count": 37
  },
  {
   "metadata": {
    "ExecuteTime": {
     "end_time": "2024-07-25T14:35:36.208646Z",
     "start_time": "2024-07-25T14:35:35.039608Z"
    }
   },
   "cell_type": "code",
   "source": [
    "lm_stack = tifffile.imread(r'\\\\tungsten-nas.fmi.ch\\tungsten\\scratch\\gfriedri\\montruth\\CLEM_Analyses\\CLEM_20220426_RM0008_130hpf_fP1_f3\\bigwarp_alignment\\lm_stack.tif') \n",
    "vv.add_image(lm_stack, name='lm_stack')\n",
    "\n"
   ],
   "id": "928701374a9152ba",
   "outputs": [
    {
     "data": {
      "text/plain": [
       "<Image layer 'lm_stack' at 0x2bab298e980>"
      ]
     },
     "execution_count": 38,
     "metadata": {},
     "output_type": "execute_result"
    }
   ],
   "execution_count": 38
  },
  {
   "metadata": {
    "ExecuteTime": {
     "end_time": "2024-07-25T14:35:37.683689Z",
     "start_time": "2024-07-25T14:35:36.210647Z"
    }
   },
   "cell_type": "code",
   "source": [
    "\n",
    "from scipy.ndimage import map_coordinates\n",
    "em_mask = tifffile.imread(r'\\\\tungsten-nas.fmi.ch\\tungsten\\scratch\\gfriedri\\montruth\\CLEM_Analyses\\CLEM_20220426_RM0008_130hpf_fP1_f3\\bigwarp_alignment\\fine_aligned_downsampled_4_em_stack_cropped_woResin_rough_rotated_to_LM_cp_masks_cp-1_ft00.tif')\n",
    "\n",
    "vv.add_labels(em_mask, name='em_mask')"
   ],
   "id": "130126ba8b2e5b3e",
   "outputs": [
    {
     "data": {
      "text/plain": [
       "<Labels layer 'em_mask' at 0x2bb44080d30>"
      ]
     },
     "execution_count": 39,
     "metadata": {},
     "output_type": "execute_result"
    }
   ],
   "execution_count": 39
  },
  {
   "metadata": {
    "ExecuteTime": {
     "end_time": "2024-07-25T14:35:37.717690Z",
     "start_time": "2024-07-25T14:35:37.685689Z"
    }
   },
   "cell_type": "code",
   "source": [
    "# save transformed_em_centroids as lm_stack_processed_centroids\n",
    "# Convert the numpy array to a list of tuples if it's not already\n",
    "centroid_list = [tuple(centroid) for centroid in transformed_centroids]\n",
    "\n",
    "# Create a DataFrame with unique IDs and centroids\n",
    "lut['lm_stack_processed_centroids_zyx_px'] = centroid_list\n",
    "\n",
    "lut.head()"
   ],
   "id": "2b5ed0c0edd1b30f",
   "outputs": [
    {
     "data": {
      "text/plain": [
       "   id                                em_centroids_zyx_px  \\\n",
       "0   1  (292.07773851590105, 2.097173144876325, 34.254...   \n",
       "1   2  (216.02410939186757, 2.485066570708888, 40.270...   \n",
       "2   3  (290.19642857142856, 2.044642857142857, 36.955...   \n",
       "3   4  (299.05970149253733, 1.7014925373134329, 42.16...   \n",
       "4   5  (300.7578947368421, 2.3157894736842106, 36.726...   \n",
       "\n",
       "                 lm_stack_processed_centroids_zyx_px  \n",
       "0  (75.89187233237317, 56.922545552828524, -62.94...  \n",
       "1  (40.53236700830166, 47.28642468712496, -71.049...  \n",
       "2  (74.74128570254834, 56.385826600791916, -61.85...  \n",
       "3  (78.41970488730294, 56.72814055383424, -57.770...  \n",
       "4  (79.64862928491493, 58.07835549408628, -60.075...  "
      ],
      "text/html": [
       "<div>\n",
       "<style scoped>\n",
       "    .dataframe tbody tr th:only-of-type {\n",
       "        vertical-align: middle;\n",
       "    }\n",
       "\n",
       "    .dataframe tbody tr th {\n",
       "        vertical-align: top;\n",
       "    }\n",
       "\n",
       "    .dataframe thead th {\n",
       "        text-align: right;\n",
       "    }\n",
       "</style>\n",
       "<table border=\"1\" class=\"dataframe\">\n",
       "  <thead>\n",
       "    <tr style=\"text-align: right;\">\n",
       "      <th></th>\n",
       "      <th>id</th>\n",
       "      <th>em_centroids_zyx_px</th>\n",
       "      <th>lm_stack_processed_centroids_zyx_px</th>\n",
       "    </tr>\n",
       "  </thead>\n",
       "  <tbody>\n",
       "    <tr>\n",
       "      <th>0</th>\n",
       "      <td>1</td>\n",
       "      <td>(292.07773851590105, 2.097173144876325, 34.254...</td>\n",
       "      <td>(75.89187233237317, 56.922545552828524, -62.94...</td>\n",
       "    </tr>\n",
       "    <tr>\n",
       "      <th>1</th>\n",
       "      <td>2</td>\n",
       "      <td>(216.02410939186757, 2.485066570708888, 40.270...</td>\n",
       "      <td>(40.53236700830166, 47.28642468712496, -71.049...</td>\n",
       "    </tr>\n",
       "    <tr>\n",
       "      <th>2</th>\n",
       "      <td>3</td>\n",
       "      <td>(290.19642857142856, 2.044642857142857, 36.955...</td>\n",
       "      <td>(74.74128570254834, 56.385826600791916, -61.85...</td>\n",
       "    </tr>\n",
       "    <tr>\n",
       "      <th>3</th>\n",
       "      <td>4</td>\n",
       "      <td>(299.05970149253733, 1.7014925373134329, 42.16...</td>\n",
       "      <td>(78.41970488730294, 56.72814055383424, -57.770...</td>\n",
       "    </tr>\n",
       "    <tr>\n",
       "      <th>4</th>\n",
       "      <td>5</td>\n",
       "      <td>(300.7578947368421, 2.3157894736842106, 36.726...</td>\n",
       "      <td>(79.64862928491493, 58.07835549408628, -60.075...</td>\n",
       "    </tr>\n",
       "  </tbody>\n",
       "</table>\n",
       "</div>"
      ]
     },
     "execution_count": 40,
     "metadata": {},
     "output_type": "execute_result"
    }
   ],
   "execution_count": 40
  },
  {
   "metadata": {
    "ExecuteTime": {
     "end_time": "2024-07-25T14:35:38.023698Z",
     "start_time": "2024-07-25T14:35:37.720687Z"
    }
   },
   "cell_type": "code",
   "source": [
    "\n",
    "lut.to_csv(r'\\\\tungsten-nas.fmi.ch\\tungsten\\scratch\\gfriedri\\montruth\\CLEM_Analyses\\CLEM_20220426_RM0008_130hpf_fP1_f3\\bigwarp_alignment\\lut_centroids.csv', index=False)\n"
   ],
   "id": "8d832e344f09c6a6",
   "outputs": [],
   "execution_count": 41
  }
 ],
 "metadata": {
  "kernelspec": {
   "display_name": "Python 3",
   "language": "python",
   "name": "python3"
  },
  "language_info": {
   "codemirror_mode": {
    "name": "ipython",
    "version": 2
   },
   "file_extension": ".py",
   "mimetype": "text/x-python",
   "name": "python",
   "nbconvert_exporter": "python",
   "pygments_lexer": "ipython2",
   "version": "2.7.6"
  }
 },
 "nbformat": 4,
 "nbformat_minor": 5
}
