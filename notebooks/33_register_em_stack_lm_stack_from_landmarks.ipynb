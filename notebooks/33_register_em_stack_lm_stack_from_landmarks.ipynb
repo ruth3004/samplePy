{
 "cells": [
  {
   "cell_type": "code",
   "id": "109f7eaad96f9682",
   "metadata": {
    "collapsed": true,
    "ExecuteTime": {
     "end_time": "2025-01-08T14:52:41.224431Z",
     "start_time": "2025-01-08T14:52:41.189981Z"
    }
   },
   "source": [
    "# Import\n",
    "import numpy as np\n",
    "import pandas as pd\n",
    "import napari\n",
    "\n",
    "from scipy.interpolate import RBFInterpolator\n",
    "\n",
    "import tifffile \n",
    "\n",
    "from scripts.sample_db import SampleDB\n",
    "from scripts.config_model import save_experiment_config, tree\n",
    "\n",
    "import dill\n"
   ],
   "outputs": [],
   "execution_count": 65
  },
  {
   "metadata": {
    "ExecuteTime": {
     "end_time": "2025-01-08T14:25:56.260090Z",
     "start_time": "2025-01-08T14:25:52.551541Z"
    }
   },
   "cell_type": "code",
   "source": [
    "#Upload sample with stck and mask\n",
    "db_path = r'\\\\tungsten-nas.fmi.ch\\tungsten\\scratch\\gfriedri\\montruth\\sample_db.csv'\n",
    "sample_db = SampleDB()\n",
    "sample_db.load(db_path)\n",
    "\n",
    "# Get the sample\n",
    "exp = sample_db.get_sample('20220426_RM0008_130hpf_fP1_f3')\n",
    "em_stack_path = exp.paths.em_stack\n",
    "em_mask_path = exp.paths.em_mask\n",
    "\n",
    "em_stack =  tifffile.imread(em_stack_path)\n",
    "em_mask =  tifffile.imread(em_mask_path)\n",
    "lut = pd.read_csv(exp.paths.em_centroids)\n"
   ],
   "id": "a84c287fb9626edd",
   "outputs": [],
   "execution_count": 43
  },
  {
   "metadata": {
    "ExecuteTime": {
     "end_time": "2025-01-08T14:25:56.783050Z",
     "start_time": "2025-01-08T14:25:56.575052Z"
    }
   },
   "cell_type": "code",
   "source": [
    "em_centroids= np.array([eval(t) for t in lut['em_centroids_zyx_px']])\n",
    "print(em_centroids.shape)\n"
   ],
   "id": "d8e31b06caaada9e",
   "outputs": [
    {
     "name": "stdout",
     "output_type": "stream",
     "text": [
      "(9462, 3)\n"
     ]
    }
   ],
   "execution_count": 44
  },
  {
   "metadata": {
    "ExecuteTime": {
     "end_time": "2025-01-08T14:26:03.571031Z",
     "start_time": "2025-01-08T14:26:02.530013Z"
    }
   },
   "cell_type": "code",
   "source": [
    "# Load landmarks to create transform\n",
    "lmks_path = r'\\\\tungsten-nas.fmi.ch\\tungsten\\scratch\\gfriedri\\montruth\\CLEM_Analyses\\CLEM_20220426_RM0008_130hpf_fP1_f3\\bigwarp_alignment\\20240710_mov_EM_fix_LM_landmarks.csv'\n",
    "\n",
    "lmks = pd.read_csv(lmks_path, header= None)\n",
    "# Add the headers as shown in the image\n",
    "headers = ['Name', 'Active', 'mvg-x', 'mvg-y', 'mvg-z', 'fix-x', 'fix-y', 'fix-z']\n",
    "\n",
    "# Assign the headers to the DataFrame\n",
    "lmks.columns = headers\n",
    "\n",
    "# Saving and updating into exp \n",
    "lmks.to_csv(exp.paths.clem_path + \"/20240710_mov_EM_fix_LM_landmarks.csv\" )\n",
    "exp.paths.lmks_path = exp.paths.clem_path + \"/20240710_mov_EM_fix_LM_landmarks.csv\" \n",
    "save_experiment_config(exp)"
   ],
   "id": "dface4dd171f24c4",
   "outputs": [
    {
     "name": "stdout",
     "output_type": "stream",
     "text": [
      "\\\\tungsten-nas.fmi.ch\\tungsten\\scratch\\gfriedri\\montruth\\2P_RawData\\2022-04-26\\f3\\config_20220426_RM0008_130hpf_fP1_f3.json\n"
     ]
    }
   ],
   "execution_count": 45
  },
  {
   "metadata": {
    "ExecuteTime": {
     "end_time": "2025-01-08T14:26:04.968580Z",
     "start_time": "2025-01-08T14:26:04.952575Z"
    }
   },
   "cell_type": "code",
   "source": "lmks.head()\n",
   "id": "5dea1348c24cc302",
   "outputs": [
    {
     "data": {
      "text/plain": [
       "   Name  Active      mvg-x      mvg-y      mvg-z      fix-x      fix-y  \\\n",
       "0  Pt-0   False  15.401238  23.064857  67.894922   8.473757  50.299048   \n",
       "1  Pt-1   False  16.572585  36.465325  98.828049  35.424851  66.547966   \n",
       "2  Pt-2   False  51.741957  17.723752  93.737745  67.471004  42.754333   \n",
       "3  Pt-5   False  43.160962  38.318928  39.673012  41.138765  51.146687   \n",
       "4  Pt-6   False  38.967385  36.177572  37.005390  35.281416  47.460107   \n",
       "\n",
       "       fix-z  \n",
       "0  48.974068  \n",
       "1  79.553103  \n",
       "2  74.472040  \n",
       "3   6.435591  \n",
       "4   9.680567  "
      ],
      "text/html": [
       "<div>\n",
       "<style scoped>\n",
       "    .dataframe tbody tr th:only-of-type {\n",
       "        vertical-align: middle;\n",
       "    }\n",
       "\n",
       "    .dataframe tbody tr th {\n",
       "        vertical-align: top;\n",
       "    }\n",
       "\n",
       "    .dataframe thead th {\n",
       "        text-align: right;\n",
       "    }\n",
       "</style>\n",
       "<table border=\"1\" class=\"dataframe\">\n",
       "  <thead>\n",
       "    <tr style=\"text-align: right;\">\n",
       "      <th></th>\n",
       "      <th>Name</th>\n",
       "      <th>Active</th>\n",
       "      <th>mvg-x</th>\n",
       "      <th>mvg-y</th>\n",
       "      <th>mvg-z</th>\n",
       "      <th>fix-x</th>\n",
       "      <th>fix-y</th>\n",
       "      <th>fix-z</th>\n",
       "    </tr>\n",
       "  </thead>\n",
       "  <tbody>\n",
       "    <tr>\n",
       "      <th>0</th>\n",
       "      <td>Pt-0</td>\n",
       "      <td>False</td>\n",
       "      <td>15.401238</td>\n",
       "      <td>23.064857</td>\n",
       "      <td>67.894922</td>\n",
       "      <td>8.473757</td>\n",
       "      <td>50.299048</td>\n",
       "      <td>48.974068</td>\n",
       "    </tr>\n",
       "    <tr>\n",
       "      <th>1</th>\n",
       "      <td>Pt-1</td>\n",
       "      <td>False</td>\n",
       "      <td>16.572585</td>\n",
       "      <td>36.465325</td>\n",
       "      <td>98.828049</td>\n",
       "      <td>35.424851</td>\n",
       "      <td>66.547966</td>\n",
       "      <td>79.553103</td>\n",
       "    </tr>\n",
       "    <tr>\n",
       "      <th>2</th>\n",
       "      <td>Pt-2</td>\n",
       "      <td>False</td>\n",
       "      <td>51.741957</td>\n",
       "      <td>17.723752</td>\n",
       "      <td>93.737745</td>\n",
       "      <td>67.471004</td>\n",
       "      <td>42.754333</td>\n",
       "      <td>74.472040</td>\n",
       "    </tr>\n",
       "    <tr>\n",
       "      <th>3</th>\n",
       "      <td>Pt-5</td>\n",
       "      <td>False</td>\n",
       "      <td>43.160962</td>\n",
       "      <td>38.318928</td>\n",
       "      <td>39.673012</td>\n",
       "      <td>41.138765</td>\n",
       "      <td>51.146687</td>\n",
       "      <td>6.435591</td>\n",
       "    </tr>\n",
       "    <tr>\n",
       "      <th>4</th>\n",
       "      <td>Pt-6</td>\n",
       "      <td>False</td>\n",
       "      <td>38.967385</td>\n",
       "      <td>36.177572</td>\n",
       "      <td>37.005390</td>\n",
       "      <td>35.281416</td>\n",
       "      <td>47.460107</td>\n",
       "      <td>9.680567</td>\n",
       "    </tr>\n",
       "  </tbody>\n",
       "</table>\n",
       "</div>"
      ]
     },
     "execution_count": 46,
     "metadata": {},
     "output_type": "execute_result"
    }
   ],
   "execution_count": 46
  },
  {
   "metadata": {
    "ExecuteTime": {
     "end_time": "2025-01-08T14:26:07.335149Z",
     "start_time": "2025-01-08T14:26:07.323149Z"
    }
   },
   "cell_type": "code",
   "source": [
    "em_landmarks = lmks[lmks['Active']==True][['mvg-z','mvg-y','mvg-x']].to_numpy()/[.16,0.4,0.16]\n",
    "lm_landmarks = lmks[lmks['Active'] == True][['fix-z', 'fix-y', 'fix-x']].to_numpy()/[.4,0.4,0.4]\n",
    "print(em_landmarks.shape)"
   ],
   "id": "964f20c48da49d04",
   "outputs": [
    {
     "name": "stdout",
     "output_type": "stream",
     "text": [
      "(351, 3)\n"
     ]
    }
   ],
   "execution_count": 47
  },
  {
   "metadata": {
    "ExecuteTime": {
     "end_time": "2025-01-08T14:26:09.522278Z",
     "start_time": "2025-01-08T14:26:09.510277Z"
    }
   },
   "cell_type": "code",
   "source": [
    "# Setting up the RBFInterpolator for TPS\n",
    "source_landmarks = em_landmarks\n",
    "target_landmarks = lm_landmarks\n",
    "# The 'thin_plate' kernel is used for TPS\n",
    "tps_kernel = 'thin_plate_spline'\n",
    "\n",
    "# Instantiate the RBFInterpolator for each dimension\n",
    "rbf_interpolator = RBFInterpolator(source_landmarks, target_landmarks, kernel=tps_kernel)"
   ],
   "id": "59fa766c60ac264",
   "outputs": [],
   "execution_count": 48
  },
  {
   "metadata": {
    "ExecuteTime": {
     "end_time": "2025-01-08T15:03:44.250830Z",
     "start_time": "2025-01-08T15:03:44.218823Z"
    }
   },
   "cell_type": "code",
   "source": [
    "# Save\n",
    "with open(exp.paths.clem_path +'/'+f'{exp.sample.id}_em2lm_interpolator.dill', 'wb') as f:\n",
    "    dill.dump(rbf_interpolator, f)\n",
    "\n"
   ],
   "id": "5f55af86a3845490",
   "outputs": [],
   "execution_count": 87
  },
  {
   "metadata": {},
   "cell_type": "code",
   "outputs": [],
   "execution_count": null,
   "source": [
    "# # Load an existing interpolator \n",
    "# with open(exp.paths.clem_path +'/'+f'{exp.sample.id}_em2lm_interpolator.dill', 'rb') as f:\n",
    "#     loaded_interpolator = dill.load(f)\n",
    "\n",
    "# # Compare predictions\n",
    "# test_point = em_landmarks\n",
    "# original_prediction = rbf_interpolator(test_point)\n",
    "# loaded_prediction = loaded_interpolator(test_point)\n",
    "# np.allclose(original_prediction, loaded_prediction)  # Should return True\n",
    "# \n",
    "# # Compare attributes\n",
    "# original_attributes = rbf_interpolator.__dict__\n",
    "# loaded_attributes = loaded_interpolator.__dict__\n",
    "# all(np.array_equal(original_attributes[k], loaded_attributes[k]) \n",
    "#     if isinstance(original_attributes[k], np.ndarray)\n",
    "#     else original_attributes[k] == loaded_attributes[k]\n",
    "#     for k in original_attributes)  # Should return True"
   ],
   "id": "35f41ae7612ad4b9"
  },
  {
   "metadata": {
    "ExecuteTime": {
     "end_time": "2025-01-08T14:54:25.166794Z",
     "start_time": "2025-01-08T14:54:24.998791Z"
    }
   },
   "cell_type": "code",
   "source": [
    "# Apply the transformation using the RBFInterpolator\n",
    "transformed_landmarks = rbf_interpolator(em_landmarks)\n",
    "transformed_centroids = rbf_interpolator(em_centroids)\n",
    "# Save lut "
   ],
   "id": "initial_id",
   "outputs": [],
   "execution_count": 70
  },
  {
   "metadata": {
    "ExecuteTime": {
     "end_time": "2025-01-08T14:54:28.919849Z",
     "start_time": "2025-01-08T14:54:26.119812Z"
    }
   },
   "cell_type": "code",
   "source": [
    "# Visualize\n",
    "vv = napari.Viewer()\n",
    "#landmarks\n",
    "vv.add_points(em_landmarks, face_color='m')\n",
    "vv.add_points(lm_landmarks, face_color='y')\n",
    "vv.add_points(transformed_landmarks , face_color='c')\n",
    "#centroids\n",
    "vv.add_points(em_centroids, face_color='r')\n",
    "vv.add_points(transformed_centroids, face_color='b')"
   ],
   "id": "52d64241b7ceced4",
   "outputs": [
    {
     "name": "stderr",
     "output_type": "stream",
     "text": [
      "D:\\montruth\\PycharmProjects\\samplePy\\.venv\\lib\\site-packages\\napari\\plugins\\_plugin_manager.py:555: UserWarning: Plugin 'napari_skimage_regionprops2' has already registered a function widget 'duplicate current frame' which has now been overwritten\n",
      "  warn(message=warn_message)\n",
      "D:\\montruth\\PycharmProjects\\samplePy\\.venv\\lib\\site-packages\\napari\\plugins\\_plugin_manager.py:555: UserWarning: Plugin 'napari-animated-gif-io' has already registered a function widget 'save as animated gif' which has now been overwritten\n",
      "  warn(message=warn_message)\n"
     ]
    },
    {
     "data": {
      "text/plain": [
       "<Points layer 'transformed_centroids' at 0x20d03ecf340>"
      ]
     },
     "execution_count": 71,
     "metadata": {},
     "output_type": "execute_result"
    }
   ],
   "execution_count": 71
  },
  {
   "metadata": {
    "ExecuteTime": {
     "end_time": "2025-01-08T14:54:30.981521Z",
     "start_time": "2025-01-08T14:54:29.886392Z"
    }
   },
   "cell_type": "code",
   "source": [
    "lm_stack = tifffile.imread(r'\\\\tungsten-nas.fmi.ch\\tungsten\\scratch\\gfriedri\\montruth\\CLEM_Analyses\\CLEM_20220426_RM0008_130hpf_fP1_f3\\bigwarp_alignment\\lm_stack.tif') \n",
    "vv.add_image(lm_stack, name='lm_stack')\n",
    "\n"
   ],
   "id": "928701374a9152ba",
   "outputs": [
    {
     "data": {
      "text/plain": [
       "<Image layer 'lm_stack' at 0x20d5249fe50>"
      ]
     },
     "execution_count": 72,
     "metadata": {},
     "output_type": "execute_result"
    }
   ],
   "execution_count": 72
  },
  {
   "metadata": {
    "ExecuteTime": {
     "end_time": "2025-01-08T14:54:32.884550Z",
     "start_time": "2025-01-08T14:54:30.984522Z"
    }
   },
   "cell_type": "code",
   "source": [
    "\n",
    "from scipy.ndimage import map_coordinates\n",
    "em_mask = tifffile.imread(exp.paths.em_mask)\n",
    "\n",
    "vv.add_labels(em_mask, name='em_mask')"
   ],
   "id": "130126ba8b2e5b3e",
   "outputs": [
    {
     "data": {
      "text/plain": [
       "<Labels layer 'em_mask' at 0x20d5249c430>"
      ]
     },
     "execution_count": 73,
     "metadata": {},
     "output_type": "execute_result"
    }
   ],
   "execution_count": 73
  },
  {
   "metadata": {
    "ExecuteTime": {
     "end_time": "2025-01-08T14:26:33.118336Z",
     "start_time": "2025-01-08T14:26:33.086334Z"
    }
   },
   "cell_type": "code",
   "source": [
    "# save transformed_em_centroids as lm_stack_processed_centroids\n",
    "# Convert the numpy array to a list of tuples if it's not already\n",
    "centroid_list = [tuple(centroid) for centroid in transformed_centroids]\n",
    "\n",
    "# Create a DataFrame with unique IDs and centroids\n",
    "lut['lm_stack_processed_centroids_zyx_px'] = centroid_list\n",
    "\n",
    "lut.head()"
   ],
   "id": "2b5ed0c0edd1b30f",
   "outputs": [
    {
     "data": {
      "text/plain": [
       "   id                                em_centroids_zyx_px  \\\n",
       "0   1  (585.8534150215567, 283.09280689811663, 411.51...   \n",
       "1   2  (564.9634206623826, 281.9189322787939, 392.601...   \n",
       "2   3  (616.4642448512586, 280.7225400457666, 418.734...   \n",
       "3   4  (569.6973260003792, 281.62526076237435, 446.58...   \n",
       "4   5  (549.7964018525116, 280.40220876380477, 463.83...   \n",
       "\n",
       "                 lm_stack_processed_centroids_zyx_px  \n",
       "0  (116.81865840534738, 348.3575044800491, 282.45...  \n",
       "1  (108.89449801383307, 347.8131157787775, 269.19...  \n",
       "2  (131.9194855128153, 347.20118734227253, 289.86...  \n",
       "3  (104.54480950737889, 341.5247897065565, 297.01...  \n",
       "4  (92.86902184159953, 336.6722687165584, 302.118...  "
      ],
      "text/html": [
       "<div>\n",
       "<style scoped>\n",
       "    .dataframe tbody tr th:only-of-type {\n",
       "        vertical-align: middle;\n",
       "    }\n",
       "\n",
       "    .dataframe tbody tr th {\n",
       "        vertical-align: top;\n",
       "    }\n",
       "\n",
       "    .dataframe thead th {\n",
       "        text-align: right;\n",
       "    }\n",
       "</style>\n",
       "<table border=\"1\" class=\"dataframe\">\n",
       "  <thead>\n",
       "    <tr style=\"text-align: right;\">\n",
       "      <th></th>\n",
       "      <th>id</th>\n",
       "      <th>em_centroids_zyx_px</th>\n",
       "      <th>lm_stack_processed_centroids_zyx_px</th>\n",
       "    </tr>\n",
       "  </thead>\n",
       "  <tbody>\n",
       "    <tr>\n",
       "      <th>0</th>\n",
       "      <td>1</td>\n",
       "      <td>(585.8534150215567, 283.09280689811663, 411.51...</td>\n",
       "      <td>(116.81865840534738, 348.3575044800491, 282.45...</td>\n",
       "    </tr>\n",
       "    <tr>\n",
       "      <th>1</th>\n",
       "      <td>2</td>\n",
       "      <td>(564.9634206623826, 281.9189322787939, 392.601...</td>\n",
       "      <td>(108.89449801383307, 347.8131157787775, 269.19...</td>\n",
       "    </tr>\n",
       "    <tr>\n",
       "      <th>2</th>\n",
       "      <td>3</td>\n",
       "      <td>(616.4642448512586, 280.7225400457666, 418.734...</td>\n",
       "      <td>(131.9194855128153, 347.20118734227253, 289.86...</td>\n",
       "    </tr>\n",
       "    <tr>\n",
       "      <th>3</th>\n",
       "      <td>4</td>\n",
       "      <td>(569.6973260003792, 281.62526076237435, 446.58...</td>\n",
       "      <td>(104.54480950737889, 341.5247897065565, 297.01...</td>\n",
       "    </tr>\n",
       "    <tr>\n",
       "      <th>4</th>\n",
       "      <td>5</td>\n",
       "      <td>(549.7964018525116, 280.40220876380477, 463.83...</td>\n",
       "      <td>(92.86902184159953, 336.6722687165584, 302.118...</td>\n",
       "    </tr>\n",
       "  </tbody>\n",
       "</table>\n",
       "</div>"
      ]
     },
     "execution_count": 53,
     "metadata": {},
     "output_type": "execute_result"
    }
   ],
   "execution_count": 53
  },
  {
   "metadata": {
    "ExecuteTime": {
     "end_time": "2025-01-08T14:31:56.908842Z",
     "start_time": "2025-01-08T14:31:55.823206Z"
    }
   },
   "cell_type": "code",
   "source": [
    "lut_path = str(exp.paths.clem_path +\"\\\\\" +exp.sample.id + \"_lut_centroids.csv\")\n",
    "lut.to_csv(lut_path, index=False)\n",
    "\n",
    "exp.paths.lut_path = lut_path\n",
    "save_experiment_config(exp)"
   ],
   "id": "8d832e344f09c6a6",
   "outputs": [
    {
     "name": "stdout",
     "output_type": "stream",
     "text": [
      "\\\\tungsten-nas.fmi.ch\\tungsten\\scratch\\gfriedri\\montruth\\2P_RawData\\2022-04-26\\f3\\config_20220426_RM0008_130hpf_fP1_f3.json\n"
     ]
    }
   ],
   "execution_count": 59
  },
  {
   "metadata": {
    "ExecuteTime": {
     "end_time": "2025-01-08T15:18:20.302778Z",
     "start_time": "2025-01-08T15:18:20.293781Z"
    }
   },
   "cell_type": "code",
   "source": "tree(exp)",
   "id": "f861d99fff281451",
   "outputs": [
    {
     "name": "stdout",
     "output_type": "stream",
     "text": [
      "sample: Sample\n",
      "    id: str\n",
      "        20220426_RM0008_130hpf_fP1_f3\n",
      "    parents_id: str\n",
      "        P1\n",
      "    genotype: str\n",
      "        aTubulin:GCamp6s x GAD1b:DsRed\n",
      "    phenotype: str\n",
      "        positive expression, nacre\n",
      "    dof: str\n",
      "        21.04.2022-09:30\n",
      "    hpf: int\n",
      "        130\n",
      "    body_length_mm: int\n",
      "        4\n",
      "params_odor: ParamsOdor\n",
      "    odor_list: list\n",
      "        ['Ala', 'Ser', 'Ctrl', 'TCA', 'GCA', 'TDCA', 'Cad', 'SA']\n",
      "    odor_sequence: list\n",
      "        ['Ala', 'Ser', 'Ctrl', 'TCA', 'GCA', 'TDCA', 'Cad', 'SA', 'Cad', 'TDCA', 'GCA', 'TCA', 'Ser', 'Ctrl', 'Ala', 'SA', 'Ctrl', 'Cad', 'Ala', 'Ser', 'TDCA', 'GCA', 'TCA', 'SA']\n",
      "    odor_concentration_uM: list\n",
      "        name: str\n",
      "            Ala\n",
      "        concentration_mM: float\n",
      "            100.0\n",
      "        name: str\n",
      "            Ser\n",
      "        concentration_mM: float\n",
      "            100.0\n",
      "        name: str\n",
      "            Ctrl\n",
      "        concentration_mM: float\n",
      "            100.0\n",
      "        name: str\n",
      "            TCA\n",
      "        concentration_mM: float\n",
      "            10.0\n",
      "        name: str\n",
      "            GCA\n",
      "        concentration_mM: float\n",
      "            10.0\n",
      "        name: str\n",
      "            TDCA\n",
      "        concentration_mM: float\n",
      "            10.0\n",
      "        name: str\n",
      "            Cad\n",
      "        concentration_mM: float\n",
      "            300.0\n",
      "        name: str\n",
      "            SA\n",
      "        concentration_mM: float\n",
      "            0.0\n",
      "    n_trials: int\n",
      "        3\n",
      "    pulse_delay_s: int\n",
      "        15\n",
      "    trial_interval_s: int\n",
      "        60\n",
      "    missed_trials: list\n",
      "        []\n",
      "    events: list\n",
      "        []\n",
      "    pulse_duration_s: int\n",
      "        5\n",
      "params_lm: ParamsLM\n",
      "    start_time: datetime\n",
      "        2022-04-26 19:29:00\n",
      "    end_time: datetime\n",
      "        2022-04-26 21:00:00\n",
      "    date: datetime\n",
      "        2022-04-26 00:00:00\n",
      "    zoom_x: float\n",
      "        4.7\n",
      "    power_percentage: float\n",
      "        30.0\n",
      "    shutter_delay_frames: int\n",
      "        40\n",
      "    sampling_hz: int\n",
      "        30\n",
      "    n_frames: int\n",
      "        1500\n",
      "    n_planes: int\n",
      "        4\n",
      "    doubling: bool\n",
      "        True\n",
      "    lm_stack_range: int\n",
      "        150\n",
      "    ref_plane: int\n",
      "        5\n",
      "    ref_n_frames: int\n",
      "        300\n",
      "    ref_n_slices: int\n",
      "        9\n",
      "    ref_slice_interval_um: float\n",
      "        1.5\n",
      "    n_trials: int\n",
      "        24\n",
      "    ref_frames_ignored: int\n",
      "        40\n",
      "    n_frames_trial: int\n",
      "        375\n",
      "params_em: ParamsEM\n",
      "    fixation_protocol: str\n",
      "        fBROPA\n",
      "    embedding_protocol: str\n",
      "        anterior-up, silver\n",
      "    acquisition_completed: bool\n",
      "        True\n",
      "    acquisition_resolution_zyx: tuple\n",
      "        (25, 9, 9)\n",
      "paths: Paths\n",
      "    root_path: WindowsPath\n",
      "        \\\\tungsten-nas.fmi.ch\\tungsten\\scratch\\gfriedri\\montruth\\2P_RawData\\2022-04-26\\f3\n",
      "    config_path: WindowsPath\n",
      "        \\\\tungsten-nas.fmi.ch\\tungsten\\scratch\\gfriedri\\montruth\\2P_RawData\\2022-04-26\\f3\\config_20220426_RM0008_130hpf_fP1_f3.json\n",
      "    trials_path: WindowsPath\n",
      "        \\\\tungsten-nas.fmi.ch\\tungsten\\scratch\\gfriedri\\montruth\\2P_RawData\\2022-04-26\\f3\\trials\n",
      "    anatomy_path: WindowsPath\n",
      "        \\\\tungsten-nas.fmi.ch\\tungsten\\scratch\\gfriedri\\montruth\\2P_RawData\\2022-04-26\\f3\\anatomy\n",
      "    em_path: WindowsPath\n",
      "        \\\\tungsten-nas.fmi.ch\\tungsten\\scratch\\gfriedri\\montruth\\2P_RawData\\2022-04-26\\f3\\em\n",
      "    em_mask: str\n",
      "        \\\\tungsten-nas.fmi.ch\\tungsten\\scratch\\gfriedri\\montruth\\2P_RawData\\2022-04-26\\f3\\em\\20220426_RM0008_130hpf_fP1_f3_fine_aligned_downsampled_16_em_stack_cropped_woResin_rough_rotated_to_LM_cp_mask_filtered.tif\n",
      "    em_centroids: str\n",
      "        \\\\tungsten-nas.fmi.ch\\tungsten\\scratch\\gfriedri\\montruth\\2P_RawData\\2022-04-26\\f3\\em\\20220426_RM0008_130hpf_fP1_f3_centroids.csv\n",
      "    lmks_path: str\n",
      "        \\\\tungsten-nas.fmi.ch\\tungsten\\scratch\\gfriedri\\montruth\\2P_RawData\\2022-04-26\\f3\\clem/20240710_mov_EM_fix_LM_landmarks.csv\n",
      "    em_stack: str\n",
      "        \\\\tungsten-nas.fmi.ch\\tungsten\\scratch\\gfriedri\\montruth\\2P_RawData\\2022-04-26\\f3\\em\\20220426_RM0008_130hpf_fP1_f3_fine_aligned_downsampled_16_em_stack_cropped_woResin_rough_rotated_to_LM.tif\n",
      "    clem_path: str\n",
      "        \\\\tungsten-nas.fmi.ch\\tungsten\\scratch\\gfriedri\\montruth\\2P_RawData\\2022-04-26\\f3\\clem\n",
      "    lut_path: str\n",
      "        \\\\tungsten-nas.fmi.ch\\tungsten\\scratch\\gfriedri\\montruth\\2P_RawData\\2022-04-26\\f3\\clem\\20220426_RM0008_130hpf_fP1_f3_lut_centroids.csv\n"
     ]
    }
   ],
   "execution_count": 88
  },
  {
   "metadata": {},
   "cell_type": "code",
   "outputs": [],
   "execution_count": null,
   "source": "",
   "id": "35682d01e0eb8622"
  }
 ],
 "metadata": {
  "kernelspec": {
   "display_name": "Python 3",
   "language": "python",
   "name": "python3"
  },
  "language_info": {
   "codemirror_mode": {
    "name": "ipython",
    "version": 2
   },
   "file_extension": ".py",
   "mimetype": "text/x-python",
   "name": "python",
   "nbconvert_exporter": "python",
   "pygments_lexer": "ipython2",
   "version": "2.7.6"
  }
 },
 "nbformat": 4,
 "nbformat_minor": 5
}
