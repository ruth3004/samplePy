{
 "cells": [
  {
   "metadata": {},
   "cell_type": "markdown",
   "source": [
    "# Segmentation trial acquisitions (calcium imaging)\n",
    "* Segmentation of (motion corrected) images\n"
   ],
   "id": "396b7a1fd4a06fc6"
  },
  {
   "metadata": {
    "ExecuteTime": {
     "end_time": "2024-06-05T13:46:45.617735Z",
     "start_time": "2024-06-05T13:30:32.471829Z"
    }
   },
   "cell_type": "code",
   "source": [
    "import numpy as np\n",
    "from cellpose import models\n",
    "import napari\n",
    "import os\n",
    "from scripts.sample_db import SampleDB\n",
    "from tifffile import imwrite, imread\n",
    "\n",
    "# Load the sample database\n",
    "db_path = r'\\\\tungsten-nas.fmi.ch\\tungsten\\scratch\\gfriedri\\montruth\\sample_db.csv'\n",
    "sample_db = SampleDB()\n",
    "sample_db.load(db_path)\n",
    "print(sample_db)\n",
    "\n",
    "# Loading experiment\n",
    "sample_id = '20220426_RM0008_130hpf_fP1_f3'\n",
    "exp = sample_db.get_sample(sample_id)\n",
    "print(exp)\n",
    "\n",
    "# Import model\n",
    "model_path = r'D:\\montruth\\cellpose\\models\\CP_20230803_101131' \n",
    "model = models.CellposeModel(model_type=model_path, gpu=True)\n",
    "\n",
    "# Making shortcuts of sample parameters/information\n",
    "sample = exp.sample\n",
    "raw_path = exp.paths[\"raw_path\"]\n",
    "anatomy_path = exp.paths[\"anatomy_path\"]\n",
    "em_path = exp.paths[\"em_path\"]\n",
    "n_planes = exp.params_lm.n_planes\n",
    "n_frames = exp.params_lm.n_frames\n",
    "n_slices = exp.params_lm.lm_stack_range\n",
    "doubling = 2 if exp.params_lm.doubling else 1\n",
    "\n",
    "# Getting paths of the trial acquisitions\n",
    "trial_paths = os.listdir(os.path.join(raw_path, \"trials\"))\n",
    "\n",
    "# Define the path for the preprocessed folder\n",
    "preprocessed_folder = os.path.join(r\"\\\\tungsten-nas.fmi.ch\\tungsten\\scratch\\gfriedri\\montruth\\2P_RawData\\2022-04-26\\f3\", \"preprocessed\")\n",
    "os.makedirs(preprocessed_folder, exist_ok=True)\n",
    "\n",
    "# Define the path for the masks folder\n",
    "masks_folder = os.path.join(preprocessed_folder, \"..\", \"masks\")\n",
    "os.makedirs(masks_folder, exist_ok=True)\n",
    "\n",
    "# Segment all trials per plane\n",
    "all_images = []\n",
    "all_masks = []\n",
    "stack_to_mask = matched_stack\n",
    "# Loop through each plane and process images\n",
    "for plane in range(n_planes*doubling):\n",
    "    plane_str = f\"{plane:02d}\"\n",
    "    images =stack_to_mask[plane]\n",
    "    #for trial_path in trial_paths:\n",
    "    #    image_path = os.path.join(preprocessed_folder, f\"transformed_plane_{plane:02d}_{trial_path}\")\n",
    "    #    images.append(imread(image_path).mean(axis=0))\n",
    "    #images = np.array(images)\n",
    "    #all_images.append(images)\n",
    "\n",
    "    # Segment the images using Cellpose\n",
    "    masks, flows, styles = model.eval(images, channels=[0, 0], cellprob_threshold=-6, flow_threshold=0, resample=False, augment=False, stitch_threshold=0.01)\n",
    "    \n",
    "    # Save the initial masks for each plane\n",
    "    mask_plane_path = os.path.join(masks_folder, f\"mask_plane_{plane_str}.tif\")\n",
    "    imwrite(mask_plane_path, masks)\n",
    "    print(f\"Mask for plane {plane} saved at {mask_plane_path}\")\n",
    "\n",
    "    # Store the masks for visualization\n",
    "    all_masks.append(masks)\n",
    "\n",
    "# Convert lists to numpy arrays for visualization\n",
    "all_masks = np.array(all_masks)"
   ],
   "id": "3a37584dd4bf7c06",
   "outputs": [
    {
     "name": "stdout",
     "output_type": "stream",
     "text": [
      "SampleDB(sample_ids=['20220426_RM0008_130hpf_fP1_f3'])\n",
      "sample=Sample(id='20220426_RM0008_130hpf_fP1_f3', parents_id='P1', genotype='aTubulin:GCamp6s x GAD1b:DsRed', phenotype='positive expression, nacre', dof='21.04.2022-09:30', hpf=130, body_length_mm=4) params_odor=ParamsOdor(odor_list=['Ala', 'Ser', 'Ctrl', 'TCA', 'GCA', 'TDCA', 'Cad', 'SA'], odor_sequence=['Ala', 'Ser', 'Ctrl', 'TCA', 'GCA', 'TDCA', 'Cad', 'SA', 'Cad', 'TDCA', 'GCA', 'TCA', 'Ser', 'Ctrl', 'Ala', 'SA', 'Ctrl', 'Cad', 'Ala', 'Ser', 'TDCA', 'GCA', 'TCA', 'SA'], odor_concentration_uM=[OdorConcentration(name='Ala', concentration_mM=100.0), OdorConcentration(name='Ser', concentration_mM=100.0), OdorConcentration(name='Ctrl', concentration_mM=100.0), OdorConcentration(name='TCA', concentration_mM=10.0), OdorConcentration(name='GCA', concentration_mM=10.0), OdorConcentration(name='TDCA', concentration_mM=10.0), OdorConcentration(name='Cad', concentration_mM=300.0), OdorConcentration(name='SA', concentration_mM=0.0)], n_trials=3, pulse_delay_s=15, pulse_duration_s=5, trial_interval_s=60, missed_trials=[], events=[]) params_lm=ParamsLM(start_time=datetime.datetime(2022, 4, 26, 19, 29), end_time=datetime.datetime(2022, 4, 26, 21, 0), date=datetime.datetime(2022, 4, 26, 0, 0), zoom_x=4.7, power_percentage=30.0, shutter_delay_frames=40, sampling_hz=30, n_frames=1500, n_planes=4, doubling=True, lm_stack_range=150, ref_plane=5, ref_frames_ignored=40, ref_n_frames=300, ref_n_slices=9, ref_slice_interval_um=1.5) params_em=ParamsEM(fixation_protocol='fBROPA', embedding_protocol='anterior-up, silver', acquisition_completed=True, acquisition_resolution_zyx=(25, 9, 9)) paths={'config_path': '\\\\\\\\tungsten-nas.fmi.ch\\\\tungsten\\\\scratch\\\\gfriedri\\\\montruth\\\\2P_RawData\\\\2022-04-26\\\\f3\\\\sampleConfig_20220426_RM0008_130hpf_fP1_f3.json', 'raw_path': '\\\\\\\\tungsten-nas.fmi.ch\\\\tungsten\\\\scratch\\\\gfriedri\\\\montruth\\\\2P_RawData\\\\2022-04-26\\\\f3\\\\raw', 'anatomy_path': '\\\\\\\\tungsten-nas.fmi.ch\\\\tungsten\\\\scratch\\\\gfriedri\\\\montruth\\\\2P_RawData\\\\2022-04-26\\\\f3\\\\anatomy', 'em_path': None}\n"
     ]
    },
    {
     "name": "stderr",
     "output_type": "stream",
     "text": [
      "  0%|          | 0/23 [00:00<?, ?it/s]D:\\montruth\\PycharmProjects\\samplePy\\.venv\\lib\\site-packages\\cellpose\\metrics.py:196: RuntimeWarning: invalid value encountered in divide\n",
      "  iou = overlap / (n_pixels_pred + n_pixels_true - overlap)\n",
      "100%|██████████| 23/23 [00:00<00:00, 129.20it/s]\n"
     ]
    },
    {
     "name": "stdout",
     "output_type": "stream",
     "text": [
      "Mask for plane 0 saved at \\\\tungsten-nas.fmi.ch\\tungsten\\scratch\\gfriedri\\montruth\\2P_RawData\\2022-04-26\\f3\\preprocessed\\..\\masks\\mask_plane_00.tif\n"
     ]
    },
    {
     "name": "stderr",
     "output_type": "stream",
     "text": [
      "100%|██████████| 23/23 [00:00<00:00, 120.41it/s]\n"
     ]
    },
    {
     "name": "stdout",
     "output_type": "stream",
     "text": [
      "Mask for plane 1 saved at \\\\tungsten-nas.fmi.ch\\tungsten\\scratch\\gfriedri\\montruth\\2P_RawData\\2022-04-26\\f3\\preprocessed\\..\\masks\\mask_plane_01.tif\n"
     ]
    },
    {
     "name": "stderr",
     "output_type": "stream",
     "text": [
      "100%|██████████| 23/23 [00:00<00:00, 93.11it/s] \n"
     ]
    },
    {
     "name": "stdout",
     "output_type": "stream",
     "text": [
      "Mask for plane 2 saved at \\\\tungsten-nas.fmi.ch\\tungsten\\scratch\\gfriedri\\montruth\\2P_RawData\\2022-04-26\\f3\\preprocessed\\..\\masks\\mask_plane_02.tif\n"
     ]
    },
    {
     "name": "stderr",
     "output_type": "stream",
     "text": [
      "100%|██████████| 23/23 [00:00<00:00, 88.46it/s] \n"
     ]
    },
    {
     "name": "stdout",
     "output_type": "stream",
     "text": [
      "Mask for plane 3 saved at \\\\tungsten-nas.fmi.ch\\tungsten\\scratch\\gfriedri\\montruth\\2P_RawData\\2022-04-26\\f3\\preprocessed\\..\\masks\\mask_plane_03.tif\n"
     ]
    },
    {
     "name": "stderr",
     "output_type": "stream",
     "text": [
      "100%|██████████| 23/23 [00:00<00:00, 78.23it/s] \n"
     ]
    },
    {
     "name": "stdout",
     "output_type": "stream",
     "text": [
      "Mask for plane 4 saved at \\\\tungsten-nas.fmi.ch\\tungsten\\scratch\\gfriedri\\montruth\\2P_RawData\\2022-04-26\\f3\\preprocessed\\..\\masks\\mask_plane_04.tif\n"
     ]
    },
    {
     "name": "stderr",
     "output_type": "stream",
     "text": [
      "100%|██████████| 23/23 [00:00<00:00, 83.04it/s] \n"
     ]
    },
    {
     "name": "stdout",
     "output_type": "stream",
     "text": [
      "Mask for plane 5 saved at \\\\tungsten-nas.fmi.ch\\tungsten\\scratch\\gfriedri\\montruth\\2P_RawData\\2022-04-26\\f3\\preprocessed\\..\\masks\\mask_plane_05.tif\n"
     ]
    },
    {
     "name": "stderr",
     "output_type": "stream",
     "text": [
      "100%|██████████| 23/23 [00:00<00:00, 116.16it/s]\n"
     ]
    },
    {
     "name": "stdout",
     "output_type": "stream",
     "text": [
      "Mask for plane 6 saved at \\\\tungsten-nas.fmi.ch\\tungsten\\scratch\\gfriedri\\montruth\\2P_RawData\\2022-04-26\\f3\\preprocessed\\..\\masks\\mask_plane_06.tif\n"
     ]
    },
    {
     "name": "stderr",
     "output_type": "stream",
     "text": [
      "100%|██████████| 23/23 [00:00<00:00, 164.27it/s]\n"
     ]
    },
    {
     "name": "stdout",
     "output_type": "stream",
     "text": [
      "Mask for plane 7 saved at \\\\tungsten-nas.fmi.ch\\tungsten\\scratch\\gfriedri\\montruth\\2P_RawData\\2022-04-26\\f3\\preprocessed\\..\\masks\\mask_plane_07.tif\n"
     ]
    }
   ],
   "execution_count": 69
  },
  {
   "metadata": {
    "ExecuteTime": {
     "end_time": "2024-06-05T11:44:32.562714Z",
     "start_time": "2024-06-05T11:44:32.552714Z"
    }
   },
   "cell_type": "code",
   "source": "matched_stack.shape",
   "id": "710d21828183cde6",
   "outputs": [
    {
     "data": {
      "text/plain": [
       "(8, 24, 256, 512)"
      ]
     },
     "execution_count": 68,
     "metadata": {},
     "output_type": "execute_result"
    }
   ],
   "execution_count": 68
  },
  {
   "metadata": {
    "ExecuteTime": {
     "end_time": "2024-06-05T13:50:33.439791Z",
     "start_time": "2024-06-05T13:50:30.973703Z"
    }
   },
   "cell_type": "code",
   "source": [
    "\n",
    "# Visualize masks\n",
    "viewer = napari.Viewer()\n",
    "viewer.add_image(matched_stack, name='images_transformed')\n",
    "viewer.add_labels(all_masks, name='masks')"
   ],
   "id": "e24f3dce7f7e502",
   "outputs": [
    {
     "name": "stderr",
     "output_type": "stream",
     "text": [
      "WARNING: DirectWrite: CreateFontFaceFromHDC() failed (Indicates an error in an input file such as a font file.) for QFontDef(Family=\"\", pointsize=12, pixelsize=16, styleHint=5, weight=50, stretch=100, hintingPreference=0) LOGFONT(\"MS Sans Serif\", lfWidth=0, lfHeight=-16) dpi=96\n",
      "D:\\montruth\\PycharmProjects\\samplePy\\.venv\\lib\\site-packages\\napari\\plugins\\_plugin_manager.py:555: UserWarning: Plugin 'napari-animated-gif-io' has already registered a function widget 'save as animated gif' which has now been overwritten\n",
      "  warn(message=warn_message)\n"
     ]
    },
    {
     "data": {
      "text/plain": [
       "<Labels layer 'masks' at 0x1b2a11c8550>"
      ]
     },
     "execution_count": 71,
     "metadata": {},
     "output_type": "execute_result"
    }
   ],
   "execution_count": 71
  },
  {
   "metadata": {
    "ExecuteTime": {
     "end_time": "2024-06-05T06:30:33.109211Z",
     "start_time": "2024-06-05T06:30:33.100211Z"
    }
   },
   "cell_type": "code",
   "source": "all_masks.shape",
   "id": "b400381fc2478211",
   "outputs": [
    {
     "data": {
      "text/plain": [
       "(8, 24, 256, 512)"
      ]
     },
     "execution_count": 17,
     "metadata": {},
     "output_type": "execute_result"
    }
   ],
   "execution_count": 17
  },
  {
   "metadata": {
    "ExecuteTime": {
     "end_time": "2024-06-05T10:09:40.990689Z",
     "start_time": "2024-06-05T10:09:39.325561Z"
    }
   },
   "cell_type": "code",
   "source": [
    "all_images_raw = []\n",
    "for plane in range(n_planes*doubling):\n",
    "    plane_str = f\"{plane:02d}\"\n",
    "    images = []\n",
    "    image_path = os.path.join(preprocessed_folder,f\"sum_plane_{plane_str}_{trial_paths[0]}\")\n",
    "    print(imread(image_path).shape)\n",
    "    images.append(imread(image_path))\n",
    "    images = np.array(images)\n",
    "    all_images_raw.append(images)"
   ],
   "id": "91bf561aea7fc1be",
   "outputs": [
    {
     "name": "stdout",
     "output_type": "stream",
     "text": [
      "(24, 256, 512)\n",
      "(24, 256, 512)\n",
      "(24, 256, 512)\n",
      "(24, 256, 512)\n",
      "(24, 256, 512)\n",
      "(24, 256, 512)\n",
      "(24, 256, 512)\n",
      "(24, 256, 512)\n"
     ]
    }
   ],
   "execution_count": 53
  },
  {
   "metadata": {},
   "cell_type": "code",
   "outputs": [],
   "execution_count": null,
   "source": "",
   "id": "c4ed7fed0425281d"
  },
  {
   "metadata": {},
   "cell_type": "code",
   "outputs": [],
   "execution_count": null,
   "source": [
    "all_images_rigid = []\n",
    "for plane in range(n_planes*doubling):\n",
    "    plane_str = f\"{plane:02d}\"\n",
    "    images = []\n",
    "    for trial_path in trial_paths:\n",
    "        image_path = os.path.join(preprocessed_folder, \"trials\",  f\"{trial_paths}\")\n",
    "        print(imread(image_path).shape)\n",
    "        images.append(imread(image_path))\n",
    "    images = np.array(images)\n",
    "    all_images_raw.append(images)"
   ],
   "id": "592aa3cce65c9105"
  },
  {
   "metadata": {
    "ExecuteTime": {
     "end_time": "2024-06-05T09:54:37.625150Z",
     "start_time": "2024-06-05T09:54:34.376788Z"
    }
   },
   "cell_type": "code",
   "source": "np.array(all_images_rigid).shape",
   "id": "e1e7969ac5e1ec14",
   "outputs": [
    {
     "data": {
      "text/plain": [
       "(8, 24, 24, 256, 512)"
      ]
     },
     "execution_count": 44,
     "metadata": {},
     "output_type": "execute_result"
    }
   ],
   "execution_count": 44
  },
  {
   "metadata": {
    "ExecuteTime": {
     "end_time": "2024-06-05T06:34:53.992189Z",
     "start_time": "2024-06-05T06:34:53.351070Z"
    }
   },
   "cell_type": "code",
   "source": "imwrite(r\"\\\\tungsten-nas.fmi.ch\\tungsten\\scratch\\gfriedri\\montruth\\2P_RawData\\2022-04-26\\f3\\preprocessed\\sum_transformed_trials.tif\", np.array(all_images))\n",
   "id": "c75b25c1c1f48603",
   "outputs": [],
   "execution_count": 19
  },
  {
   "metadata": {
    "ExecuteTime": {
     "end_time": "2024-06-05T09:50:47.986842Z",
     "start_time": "2024-06-05T09:50:47.166767Z"
    }
   },
   "cell_type": "code",
   "source": "imwrite(r\"\\\\tungsten-nas.fmi.ch\\tungsten\\scratch\\gfriedri\\montruth\\2P_RawData\\2022-04-26\\f3\\preprocessed\\sum_rigid_corrected_trials.tif\", np.array(all_images_rigid))",
   "id": "1744991b3bc666ee",
   "outputs": [],
   "execution_count": 38
  },
  {
   "metadata": {
    "ExecuteTime": {
     "end_time": "2024-06-05T10:10:52.901571Z",
     "start_time": "2024-06-05T10:10:52.596732Z"
    }
   },
   "cell_type": "code",
   "source": "imwrite(r\"\\\\tungsten-nas.fmi.ch\\tungsten\\scratch\\gfriedri\\montruth\\2P_RawData\\2022-04-26\\f3\\preprocessed\\sum_raw_trials.tif\", np.squeeze(all_images_raw))",
   "id": "d7fe7062151f762f",
   "outputs": [],
   "execution_count": 58
  },
  {
   "metadata": {
    "ExecuteTime": {
     "end_time": "2024-06-05T09:48:43.159557Z",
     "start_time": "2024-06-05T09:48:43.002534Z"
    }
   },
   "cell_type": "code",
   "source": "np.array(all_images).shape",
   "id": "d2435ee54538a029",
   "outputs": [
    {
     "data": {
      "text/plain": [
       "(8, 24, 256, 512)"
      ]
     },
     "execution_count": 29,
     "metadata": {},
     "output_type": "execute_result"
    }
   ],
   "execution_count": 29
  },
  {
   "metadata": {
    "ExecuteTime": {
     "end_time": "2024-06-05T09:54:13.715799Z",
     "start_time": "2024-06-05T09:54:08.619180Z"
    }
   },
   "cell_type": "code",
   "source": "np.array(all_images_rigid).shape",
   "id": "c1ea4beb183b655b",
   "outputs": [
    {
     "data": {
      "text/plain": [
       "(8, 24, 24, 256, 512)"
      ]
     },
     "execution_count": 43,
     "metadata": {},
     "output_type": "execute_result"
    }
   ],
   "execution_count": 43
  },
  {
   "metadata": {
    "ExecuteTime": {
     "end_time": "2024-06-05T10:13:32.722983Z",
     "start_time": "2024-06-05T10:13:30.656808Z"
    }
   },
   "cell_type": "code",
   "source": [
    "all_images_raw = imread(r\"\\\\tungsten-nas.fmi.ch\\tungsten\\scratch\\gfriedri\\montruth\\2P_RawData\\2022-04-26\\f3\\preprocessed\\sum_raw_trials.tif\")\n",
    "print(all_images_raw.shape)\n",
    "\n",
    "all_images_rigid = imread(r\"\\\\tungsten-nas.fmi.ch\\tungsten\\scratch\\gfriedri\\montruth\\2P_RawData\\2022-04-26\\f3\\preprocessed\\sum_rigid_corrected_trials.tif\")\n",
    "print(all_images_rigid.shape)\n",
    "\n",
    "all_images_transformed = imread(r\"\\\\tungsten-nas.fmi.ch\\tungsten\\scratch\\gfriedri\\montruth\\2P_RawData\\2022-04-26\\f3\\preprocessed\\sum_transformed_trials.tif\")\n",
    "print(all_images_transformed.shape)"
   ],
   "id": "35c8925786fafc72",
   "outputs": [
    {
     "name": "stdout",
     "output_type": "stream",
     "text": [
      "(8, 24, 256, 512)\n",
      "(8, 24, 256, 512)\n",
      "(8, 24, 256, 512)\n"
     ]
    }
   ],
   "execution_count": 63
  },
  {
   "metadata": {
    "ExecuteTime": {
     "end_time": "2024-06-05T10:21:06.376742Z",
     "start_time": "2024-06-05T10:20:49.259392Z"
    }
   },
   "cell_type": "code",
   "source": [
    "from skimage import exposure\n",
    "viewer =napari.Viewer()\n",
    "matched_stack = exposure.match_histograms(all_images_transformed,all_images_raw)\n",
    "viewer.add_image(matched_stack, name='images_transformed')\n",
    "viewer.add_image(all_images_rigid, name='images_rigid')\n",
    "viewer.add_image(all_images_raw,  name='images_raw')"
   ],
   "id": "6202fa283ee906c9",
   "outputs": [
    {
     "name": "stderr",
     "output_type": "stream",
     "text": [
      "D:\\montruth\\PycharmProjects\\samplePy\\.venv\\lib\\site-packages\\napari\\plugins\\_plugin_manager.py:555: UserWarning: Plugin 'napari-animated-gif-io' has already registered a function widget 'save as animated gif' which has now been overwritten\n",
      "  warn(message=warn_message)\n"
     ]
    },
    {
     "data": {
      "text/plain": [
       "<Image layer 'images_raw' at 0x1b2cb6590c0>"
      ]
     },
     "execution_count": 66,
     "metadata": {},
     "output_type": "execute_result"
    }
   ],
   "execution_count": 66
  },
  {
   "metadata": {
    "ExecuteTime": {
     "end_time": "2024-06-05T11:40:47.389887Z",
     "start_time": "2024-06-05T11:40:47.059895Z"
    }
   },
   "cell_type": "code",
   "source": "imwrite(r\"\\\\tungsten-nas.fmi.ch\\tungsten\\scratch\\gfriedri\\montruth\\2P_RawData\\2022-04-26\\f3\\preprocessed\\sum_transformed_trials.tif\", matched_stack )",
   "id": "e5c545f16b1797a8",
   "outputs": [],
   "execution_count": 67
  }
 ],
 "metadata": {
  "kernelspec": {
   "display_name": "Python 3",
   "language": "python",
   "name": "python3"
  },
  "language_info": {
   "codemirror_mode": {
    "name": "ipython",
    "version": 2
   },
   "file_extension": ".py",
   "mimetype": "text/x-python",
   "name": "python",
   "nbconvert_exporter": "python",
   "pygments_lexer": "ipython2",
   "version": "2.7.6"
  }
 },
 "nbformat": 4,
 "nbformat_minor": 5
}
