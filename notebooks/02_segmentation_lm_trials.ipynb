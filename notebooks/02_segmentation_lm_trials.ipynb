{
 "cells": [
  {
   "metadata": {},
   "cell_type": "markdown",
   "source": [
    "# Segmentation trial acquisitions (calcium imaging)\n",
    "* Segmentation of (motion corrected) images\n"
   ],
   "id": "396b7a1fd4a06fc6"
  },
  {
   "metadata": {
    "ExecuteTime": {
     "end_time": "2024-06-03T10:02:15.073846Z",
     "start_time": "2024-06-03T10:02:14.810844Z"
    }
   },
   "cell_type": "code",
   "source": [
    "import numpy as np\n",
    "from cellpose import models\n",
    "import napari\n",
    "import os\n",
    "from scripts.sample_db import SampleDB\n",
    "from tifffile import imwrite, imread\n",
    "\n",
    "# Load the sample database\n",
    "db_path = r'\\\\tungsten-nas.fmi.ch\\tungsten\\scratch\\gfriedri\\montruth\\sample_db.csv'\n",
    "sample_db = SampleDB()\n",
    "sample_db.load(db_path)\n",
    "print(sample_db)\n",
    "\n",
    "# Loading experiment\n",
    "sample_id = '20220426_RM0008_130hpf_fP1_f3'\n",
    "exp = sample_db.get_sample(sample_id)\n",
    "print(exp)\n",
    "\n",
    "# Import model\n",
    "model_path = r'D:\\montruth\\cellpose\\models\\CP_20230803_101131' \n",
    "model = models.CellposeModel(model_type=model_path, gpu=True)\n",
    "\n",
    "# Making shortcuts of sample parameters/information\n",
    "sample = exp.sample\n",
    "raw_path = exp.paths[\"raw_path\"]\n",
    "anatomy_path = exp.paths[\"anatomy_path\"]\n",
    "em_path = exp.paths[\"em_path\"]\n",
    "n_planes = exp.params_lm.n_planes\n",
    "n_frames = exp.params_lm.n_frames\n",
    "n_slices = exp.params_lm.lm_stack_range\n",
    "doubling = 2 if exp.params_lm.doubling else 1\n",
    "\n",
    "# Getting paths of the trial acquisitions\n",
    "trial_paths = os.listdir(os.path.join(raw_path, \"trials\"))\n",
    "\n",
    "# Define the path for the preprocessed folder\n",
    "preprocessed_folder = os.path.join(r\"\\\\tungsten-nas.fmi.ch\\tungsten\\scratch\\gfriedri\\montruth\\2P_RawData\\2022-04-26\\f3\", \"preprocessed\")\n",
    "os.makedirs(preprocessed_folder, exist_ok=True)\n",
    "\n",
    "# Define the path for the masks folder\n",
    "masks_folder = os.path.join(preprocessed_folder, \"..\", \"masks\")\n",
    "os.makedirs(masks_folder, exist_ok=True)"
   ],
   "id": "307eeba0f0c5a528",
   "outputs": [
    {
     "name": "stdout",
     "output_type": "stream",
     "text": [
      "SampleDB(sample_ids=['20220426_RM0008_130hpf_fP1_f3'])\n",
      "sample=Sample(id='20220426_RM0008_130hpf_fP1_f3', parents_id='P1', genotype='aTubulin:GCamp6s x GAD1b:DsRed', phenotype='positive expression, nacre', dof='21.04.2022-09:30', hpf=130, body_length_mm=4) params_odor=ParamsOdor(odor_list=['Ala', 'Ser', 'Ctrl', 'TCA', 'GCA', 'TDCA', 'Cad', 'SA'], odor_sequence=['Ala', 'Ser', 'Ctrl', 'TCA', 'GCA', 'TDCA', 'Cad', 'SA', 'Cad', 'TDCA', 'GCA', 'TCA', 'Ser', 'Ctrl', 'Ala', 'SA', 'Ctrl', 'Cad', 'Ala', 'Ser', 'TDCA', 'GCA', 'TCA', 'SA'], odor_concentration_uM=[OdorConcentration(name='Ala', concentration_mM=100.0), OdorConcentration(name='Ser', concentration_mM=100.0), OdorConcentration(name='Ctrl', concentration_mM=100.0), OdorConcentration(name='TCA', concentration_mM=10.0), OdorConcentration(name='GCA', concentration_mM=10.0), OdorConcentration(name='TDCA', concentration_mM=10.0), OdorConcentration(name='Cad', concentration_mM=300.0), OdorConcentration(name='SA', concentration_mM=0.0)], n_trials=3, pulse_delay_s=15, pulse_duration_s=5, trial_interval_s=60, missed_trials=[], events=[]) params_lm=ParamsLM(start_time=datetime.datetime(2022, 4, 26, 19, 29), end_time=datetime.datetime(2022, 4, 26, 21, 0), date=datetime.datetime(2022, 4, 26, 0, 0), zoom_x=4.7, power_percentage=30.0, shutter_delay_frames=40, sampling_hz=30, n_frames=1500, n_planes=4, doubling=True, lm_stack_range=150, ref_plane=5, ref_frames_ignored=40, ref_n_frames=300, ref_n_slices=9, ref_slice_interval_um=1.5) params_em=ParamsEM(fixation_protocol='fBROPA', embedding_protocol='anterior-up, silver', acquisition_completed=True, acquisition_resolution_zyx=(25, 9, 9)) paths={'config_path': '\\\\\\\\tungsten-nas.fmi.ch\\\\tungsten\\\\scratch\\\\gfriedri\\\\montruth\\\\2P_RawData\\\\2022-04-26\\\\f3\\\\sampleConfig_20220426_RM0008_130hpf_fP1_f3.json', 'raw_path': '\\\\\\\\tungsten-nas.fmi.ch\\\\tungsten\\\\scratch\\\\gfriedri\\\\montruth\\\\2P_RawData\\\\2022-04-26\\\\f3\\\\raw', 'anatomy_path': '\\\\\\\\tungsten-nas.fmi.ch\\\\tungsten\\\\scratch\\\\gfriedri\\\\montruth\\\\2P_RawData\\\\2022-04-26\\\\f3\\\\anatomy', 'em_path': None}\n"
     ]
    }
   ],
   "execution_count": 4
  },
  {
   "metadata": {
    "ExecuteTime": {
     "end_time": "2024-06-03T12:00:21.125013Z",
     "start_time": "2024-06-03T11:48:34.377215Z"
    }
   },
   "cell_type": "code",
   "source": [
    "%%time\n",
    "# Segment all trials per plane\n",
    "all_images = []\n",
    "all_masks = []\n",
    "\n",
    "\n",
    "# Loop through each plane and process images\n",
    "for plane in range(n_planes*doubling):\n",
    "    plane_str = f\"{plane:02d}\"\n",
    "    images = []\n",
    "    for trial_path in trial_paths:\n",
    "        image_path = os.path.join(preprocessed_folder, f\"rigid_corrected_plane_{plane:02d}_{trial_path}\")\n",
    "        images.append(imread(image_path))\n",
    "    images = np.array(images)\n",
    "    all_images.append(images)\n",
    "\n",
    "    # Segment the images using Cellpose\n",
    "    masks, flows, styles = model.eval(images, channels=[0, 0], resample=False, cellprob_threshold=-3, flow_threshold=0, augment=False, stitch_threshold=0.01)\n",
    "    \n",
    "    # Save the initial masks for each plane\n",
    "    mask_plane_path = os.path.join(masks_folder, f\"mask_rigid_corrected_plane_{plane_str}.tif\")\n",
    "    imwrite(mask_plane_path, masks)\n",
    "    print(f\"Mask for plane {plane} saved at {mask_plane_path}\")\n",
    "\n",
    "    # Store the masks for visualization\n",
    "    all_masks.append(masks)\n",
    "\n",
    "# Convert lists to numpy arrays for visualization\n",
    "all_masks = np.array(all_masks)\n"
   ],
   "id": "e24f3dce7f7e502",
   "outputs": [
    {
     "name": "stderr",
     "output_type": "stream",
     "text": [
      "  0%|          | 0/23 [00:00<?, ?it/s]D:\\montruth\\PycharmProjects\\samplePy\\.venv\\lib\\site-packages\\cellpose\\metrics.py:196: RuntimeWarning: invalid value encountered in divide\n",
      "  iou = overlap / (n_pixels_pred + n_pixels_true - overlap)\n",
      "100%|██████████| 23/23 [00:00<00:00, 132.95it/s]\n"
     ]
    },
    {
     "name": "stdout",
     "output_type": "stream",
     "text": [
      "Mask for plane 0 saved at \\\\tungsten-nas.fmi.ch\\tungsten\\scratch\\gfriedri\\montruth\\2P_RawData\\2022-04-26\\f3\\preprocessed\\..\\masks\\mask_rigid_corrected_plane_00.tif\n"
     ]
    },
    {
     "name": "stderr",
     "output_type": "stream",
     "text": [
      "100%|██████████| 23/23 [00:00<00:00, 148.38it/s]\n"
     ]
    },
    {
     "name": "stdout",
     "output_type": "stream",
     "text": [
      "Mask for plane 1 saved at \\\\tungsten-nas.fmi.ch\\tungsten\\scratch\\gfriedri\\montruth\\2P_RawData\\2022-04-26\\f3\\preprocessed\\..\\masks\\mask_rigid_corrected_plane_01.tif\n"
     ]
    },
    {
     "name": "stderr",
     "output_type": "stream",
     "text": [
      "100%|██████████| 23/23 [00:00<00:00, 119.78it/s]\n"
     ]
    },
    {
     "name": "stdout",
     "output_type": "stream",
     "text": [
      "Mask for plane 2 saved at \\\\tungsten-nas.fmi.ch\\tungsten\\scratch\\gfriedri\\montruth\\2P_RawData\\2022-04-26\\f3\\preprocessed\\..\\masks\\mask_rigid_corrected_plane_02.tif\n"
     ]
    },
    {
     "name": "stderr",
     "output_type": "stream",
     "text": [
      "100%|██████████| 23/23 [00:00<00:00, 87.78it/s] \n"
     ]
    },
    {
     "name": "stdout",
     "output_type": "stream",
     "text": [
      "Mask for plane 3 saved at \\\\tungsten-nas.fmi.ch\\tungsten\\scratch\\gfriedri\\montruth\\2P_RawData\\2022-04-26\\f3\\preprocessed\\..\\masks\\mask_rigid_corrected_plane_03.tif\n"
     ]
    },
    {
     "name": "stderr",
     "output_type": "stream",
     "text": [
      "100%|██████████| 23/23 [00:00<00:00, 87.46it/s] \n"
     ]
    },
    {
     "name": "stdout",
     "output_type": "stream",
     "text": [
      "Mask for plane 4 saved at \\\\tungsten-nas.fmi.ch\\tungsten\\scratch\\gfriedri\\montruth\\2P_RawData\\2022-04-26\\f3\\preprocessed\\..\\masks\\mask_rigid_corrected_plane_04.tif\n"
     ]
    },
    {
     "name": "stderr",
     "output_type": "stream",
     "text": [
      "100%|██████████| 23/23 [00:00<00:00, 98.29it/s] \n"
     ]
    },
    {
     "name": "stdout",
     "output_type": "stream",
     "text": [
      "Mask for plane 5 saved at \\\\tungsten-nas.fmi.ch\\tungsten\\scratch\\gfriedri\\montruth\\2P_RawData\\2022-04-26\\f3\\preprocessed\\..\\masks\\mask_rigid_corrected_plane_05.tif\n"
     ]
    },
    {
     "name": "stderr",
     "output_type": "stream",
     "text": [
      "100%|██████████| 23/23 [00:00<00:00, 135.28it/s]\n"
     ]
    },
    {
     "name": "stdout",
     "output_type": "stream",
     "text": [
      "Mask for plane 6 saved at \\\\tungsten-nas.fmi.ch\\tungsten\\scratch\\gfriedri\\montruth\\2P_RawData\\2022-04-26\\f3\\preprocessed\\..\\masks\\mask_rigid_corrected_plane_06.tif\n"
     ]
    },
    {
     "name": "stderr",
     "output_type": "stream",
     "text": [
      "100%|██████████| 23/23 [00:00<00:00, 182.52it/s]\n"
     ]
    },
    {
     "name": "stdout",
     "output_type": "stream",
     "text": [
      "Mask for plane 7 saved at \\\\tungsten-nas.fmi.ch\\tungsten\\scratch\\gfriedri\\montruth\\2P_RawData\\2022-04-26\\f3\\preprocessed\\..\\masks\\mask_rigid_corrected_plane_07.tif\n",
      "CPU times: total: 57min 28s\n",
      "Wall time: 11min 45s\n"
     ]
    }
   ],
   "execution_count": 18
  },
  {
   "metadata": {
    "ExecuteTime": {
     "end_time": "2024-06-03T12:00:21.314023Z",
     "start_time": "2024-06-03T12:00:21.168018Z"
    }
   },
   "cell_type": "code",
   "source": "np.array(all_images).shape",
   "id": "7227006c2d07c43c",
   "outputs": [
    {
     "data": {
      "text/plain": [
       "(8, 24, 256, 512)"
      ]
     },
     "execution_count": 19,
     "metadata": {},
     "output_type": "execute_result"
    }
   ],
   "execution_count": 19
  },
  {
   "metadata": {
    "ExecuteTime": {
     "end_time": "2024-06-03T12:00:23.083459Z",
     "start_time": "2024-06-03T12:00:21.316028Z"
    }
   },
   "cell_type": "code",
   "source": [
    "# Visualize masks\n",
    "\n",
    "viewer = napari.Viewer()\n",
    "viewer.add_image(np.array(all_images), name='images_rigid_corrected')\n",
    "viewer.add_labels(all_masks, name='masks')"
   ],
   "id": "774ac094f3389470",
   "outputs": [
    {
     "name": "stderr",
     "output_type": "stream",
     "text": [
      "WARNING: DirectWrite: CreateFontFaceFromHDC() failed (Indicates an error in an input file such as a font file.) for QFontDef(Family=\"\", pointsize=12, pixelsize=16, styleHint=5, weight=50, stretch=100, hintingPreference=0) LOGFONT(\"MS Sans Serif\", lfWidth=0, lfHeight=-16) dpi=144\n"
     ]
    },
    {
     "data": {
      "text/plain": [
       "<Labels layer 'masks' at 0x2d1085f6770>"
      ]
     },
     "execution_count": 20,
     "metadata": {},
     "output_type": "execute_result"
    }
   ],
   "execution_count": 20
  },
  {
   "metadata": {},
   "cell_type": "code",
   "outputs": [],
   "execution_count": null,
   "source": [
    "# Check which rois are in all trials \n",
    "\n",
    "# Lists to store masks for all planes\n",
    "all_masks = []\n",
    "all_trials_masks = []\n",
    "\n",
    "# Loop through each plane and process images\n",
    "for plane in range(1):\n",
    "    plane_str = f\"{plane:02d}\"\n",
    "    print(plane_str)\n",
    "\n",
    "    # Load masks of plane\n",
    "    ...\n",
    "\n",
    "    # Dictionary to store the presence of each label across all trials\n",
    "    label_presence = {}\n",
    "\n",
    "    # Track the presence of each label in all trials\n",
    "    for trial in range(len(images)):\n",
    "        print(trial)\n",
    "        unique_labels = np.unique(masks[trial])\n",
    "        for label in unique_labels:\n",
    "            if label != 0:  # Exclude background\n",
    "                if label not in label_presence:\n",
    "                    label_presence[label] = set()\n",
    "                label_presence[label].add(trial)\n",
    "\n",
    "    # Find labels present in all trials\n",
    "    labels_in_all_trials = [label for label, trials in label_presence.items() if len(trials) == len(images)]\n",
    "\n",
    "    # Calculate the percentage of segmented cells present in all trials\n",
    "    total_labels = len(label_presence)\n",
    "    print(total_labels)\n",
    "    percentage_in_all_trials = (len(labels_in_all_trials) / total_labels) * 100\n",
    "    print(f\"Percentage of segmented cells present in all trials for plane {plane}: {percentage_in_all_trials:.2f}%\")\n",
    "\n",
    "    # Create a new mask for cells present in all trials\n",
    "    all_trials_mask = np.zeros_like(masks)\n",
    "    for label in labels_in_all_trials:\n",
    "        all_trials_mask[masks == label] = label\n",
    "\n",
    "    # Store the masks for visualization\n",
    "    all_masks.append(masks)\n",
    "    all_trials_masks.append(all_trials_mask)\n",
    "\n",
    "# Convert lists to numpy arrays for visualization\n",
    "all_masks = np.array(all_masks)\n",
    "all_trials_masks = np.array(all_trials_masks)\n",
    "\n",
    "# Visualize the results in Napari\n",
    "viewer = napari.Viewer()\n",
    "for plane in range(exp.params_lm.n_planes):\n",
    "    viewer.add_image(images, name=f'Original Images Plane {plane}')\n",
    "    viewer.add_labels(all_masks[plane], name=f'Segmented Masks Plane {plane}')\n",
    "    viewer.add_labels(all_trials_masks[plane], name=f'Cells Present in All Trials Plane {plane}')"
   ],
   "id": "40d6535ca1aea165"
  }
 ],
 "metadata": {
  "kernelspec": {
   "display_name": "Python 3",
   "language": "python",
   "name": "python3"
  },
  "language_info": {
   "codemirror_mode": {
    "name": "ipython",
    "version": 2
   },
   "file_extension": ".py",
   "mimetype": "text/x-python",
   "name": "python",
   "nbconvert_exporter": "python",
   "pygments_lexer": "ipython2",
   "version": "2.7.6"
  }
 },
 "nbformat": 4,
 "nbformat_minor": 5
}
