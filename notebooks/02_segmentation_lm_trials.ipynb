{
 "cells": [
  {
   "metadata": {},
   "cell_type": "markdown",
   "source": [
    "# Segmentation trial acquisitions (calcium imaging)\n",
    "* Segmentation of (motion corrected) images\n"
   ],
   "id": "396b7a1fd4a06fc6"
  },
  {
   "metadata": {
    "ExecuteTime": {
     "end_time": "2024-05-31T10:58:34.576377Z",
     "start_time": "2024-05-31T10:58:34.245375Z"
    }
   },
   "cell_type": "code",
   "source": [
    "import numpy as np\n",
    "from cellpose import models\n",
    "import napari\n",
    "import os\n",
    "from scripts.sample_db import SampleDB\n",
    "from tifffile import imwrite, imread\n",
    "\n",
    "# Load the sample database\n",
    "db_path = r'\\\\tungsten-nas.fmi.ch\\tungsten\\scratch\\gfriedri\\montruth\\sample_db.csv'\n",
    "sample_db = SampleDB()\n",
    "sample_db.load(db_path)\n",
    "print(sample_db)\n",
    "\n",
    "# Loading experiment\n",
    "sample_id = '20220426_RM0008_130hpf_fP1_f3'\n",
    "exp = sample_db.get_sample(sample_id)\n",
    "print(exp)\n",
    "\n",
    "# Import model\n",
    "model_path = r'D:\\montruth\\cellpose\\models\\CP_20230803_101131' \n",
    "model = models.CellposeModel(model_type=model_path, gpu=True)\n",
    "\n",
    "# Making shortcuts of sample parameters/information\n",
    "sample = exp.sample\n",
    "raw_path = exp.paths[\"raw_path\"]\n",
    "anatomy_path = exp.paths[\"anatomy_path\"]\n",
    "em_path = exp.paths[\"em_path\"]\n",
    "n_planes = exp.params_lm.n_planes\n",
    "n_frames = exp.params_lm.n_frames\n",
    "n_slices = exp.params_lm.lm_stack_range\n",
    "doubling = 2 if exp.params_lm.doubling else 1\n",
    "\n",
    "# Getting paths of the trial acquisitions\n",
    "trial_paths = os.listdir(os.path.join(raw_path, \"trials\"))\n",
    "\n",
    "# Define the path for the preprocessed folder\n",
    "preprocessed_folder = os.path.join(r\"\\\\tungsten-nas.fmi.ch\\tungsten\\scratch\\gfriedri\\montruth\\2P_RawData\\2022-04-26\\f3\", \"preprocessed\")\n",
    "os.makedirs(preprocessed_folder, exist_ok=True)\n",
    "\n",
    "# Define the path for the masks folder\n",
    "masks_folder = os.path.join(preprocessed_folder, \"..\", \"masks\")\n",
    "os.makedirs(masks_folder, exist_ok=True)"
   ],
   "id": "307eeba0f0c5a528",
   "outputs": [
    {
     "name": "stdout",
     "output_type": "stream",
     "text": [
      "SampleDB(sample_ids=['20220426_RM0008_130hpf_fP1_f3'])\n",
      "sample=Sample(id='20220426_RM0008_130hpf_fP1_f3', parents_id='P1', genotype='aTubulin:GCamp6s x GAD1b:DsRed', phenotype='positive expression, nacre', dof='21.04.2022-09:30', hpf=130, body_length_mm=4) params_odor=ParamsOdor(odor_list=['Ala', 'Ser', 'Ctrl', 'TCA', 'GCA', 'TDCA', 'Cad', 'SA'], odor_sequence=['Ala', 'Ser', 'Ctrl', 'TCA', 'GCA', 'TDCA', 'Cad', 'SA', 'Cad', 'TDCA', 'GCA', 'TCA', 'Ser', 'Ctrl', 'Ala', 'SA', 'Ctrl', 'Cad', 'Ala', 'Ser', 'TDCA', 'GCA', 'TCA', 'SA'], odor_concentration_uM=[OdorConcentration(name='Ala', concentration_mM=100.0), OdorConcentration(name='Ser', concentration_mM=100.0), OdorConcentration(name='Ctrl', concentration_mM=100.0), OdorConcentration(name='TCA', concentration_mM=10.0), OdorConcentration(name='GCA', concentration_mM=10.0), OdorConcentration(name='TDCA', concentration_mM=10.0), OdorConcentration(name='Cad', concentration_mM=300.0), OdorConcentration(name='SA', concentration_mM=0.0)], n_trials=3, pulse_delay_s=15, pulse_duration_s=5, trial_interval_s=60, missed_trials=[], events=[]) params_lm=ParamsLM(start_time=datetime.datetime(2022, 4, 26, 19, 29), end_time=datetime.datetime(2022, 4, 26, 21, 0), date=datetime.datetime(2022, 4, 26, 0, 0), zoom_x=4.7, power_percentage=30.0, shutter_delay_frames=40, sampling_hz=30, n_frames=1500, n_planes=4, doubling=True, lm_stack_range=150, ref_plane=5, ref_frames_ignored=40, ref_n_frames=300, ref_n_slices=9, ref_slice_interval_um=1.5) params_em=ParamsEM(fixation_protocol='fBROPA', embedding_protocol='anterior-up, silver', acquisition_completed=True, acquisition_resolution_zyx=(25, 9, 9)) paths={'config_path': '\\\\\\\\tungsten-nas.fmi.ch\\\\tungsten\\\\scratch\\\\gfriedri\\\\montruth\\\\2P_RawData\\\\2022-04-26\\\\f3\\\\sampleConfig_20220426_RM0008_130hpf_fP1_f3.json', 'raw_path': '\\\\\\\\tungsten-nas.fmi.ch\\\\tungsten\\\\scratch\\\\gfriedri\\\\montruth\\\\2P_RawData\\\\2022-04-26\\\\f3\\\\raw', 'anatomy_path': '\\\\\\\\tungsten-nas.fmi.ch\\\\tungsten\\\\scratch\\\\gfriedri\\\\montruth\\\\2P_RawData\\\\2022-04-26\\\\f3\\\\anatomy', 'em_path': None}\n"
     ]
    }
   ],
   "execution_count": 3
  },
  {
   "metadata": {
    "ExecuteTime": {
     "end_time": "2024-05-31T09:29:17.362688Z",
     "start_time": "2024-05-31T09:04:40.076357Z"
    }
   },
   "cell_type": "code",
   "source": [
    "%%time\n",
    "# Segment all trials per plane\n",
    "all_masks = []\n",
    "\n",
    "# Loop through each plane and process images\n",
    "for plane in range(n_planes*doubling):\n",
    "    plane_str = f\"{plane:02d}\"\n",
    "    images = []\n",
    "    for trial_path in trial_paths:\n",
    "        image_path = os.path.join(preprocessed_folder, f\"transformed_plane_{plane:02d}_{trial_path}\")\n",
    "        images.append(imread(image_path).sum(axis=0))\n",
    "    images = np.array(images)\n",
    "    print(images.shape)\n",
    "\n",
    "    # Segment the images using Cellpose\n",
    "    masks, flows, styles = model.eval(images, channels=[0, 0], resample=True, cellprob_threshold=-3, flow_threshold=0, augment=True, stitch_threshold=0.01)\n",
    "    \n",
    "    # Save the initial masks for each plane\n",
    "    mask_plane_path = os.path.join(masks_folder, f\"mask_plane_{plane_str}.tif\")\n",
    "    imwrite(mask_plane_path, masks)\n",
    "    print(f\"Mask for plane {plane} saved at {mask_plane_path}\")\n",
    "\n",
    "    # Store the masks for visualization\n",
    "    all_masks.append(masks)\n",
    "\n",
    "# Convert lists to numpy arrays for visualization\n",
    "all_masks = np.array(all_masks)\n"
   ],
   "id": "e24f3dce7f7e502",
   "outputs": [
    {
     "name": "stdout",
     "output_type": "stream",
     "text": [
      "(24, 256, 512)\n"
     ]
    },
    {
     "name": "stderr",
     "output_type": "stream",
     "text": [
      "100%|██████████| 23/23 [00:01<00:00, 14.15it/s]\n"
     ]
    },
    {
     "name": "stdout",
     "output_type": "stream",
     "text": [
      "Mask for plane 0 saved at \\\\tungsten-nas.fmi.ch\\tungsten\\scratch\\gfriedri\\montruth\\2P_RawData\\2022-04-26\\f3\\preprocessed\\..\\masks\\mask_plane_00.tif\n",
      "(24, 256, 512)\n"
     ]
    },
    {
     "name": "stderr",
     "output_type": "stream",
     "text": [
      "100%|██████████| 23/23 [00:00<00:00, 117.35it/s]\n"
     ]
    },
    {
     "name": "stdout",
     "output_type": "stream",
     "text": [
      "Mask for plane 1 saved at \\\\tungsten-nas.fmi.ch\\tungsten\\scratch\\gfriedri\\montruth\\2P_RawData\\2022-04-26\\f3\\preprocessed\\..\\masks\\mask_plane_01.tif\n",
      "(24, 256, 512)\n"
     ]
    },
    {
     "name": "stderr",
     "output_type": "stream",
     "text": [
      "100%|██████████| 23/23 [00:00<00:00, 92.00it/s] \n"
     ]
    },
    {
     "name": "stdout",
     "output_type": "stream",
     "text": [
      "Mask for plane 2 saved at \\\\tungsten-nas.fmi.ch\\tungsten\\scratch\\gfriedri\\montruth\\2P_RawData\\2022-04-26\\f3\\preprocessed\\..\\masks\\mask_plane_02.tif\n",
      "(24, 256, 512)\n"
     ]
    },
    {
     "name": "stderr",
     "output_type": "stream",
     "text": [
      "100%|██████████| 23/23 [00:00<00:00, 88.80it/s] \n"
     ]
    },
    {
     "name": "stdout",
     "output_type": "stream",
     "text": [
      "Mask for plane 3 saved at \\\\tungsten-nas.fmi.ch\\tungsten\\scratch\\gfriedri\\montruth\\2P_RawData\\2022-04-26\\f3\\preprocessed\\..\\masks\\mask_plane_03.tif\n",
      "(24, 256, 512)\n"
     ]
    },
    {
     "name": "stderr",
     "output_type": "stream",
     "text": [
      "100%|██████████| 23/23 [00:00<00:00, 59.13it/s] \n"
     ]
    },
    {
     "name": "stdout",
     "output_type": "stream",
     "text": [
      "Mask for plane 4 saved at \\\\tungsten-nas.fmi.ch\\tungsten\\scratch\\gfriedri\\montruth\\2P_RawData\\2022-04-26\\f3\\preprocessed\\..\\masks\\mask_plane_04.tif\n",
      "(24, 256, 512)\n"
     ]
    },
    {
     "name": "stderr",
     "output_type": "stream",
     "text": [
      "100%|██████████| 23/23 [00:00<00:00, 84.56it/s] \n"
     ]
    },
    {
     "name": "stdout",
     "output_type": "stream",
     "text": [
      "Mask for plane 5 saved at \\\\tungsten-nas.fmi.ch\\tungsten\\scratch\\gfriedri\\montruth\\2P_RawData\\2022-04-26\\f3\\preprocessed\\..\\masks\\mask_plane_05.tif\n",
      "(24, 256, 512)\n"
     ]
    },
    {
     "name": "stderr",
     "output_type": "stream",
     "text": [
      "100%|██████████| 23/23 [00:00<00:00, 140.24it/s]\n"
     ]
    },
    {
     "name": "stdout",
     "output_type": "stream",
     "text": [
      "Mask for plane 6 saved at \\\\tungsten-nas.fmi.ch\\tungsten\\scratch\\gfriedri\\montruth\\2P_RawData\\2022-04-26\\f3\\preprocessed\\..\\masks\\mask_plane_06.tif\n",
      "(24, 256, 512)\n"
     ]
    },
    {
     "name": "stderr",
     "output_type": "stream",
     "text": [
      "100%|██████████| 23/23 [00:00<00:00, 175.57it/s]\n"
     ]
    },
    {
     "name": "stdout",
     "output_type": "stream",
     "text": [
      "Mask for plane 7 saved at \\\\tungsten-nas.fmi.ch\\tungsten\\scratch\\gfriedri\\montruth\\2P_RawData\\2022-04-26\\f3\\preprocessed\\..\\masks\\mask_plane_07.tif\n",
      "CPU times: total: 2h 28min 53s\n",
      "Wall time: 24min 37s\n"
     ]
    }
   ],
   "execution_count": 2
  },
  {
   "metadata": {},
   "cell_type": "code",
   "outputs": [],
   "execution_count": null,
   "source": [
    "# Check which rois are in all trials \n",
    "\n",
    "# Lists to store masks for all planes\n",
    "all_masks = []\n",
    "all_trials_masks = []\n",
    "\n",
    "# Loop through each plane and process images\n",
    "for plane in range(1):\n",
    "    plane_str = f\"{plane:02d}\"\n",
    "    print(plane_str)\n",
    "\n",
    "    # Load masks of plane\n",
    "    ...\n",
    "\n",
    "    # Dictionary to store the presence of each label across all trials\n",
    "    label_presence = {}\n",
    "\n",
    "    # Track the presence of each label in all trials\n",
    "    for trial in range(len(images)):\n",
    "        print(trial)\n",
    "        unique_labels = np.unique(masks[trial])\n",
    "        for label in unique_labels:\n",
    "            if label != 0:  # Exclude background\n",
    "                if label not in label_presence:\n",
    "                    label_presence[label] = set()\n",
    "                label_presence[label].add(trial)\n",
    "\n",
    "    # Find labels present in all trials\n",
    "    labels_in_all_trials = [label for label, trials in label_presence.items() if len(trials) == len(images)]\n",
    "\n",
    "    # Calculate the percentage of segmented cells present in all trials\n",
    "    total_labels = len(label_presence)\n",
    "    print(total_labels)\n",
    "    percentage_in_all_trials = (len(labels_in_all_trials) / total_labels) * 100\n",
    "    print(f\"Percentage of segmented cells present in all trials for plane {plane}: {percentage_in_all_trials:.2f}%\")\n",
    "\n",
    "    # Create a new mask for cells present in all trials\n",
    "    all_trials_mask = np.zeros_like(masks)\n",
    "    for label in labels_in_all_trials:\n",
    "        all_trials_mask[masks == label] = label\n",
    "\n",
    "    # Store the masks for visualization\n",
    "    all_masks.append(masks)\n",
    "    all_trials_masks.append(all_trials_mask)\n",
    "\n",
    "# Convert lists to numpy arrays for visualization\n",
    "all_masks = np.array(all_masks)\n",
    "all_trials_masks = np.array(all_trials_masks)\n",
    "\n",
    "# Visualize the results in Napari\n",
    "viewer = napari.Viewer()\n",
    "for plane in range(exp.params_lm.n_planes):\n",
    "    viewer.add_image(images, name=f'Original Images Plane {plane}')\n",
    "    viewer.add_labels(all_masks[plane], name=f'Segmented Masks Plane {plane}')\n",
    "    viewer.add_labels(all_trials_masks[plane], name=f'Cells Present in All Trials Plane {plane}')"
   ],
   "id": "40d6535ca1aea165"
  }
 ],
 "metadata": {
  "kernelspec": {
   "display_name": "Python 3",
   "language": "python",
   "name": "python3"
  },
  "language_info": {
   "codemirror_mode": {
    "name": "ipython",
    "version": 2
   },
   "file_extension": ".py",
   "mimetype": "text/x-python",
   "name": "python",
   "nbconvert_exporter": "python",
   "pygments_lexer": "ipython2",
   "version": "2.7.6"
  }
 },
 "nbformat": 4,
 "nbformat_minor": 5
}
