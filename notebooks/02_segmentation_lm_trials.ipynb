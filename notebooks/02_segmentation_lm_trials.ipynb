{
 "cells": [
  {
   "cell_type": "code",
   "id": "initial_id",
   "metadata": {
    "collapsed": true,
    "ExecuteTime": {
     "end_time": "2024-05-27T13:31:31.194515Z",
     "start_time": "2024-05-27T13:31:26.085130Z"
    }
   },
   "source": "from scripts.utils.image_utils import *",
   "outputs": [],
   "execution_count": 6
  },
  {
   "metadata": {
    "ExecuteTime": {
     "end_time": "2024-05-17T17:12:26.724453Z",
     "start_time": "2024-05-17T17:12:26.701455Z"
    }
   },
   "cell_type": "code",
   "source": [
    "import os\n",
    "import glob\n",
    "\n",
    "trials_path = r'\\\\tungsten-nas.fmi.ch\\tungsten\\scratch\\gfriedri\\montruth\\2P_RawData\\2022-04-26\\f3\\data'\n",
    "tiff_files = glob.glob(os.path.join(trials_path, '*.tif')) + glob.glob(os.path.join(trials_path, '*.tiff'))\n"
   ],
   "id": "aa99eb305eed9db8",
   "outputs": [],
   "execution_count": 6
  },
  {
   "metadata": {
    "ExecuteTime": {
     "end_time": "2024-05-16T15:43:01.581381Z",
     "start_time": "2024-05-16T15:40:27.210760Z"
    }
   },
   "cell_type": "code",
   "source": "trial_stack = [load_tiff_as_hyperstack(file, n_slices=4, doubling=True) for file in tiff_files]",
   "id": "967ab2489fc42fec",
   "outputs": [
    {
     "ename": "MemoryError",
     "evalue": "Unable to allocate 2.93 GiB for an array with shape (8, 375, 256, 512) and data type float64",
     "output_type": "error",
     "traceback": [
      "\u001B[1;31m---------------------------------------------------------------------------\u001B[0m",
      "\u001B[1;31mMemoryError\u001B[0m                               Traceback (most recent call last)",
      "Cell \u001B[1;32mIn[4], line 1\u001B[0m\n\u001B[1;32m----> 1\u001B[0m trial_stack \u001B[38;5;241m=\u001B[39m \u001B[43m[\u001B[49m\u001B[43miu\u001B[49m\u001B[38;5;241;43m.\u001B[39;49m\u001B[43mload_tiff_as_hyperstack\u001B[49m\u001B[43m(\u001B[49m\u001B[43mfile\u001B[49m\u001B[43m,\u001B[49m\u001B[43m \u001B[49m\u001B[43mn_slices\u001B[49m\u001B[38;5;241;43m=\u001B[39;49m\u001B[38;5;241;43m4\u001B[39;49m\u001B[43m,\u001B[49m\u001B[43m \u001B[49m\u001B[43mdoubling\u001B[49m\u001B[38;5;241;43m=\u001B[39;49m\u001B[38;5;28;43;01mTrue\u001B[39;49;00m\u001B[43m)\u001B[49m\u001B[43m \u001B[49m\u001B[38;5;28;43;01mfor\u001B[39;49;00m\u001B[43m \u001B[49m\u001B[43mfile\u001B[49m\u001B[43m \u001B[49m\u001B[38;5;129;43;01min\u001B[39;49;00m\u001B[43m \u001B[49m\u001B[43mtiff_files\u001B[49m\u001B[43m]\u001B[49m\n",
      "Cell \u001B[1;32mIn[4], line 1\u001B[0m, in \u001B[0;36m<listcomp>\u001B[1;34m(.0)\u001B[0m\n\u001B[1;32m----> 1\u001B[0m trial_stack \u001B[38;5;241m=\u001B[39m [\u001B[43miu\u001B[49m\u001B[38;5;241;43m.\u001B[39;49m\u001B[43mload_tiff_as_hyperstack\u001B[49m\u001B[43m(\u001B[49m\u001B[43mfile\u001B[49m\u001B[43m,\u001B[49m\u001B[43m \u001B[49m\u001B[43mn_slices\u001B[49m\u001B[38;5;241;43m=\u001B[39;49m\u001B[38;5;241;43m4\u001B[39;49m\u001B[43m,\u001B[49m\u001B[43m \u001B[49m\u001B[43mdoubling\u001B[49m\u001B[38;5;241;43m=\u001B[39;49m\u001B[38;5;28;43;01mTrue\u001B[39;49;00m\u001B[43m)\u001B[49m \u001B[38;5;28;01mfor\u001B[39;00m file \u001B[38;5;129;01min\u001B[39;00m tiff_files]\n",
      "File \u001B[1;32m~\\PycharmProjects\\samplePy\\src\\utils\\image_utils.py:135\u001B[0m, in \u001B[0;36mload_tiff_as_hyperstack\u001B[1;34m(file_path, n_slices, n_channels, doubling)\u001B[0m\n\u001B[0;32m    133\u001B[0m \u001B[38;5;66;03m# Splitting doubled planes if set\u001B[39;00m\n\u001B[0;32m    134\u001B[0m \u001B[38;5;28;01mif\u001B[39;00m doubling:\n\u001B[1;32m--> 135\u001B[0m     \u001B[38;5;28;01mreturn\u001B[39;00m \u001B[43msplit_double_planes\u001B[49m\u001B[43m(\u001B[49m\u001B[43mhyperstack\u001B[49m\u001B[43m)\u001B[49m\n\u001B[0;32m    136\u001B[0m \u001B[38;5;28;01melse\u001B[39;00m:\n\u001B[0;32m    137\u001B[0m     \u001B[38;5;28;01mreturn\u001B[39;00m hyperstack\n",
      "File \u001B[1;32m~\\PycharmProjects\\samplePy\\src\\utils\\image_utils.py:95\u001B[0m, in \u001B[0;36msplit_double_planes\u001B[1;34m(hyperstack_img)\u001B[0m\n\u001B[0;32m     93\u001B[0m doubling \u001B[38;5;241m=\u001B[39m \u001B[38;5;241m2\u001B[39m\n\u001B[0;32m     94\u001B[0m n_planes \u001B[38;5;241m=\u001B[39m hyperstack_img\u001B[38;5;241m.\u001B[39mshape[\u001B[38;5;241m0\u001B[39m]\n\u001B[1;32m---> 95\u001B[0m planes_stack \u001B[38;5;241m=\u001B[39m np\u001B[38;5;241m.\u001B[39mzeros((n_planes \u001B[38;5;241m*\u001B[39m doubling , hyperstack_img\u001B[38;5;241m.\u001B[39mshape[\u001B[38;5;241m1\u001B[39m], hyperstack_img\u001B[38;5;241m.\u001B[39mshape[\u001B[38;5;241m2\u001B[39m] \u001B[38;5;241m/\u001B[39m\u001B[38;5;241m/\u001B[39m doubling, hyperstack_img\u001B[38;5;241m.\u001B[39mshape[\u001B[38;5;241m3\u001B[39m]))\n\u001B[0;32m     96\u001B[0m \u001B[38;5;66;03m# Split and assign the planes based on the doubling factor\u001B[39;00m\n\u001B[0;32m     97\u001B[0m \u001B[38;5;28;01mfor\u001B[39;00m plane \u001B[38;5;129;01min\u001B[39;00m \u001B[38;5;28mrange\u001B[39m(n_planes):\n",
      "\u001B[1;31mMemoryError\u001B[0m: Unable to allocate 2.93 GiB for an array with shape (8, 375, 256, 512) and data type float64"
     ]
    }
   ],
   "execution_count": 4
  },
  {
   "metadata": {
    "ExecuteTime": {
     "end_time": "2024-05-17T17:15:38.865698Z",
     "start_time": "2024-05-17T17:12:28.403285Z"
    }
   },
   "cell_type": "code",
   "source": [
    "def process_batch(file_batch, n_slices=4, doubling=True):\n",
    "    processed_stack = []\n",
    "    for file in file_batch:\n",
    "        hyperstack = load_tiff_as_hyperstack(file, n_slices, doubling=doubling)\n",
    "        processed_stack.append(hyperstack)\n",
    "    return processed_stack\n",
    "\n",
    "\n",
    "# Process files in batches\n",
    "batch_size = 5\n",
    "all_processed_stacks = []\n",
    "\n",
    "for i in range(0, len(tiff_files), batch_size):\n",
    "    file_batch = tiff_files[i:i+batch_size]\n",
    "    processed_batch = process_batch(file_batch)\n",
    "    all_processed_stacks.extend(processed_batch)\n",
    "\n",
    "# Optionally, save or further process the results\n",
    "print(\"Processed all batches.\")\n"
   ],
   "id": "a91b8b99b23d843",
   "outputs": [
    {
     "ename": "MemoryError",
     "evalue": "Unable to allocate 2.93 GiB for an array with shape (8, 375, 256, 512) and data type float64",
     "output_type": "error",
     "traceback": [
      "\u001B[1;31m---------------------------------------------------------------------------\u001B[0m",
      "\u001B[1;31mMemoryError\u001B[0m                               Traceback (most recent call last)",
      "Cell \u001B[1;32mIn[7], line 15\u001B[0m\n\u001B[0;32m     13\u001B[0m \u001B[38;5;28;01mfor\u001B[39;00m i \u001B[38;5;129;01min\u001B[39;00m \u001B[38;5;28mrange\u001B[39m(\u001B[38;5;241m0\u001B[39m, \u001B[38;5;28mlen\u001B[39m(tiff_files), batch_size):\n\u001B[0;32m     14\u001B[0m     file_batch \u001B[38;5;241m=\u001B[39m tiff_files[i:i\u001B[38;5;241m+\u001B[39mbatch_size]\n\u001B[1;32m---> 15\u001B[0m     processed_batch \u001B[38;5;241m=\u001B[39m \u001B[43mprocess_batch\u001B[49m\u001B[43m(\u001B[49m\u001B[43mfile_batch\u001B[49m\u001B[43m)\u001B[49m\n\u001B[0;32m     16\u001B[0m     all_processed_stacks\u001B[38;5;241m.\u001B[39mextend(processed_batch)\n\u001B[0;32m     18\u001B[0m \u001B[38;5;66;03m# Optionally, save or further process the results\u001B[39;00m\n",
      "Cell \u001B[1;32mIn[7], line 4\u001B[0m, in \u001B[0;36mprocess_batch\u001B[1;34m(file_batch, n_slices, doubling)\u001B[0m\n\u001B[0;32m      2\u001B[0m processed_stack \u001B[38;5;241m=\u001B[39m []\n\u001B[0;32m      3\u001B[0m \u001B[38;5;28;01mfor\u001B[39;00m file \u001B[38;5;129;01min\u001B[39;00m file_batch:\n\u001B[1;32m----> 4\u001B[0m     hyperstack \u001B[38;5;241m=\u001B[39m \u001B[43mload_tiff_as_hyperstack\u001B[49m\u001B[43m(\u001B[49m\u001B[43mfile\u001B[49m\u001B[43m,\u001B[49m\u001B[43m \u001B[49m\u001B[43mn_slices\u001B[49m\u001B[43m,\u001B[49m\u001B[43m \u001B[49m\u001B[43mdoubling\u001B[49m\u001B[38;5;241;43m=\u001B[39;49m\u001B[43mdoubling\u001B[49m\u001B[43m)\u001B[49m\n\u001B[0;32m      5\u001B[0m     processed_stack\u001B[38;5;241m.\u001B[39mappend(hyperstack)\n\u001B[0;32m      6\u001B[0m \u001B[38;5;28;01mreturn\u001B[39;00m processed_stack\n",
      "File \u001B[1;32mD:\\montruth\\PycharmProjects\\samplePy\\src\\utils\\image_utils.py:135\u001B[0m, in \u001B[0;36mload_tiff_as_hyperstack\u001B[1;34m(file_path, n_slices, n_channels, doubling)\u001B[0m\n\u001B[0;32m    133\u001B[0m \u001B[38;5;66;03m# Splitting doubled planes if set\u001B[39;00m\n\u001B[0;32m    134\u001B[0m \u001B[38;5;28;01mif\u001B[39;00m doubling:\n\u001B[1;32m--> 135\u001B[0m     \u001B[38;5;28;01mreturn\u001B[39;00m \u001B[43msplit_double_planes\u001B[49m\u001B[43m(\u001B[49m\u001B[43mhyperstack\u001B[49m\u001B[43m)\u001B[49m\n\u001B[0;32m    136\u001B[0m \u001B[38;5;28;01melse\u001B[39;00m:\n\u001B[0;32m    137\u001B[0m     \u001B[38;5;28;01mreturn\u001B[39;00m hyperstack\n",
      "File \u001B[1;32mD:\\montruth\\PycharmProjects\\samplePy\\src\\utils\\image_utils.py:95\u001B[0m, in \u001B[0;36msplit_double_planes\u001B[1;34m(hyperstack_img)\u001B[0m\n\u001B[0;32m     93\u001B[0m doubling \u001B[38;5;241m=\u001B[39m \u001B[38;5;241m2\u001B[39m\n\u001B[0;32m     94\u001B[0m n_planes \u001B[38;5;241m=\u001B[39m hyperstack_img\u001B[38;5;241m.\u001B[39mshape[\u001B[38;5;241m0\u001B[39m]\n\u001B[1;32m---> 95\u001B[0m planes_stack \u001B[38;5;241m=\u001B[39m \u001B[43mnp\u001B[49m\u001B[38;5;241;43m.\u001B[39;49m\u001B[43mzeros\u001B[49m\u001B[43m(\u001B[49m\u001B[43m(\u001B[49m\u001B[43mn_planes\u001B[49m\u001B[43m \u001B[49m\u001B[38;5;241;43m*\u001B[39;49m\u001B[43m \u001B[49m\u001B[43mdoubling\u001B[49m\u001B[43m \u001B[49m\u001B[43m,\u001B[49m\u001B[43m \u001B[49m\u001B[43mhyperstack_img\u001B[49m\u001B[38;5;241;43m.\u001B[39;49m\u001B[43mshape\u001B[49m\u001B[43m[\u001B[49m\u001B[38;5;241;43m1\u001B[39;49m\u001B[43m]\u001B[49m\u001B[43m,\u001B[49m\u001B[43m \u001B[49m\u001B[43mhyperstack_img\u001B[49m\u001B[38;5;241;43m.\u001B[39;49m\u001B[43mshape\u001B[49m\u001B[43m[\u001B[49m\u001B[38;5;241;43m2\u001B[39;49m\u001B[43m]\u001B[49m\u001B[43m \u001B[49m\u001B[38;5;241;43m/\u001B[39;49m\u001B[38;5;241;43m/\u001B[39;49m\u001B[43m \u001B[49m\u001B[43mdoubling\u001B[49m\u001B[43m,\u001B[49m\u001B[43m \u001B[49m\u001B[43mhyperstack_img\u001B[49m\u001B[38;5;241;43m.\u001B[39;49m\u001B[43mshape\u001B[49m\u001B[43m[\u001B[49m\u001B[38;5;241;43m3\u001B[39;49m\u001B[43m]\u001B[49m\u001B[43m)\u001B[49m\u001B[43m)\u001B[49m\n\u001B[0;32m     96\u001B[0m \u001B[38;5;66;03m# Split and assign the planes based on the doubling factor\u001B[39;00m\n\u001B[0;32m     97\u001B[0m \u001B[38;5;28;01mfor\u001B[39;00m plane \u001B[38;5;129;01min\u001B[39;00m \u001B[38;5;28mrange\u001B[39m(n_planes):\n",
      "\u001B[1;31mMemoryError\u001B[0m: Unable to allocate 2.93 GiB for an array with shape (8, 375, 256, 512) and data type float64"
     ]
    }
   ],
   "execution_count": 7
  },
  {
   "metadata": {
    "ExecuteTime": {
     "end_time": "2024-05-21T12:02:44.125589Z",
     "start_time": "2024-05-21T12:02:43.272454Z"
    }
   },
   "cell_type": "code",
   "source": [
    "import pickle\n",
    "\n",
    "sample = pickle.load(open(r'\\\\tungsten-nas.fmi.ch\\tungsten\\scratch\\gfriedri\\montruth\\2P_RawData\\2022-04-27\\f3\\20220427_RM0008_126hpf_fP3_f3_pickle.pickle', 'rb'))"
   ],
   "id": "5c445ade9b7a564b",
   "outputs": [
    {
     "ename": "ModuleNotFoundError",
     "evalue": "No module named 'Sample'",
     "output_type": "error",
     "traceback": [
      "\u001B[1;31m---------------------------------------------------------------------------\u001B[0m",
      "\u001B[1;31mModuleNotFoundError\u001B[0m                       Traceback (most recent call last)",
      "Cell \u001B[1;32mIn[5], line 3\u001B[0m\n\u001B[0;32m      1\u001B[0m \u001B[38;5;28;01mimport\u001B[39;00m \u001B[38;5;21;01mpickle\u001B[39;00m\n\u001B[1;32m----> 3\u001B[0m sample \u001B[38;5;241m=\u001B[39m \u001B[43mpickle\u001B[49m\u001B[38;5;241;43m.\u001B[39;49m\u001B[43mload\u001B[49m\u001B[43m(\u001B[49m\u001B[38;5;28;43mopen\u001B[39;49m\u001B[43m(\u001B[49m\u001B[38;5;124;43mr\u001B[39;49m\u001B[38;5;124;43m'\u001B[39;49m\u001B[38;5;130;43;01m\\\\\u001B[39;49;00m\u001B[38;5;124;43mtungsten-nas.fmi.ch\u001B[39;49m\u001B[38;5;124;43m\\\u001B[39;49m\u001B[38;5;124;43mtungsten\u001B[39;49m\u001B[38;5;124;43m\\\u001B[39;49m\u001B[38;5;124;43mscratch\u001B[39;49m\u001B[38;5;124;43m\\\u001B[39;49m\u001B[38;5;124;43mgfriedri\u001B[39;49m\u001B[38;5;124;43m\\\u001B[39;49m\u001B[38;5;124;43mmontruth\u001B[39;49m\u001B[38;5;124;43m\\\u001B[39;49m\u001B[38;5;124;43m2P_RawData\u001B[39;49m\u001B[38;5;124;43m\\\u001B[39;49m\u001B[38;5;124;43m2022-04-27\u001B[39;49m\u001B[38;5;124;43m\\\u001B[39;49m\u001B[38;5;124;43mf3\u001B[39;49m\u001B[38;5;124;43m\\\u001B[39;49m\u001B[38;5;124;43m20220427_RM0008_126hpf_fP3_f3_pickle.pickle\u001B[39;49m\u001B[38;5;124;43m'\u001B[39;49m\u001B[43m,\u001B[49m\u001B[43m \u001B[49m\u001B[38;5;124;43m'\u001B[39;49m\u001B[38;5;124;43mrb\u001B[39;49m\u001B[38;5;124;43m'\u001B[39;49m\u001B[43m)\u001B[49m\u001B[43m)\u001B[49m\n",
      "\u001B[1;31mModuleNotFoundError\u001B[0m: No module named 'Sample'"
     ]
    }
   ],
   "execution_count": 5
  }
 ],
 "metadata": {
  "kernelspec": {
   "display_name": "Python 3",
   "language": "python",
   "name": "python3"
  },
  "language_info": {
   "codemirror_mode": {
    "name": "ipython",
    "version": 2
   },
   "file_extension": ".py",
   "mimetype": "text/x-python",
   "name": "python",
   "nbconvert_exporter": "python",
   "pygments_lexer": "ipython2",
   "version": "2.7.6"
  }
 },
 "nbformat": 4,
 "nbformat_minor": 5
}
