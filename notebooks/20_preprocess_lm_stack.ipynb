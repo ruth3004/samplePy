{
 "cells": [
  {
   "cell_type": "code",
   "id": "e4435af027ab977b",
   "metadata": {
    "collapsed": true,
    "ExecuteTime": {
     "end_time": "2024-08-15T09:24:22.203814Z",
     "start_time": "2024-08-15T09:22:20.371185Z"
    }
   },
   "source": [
    "import os\n",
    "import numpy as np\n",
    "from skimage import io, transform, exposure\n",
    "\n",
    "import napari\n",
    "\n",
    "from scripts.utils.image_utils import load_anatomy_stack, save_array_as_hyperstack_tiff\n",
    "from scripts.sample_db import SampleDB\n",
    "\n",
    "\n",
    "# Load the sample database\n",
    "db_path = r'\\\\tungsten-nas.fmi.ch\\tungsten\\scratch\\gfriedri\\montruth\\sample_db.csv'\n",
    "sample_db = SampleDB()\n",
    "sample_db.load(db_path)\n",
    "print(sample_db)\n",
    "\n",
    "# Get the sample\n",
    "sample_id = '20220118_RM0012_124hpf_fP8_f2'\n",
    "exp = sample_db.get_sample(sample_id)\n",
    "\n",
    "# Print the paths to verify\n",
    "print(\"Anatomy path:\", exp.paths.anatomy_path)\n",
    "\n",
    "# Assuming the LM stack is in the anatomy/raw folder\n",
    "lm_stack_name = f'{exp.sample.id}_anatomyGFRF_001_.tif'\n",
    "lm_stack_path = os.path.join(exp.paths.anatomy_path, 'raw', lm_stack_name)\n",
    "\n",
    "# Use noise2void stack if available\n",
    "n2v_stack_path = os.path.join(exp.paths.anatomy_path, 'processed', f'{exp.sample.id}_anatomyGFRF_001_n2v.tif')\n",
    "if os.path.exists(n2v_stack_path):\n",
    "    print(\"Using noise2void stack\")\n",
    "    lm_stack = load_anatomy_stack(n2v_stack_path)\n",
    "else:\n",
    "    print(\"Using original stack\")\n",
    "    lm_stack = load_anatomy_stack(lm_stack_path)\n",
    "\n",
    "print(\"LM stack shape:\", lm_stack.shape)\n",
    "\n",
    "# Flip horizontally\n",
    "print(\"Flipping stack\")\n",
    "lm_stack_flip = np.flip(lm_stack, axis=3)\n",
    "\n",
    "# Upsample the stack\n",
    "print(\"Upsampling stack\")\n",
    "upsample_factor=(1,2.5, 1, 1)\n",
    "lm_stack_upsampled = transform.rescale(lm_stack_flip, upsample_factor, order=1, mode='reflect', anti_aliasing=True, preserve_range=False)\n",
    "\n",
    "#Apply CLAHE\n",
    "print(\"Applying CLAHE\")\n",
    "lm_stack_clahe = lm_stack_upsampled\n",
    "lm_stack_clahe[0]=exposure.equalize_adapthist(lm_stack_upsampled[0])\n",
    "lm_stack_clahe[1]=exposure.equalize_adapthist(lm_stack_upsampled[1])\n",
    "\n",
    "\n",
    "# Preprocess the LM stack\n",
    "output_folder = os.path.join(exp.paths.anatomy_path, 'processed' )\n",
    "os.makedirs(output_folder, exist_ok=True)\n",
    "\n",
    "viewer = napari.Viewer()\n",
    "viewer.add_image(lm_stack)\n",
    "viewer.add_image(lm_stack_flip)\n",
    "viewer.add_image(lm_stack_upsampled)\n",
    "viewer.add_image(lm_stack_clahe)"
   ],
   "outputs": [
    {
     "name": "stdout",
     "output_type": "stream",
     "text": [
      "SampleDB(sample_ids=['20220426_RM0008_130hpf_fP1_f3', '20220118_RM0012_124hpf_fP8_f2', '20220427_RM0008_126hpf_fP3_f3'])\n",
      "Anatomy path: \\\\tungsten-nas.fmi.ch\\tungsten\\scratch\\gfriedri\\montruth\\2P_RawData\\2022-01-18\\f2\\anatomy\n",
      "Using original stack\n",
      "LM stack shape: (2, 150, 512, 512)\n",
      "Flipping stack\n",
      "Upsampling stack\n",
      "Applying CLAHE\n"
     ]
    },
    {
     "name": "stderr",
     "output_type": "stream",
     "text": [
      "WARNING: DirectWrite: CreateFontFaceFromHDC() failed (Indicates an error in an input file such as a font file.) for QFontDef(Family=\"\", pointsize=12, pixelsize=16, styleHint=5, weight=50, stretch=100, hintingPreference=0) LOGFONT(\"MS Sans Serif\", lfWidth=0, lfHeight=-16) dpi=96\n",
      "D:\\montruth\\PycharmProjects\\samplePy\\.venv\\lib\\site-packages\\napari\\plugins\\_plugin_manager.py:555: UserWarning: Plugin 'napari-animated-gif-io' has already registered a function widget 'save as animated gif' which has now been overwritten\n",
      "  warn(message=warn_message)\n"
     ]
    },
    {
     "data": {
      "text/plain": [
       "<Image layer 'lm_stack_clahe' at 0x27be1279b40>"
      ]
     },
     "execution_count": 13,
     "metadata": {},
     "output_type": "execute_result"
    }
   ],
   "execution_count": 13
  },
  {
   "metadata": {
    "ExecuteTime": {
     "end_time": "2024-08-15T08:05:28.366837Z",
     "start_time": "2024-08-15T08:05:24.557662Z"
    }
   },
   "cell_type": "code",
   "source": [
    "import tifffile\n",
    "def save_array_as_hyperstack_tiff(path, array):\n",
    "    array_reshaped = array.transpose(1, 0, 2, 3).astype(np.float32)\n",
    "    #array = array.astype(np.float32)\n",
    "    # Save as TIFF with tifffile\n",
    "    tifffile.imwrite(path, array_reshaped, imagej=True)\n",
    "# Save the preprocessed stack\n",
    "output_file = os.path.join(output_folder,\"flipped_upsampled_\"+lm_stack_name)\n",
    "save_array_as_hyperstack_tiff(output_file, lm_stack_upsampled)\n",
    "\n",
    "print(f\"Preprocessed stack saved to: {output_file}\")"
   ],
   "id": "789e9b55e373367e",
   "outputs": [
    {
     "name": "stdout",
     "output_type": "stream",
     "text": [
      "Preprocessed stack saved to: \\\\tungsten-nas.fmi.ch\\tungsten\\scratch\\gfriedri\\montruth\\2P_RawData\\2022-01-18\\f2\\anatomy\\processed\\flipped_upsampled20220118_RM0012_124hpf_fP8_f2_anatomyGFRF_001_.tif\n"
     ]
    }
   ],
   "execution_count": 11
  }
 ],
 "metadata": {
  "kernelspec": {
   "display_name": "Python 3",
   "language": "python",
   "name": "python3"
  },
  "language_info": {
   "codemirror_mode": {
    "name": "ipython",
    "version": 2
   },
   "file_extension": ".py",
   "mimetype": "text/x-python",
   "name": "python",
   "nbconvert_exporter": "python",
   "pygments_lexer": "ipython2",
   "version": "2.7.6"
  }
 },
 "nbformat": 4,
 "nbformat_minor": 5
}
