{
 "cells": [
  {
   "cell_type": "code",
   "execution_count": 10,
   "metadata": {
    "collapsed": true
   },
   "outputs": [
    {
     "name": "stdout",
     "output_type": "stream",
     "text": [
      "13.038087239948212\n"
     ]
    }
   ],
   "source": [
    "import cv2\n",
    "import numpy as np\n",
    "\n",
    "def compute_snr(image_path, noise_roi, signal_roi):\n",
    "    \"\"\"\n",
    "    Compute the SNR of an image given specific ROIs for noise and signal.\n",
    "\n",
    "    Parameters:\n",
    "    - image_path: path to the image file.\n",
    "    - noise_roi: a tuple (x, y, width, height) defining the ROI for noise.\n",
    "    - signal_roi: a tuple (x, y, width, height) defining the ROI for signal.\n",
    "\n",
    "    Returns:\n",
    "    - SNR in dB.\n",
    "    \"\"\"\n",
    "\n",
    "    # Load the image in grayscale\n",
    "    img = cv2.imread(image_path, cv2.IMREAD_GRAYSCALE)\n",
    "\n",
    "    # Extract ROIs\n",
    "    noise_region = img[noise_roi[1]:noise_roi[1]+noise_roi[3], noise_roi[0]:noise_roi[0]+noise_roi[2]]\n",
    "    signal_region = img[signal_roi[1]:signal_roi[1]+signal_roi[3], signal_roi[0]:signal_roi[0]+signal_roi[2]]\n",
    "\n",
    "    # Compute mean and standard deviation for noise\n",
    "    mu_noise = np.mean(noise_region)\n",
    "    sigma_noise = np.std(noise_region)\n",
    "\n",
    "    # Compute mean for signal\n",
    "    mu_signal = np.mean(signal_region)\n",
    "\n",
    "    # Compute SNR in dB\n",
    "    snr_db = 10 * np.log10(mu_signal**2 / sigma_noise**2)\n",
    "\n",
    "    return snr_db\n",
    "\n",
    "# Example usage:\n",
    "image_path_good = r\"C:\\Users\\montruth\\fishPy\\tests\\f2\\results\\anatomy\\plane03\\anatomy_binned_x1y1z2_20220511_RM0008_126hpf_fP10_f2_t1_o1Ala_001_.tif\"\n",
    "\n",
    "image_path_low = r\"\\\\tungsten-nas.fmi.ch\\tungsten\\scratch\\gfriedri\\montruth\\2P_RawData\\2022-04-20\\f3\\results\\anatomy\\plane03\\anatomy_binned_x1y1z1_20220420_RM0012_124hpf_fP8_f3_t1_o1Ala_001_.tif\"\n",
    "noise_roi = (230, 260, 10, 10)  # Define these coordinates appropriately\n",
    "signal_roi = (70, 190, 10, 10)  # Define these coordinates appropriately\n",
    "print(compute_snr(image_path, noise_roi, signal_roi))"
   ]
  },
  {
   "cell_type": "code",
   "execution_count": 11,
   "outputs": [
    {
     "data": {
      "text/plain": "<Image layer 'img' at 0x17f6a885b20>"
     },
     "execution_count": 11,
     "metadata": {},
     "output_type": "execute_result"
    }
   ],
   "source": [],
   "metadata": {
    "collapsed": false
   }
  },
  {
   "cell_type": "code",
   "execution_count": 23,
   "outputs": [],
   "source": [
    "import cv2\n",
    "import numpy as np\n",
    "from numpy.fft import fftshift, fft2\n",
    "\n",
    "def compute_gradient_magnitude(image_path):\n",
    "    \"\"\" The magnitude of the gradient can be used to estimate image sharpness. Sharp images tend to have higher gradient magnitudes, especially at edges.\"\"\"\n",
    "    image = cv2.imread(image_path, cv2.IMREAD_GRAYSCALE)\n",
    "    gradient_x = cv2.Sobel(image, cv2.CV_64F, 1, 0, ksize=3)\n",
    "    gradient_y = cv2.Sobel(image, cv2.CV_64F, 0, 1, ksize=3)\n",
    "    magnitude = np.sqrt(gradient_x**2 + gradient_y**2)\n",
    "    return np.mean(magnitude)\n",
    "\n",
    "def compute_laplacian_variance(image_path):\n",
    "    \"\"\"  The variance of the Laplacian of an image has been used as a sharpness metric. The idea is that sharper images will have a wider range of second derivative values.\"\"\"\n",
    "    image = cv2.imread(image_path, cv2.IMREAD_GRAYSCALE)\n",
    "    laplacian = cv2.Laplacian(image, cv2.CV_64F)\n",
    "    return np.var(laplacian)\n",
    "\n",
    "def frequency_content(image_path):\n",
    "    \"\"\"In the frequency domain (after a Fourier transform), the amount of high-frequency content can be related to image sharpness\"\"\"\n",
    "    image = cv2.imread(image_path, cv2.IMREAD_GRAYSCALE)\n",
    "    f_transform = fftshift(fft2(image))\n",
    "    magnitude_spectrum = np.abs(f_transform)\n",
    "    # For simplicity, consider the sum of high-frequency components\n",
    "    center_x, center_y = magnitude_spectrum.shape[0] // 2, magnitude_spectrum.shape[1] // 2\n",
    "    return np.sum(magnitude_spectrum[center_x-10:center_x+10, center_y-10:center_y+10])\n",
    "\n",
    "def tenengrad_measure(image_path, threshold=100):\n",
    "    \"\"\"It is based on the sum of squared gradients. The threshold to exclude minor gradients.\"\"\"\n",
    "    image = cv2.imread(image_path, cv2.IMREAD_GRAYSCALE)\n",
    "    gradient_x = cv2.Sobel(image, cv2.CV_64F, 1, 0, ksize=3)\n",
    "    gradient_y = cv2.Sobel(image, cv2.CV_64F, 0, 1, ksize=3)\n",
    "    magnitude = np.sqrt(gradient_x**2 + gradient_y**2)\n",
    "    return np.sum(magnitude > threshold)\n",
    "\n",
    "\n",
    "\n",
    "def brenner_gradient(image_path):\n",
    "    \"\"\"It measures sharpness based on the squared difference in intensity between pixels separated by a certain distance.\"\"\"\n",
    "    image = cv2.imread(image_path, cv2.IMREAD_GRAYSCALE)\n",
    "    shifted_image = np.roll(image, shift=-2, axis=0)\n",
    "    brenner = np.sum((shifted_image - image)**2)\n",
    "    return brenner\n",
    "\n",
    "def energy_of_gradient(image_path):\n",
    "    \"\"\"This metric simply involves calculating the gradient magnitude for each pixel in the image and then summing the squared values. A sharp image would have a higher EoG value since sharper images have more pronounced edges and higher gradient magnitudes\"\"\"\n",
    "    image = cv2.imread(image_path, cv2.IMREAD_GRAYSCALE)\n",
    "    gradient_x = cv2.Sobel(image, cv2.CV_64F, 1, 0, ksize=3)\n",
    "    gradient_y = cv2.Sobel(image, cv2.CV_64F, 0, 1, ksize=3)\n",
    "    magnitude = gradient_x**2 + gradient_y**2\n",
    "    return np.sum(magnitude)\n",
    "\n",
    "def cumulative_probability_of_blur_detection(image_path):\n",
    "    \"\"\"CPBD is a more complex measure which evaluates sharpness based on a combination of image gradients and a perceptual thresholding function. In a sharp image, more gradients will exceed the perceptual threshold, leading to a higher CPBD value.It's a multi-step process, and here's a simplified version:\"\"\"\n",
    "    image = cv2.imread(image_path, cv2.IMREAD_GRAYSCALE)\n",
    "    gradient_x = cv2.Sobel(image, cv2.CV_64F, 1, 0, ksize=3)\n",
    "    gradient_y = cv2.Sobel(image, cv2.CV_64F, 0, 1, ksize=3)\n",
    "    magnitude = np.sqrt(gradient_x**2 + gradient_y**2)\n",
    "\n",
    "    # Define perceptual threshold function (this can be adjusted)\n",
    "    threshold = np.mean(magnitude) + np.std(magnitude)\n",
    "\n",
    "    # Count gradients above threshold\n",
    "    count = np.sum(magnitude > threshold)\n",
    "\n",
    "    # Compute probability (ratio of counted gradients to total pixels)\n",
    "    probability = count / (image.shape[0] * image.shape[1])\n",
    "\n",
    "    return probability\n",
    "\n"
   ],
   "metadata": {
    "collapsed": false
   }
  },
  {
   "cell_type": "code",
   "execution_count": 28,
   "outputs": [
    {
     "name": "stdout",
     "output_type": "stream",
     "text": [
      "good\n",
      "gradient_magnitude 26.93131100359268\n",
      "laplacian_variance 442.64243278487993\n",
      "frequency_content 53015234.8808965\n",
      "tenengrad_measure 4338\n",
      "brenner_gradient 10653040\n",
      "energy_of_gradient 349897506.0\n",
      "cumulative_probability_of_blur_detection 0.11472320556640625\n",
      "SNR -1.759198862397606\n",
      "----------\n",
      "medium\n",
      "gradient_magnitude 15.418368028622886\n",
      "laplacian_variance 127.6871922572609\n",
      "frequency_content 41733478.9864351\n",
      "tenengrad_measure 2903\n",
      "brenner_gradient 4514226\n",
      "energy_of_gradient 184188432.0\n",
      "cumulative_probability_of_blur_detection 0.08612823486328125\n",
      "SNR -14.46040579733928\n",
      "----------\n",
      "low\n",
      "gradient_magnitude 19.769377985129772\n",
      "laplacian_variance 265.1668178474065\n",
      "frequency_content 57871042.29488559\n",
      "tenengrad_measure 2409\n",
      "brenner_gradient 7384124\n",
      "energy_of_gradient 209570040.0\n",
      "cumulative_probability_of_blur_detection 0.10692977905273438\n",
      "SNR 7.0763265494690994\n",
      "----------\n"
     ]
    }
   ],
   "source": [
    "\n",
    "image_path_good = r\"C:\\Users\\montruth\\fishPy\\tests\\f2\\results\\anatomy\\plane02\\anatomy_binned_x1y1z2_20220511_RM0008_126hpf_fP10_f2_t1_o1Ala_001_.tif\"\n",
    "image_path_medium = r\"\\\\tungsten-nas.fmi.ch\\tungsten\\scratch\\gfriedri\\montruth\\2P_RawData\\2022-02-14\\f3\\results\\anatomy\\plane02\\anatomy_binned_x1y1z1_20220214_RM0012_fP14_130hpf_f3_t1_o1Ala_001_.tif\"\n",
    "image_path_low = r\"\\\\tungsten-nas.fmi.ch\\tungsten\\scratch\\gfriedri\\montruth\\2P_RawData\\2022-04-20\\f3\\results\\anatomy\\plane02\\anatomy_binned_x1y1z1_20220420_RM0012_124hpf_fP8_f3_t1_o1Ala_001_.tif\"\n",
    "path_list =[image_path_good, image_path_medium, image_path_low]\n",
    "quali_list = [\"good\", \"medium\", \"low\"]\n",
    "for i, path_i in enumerate(path_list):\n",
    "    print(quali_list[i])\n",
    "    print(\"gradient_magnitude\",compute_gradient_magnitude(path_i))\n",
    "    print(\"laplacian_variance\",compute_laplacian_variance(path_i))\n",
    "    print(\"frequency_content\",frequency_content(path_i))\n",
    "    print(\"tenengrad_measure\",tenengrad_measure(path_i,100))\n",
    "    print(\"brenner_gradient\",brenner_gradient(path_i))\n",
    "    print(\"energy_of_gradient\",energy_of_gradient(path_i))\n",
    "    print(\"cumulative_probability_of_blur_detection\",cumulative_probability_of_blur_detection(path_i))\n",
    "    print(\"SNR\", compute_snr(path_i, noise_roi, signal_roi))\n",
    "    print(\"----------\")"
   ],
   "metadata": {
    "collapsed": false
   }
  },
  {
   "cell_type": "code",
   "execution_count": 27,
   "outputs": [
    {
     "data": {
      "text/plain": "<Image layer 'low' at 0x17f0a109e50>"
     },
     "execution_count": 27,
     "metadata": {},
     "output_type": "execute_result"
    }
   ],
   "source": [
    "import napari\n",
    "viewer = napari.Viewer()\n",
    "img = cv2.imread(image_path_good, cv2.IMREAD_GRAYSCALE)\n",
    "viewer.add_image(img, name= \"good\")\n",
    "img = cv2.imread(image_path_medium, cv2.IMREAD_GRAYSCALE)\n",
    "viewer.add_image(img, name = \"medium\")\n",
    "img = cv2.imread(image_path_low, cv2.IMREAD_GRAYSCALE)\n",
    "viewer.add_image(img, name = \"low\")"
   ],
   "metadata": {
    "collapsed": false
   }
  }
 ],
 "metadata": {
  "kernelspec": {
   "display_name": "Python 3",
   "language": "python",
   "name": "python3"
  },
  "language_info": {
   "codemirror_mode": {
    "name": "ipython",
    "version": 2
   },
   "file_extension": ".py",
   "mimetype": "text/x-python",
   "name": "python",
   "nbconvert_exporter": "python",
   "pygments_lexer": "ipython2",
   "version": "2.7.6"
  }
 },
 "nbformat": 4,
 "nbformat_minor": 0
}
