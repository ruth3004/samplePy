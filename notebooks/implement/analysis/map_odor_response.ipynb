{
 "cells": [
  {
   "cell_type": "code",
   "execution_count": 1,
   "metadata": {
    "collapsed": true
   },
   "outputs": [
    {
     "name": "stderr",
     "output_type": "stream",
     "text": [
      "C:\\Users\\montruth\\Anaconda3\\envs\\pr\\lib\\site-packages\\numpy\\_distributor_init.py:30: UserWarning: loaded more than 1 DLL from .libs:\n",
      "C:\\Users\\montruth\\Anaconda3\\envs\\pr\\lib\\site-packages\\numpy\\.libs\\libopenblas.EL2C6PLE4ZYW3ECEVIV3OXXGRN2NRFM2.gfortran-win_amd64.dll\n",
      "C:\\Users\\montruth\\Anaconda3\\envs\\pr\\lib\\site-packages\\numpy\\.libs\\libopenblas.FB5AE2TYXYH2IJRDKGDGQ3XBKLKTF43H.gfortran-win_amd64.dll\n",
      "  warnings.warn(\"loaded more than 1 DLL from .libs:\"\n"
     ]
    }
   ],
   "source": [
    "import sys\n",
    "sys.path.append(r\"C:\\Users\\montruth\\fishPy\")\n",
    "from utils.utils import load_planes_from_tif"
   ]
  },
  {
   "cell_type": "code",
   "execution_count": 10,
   "outputs": [],
   "source": [
    "ala_file = r\"C:\\Users\\montruth\\fishPy\\tests\\f3\\20220426_RM0008_130hpf_fP1_f3_t1_o1Ala_001_.tif\"\n",
    "ala_file = r\"C:\\Users\\montruth\\fishPy\\tests\\f2\\20220511_RM0008_126hpf_fP10_f2_t1_o1Ala_001_.tif\"\n",
    "tca_file = r\"C:\\Users\\montruth\\fishPy\\tests\\f3\\20220426_RM0008_130hpf_fP1_f3_t1_o4TCA_001_.tif\"\n",
    "tca_file = r\"C:\\Users\\montruth\\fishPy\\tests\\f2\\20220511_RM0008_126hpf_fP10_f2_t1_o4TCA_001_.tif\"\n",
    "acq_1 = load_planes_from_tif(ala_file, n_planes= 4, doubling=1, ignore_frames=30)\n",
    "acq_2 = load_planes_from_tif(tca_file, n_planes= 4, doubling=1, ignore_frames=30)"
   ],
   "metadata": {
    "collapsed": false
   }
  },
  {
   "cell_type": "code",
   "execution_count": 11,
   "outputs": [
    {
     "name": "stdout",
     "output_type": "stream",
     "text": [
      "SSIM: 0.2524672706854873\n",
      "SSIM: 0.27585620228815966\n",
      "SSIM: 0.2874932471403736\n",
      "SSIM: 0.2902573374111725\n",
      "SSIM: 0.299425458957068\n",
      "SSIM: 0.31054198758179585\n",
      "SSIM: 0.28484039419622764\n",
      "SSIM: 0.2637367901565358\n"
     ]
    }
   ],
   "source": [
    "import cv2\n",
    "from skimage.metrics import structural_similarity as compare_ssim\n",
    "\n",
    "for plane in range(8):\n",
    "    # Calculate Similarity matrix\n",
    "    ssim_value = compare_ssim(acq_1[plane], acq_2[plane])\n",
    "    print(f\"SSIM: {ssim_value}\")"
   ],
   "metadata": {
    "collapsed": false
   }
  },
  {
   "cell_type": "code",
   "execution_count": 14,
   "outputs": [
    {
     "data": {
      "text/plain": "<Image layer 'acq_2' at 0x2a85283e910>"
     },
     "execution_count": 14,
     "metadata": {},
     "output_type": "execute_result"
    }
   ],
   "source": [
    "import napari\n",
    "viewer = napari.Viewer()\n",
    "viewer.add_image(acq_1)\n",
    "viewer.add_image(acq_2)"
   ],
   "metadata": {
    "collapsed": false
   }
  }
 ],
 "metadata": {
  "kernelspec": {
   "display_name": "Python 3",
   "language": "python",
   "name": "python3"
  },
  "language_info": {
   "codemirror_mode": {
    "name": "ipython",
    "version": 2
   },
   "file_extension": ".py",
   "mimetype": "text/x-python",
   "name": "python",
   "nbconvert_exporter": "python",
   "pygments_lexer": "ipython2",
   "version": "2.7.6"
  }
 },
 "nbformat": 4,
 "nbformat_minor": 0
}
