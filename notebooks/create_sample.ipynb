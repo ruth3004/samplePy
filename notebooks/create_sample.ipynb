{
 "cells": [
  {
   "cell_type": "code",
   "id": "initial_id",
   "metadata": {
    "collapsed": true,
    "ExecuteTime": {
     "end_time": "2024-04-26T12:32:18.155008Z",
     "start_time": "2024-04-26T12:32:18.143075Z"
    }
   },
   "source": [
    "#Import \n",
    "from src.sample import Sample\n",
    "\n",
    "# Load json file\n",
    "json_path = '../data/calcium/2022-04-26/f3/sampleConfig_20220426_RM0008_130hpf_fP1_f3.json'\n",
    "\n",
    "sample = Sample(json_path)\n",
    "print(sample)\n",
    "\n",
    "# Save sample\n",
    "sample.save_sample()"
   ],
   "outputs": [
    {
     "name": "stdout",
     "output_type": "stream",
     "text": [
      "Sample ID: 20220426_RM0008_130hpf_fP1_f3\n"
     ]
    }
   ],
   "execution_count": 4
  }
 ],
 "metadata": {
  "kernelspec": {
   "display_name": "Python 3",
   "language": "python",
   "name": "python3"
  },
  "language_info": {
   "codemirror_mode": {
    "name": "ipython",
    "version": 2
   },
   "file_extension": ".py",
   "mimetype": "text/x-python",
   "name": "python",
   "nbconvert_exporter": "python",
   "pygments_lexer": "ipython2",
   "version": "2.7.6"
  }
 },
 "nbformat": 4,
 "nbformat_minor": 5
}
