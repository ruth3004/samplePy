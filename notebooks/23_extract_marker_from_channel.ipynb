{
 "cells": [
  {
   "metadata": {
    "ExecuteTime": {
     "end_time": "2024-07-16T12:34:46.344195Z",
     "start_time": "2024-07-16T12:34:15.371532Z"
    }
   },
   "cell_type": "code",
   "source": [
    "import numpy as np\n",
    "import tifffile as tiff\n",
    "import napari\n",
    "\n",
    "from scipy.ndimage import zoom\n",
    "\n",
    "from scripts.utils.image_utils import load_tiff_as_hyperstack, calculate_manders_coefficient_3d\n"
   ],
   "id": "15baa0cea9331dd8",
   "outputs": [],
   "execution_count": 1
  },
  {
   "metadata": {
    "ExecuteTime": {
     "end_time": "2024-07-16T12:37:59.965805Z",
     "start_time": "2024-07-16T12:37:58.342844Z"
    }
   },
   "cell_type": "code",
   "source": [
    "# Define paths\n",
    "anatomy_stack_path = r'\\\\tungsten-nas.fmi.ch\\tungsten\\scratch\\gfriedri\\montruth\\2P_RawData\\2022-04-26\\f3\\anatomy\\raw\\20220426_RM0008_130hpf_fP1_f3_anatomyGFRF_001_.tif'\n",
    "anatomy_mask_path = r'\\\\tungsten-nas.fmi.ch\\tungsten\\scratch\\gfriedri\\montruth\\CLEM_Analyses\\CLEM_20220426_RM0008_130hpf_fP1_f3\\pycpd\\em_stack_channel 1_xfm_0_flfov_lmresolution_cp_masks.tif'\n",
    "\n",
    "# Load anatomy stack\n",
    "anatomy_stack = load_tiff_as_hyperstack(anatomy_stack_path, n_channels=2)\n",
    "print(anatomy_stack.shape)\n",
    "\n",
    "# Load anatomy mask\n",
    "anatomy_mask = tiff.imread(anatomy_mask_path)"
   ],
   "id": "ef844eee53876fa4",
   "outputs": [
    {
     "name": "stdout",
     "output_type": "stream",
     "text": [
      "\\\\tungsten-nas.fmi.ch\\tungsten\\scratch\\gfriedri\\montruth\\2P_RawData\\2022-04-26\\f3\\anatomy\\raw\\20220426_RM0008_130hpf_fP1_f3_anatomyGFRF_001_.tif loaded.\n",
      "(2, 150, 512, 512)\n"
     ]
    }
   ],
   "execution_count": 6
  },
  {
   "metadata": {
    "ExecuteTime": {
     "end_time": "2024-07-16T14:04:19.750034Z",
     "start_time": "2024-07-16T14:02:49.175597Z"
    }
   },
   "cell_type": "code",
   "source": [
    "# Flip and resample channel anatomy stack to fit mask stack (if necessary)\n",
    "flipped_anatomy_stack = anatomy_stack[:, :, :, ::-1]\n",
    "\n",
    "zoom_factors = [2.5, 1, 1]\n",
    "\n",
    "# Initialize an empty array for the resampled stack with the correct shape\n",
    "resampled_shape = (flipped_anatomy_stack.shape[0], int(flipped_anatomy_stack.shape[1] * zoom_factors[0]), flipped_anatomy_stack.shape[2], flipped_anatomy_stack.shape[3])\n",
    "resampled_anatomy_stack = np.zeros(resampled_shape, dtype=flipped_anatomy_stack.dtype)\n",
    "\n",
    "# Apply the zoom function to each channel\n",
    "for channel in range(flipped_anatomy_stack.shape[0]):\n",
    "    resampled_anatomy_stack[channel] = zoom(flipped_anatomy_stack[channel], zoom_factors, order=3)\n",
    "\n",
    "# Save the resampled stack as a TIFF file\n",
    "tiff.imwrite(r\"\\\\tungsten-nas.fmi.ch\\tungsten\\scratch\\gfriedri\\montruth\\2P_RawData\\2022-04-26\\f3\\anatomy\\processed\\resampled_flipped_20220426_RM0008_130hpf_fP1_f3_anatomyGFRF_001_.tif\", resampled_anatomy_stack)\n",
    "print(\"saved\")\n"
   ],
   "id": "5b52015bc0f0e165",
   "outputs": [
    {
     "name": "stdout",
     "output_type": "stream",
     "text": [
      "saved\n"
     ]
    }
   ],
   "execution_count": 8
  },
  {
   "metadata": {
    "ExecuteTime": {
     "end_time": "2024-07-16T14:08:50.845490Z",
     "start_time": "2024-07-16T14:08:50.174473Z"
    }
   },
   "cell_type": "code",
   "source": [
    "\n",
    "# or updload already processed stack \n",
    "resampled_anatomy_stack_path  = r\"\\\\tungsten-nas.fmi.ch\\tungsten\\scratch\\gfriedri\\montruth\\2P_RawData\\2022-04-26\\f3\\anatomy\\processed\\resampled_flipped_20220426_RM0008_130hpf_fP1_f3_anatomyGFRF_001_.tif\"\n",
    "resampled_anatomy_stack2 = tiff.imread(resampled_anatomy_stack_path)\n",
    "print(resampled_anatomy_stack2.shape)"
   ],
   "id": "83c3aef5948b2076",
   "outputs": [
    {
     "name": "stdout",
     "output_type": "stream",
     "text": [
      "(2, 375, 512, 512)\n"
     ]
    }
   ],
   "execution_count": 10
  },
  {
   "metadata": {
    "ExecuteTime": {
     "end_time": "2024-07-16T14:09:56.332233Z",
     "start_time": "2024-07-16T14:08:52.004232Z"
    }
   },
   "cell_type": "code",
   "source": [
    "#Select channels \n",
    "c0_anatomy_stack = resampled_anatomy_stack[0] # Adjust if needed\n",
    "c1_anatomy_stack = resampled_anatomy_stack[1] # Adjust if needed\n",
    "\n",
    "# Calculate Manders' coefficients for each label and each channel\n",
    "manders_results_c0, mask_colored_stack_c0 = calculate_manders_coefficient_3d(anatomy_mask, c0_anatomy_stack)\n",
    "manders_results_c1, mask_colored_stack_c1 = calculate_manders_coefficient_3d(anatomy_mask, c1_anatomy_stack)\n",
    "\n",
    "# Display the colored stacks\n",
    "viewer = napari.Viewer()\n",
    "\n",
    "viewer.add_image(mask_colored_stack_c0, name='mask_colored_stack_c0', colormap='green',blending='additive')\n",
    "viewer.add_image(mask_colored_stack_c1, name='mask_colored_stack_c1', colormap='red',blending='additive')\n",
    "viewer.add_image(c0_anatomy_stack, name='c0_anatomy_stack',blending='additive')\n",
    "viewer.add_image(c1_anatomy_stack, name='c1_anatomy_stack',blending='additive')\n",
    "viewer.add_image(anatomy_mask, name='anatomy_mask', blending='additive' )\n"
   ],
   "id": "27d54240e82e2b19",
   "outputs": [
    {
     "data": {
      "text/plain": [
       "<Image layer 'anatomy_mask' at 0x275f5838e20>"
      ]
     },
     "execution_count": 11,
     "metadata": {},
     "output_type": "execute_result"
    }
   ],
   "execution_count": 11
  },
  {
   "metadata": {
    "ExecuteTime": {
     "end_time": "2024-07-16T14:10:40.036572Z",
     "start_time": "2024-07-16T14:10:37.302780Z"
    }
   },
   "cell_type": "code",
   "source": [
    "# Save manders_coeff based mask stack \n",
    "\n",
    "tiff.imwrite(r\"\\\\tungsten-nas.fmi.ch\\tungsten\\scratch\\gfriedri\\montruth\\2P_RawData\\2022-04-26\\f3\\anatomy\\masks\\mask_manderscoeff_c0_20220426_RM0008_130hpf_fP1_f3_anatomyGFRF_001_.tif\", mask_colored_stack_c0)\n",
    "\n",
    "tiff.imwrite(r\"\\\\tungsten-nas.fmi.ch\\tungsten\\scratch\\gfriedri\\montruth\\2P_RawData\\2022-04-26\\f3\\anatomy\\masks\\mask_manderscoeff_c1_20220426_RM0008_130hpf_fP1_f3_anatomyGFRF_001_.tif\", mask_colored_stack_c1)"
   ],
   "id": "bdaa4b124f5fd734",
   "outputs": [],
   "execution_count": 12
  }
 ],
 "metadata": {
  "kernelspec": {
   "display_name": "Python 3",
   "language": "python",
   "name": "python3"
  },
  "language_info": {
   "codemirror_mode": {
    "name": "ipython",
    "version": 2
   },
   "file_extension": ".py",
   "mimetype": "text/x-python",
   "name": "python",
   "nbconvert_exporter": "python",
   "pygments_lexer": "ipython2",
   "version": "2.7.6"
  }
 },
 "nbformat": 4,
 "nbformat_minor": 5
}
