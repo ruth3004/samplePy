{
 "cells": [
  {
   "metadata": {},
   "cell_type": "markdown",
   "source": [
    "# Preprocessing calcium acquisition\n",
    "* anatomy images\n",
    "* motion correction\n",
    "\n"
   ],
   "id": "730de03a2f3876cb"
  },
  {
   "metadata": {
    "ExecuteTime": {
     "end_time": "2024-04-29T07:43:38.774464Z",
     "start_time": "2024-04-29T07:43:17.064210Z"
    }
   },
   "cell_type": "code",
   "source": [
    "from src.sample import Sample\n",
    "from src.utils import image_utils\n",
    "import napari\n",
    "import numpy as np\n",
    "import importlib\n"
   ],
   "id": "74611eaab8b6fc4f",
   "outputs": [],
   "execution_count": 1
  },
  {
   "metadata": {
    "ExecuteTime": {
     "end_time": "2024-04-26T15:31:44.728119Z",
     "start_time": "2024-04-26T15:31:44.718826Z"
    }
   },
   "cell_type": "code",
   "source": "#importlib.reload(image_utils)",
   "id": "49a396e8a8d68d10",
   "outputs": [
    {
     "data": {
      "text/plain": [
       "<module 'src.utils.image_utils' from 'C:\\\\Users\\\\montruth\\\\PycharmProjects\\\\samplePy\\\\src\\\\utils\\\\image_utils.py'>"
      ]
     },
     "execution_count": 13,
     "metadata": {},
     "output_type": "execute_result"
    }
   ],
   "execution_count": 13
  },
  {
   "metadata": {
    "ExecuteTime": {
     "end_time": "2024-04-29T07:43:38.793090Z",
     "start_time": "2024-04-29T07:43:38.776484Z"
    }
   },
   "cell_type": "code",
   "source": [
    "# Load sample from path \n",
    "sample_path = '../data/calcium/2022-04-26/f3/20220426_RM0008_130hpf_fP1_f3_pickle'\n",
    "\n",
    "sample= Sample.load_sample(sample_path)\n",
    "print(sample)\n"
   ],
   "id": "61778697b8e5d0de",
   "outputs": [
    {
     "name": "stdout",
     "output_type": "stream",
     "text": [
      "Sample ID: 20220426_RM0008_130hpf_fP1_f3\n"
     ]
    }
   ],
   "execution_count": 2
  },
  {
   "metadata": {
    "ExecuteTime": {
     "end_time": "2024-04-26T15:28:10.840256Z",
     "start_time": "2024-04-26T15:28:10.833656Z"
    }
   },
   "cell_type": "code",
   "source": "sample.exp",
   "id": "4df5dc6bb966451b",
   "outputs": [
    {
     "data": {
      "text/plain": [
       "namespace(paramsOdor=namespace(odorList=['o1Ala',\n",
       "                                         'o2Ser',\n",
       "                                         'o3TDCA',\n",
       "                                         'o4Ctrl',\n",
       "                                         'o5GCA',\n",
       "                                         'o6TCA',\n",
       "                                         'o7Cad',\n",
       "                                         'o8SA'],\n",
       "                               odorSequence=[1,\n",
       "                                             2,\n",
       "                                             3,\n",
       "                                             4,\n",
       "                                             6,\n",
       "                                             7,\n",
       "                                             5,\n",
       "                                             8,\n",
       "                                             5,\n",
       "                                             7,\n",
       "                                             6,\n",
       "                                             4,\n",
       "                                             2,\n",
       "                                             3,\n",
       "                                             1,\n",
       "                                             8,\n",
       "                                             3,\n",
       "                                             5,\n",
       "                                             1,\n",
       "                                             2,\n",
       "                                             7,\n",
       "                                             6,\n",
       "                                             4,\n",
       "                                             8],\n",
       "                               odorConc=[100, 100, 10, 0, 10, 10, 300, 0],\n",
       "                               nTrials=3,\n",
       "                               nFrames=1500,\n",
       "                               pulseDelay=15,\n",
       "                               pulseDuration=5,\n",
       "                               trialInterval=60,\n",
       "                               missedTrials=[],\n",
       "                               bubbles=[],\n",
       "                               INFO=[]),\n",
       "          params2P=namespace(startTime='19:29',\n",
       "                             endTime='21:00',\n",
       "                             date='2022.04.26',\n",
       "                             zoom=4.7,\n",
       "                             power=30,\n",
       "                             shutterDelay=40,\n",
       "                             sampFreq=30,\n",
       "                             nPlanes=4,\n",
       "                             doubling=1,\n",
       "                             anatoRange=150,\n",
       "                             refPlane=5,\n",
       "                             refFramesIgnored=40,\n",
       "                             refNFrames=300,\n",
       "                             refNPlanes=9,\n",
       "                             refSliceInterval=1.5,\n",
       "                             INFO=[]),\n",
       "          paramsEM=namespace(fixation=namespace(protocol='fBROPA'),\n",
       "                             embedding=namespace(orientation='anterior-up',\n",
       "                                                 material=[]),\n",
       "                             acquisition=namespace(nSlice=[], xyzRes=[]),\n",
       "                             reconstruction=namespace(method=[])))"
      ]
     },
     "execution_count": 4,
     "metadata": {},
     "output_type": "execute_result"
    }
   ],
   "execution_count": 4
  },
  {
   "metadata": {},
   "cell_type": "markdown",
   "source": "",
   "id": "1ede0d9d68f9fa9f"
  },
  {
   "metadata": {},
   "cell_type": "code",
   "source": [
    "trial1_path='../data/calcium/2022-04-26/f3/20220426_RM0008_130hpf_fP1_f3_t1_o1Ala_001_.tif'\n",
    "trial2_path= '../data/calcium/2022-04-26/f3/20220426_RM0008_130hpf_fP1_f3_t2_o2Ser_001_.tif'\n",
    "anatomy_stack_path = '../data/calcium/2022-04-26/f3/20220426_RM0008_130hpf_fP1_f3_anatomyGFRF_001_.tif'\n",
    "\n",
    "nPlanes = sample.get_param('nPlanes')\n",
    "nFrames = sample.get_param('nFrames')\n",
    "nSlices = sample.get_param('anatoRange')\n",
    "\n",
    "nFramesTrial = nFrames // nPlanes"
   ],
   "id": "738bf4bb14bc7832",
   "outputs": [],
   "execution_count": 3
  },
  {
   "metadata": {
    "ExecuteTime": {
     "end_time": "2024-04-29T07:43:40.618432Z",
     "start_time": "2024-04-29T07:43:38.802260Z"
    }
   },
   "cell_type": "code",
   "source": [
    "\n",
    "trial1 = image_utils.load_raw_acquisition(trial1_path, n_channels=1, n_slices = nPlanes , n_time = nFramesTrial)\n",
    "\n",
    "print(\"Acquisition hyperstack shape:\", trial1.shape)\n",
    "\n",
    "trial2 =image_utils.load_raw_acquisition(trial2_path, n_channels=1, n_slices = nPlanes, n_time = nFramesTrial)\n",
    "\n",
    "print(\"Acquisition hyperstack shape:\", trial2.shape)\n",
    "\n",
    "anatomy = image_utils.load_anatomy_stack(anatomy_stack_path, n_channels=2, n_slices=nSlices)\n",
    "\n",
    "print(\"Anatomy hyperstack shape:\", anatomy.shape)\n"
   ],
   "id": "902e179a781ca47f",
   "outputs": [
    {
     "name": "stdout",
     "output_type": "stream",
     "text": [
      "Acquisition hyperstack shape: (4, 375, 512, 512)\n",
      "Acquisition hyperstack shape: (4, 375, 512, 512)\n",
      "Anatomy hyperstack shape: (2, 150, 512, 512)\n"
     ]
    }
   ],
   "execution_count": 4
  },
  {
   "metadata": {
    "ExecuteTime": {
     "end_time": "2024-04-29T07:43:49.140741Z",
     "start_time": "2024-04-29T07:43:43.808312Z"
    }
   },
   "cell_type": "code",
   "source": [
    "planes_trial1 = image_utils.load_planes_from_tif(trial1_path, nPlanes)\n",
    "planes_trial2 = image_utils.load_planes_from_tif(trial2_path, nPlanes)"
   ],
   "id": "bb541f51a789d859",
   "outputs": [
    {
     "name": "stdout",
     "output_type": "stream",
     "text": [
      "(4, 375, 512, 512)\n",
      "(8, 375, 256, 512)\n",
      "(4, 375, 512, 512)\n",
      "(8, 375, 256, 512)\n"
     ]
    }
   ],
   "execution_count": 5
  },
  {
   "metadata": {
    "ExecuteTime": {
     "end_time": "2024-04-29T09:25:05.570259Z",
     "start_time": "2024-04-29T09:25:05.360235Z"
    }
   },
   "cell_type": "code",
   "source": "viewer.add_image(planes_trial1[0])",
   "id": "89a683d3ee53cc25",
   "outputs": [
    {
     "data": {
      "text/plain": [
       "<Image layer 'Image' at 0x1becf76b9d0>"
      ]
     },
     "execution_count": 14,
     "metadata": {},
     "output_type": "execute_result"
    }
   ],
   "execution_count": 14
  },
  {
   "metadata": {
    "ExecuteTime": {
     "end_time": "2024-04-29T07:43:54.343898Z",
     "start_time": "2024-04-29T07:43:54.338484Z"
    }
   },
   "cell_type": "code",
   "source": [
    "# Create ignore_vector\n",
    "\n",
    "# Parameters\n",
    "ignore_until = 16\n",
    "nTrials = 2\n",
    "# Generate an array of zeros of length 750\n",
    "ignore_vector = np.ones(nFramesTrial*nTrials, dtype=bool)\n",
    "\n",
    "# Set the first 16 elements to True (equivalent to 1 in a binary array)\n",
    "ignore_vector[:ignore_until] = False"
   ],
   "id": "1e22c4e192e1e318",
   "outputs": [],
   "execution_count": 6
  },
  {
   "metadata": {},
   "cell_type": "markdown",
   "source": "# Motion correction",
   "id": "98ca471dcc763f86"
  },
  {
   "metadata": {
    "ExecuteTime": {
     "end_time": "2024-04-29T07:45:06.166032Z",
     "start_time": "2024-04-29T07:43:58.693946Z"
    }
   },
   "cell_type": "code",
   "source": [
    "# Stitch images\n",
    "images = np.concatenate((planes_trial1, planes_trial2), axis=1)\n",
    "print(images.shape)\n",
    "\n",
    "\n",
    "# Mask images\n",
    "# Compute the minimum value of the entire images array\n",
    "min_value = np.min(images[:,ignore_vector,:,:])\n",
    "print(min_value)\n",
    "\n",
    "# Create a full array of the minimum value with the same shape as slices\n",
    "min_images = np.full_like(images[:, 0, :, :], min_value)\n",
    "\n",
    "# Apply the ignore vector\n",
    "# Use np.where to choose between the min_images and the original images based on the ignore_vector\n",
    "masked_images = np.where(ignore_vector[:, np.newaxis, np.newaxis], images, min_images[:, np.newaxis, :, :])\n",
    "\n",
    "print(\"Resulting images shape:\", masked_images.shape)\n",
    "\n",
    "# Apply gaussian1d\n",
    "from scipy.ndimage import gaussian_filter1d\n",
    "sigma = 10\n",
    "gaussian_images =  gaussian_filter1d(masked_images, sigma=sigma, axis=1)"
   ],
   "id": "7b8e1b82bf561cbd",
   "outputs": [
    {
     "name": "stdout",
     "output_type": "stream",
     "text": [
      "(8, 750, 256, 512)\n",
      "7867.0\n",
      "Resulting images shape: (8, 750, 256, 512)\n"
     ]
    }
   ],
   "execution_count": 7
  },
  {
   "metadata": {
    "ExecuteTime": {
     "end_time": "2024-04-29T07:45:40.813478Z",
     "start_time": "2024-04-29T07:45:06.168031Z"
    }
   },
   "cell_type": "code",
   "source": [
    "viewer = napari.Viewer()\n",
    "\n",
    "viewer.add_image(gaussian_images, name='filtered_gaussian_images')"
   ],
   "id": "e841283c6af4bb88",
   "outputs": [
    {
     "data": {
      "text/plain": [
       "<Image layer 'filtered_gaussian_images' at 0x1bec93b6850>"
      ]
     },
     "execution_count": 8,
     "metadata": {},
     "output_type": "execute_result"
    }
   ],
   "execution_count": 8
  },
  {
   "metadata": {
    "ExecuteTime": {
     "end_time": "2024-04-29T07:45:41.635177Z",
     "start_time": "2024-04-29T07:45:40.815510Z"
    }
   },
   "cell_type": "code",
   "source": [
    "reference_images = masked_images[:,:200,:,:].sum(axis=1)\n",
    "print(reference_images.shape)\n",
    "viewer.add_image(reference_images, name='reference_image')"
   ],
   "id": "ada9abffcd75ecce",
   "outputs": [
    {
     "name": "stdout",
     "output_type": "stream",
     "text": [
      "(8, 256, 512)\n"
     ]
    },
    {
     "data": {
      "text/plain": [
       "<Image layer 'reference_image' at 0x1be3bd0cb90>"
      ]
     },
     "execution_count": 9,
     "metadata": {},
     "output_type": "execute_result"
    }
   ],
   "execution_count": 9
  },
  {
   "metadata": {
    "ExecuteTime": {
     "end_time": "2024-04-29T07:46:03.254765Z",
     "start_time": "2024-04-29T07:45:41.638183Z"
    }
   },
   "cell_type": "code",
   "source": [
    "from skimage.registration import phase_cross_correlation\n",
    "import math\n",
    "\n",
    "print(masked_images[0].shape)\n",
    "frames=np.squeeze(np.array(gaussian_images[0]))\n",
    "reference_image = reference_images[0]\n",
    "print(reference_image.shape)\n",
    "\n",
    "# Initialize displacement arrays to the number of frames\n",
    "num_frames = frames.shape[0]  # Ensure this matches your actual data shape\n",
    "Xs = np.zeros(num_frames)\n",
    "Ys = np.zeros(num_frames)\n",
    "total_motion = np.zeros(num_frames)\n",
    "\n",
    "# Compute phase correlation for each frame against the reference\n",
    "for i in range(num_frames):\n",
    "    X = phase_cross_correlation(reference_image, frames[i, :, :], upsample_factor=5, space='real')\n",
    "    Xs[i] = X[0][0]  # x-displacement\n",
    "    Ys[i] = X[0][1]  # y-displacement\n",
    "    total_motion[i] = math.sqrt(Xs[i]**2 + Ys[i]**2)"
   ],
   "id": "cdc2a7dfff97f5aa",
   "outputs": [
    {
     "name": "stdout",
     "output_type": "stream",
     "text": [
      "(750, 256, 512)\n",
      "(256, 512)\n"
     ]
    }
   ],
   "execution_count": 10
  },
  {
   "metadata": {
    "ExecuteTime": {
     "end_time": "2024-04-29T07:46:03.804337Z",
     "start_time": "2024-04-29T07:46:03.256749Z"
    }
   },
   "cell_type": "code",
   "source": [
    "import matplotlib.pyplot as plt\n",
    "plt.subplot(1,2,1)\n",
    "plt.plot(total_motion)\n",
    "plt.title(\"Total Motion Over Time\")\n",
    "plt.xlabel(\"Frame Index\")\n",
    "plt.ylabel(\"Total Motion (Euclidean Distance)\")\n",
    "\n",
    "plt.subplot(1,2,2)\n",
    "plt.scatter(Xs-0.01+0.02*np.random.rand(Xs.shape[0]), Ys-0.01+0.02*np.random.rand(Ys.shape[0]), s=0.5)\n",
    "plt.title(\"Scatter Plot of Shifts with Jitter\")\n",
    "plt.xlabel(\"X Shifts\")\n",
    "plt.ylabel(\"Y Shifts\")"
   ],
   "id": "2991fd1d1d2b1929",
   "outputs": [
    {
     "data": {
      "text/plain": [
       "Text(0, 0.5, 'Y Shifts')"
      ]
     },
     "execution_count": 11,
     "metadata": {},
     "output_type": "execute_result"
    },
    {
     "data": {
      "text/plain": [
       "<Figure size 640x480 with 2 Axes>"
      ],
      "image/png": "[encoded data removed]"
     },
     "metadata": {},
     "output_type": "display_data"
    }
   ],
   "execution_count": 11
  },
  {
   "metadata": {
    "ExecuteTime": {
     "end_time": "2024-04-29T07:46:14.758594Z",
     "start_time": "2024-04-29T07:46:03.806362Z"
    }
   },
   "cell_type": "code",
   "source": [
    "from scipy.ndimage import shift\n",
    "aligned_frames=np.zeros(frames.shape)\n",
    "for i in range(frames.shape[0]):\n",
    "    aligned_frames[i,:,:]=shift(frames[i,:,:], (Xs[i],Ys[i]), output=None, order=3, mode='constant', cval=8100, prefilter=True)"
   ],
   "id": "2259826d8f1de87b",
   "outputs": [],
   "execution_count": 12
  },
  {
   "metadata": {
    "ExecuteTime": {
     "end_time": "2024-04-29T07:46:15.161517Z",
     "start_time": "2024-04-29T07:46:14.759596Z"
    }
   },
   "cell_type": "code",
   "source": [
    "aligned_anatomy=np.sum(aligned_frames,0)\n",
    "\n",
    "viewer.add_image(aligned_frames, name='aligned_frames')\n"
   ],
   "id": "a284709af4b185fe",
   "outputs": [
    {
     "data": {
      "text/plain": [
       "<Image layer 'aligned_frames' at 0x1becf762bd0>"
      ]
     },
     "execution_count": 13,
     "metadata": {},
     "output_type": "execute_result"
    }
   ],
   "execution_count": 13
  }
 ],
 "metadata": {
  "kernelspec": {
   "display_name": "Python 3",
   "language": "python",
   "name": "python3"
  },
  "language_info": {
   "codemirror_mode": {
    "name": "ipython",
    "version": 2
   },
   "file_extension": ".py",
   "mimetype": "text/x-python",
   "name": "python",
   "nbconvert_exporter": "python",
   "pygments_lexer": "ipython2",
   "version": "2.7.6"
  }
 },
 "nbformat": 4,
 "nbformat_minor": 5
}
