{
 "cells": [
  {
   "metadata": {
    "ExecuteTime": {
     "end_time": "2024-06-05T06:13:10.280288Z",
     "start_time": "2024-06-05T06:12:40.511245Z"
    }
   },
   "cell_type": "code",
   "source": [
    "import numpy as np\n",
    "import tifffile as tiff\n",
    "\n",
    "import napari\n",
    "\n",
    "from skimage.measure import manders_coloc_coeff, regionprops, label\n",
    "from skimage.filters import threshold_otsu\n",
    "from scipy.ndimage import zoom\n",
    "\n",
    "from scripts.utils.image_utils import load_tiff_as_hyperstack\n"
   ],
   "id": "15baa0cea9331dd8",
   "outputs": [],
   "execution_count": 1
  },
  {
   "metadata": {
    "ExecuteTime": {
     "end_time": "2024-06-05T06:13:15.505475Z",
     "start_time": "2024-06-05T06:13:15.495474Z"
    }
   },
   "cell_type": "code",
   "source": [
    "def calculate_manders_coefficient_3d(mask_stack, channel_stack):\n",
    "        \n",
    "    # Label the mask stack\n",
    "    labels = label(mask_stack)\n",
    "    props = regionprops(labels)\n",
    "    \n",
    "    # Initiate Manders' coefficients dictionary and Manders' coefficient based colored stack \n",
    "    manders_results = {}\n",
    "    mask_colored_stack = np.zeros_like(anatomy_mask, dtype=float)\n",
    "    \n",
    "    # Binarize channel stack\n",
    "    channel_threshold = threshold_otsu(channel_stack)\n",
    "    binary_channel_stack = channel_stack > channel_threshold\n",
    "    \n",
    "    # Binarize the mask (assuming it's already binary)\n",
    "    binary_mask_stack = anatomy_mask > 0\n",
    "    \n",
    "    for prop in props:\n",
    "        # Get the bounding box of the region\n",
    "        minr, minc, minz, maxr, maxc, maxz = prop.bbox\n",
    "        \n",
    "        # Extract the corresponding region from the red channel and the mask\n",
    "        channel_region = binary_channel_stack[minr:maxr, minc:maxc, minz:maxz]\n",
    "        mask_region = binary_mask_stack[minr:maxr, minc:maxc, minz:maxz]\n",
    "                \n",
    "        # Calculate Manders' colocalization coefficients\n",
    "        manders_coeff = manders_coloc_coeff(mask_region, channel_region)\n",
    "        \n",
    "        # Store the results\n",
    "        manders_results[prop.label] = manders_coeff\n",
    "        \n",
    "        # Color the stack based on the Manders' coefficients\n",
    "        mask_colored_stack[minr:maxr, minc:maxc, minz:maxz][mask_region] = manders_coeff\n",
    "        \n",
    "    return manders_results, mask_colored_stack"
   ],
   "id": "2320e8bbfdb2b1a4",
   "outputs": [],
   "execution_count": 2
  },
  {
   "metadata": {
    "ExecuteTime": {
     "end_time": "2024-06-05T06:13:45.465084Z",
     "start_time": "2024-06-05T06:13:19.668623Z"
    }
   },
   "cell_type": "code",
   "source": [
    "# Define paths\n",
    "anatomy_stack_path = r'../data/calcium/2022-04-26/f3/raw/anatomy/20220426_RM0008_130hpf_fP1_f3_anatomyGFRF_001_.tif'\n",
    "anatomy_mask_path = r'\\\\tungsten-nas.fmi.ch\\tungsten\\scratch\\gfriedri\\montruth\\CLEM_Analyses\\CLEM_20220426_RM0008_130hpf_fP1_f3\\pycpd\\em_stack_channel 1_xfm_0_flfov_lmresolution_cp_masks.tif'\n",
    "\n",
    "# Load anatomy stack\n",
    "anatomy_stack = load_tiff_as_hyperstack(anatomy_stack_path, n_channels=2)\n",
    "print(anatomy_stack.shape)\n",
    "\n",
    "# Load anatomy mask\n",
    "anatomy_mask = tiff.imread(anatomy_mask_path)"
   ],
   "id": "ef844eee53876fa4",
   "outputs": [
    {
     "name": "stdout",
     "output_type": "stream",
     "text": [
      "(2, 150, 512, 512)\n"
     ]
    }
   ],
   "execution_count": 3
  },
  {
   "metadata": {
    "ExecuteTime": {
     "end_time": "2024-06-05T08:00:00.842124Z",
     "start_time": "2024-06-05T07:58:27.660808Z"
    }
   },
   "cell_type": "code",
   "source": [
    "# Flip and resample channel anatomy stack to fit mask stack (if necessary)\n",
    "flipped_anatomy_stack = anatomy_stack[:, :, :, ::-1]\n",
    "\n",
    "zoom_factors = [2.5, 1, 1]\n",
    "\n",
    "# Initialize an empty array for the resampled stack with the correct shape\n",
    "resampled_shape = (flipped_anatomy_stack.shape[0], int(flipped_anatomy_stack.shape[1] * zoom_factors[0]), flipped_anatomy_stack.shape[2], flipped_anatomy_stack.shape[3])\n",
    "resampled_anatomy_stack = np.zeros(resampled_shape, dtype=flipped_anatomy_stack.dtype)\n",
    "\n",
    "# Apply the zoom function to each channel\n",
    "for channel in range(flipped_anatomy_stack.shape[0]):\n",
    "    resampled_anatomy_stack[channel] = zoom(flipped_anatomy_stack[channel], zoom_factors, order=3)\n",
    "\n",
    "# Save the resampled stack as a TIFF file\n",
    "tiff.imwrite(r\"\\\\tungsten-nas.fmi.ch\\tungsten\\scratch\\gfriedri\\montruth\\2P_RawData\\2022-04-26\\f3\\preprocessed\\resampled_flipped_20220426_RM0008_130hpf_fP1_f3_anatomyGFRF_001_.tif\", resampled_anatomy_stack)\n",
    "print(\"saved\")\n"
   ],
   "id": "5b52015bc0f0e165",
   "outputs": [
    {
     "name": "stdout",
     "output_type": "stream",
     "text": [
      "saved\n"
     ]
    }
   ],
   "execution_count": 17
  },
  {
   "metadata": {
    "ExecuteTime": {
     "end_time": "2024-06-05T08:06:10.092924Z",
     "start_time": "2024-06-05T08:06:09.354878Z"
    }
   },
   "cell_type": "code",
   "source": [
    "\n",
    "# or updload already processed stack \n",
    "resampled_anatomy_stack_path  = r\"\\\\tungsten-nas.fmi.ch\\tungsten\\scratch\\gfriedri\\montruth\\2P_RawData\\2022-04-26\\f3\\preprocessed\\resampled_flipped_20220426_RM0008_130hpf_fP1_f3_anatomyGFRF_001_.tif\"\n",
    "resampled_anatomy_stack2 = tiff.imread(resampled_anatomy_stack_path)\n",
    "print(resampled_anatomy_stack2.shape)"
   ],
   "id": "83c3aef5948b2076",
   "outputs": [
    {
     "name": "stdout",
     "output_type": "stream",
     "text": [
      "(2, 375, 512, 512)\n"
     ]
    }
   ],
   "execution_count": 21
  },
  {
   "metadata": {
    "ExecuteTime": {
     "end_time": "2024-06-05T08:06:45.882146Z",
     "start_time": "2024-06-05T08:06:29.857090Z"
    }
   },
   "cell_type": "code",
   "source": [
    "#Select channels \n",
    "c0_anatomy_stack = resampled_anatomy_stack[0] # Adjust if needed\n",
    "c1_anatomy_stack = resampled_anatomy_stack[1] # Adjust if needed\n",
    "\n",
    "# Calculate Manders' coefficients for each label and each channel\n",
    "manders_results_c0, mask_colored_stack_c0 = calculate_manders_coefficient_3d(anatomy_mask, c0_anatomy_stack)\n",
    "manders_results_c1, mask_colored_stack_c1 = calculate_manders_coefficient_3d(anatomy_mask, c1_anatomy_stack)\n",
    "\n",
    "# Display the colored stacks\n",
    "viewer = napari.Viewer()\n",
    "\n",
    "viewer.add_image(mask_colored_stack_c0, name='mask_colored_stack_c0', colormap='green',blending='additive')\n",
    "viewer.add_image(mask_colored_stack_c1, name='mask_colored_stack_c1', colormap='red',blending='additive')\n",
    "viewer.add_image(c0_anatomy_stack, name='c0_anatomy_stack',blending='additive')\n",
    "viewer.add_image(c1_anatomy_stack, name='c1_anatomy_stack',blending='additive')\n",
    "viewer.add_image(anatomy_mask, name='anatomy_mask', blending='additive' )\n"
   ],
   "id": "27d54240e82e2b19",
   "outputs": [
    {
     "name": "stderr",
     "output_type": "stream",
     "text": [
      "D:\\montruth\\PycharmProjects\\samplePy\\.venv\\lib\\site-packages\\napari\\plugins\\_plugin_manager.py:555: UserWarning: Plugin 'napari-animated-gif-io' has already registered a function widget 'save as animated gif' which has now been overwritten\n",
      "  warn(message=warn_message)\n"
     ]
    },
    {
     "data": {
      "text/plain": [
       "<Image layer 'anatomy_mask' at 0x1963baf6c50>"
      ]
     },
     "execution_count": 22,
     "metadata": {},
     "output_type": "execute_result"
    }
   ],
   "execution_count": 22
  },
  {
   "metadata": {
    "ExecuteTime": {
     "end_time": "2024-06-04T07:59:42.615557Z",
     "start_time": "2024-06-04T07:59:39.486910Z"
    }
   },
   "cell_type": "code",
   "source": [
    "# Save manders_coeff based mask stack \n",
    "\n",
    "tiff.imwrite(r\"\\\\tungsten-nas.fmi.ch\\tungsten\\scratch\\gfriedri\\montruth\\2P_RawData\\2022-04-26\\f3\\masks\\anatomy\\mask_manderscoeff_c0_20220426_RM0008_130hpf_fP1_f3_anatomyGFRF_001_.tif\", mask_colored_stack_c0)\n",
    "\n",
    "tiff.imwrite(r\"\\\\tungsten-nas.fmi.ch\\tungsten\\scratch\\gfriedri\\montruth\\2P_RawData\\2022-04-26\\f3\\masks\\anatomy\\mask_manderscoeff_c1_20220426_RM0008_130hpf_fP1_f3_anatomyGFRF_001_.tif\", mask_colored_stack_c1)"
   ],
   "id": "bdaa4b124f5fd734",
   "outputs": [],
   "execution_count": 9
  }
 ],
 "metadata": {
  "kernelspec": {
   "display_name": "Python 3",
   "language": "python",
   "name": "python3"
  },
  "language_info": {
   "codemirror_mode": {
    "name": "ipython",
    "version": 2
   },
   "file_extension": ".py",
   "mimetype": "text/x-python",
   "name": "python",
   "nbconvert_exporter": "python",
   "pygments_lexer": "ipython2",
   "version": "2.7.6"
  }
 },
 "nbformat": 4,
 "nbformat_minor": 5
}
