{
 "cells": [
  {
   "cell_type": "code",
   "id": "initial_id",
   "metadata": {
    "collapsed": true,
    "ExecuteTime": {
     "end_time": "2024-07-26T09:16:31.608325Z",
     "start_time": "2024-07-26T09:16:23.426287Z"
    }
   },
   "source": [
    "# Imports\n",
    "import tifffile\n",
    "import numpy as np\n",
    "from scripts.config_model import save_experiment_config, tree\n",
    "from scripts.sample_db import SampleDB\n",
    "from scripts.utils.image_utils import load_tiff_as_hyperstack, save_array_as_hyperstack_tiff\n",
    "import os\n",
    "\n"
   ],
   "outputs": [],
   "execution_count": 2
  },
  {
   "metadata": {
    "ExecuteTime": {
     "end_time": "2024-07-26T09:16:31.622332Z",
     "start_time": "2024-07-26T09:16:31.611326Z"
    }
   },
   "cell_type": "code",
   "source": [
    "# Step 1: Load the sample database\n",
    "db_path = r'\\\\tungsten-nas.fmi.ch\\tungsten\\scratch\\gfriedri\\montruth\\sample_db.csv'\n",
    "sample_db = SampleDB()\n",
    "sample_db.load(db_path)\n",
    "print(sample_db)"
   ],
   "id": "d2c99d01eb2c6842",
   "outputs": [
    {
     "name": "stdout",
     "output_type": "stream",
     "text": [
      "SampleDB(sample_ids=['20220426_RM0008_130hpf_fP1_f3', '20220118_RM0012_124hpf_fP8_f2', '20220427_RM0008_126hpf_fP3_f3'])\n"
     ]
    }
   ],
   "execution_count": 3
  },
  {
   "metadata": {
    "ExecuteTime": {
     "end_time": "2024-07-26T09:16:31.651329Z",
     "start_time": "2024-07-26T09:16:31.624332Z"
    }
   },
   "cell_type": "code",
   "source": [
    "# Step 2: Load experiment configuration\n",
    "sample_id = '20220118_RM0012_124hpf_fP8_f2'\n",
    "exp = sample_db.get_sample(sample_id)"
   ],
   "id": "d188be221d6066a5",
   "outputs": [],
   "execution_count": 4
  },
  {
   "metadata": {
    "ExecuteTime": {
     "end_time": "2024-07-26T09:16:41.684721Z",
     "start_time": "2024-07-26T09:16:41.661722Z"
    }
   },
   "cell_type": "code",
   "source": [
    "# Step 3: Making shortcuts of sample parameters/information\n",
    "sample = exp.sample\n",
    "root_path = exp.paths.root_path\n",
    "trials_path = exp.paths.trials_path\n",
    "anatomy_path = exp.paths.anatomy_path\n",
    "em_path = exp.paths.em_path\n",
    "n_planes = exp.params_lm.n_planes\n",
    "n_frames = exp.params_lm.n_frames\n",
    "n_slices = exp.params_lm.lm_stack_range\n",
    "doubling = 2 if exp.params_lm.doubling else 1\n",
    "\n",
    "# Calculating number of frames per trial \n",
    "n_frames_trial = n_frames // n_planes\n",
    "exp.params_lm[\"n_frames_trial\"] = n_frames_trial\n",
    "\n",
    "# Getting paths of the trial acquisitions\n",
    "raw_trial_paths = os.listdir(os.path.join(trials_path, \"raw\"))\n",
    "n_trials = len(raw_trial_paths)\n",
    "exp.params_lm[\"n_trials\"] = n_trials\n",
    "ignore_until_frame = exp.params_lm.shutter_delay_frames  # edit if you want to avoid summing out motor movements at the beginning of acquisition\n",
    "\n",
    "# Define the path for the preprocessed folder\n",
    "processed_folder = os.path.join(trials_path, \"processed\")\n",
    "os.makedirs(processed_folder, exist_ok=True)\n",
    "\n",
    "ref_images_path = os.path.join(processed_folder, f\"sum_raw_trials_{sample.id}.tif\")"
   ],
   "id": "d7f2753ccc1f97b8",
   "outputs": [],
   "execution_count": 5
  },
  {
   "metadata": {
    "ExecuteTime": {
     "end_time": "2024-07-26T09:17:20.875900Z",
     "start_time": "2024-07-26T09:17:02.829282Z"
    }
   },
   "cell_type": "code",
   "source": [
    "# Load planes and stack\n",
    "for trial_path in raw_trial_paths:\n",
    "    trial_images = load_tiff_as_hyperstack(os.path.join(trials_path, \"raw\", trial_path))\n",
    "\n"
   ],
   "id": "209befbd37b99e03",
   "outputs": [
    {
     "name": "stdout",
     "output_type": "stream",
     "text": [
      "\\\\tungsten-nas.fmi.ch\\tungsten\\scratch\\gfriedri\\montruth\\2P_RawData\\2022-01-18\\f2\\trials\\raw\\20220118_RM0012_124hpf_fP8_f2_t1_o1Ala_001_.tif loaded.\n",
      "\\\\tungsten-nas.fmi.ch\\tungsten\\scratch\\gfriedri\\montruth\\2P_RawData\\2022-01-18\\f2\\trials\\raw\\20220118_RM0012_124hpf_fP8_f2_t1_o2Ser_001_.tif loaded.\n",
      "\\\\tungsten-nas.fmi.ch\\tungsten\\scratch\\gfriedri\\montruth\\2P_RawData\\2022-01-18\\f2\\trials\\raw\\20220118_RM0012_124hpf_fP8_f2_t1_o3TDCA_001_.tif loaded.\n",
      "\\\\tungsten-nas.fmi.ch\\tungsten\\scratch\\gfriedri\\montruth\\2P_RawData\\2022-01-18\\f2\\trials\\raw\\20220118_RM0012_124hpf_fP8_f2_t1_o4Ctrl_001_.tif loaded.\n",
      "\\\\tungsten-nas.fmi.ch\\tungsten\\scratch\\gfriedri\\montruth\\2P_RawData\\2022-01-18\\f2\\trials\\raw\\20220118_RM0012_124hpf_fP8_f2_t1_o5GCA_001_.tif loaded.\n"
     ]
    },
    {
     "ename": "KeyboardInterrupt",
     "evalue": "",
     "output_type": "error",
     "traceback": [
      "\u001B[1;31m---------------------------------------------------------------------------\u001B[0m",
      "\u001B[1;31mKeyboardInterrupt\u001B[0m                         Traceback (most recent call last)",
      "\u001B[1;32m~\\AppData\\Local\\Temp\\ipykernel_12428\\2720516171.py\u001B[0m in \u001B[0;36m?\u001B[1;34m()\u001B[0m\n\u001B[0;32m      1\u001B[0m \u001B[1;31m# Load planes and stack\u001B[0m\u001B[1;33m\u001B[0m\u001B[1;33m\u001B[0m\u001B[0m\n\u001B[0;32m      2\u001B[0m \u001B[1;32mfor\u001B[0m \u001B[0mtrial_path\u001B[0m \u001B[1;32min\u001B[0m \u001B[0mraw_trial_paths\u001B[0m\u001B[1;33m:\u001B[0m\u001B[1;33m\u001B[0m\u001B[1;33m\u001B[0m\u001B[0m\n\u001B[1;32m----> 3\u001B[1;33m     \u001B[0mtrial_images\u001B[0m \u001B[1;33m=\u001B[0m \u001B[0mload_tiff_as_hyperstack\u001B[0m\u001B[1;33m(\u001B[0m\u001B[0mos\u001B[0m\u001B[1;33m.\u001B[0m\u001B[0mpath\u001B[0m\u001B[1;33m.\u001B[0m\u001B[0mjoin\u001B[0m\u001B[1;33m(\u001B[0m\u001B[0mtrials_path\u001B[0m\u001B[1;33m,\u001B[0m \u001B[1;34m\"raw\"\u001B[0m\u001B[1;33m,\u001B[0m \u001B[0mtrial_path\u001B[0m\u001B[1;33m)\u001B[0m\u001B[1;33m)\u001B[0m\u001B[1;33m\u001B[0m\u001B[1;33m\u001B[0m\u001B[0m\n\u001B[0m\u001B[0;32m      4\u001B[0m \u001B[1;33m\u001B[0m\u001B[0m\n\u001B[0;32m      5\u001B[0m \u001B[1;33m\u001B[0m\u001B[0m\n",
      "\u001B[1;32mD:\\montruth\\PycharmProjects\\samplePy\\scripts\\utils\\image_utils.py\u001B[0m in \u001B[0;36m?\u001B[1;34m(file_path, n_slices, n_channels, doubling)\u001B[0m\n\u001B[0;32m    123\u001B[0m     \u001B[0mReturns\u001B[0m\u001B[1;33m:\u001B[0m\u001B[1;33m\u001B[0m\u001B[1;33m\u001B[0m\u001B[0m\n\u001B[0;32m    124\u001B[0m         \u001B[0mnumpy\u001B[0m\u001B[1;33m.\u001B[0m\u001B[0mndarray\u001B[0m\u001B[1;33m:\u001B[0m \u001B[0mA\u001B[0m \u001B[0mhyperstack\u001B[0m \u001B[0marray\u001B[0m \u001B[1;32mwith\u001B[0m \u001B[0mdimensions\u001B[0m \u001B[1;33m[\u001B[0m\u001B[0mchannel\u001B[0m\u001B[1;33m,\u001B[0m \u001B[0mslice\u001B[0m\u001B[1;33m,\u001B[0m \u001B[0mtime\u001B[0m\u001B[1;33m,\u001B[0m \u001B[0my\u001B[0m\u001B[1;33m,\u001B[0m \u001B[0mx\u001B[0m\u001B[1;33m]\u001B[0m\u001B[1;33m.\u001B[0m\u001B[1;33m\u001B[0m\u001B[1;33m\u001B[0m\u001B[0m\n\u001B[0;32m    125\u001B[0m     \"\"\"\n\u001B[0;32m    126\u001B[0m     \u001B[1;31m# read tiff file\u001B[0m\u001B[1;33m\u001B[0m\u001B[1;33m\u001B[0m\u001B[0m\n\u001B[1;32m--> 127\u001B[1;33m     \u001B[0mimages\u001B[0m \u001B[1;33m=\u001B[0m \u001B[0mtifffile\u001B[0m\u001B[1;33m.\u001B[0m\u001B[0mimread\u001B[0m\u001B[1;33m(\u001B[0m\u001B[0mfile_path\u001B[0m\u001B[1;33m)\u001B[0m\u001B[1;33m\u001B[0m\u001B[1;33m\u001B[0m\u001B[0m\n\u001B[0m\u001B[0;32m    128\u001B[0m     \u001B[0mn_frames\u001B[0m \u001B[1;33m=\u001B[0m \u001B[0mimages\u001B[0m\u001B[1;33m.\u001B[0m\u001B[0mshape\u001B[0m\u001B[1;33m[\u001B[0m\u001B[1;36m0\u001B[0m\u001B[1;33m]\u001B[0m\u001B[1;33m\u001B[0m\u001B[1;33m\u001B[0m\u001B[0m\n\u001B[0;32m    129\u001B[0m \u001B[1;33m\u001B[0m\u001B[0m\n\u001B[0;32m    130\u001B[0m     \u001B[1;31m# Reshape and reorder to (channels, slices, time, y, x)\u001B[0m\u001B[1;33m\u001B[0m\u001B[1;33m\u001B[0m\u001B[0m\n",
      "\u001B[1;32mD:\\montruth\\PycharmProjects\\samplePy\\.venv\\lib\\site-packages\\tifffile\\tifffile.py\u001B[0m in \u001B[0;36m?\u001B[1;34m(***failed resolving arguments***)\u001B[0m\n\u001B[0;32m   1293\u001B[0m                     )\n\u001B[0;32m   1294\u001B[0m                     \u001B[1;32mif\u001B[0m \u001B[0mselection\u001B[0m \u001B[1;32mis\u001B[0m \u001B[1;32mNone\u001B[0m\u001B[1;33m:\u001B[0m\u001B[1;33m\u001B[0m\u001B[1;33m\u001B[0m\u001B[0m\n\u001B[0;32m   1295\u001B[0m                         \u001B[1;32mreturn\u001B[0m \u001B[0mstore\u001B[0m\u001B[1;33m\u001B[0m\u001B[1;33m\u001B[0m\u001B[0m\n\u001B[0;32m   1296\u001B[0m                     \u001B[1;32mreturn\u001B[0m \u001B[0mzarr_selection\u001B[0m\u001B[1;33m(\u001B[0m\u001B[0mstore\u001B[0m\u001B[1;33m,\u001B[0m \u001B[0mselection\u001B[0m\u001B[1;33m,\u001B[0m \u001B[0mout\u001B[0m\u001B[1;33m=\u001B[0m\u001B[0mout\u001B[0m\u001B[1;33m)\u001B[0m\u001B[1;33m\u001B[0m\u001B[1;33m\u001B[0m\u001B[0m\n\u001B[1;32m-> 1297\u001B[1;33m                 return tif.asarray(\n\u001B[0m\u001B[0;32m   1298\u001B[0m                     \u001B[0mkey\u001B[0m\u001B[1;33m=\u001B[0m\u001B[0mkey\u001B[0m\u001B[1;33m,\u001B[0m\u001B[1;33m\u001B[0m\u001B[1;33m\u001B[0m\u001B[0m\n\u001B[0;32m   1299\u001B[0m                     \u001B[0mseries\u001B[0m\u001B[1;33m=\u001B[0m\u001B[0mseries\u001B[0m\u001B[1;33m,\u001B[0m\u001B[1;33m\u001B[0m\u001B[1;33m\u001B[0m\u001B[0m\n\u001B[0;32m   1300\u001B[0m                     \u001B[0mlevel\u001B[0m\u001B[1;33m=\u001B[0m\u001B[0mlevel\u001B[0m\u001B[1;33m,\u001B[0m\u001B[1;33m\u001B[0m\u001B[1;33m\u001B[0m\u001B[0m\n",
      "\u001B[1;32mD:\\montruth\\PycharmProjects\\samplePy\\.venv\\lib\\site-packages\\tifffile\\tifffile.py\u001B[0m in \u001B[0;36m?\u001B[1;34m(self, key, series, level, squeeze, out, maxworkers, buffersize)\u001B[0m\n\u001B[0;32m   4532\u001B[0m             result = page0.asarray(\n\u001B[0;32m   4533\u001B[0m                 \u001B[0mout\u001B[0m\u001B[1;33m=\u001B[0m\u001B[0mout\u001B[0m\u001B[1;33m,\u001B[0m \u001B[0mmaxworkers\u001B[0m\u001B[1;33m=\u001B[0m\u001B[0mmaxworkers\u001B[0m\u001B[1;33m,\u001B[0m \u001B[0mbuffersize\u001B[0m\u001B[1;33m=\u001B[0m\u001B[0mbuffersize\u001B[0m\u001B[1;33m\u001B[0m\u001B[1;33m\u001B[0m\u001B[0m\n\u001B[0;32m   4534\u001B[0m             )\n\u001B[0;32m   4535\u001B[0m         \u001B[1;32melse\u001B[0m\u001B[1;33m:\u001B[0m\u001B[1;33m\u001B[0m\u001B[1;33m\u001B[0m\u001B[0m\n\u001B[1;32m-> 4536\u001B[1;33m             result = stack_pages(\n\u001B[0m\u001B[0;32m   4537\u001B[0m                 \u001B[0mpages\u001B[0m\u001B[1;33m,\u001B[0m \u001B[0mout\u001B[0m\u001B[1;33m=\u001B[0m\u001B[0mout\u001B[0m\u001B[1;33m,\u001B[0m \u001B[0mmaxworkers\u001B[0m\u001B[1;33m=\u001B[0m\u001B[0mmaxworkers\u001B[0m\u001B[1;33m,\u001B[0m \u001B[0mbuffersize\u001B[0m\u001B[1;33m=\u001B[0m\u001B[0mbuffersize\u001B[0m\u001B[1;33m\u001B[0m\u001B[1;33m\u001B[0m\u001B[0m\n\u001B[0;32m   4538\u001B[0m             )\n\u001B[0;32m   4539\u001B[0m \u001B[1;33m\u001B[0m\u001B[0m\n",
      "\u001B[1;32mD:\\montruth\\PycharmProjects\\samplePy\\.venv\\lib\\site-packages\\tifffile\\tifffile.py\u001B[0m in \u001B[0;36m?\u001B[1;34m(pages, tiled, lock, maxworkers, out, **kwargs)\u001B[0m\n\u001B[0;32m  22955\u001B[0m                 \u001B[0mfilecache\u001B[0m\u001B[1;33m.\u001B[0m\u001B[0mclose\u001B[0m\u001B[1;33m(\u001B[0m\u001B[0mpage\u001B[0m\u001B[1;33m.\u001B[0m\u001B[0mparent\u001B[0m\u001B[1;33m.\u001B[0m\u001B[0mfilehandle\u001B[0m\u001B[1;33m)\u001B[0m\u001B[1;33m\u001B[0m\u001B[1;33m\u001B[0m\u001B[0m\n\u001B[0;32m  22956\u001B[0m \u001B[1;33m\u001B[0m\u001B[0m\n\u001B[0;32m  22957\u001B[0m         \u001B[1;32mif\u001B[0m \u001B[0mmaxworkers\u001B[0m \u001B[1;33m<\u001B[0m \u001B[1;36m2\u001B[0m\u001B[1;33m:\u001B[0m\u001B[1;33m\u001B[0m\u001B[1;33m\u001B[0m\u001B[0m\n\u001B[0;32m  22958\u001B[0m             \u001B[1;32mfor\u001B[0m \u001B[0mindex\u001B[0m\u001B[1;33m,\u001B[0m \u001B[0mpage\u001B[0m \u001B[1;32min\u001B[0m \u001B[0menumerate\u001B[0m\u001B[1;33m(\u001B[0m\u001B[0mpages\u001B[0m\u001B[1;33m)\u001B[0m\u001B[1;33m:\u001B[0m\u001B[1;33m\u001B[0m\u001B[1;33m\u001B[0m\u001B[0m\n\u001B[1;32m> 22959\u001B[1;33m                 \u001B[0mfunc\u001B[0m\u001B[1;33m(\u001B[0m\u001B[0mpage\u001B[0m\u001B[1;33m,\u001B[0m \u001B[0mindex\u001B[0m\u001B[1;33m)\u001B[0m\u001B[1;33m\u001B[0m\u001B[1;33m\u001B[0m\u001B[0m\n\u001B[0m\u001B[0;32m  22960\u001B[0m         \u001B[1;32melse\u001B[0m\u001B[1;33m:\u001B[0m\u001B[1;33m\u001B[0m\u001B[1;33m\u001B[0m\u001B[0m\n\u001B[0;32m  22961\u001B[0m             \u001B[0mpage0\u001B[0m\u001B[1;33m.\u001B[0m\u001B[0mdecode\u001B[0m  \u001B[1;31m# init TiffPage.decode function\u001B[0m\u001B[1;33m\u001B[0m\u001B[1;33m\u001B[0m\u001B[0m\n\u001B[0;32m  22962\u001B[0m             \u001B[1;32mwith\u001B[0m \u001B[0mThreadPoolExecutor\u001B[0m\u001B[1;33m(\u001B[0m\u001B[0mmaxworkers\u001B[0m\u001B[1;33m)\u001B[0m \u001B[1;32mas\u001B[0m \u001B[0mexecutor\u001B[0m\u001B[1;33m:\u001B[0m\u001B[1;33m\u001B[0m\u001B[1;33m\u001B[0m\u001B[0m\n",
      "\u001B[1;32mD:\\montruth\\PycharmProjects\\samplePy\\.venv\\lib\\site-packages\\tifffile\\tifffile.py\u001B[0m in \u001B[0;36m?\u001B[1;34m(page, index, out, filecache, kwargs)\u001B[0m\n\u001B[0;32m  22950\u001B[0m         ) -> None:\n\u001B[0;32m  22951\u001B[0m             \u001B[1;31m# read, decode, and copy page data\u001B[0m\u001B[1;33m\u001B[0m\u001B[1;33m\u001B[0m\u001B[0m\n\u001B[0;32m  22952\u001B[0m             \u001B[1;32mif\u001B[0m \u001B[0mpage\u001B[0m \u001B[1;32mis\u001B[0m \u001B[1;32mnot\u001B[0m \u001B[1;32mNone\u001B[0m\u001B[1;33m:\u001B[0m\u001B[1;33m\u001B[0m\u001B[1;33m\u001B[0m\u001B[0m\n\u001B[0;32m  22953\u001B[0m                 \u001B[0mfilecache\u001B[0m\u001B[1;33m.\u001B[0m\u001B[0mopen\u001B[0m\u001B[1;33m(\u001B[0m\u001B[0mpage\u001B[0m\u001B[1;33m.\u001B[0m\u001B[0mparent\u001B[0m\u001B[1;33m.\u001B[0m\u001B[0mfilehandle\u001B[0m\u001B[1;33m)\u001B[0m\u001B[1;33m\u001B[0m\u001B[1;33m\u001B[0m\u001B[0m\n\u001B[1;32m> 22954\u001B[1;33m                 \u001B[0mpage\u001B[0m\u001B[1;33m.\u001B[0m\u001B[0masarray\u001B[0m\u001B[1;33m(\u001B[0m\u001B[0mlock\u001B[0m\u001B[1;33m=\u001B[0m\u001B[0mlock\u001B[0m\u001B[1;33m,\u001B[0m \u001B[0mout\u001B[0m\u001B[1;33m=\u001B[0m\u001B[0mout\u001B[0m\u001B[1;33m[\u001B[0m\u001B[0mindex\u001B[0m\u001B[1;33m]\u001B[0m\u001B[1;33m,\u001B[0m \u001B[1;33m**\u001B[0m\u001B[0mkwargs\u001B[0m\u001B[1;33m)\u001B[0m\u001B[1;33m\u001B[0m\u001B[1;33m\u001B[0m\u001B[0m\n\u001B[0m\u001B[0;32m  22955\u001B[0m                 \u001B[0mfilecache\u001B[0m\u001B[1;33m.\u001B[0m\u001B[0mclose\u001B[0m\u001B[1;33m(\u001B[0m\u001B[0mpage\u001B[0m\u001B[1;33m.\u001B[0m\u001B[0mparent\u001B[0m\u001B[1;33m.\u001B[0m\u001B[0mfilehandle\u001B[0m\u001B[1;33m)\u001B[0m\u001B[1;33m\u001B[0m\u001B[1;33m\u001B[0m\u001B[0m\n",
      "\u001B[1;32mD:\\montruth\\PycharmProjects\\samplePy\\.venv\\lib\\site-packages\\tifffile\\tifffile.py\u001B[0m in \u001B[0;36m?\u001B[1;34m(self, *args, **kwargs)\u001B[0m\n\u001B[0;32m  10755\u001B[0m         \u001B[0mParameters\u001B[0m\u001B[1;33m:\u001B[0m\u001B[1;33m\u001B[0m\u001B[1;33m\u001B[0m\u001B[0m\n\u001B[0;32m  10756\u001B[0m             \u001B[1;33m**\u001B[0m\u001B[0mkwargs\u001B[0m\u001B[1;33m:\u001B[0m \u001B[0mArguments\u001B[0m \u001B[0mpassed\u001B[0m \u001B[0mto\u001B[0m \u001B[1;33m:\u001B[0m\u001B[0mpy\u001B[0m\u001B[1;33m:\u001B[0m\u001B[0mmeth\u001B[0m\u001B[1;33m:\u001B[0m\u001B[0;31m`\u001B[0m\u001B[0mTiffPage\u001B[0m\u001B[1;33m.\u001B[0m\u001B[0masarray\u001B[0m\u001B[0;31m`\u001B[0m\u001B[1;33m.\u001B[0m\u001B[1;33m\u001B[0m\u001B[1;33m\u001B[0m\u001B[0m\n\u001B[0;32m  10757\u001B[0m \u001B[1;33m\u001B[0m\u001B[0m\n\u001B[0;32m  10758\u001B[0m         \"\"\"\n\u001B[1;32m> 10759\u001B[1;33m         \u001B[1;32mreturn\u001B[0m \u001B[0mTiffPage\u001B[0m\u001B[1;33m.\u001B[0m\u001B[0masarray\u001B[0m\u001B[1;33m(\u001B[0m\u001B[0mself\u001B[0m\u001B[1;33m,\u001B[0m \u001B[1;33m*\u001B[0m\u001B[0margs\u001B[0m\u001B[1;33m,\u001B[0m \u001B[1;33m**\u001B[0m\u001B[0mkwargs\u001B[0m\u001B[1;33m)\u001B[0m  \u001B[1;31m# type: ignore\u001B[0m\u001B[1;33m\u001B[0m\u001B[1;33m\u001B[0m\u001B[0m\n\u001B[0m",
      "\u001B[1;32mD:\\montruth\\PycharmProjects\\samplePy\\.venv\\lib\\site-packages\\tifffile\\tifffile.py\u001B[0m in \u001B[0;36m?\u001B[1;34m(self, out, squeeze, lock, maxworkers, buffersize)\u001B[0m\n\u001B[0;32m   9303\u001B[0m                         \u001B[1;34mf'{self!r} reading array from closed file'\u001B[0m\u001B[1;33m,\u001B[0m \u001B[0mUserWarning\u001B[0m\u001B[1;33m\u001B[0m\u001B[1;33m\u001B[0m\u001B[0m\n\u001B[0;32m   9304\u001B[0m                     )\n\u001B[0;32m   9305\u001B[0m                     \u001B[0mfh\u001B[0m\u001B[1;33m.\u001B[0m\u001B[0mopen\u001B[0m\u001B[1;33m(\u001B[0m\u001B[1;33m)\u001B[0m\u001B[1;33m\u001B[0m\u001B[1;33m\u001B[0m\u001B[0m\n\u001B[0;32m   9306\u001B[0m                 \u001B[0mfh\u001B[0m\u001B[1;33m.\u001B[0m\u001B[0mseek\u001B[0m\u001B[1;33m(\u001B[0m\u001B[0mself\u001B[0m\u001B[1;33m.\u001B[0m\u001B[0mdataoffsets\u001B[0m\u001B[1;33m[\u001B[0m\u001B[1;36m0\u001B[0m\u001B[1;33m]\u001B[0m\u001B[1;33m)\u001B[0m\u001B[1;33m\u001B[0m\u001B[1;33m\u001B[0m\u001B[0m\n\u001B[1;32m-> 9307\u001B[1;33m                 result = fh.read_array(\n\u001B[0m\u001B[0;32m   9308\u001B[0m                     \u001B[0mkeyframe\u001B[0m\u001B[1;33m.\u001B[0m\u001B[0mparent\u001B[0m\u001B[1;33m.\u001B[0m\u001B[0mbyteorder\u001B[0m \u001B[1;33m+\u001B[0m \u001B[0mkeyframe\u001B[0m\u001B[1;33m.\u001B[0m\u001B[0m_dtype\u001B[0m\u001B[1;33m.\u001B[0m\u001B[0mchar\u001B[0m\u001B[1;33m,\u001B[0m\u001B[1;33m\u001B[0m\u001B[1;33m\u001B[0m\u001B[0m\n\u001B[0;32m   9309\u001B[0m                     \u001B[0mproduct\u001B[0m\u001B[1;33m(\u001B[0m\u001B[0mkeyframe\u001B[0m\u001B[1;33m.\u001B[0m\u001B[0mshaped\u001B[0m\u001B[1;33m)\u001B[0m\u001B[1;33m,\u001B[0m\u001B[1;33m\u001B[0m\u001B[1;33m\u001B[0m\u001B[0m\n\u001B[0;32m   9310\u001B[0m                     \u001B[0mout\u001B[0m\u001B[1;33m=\u001B[0m\u001B[0mout\u001B[0m\u001B[1;33m,\u001B[0m\u001B[1;33m\u001B[0m\u001B[1;33m\u001B[0m\u001B[0m\n",
      "\u001B[1;32mD:\\montruth\\PycharmProjects\\samplePy\\.venv\\lib\\site-packages\\tifffile\\tifffile.py\u001B[0m in \u001B[0;36m?\u001B[1;34m(self, dtype, count, offset, out)\u001B[0m\n\u001B[0;32m  14833\u001B[0m             \u001B[0mself\u001B[0m\u001B[1;33m.\u001B[0m\u001B[0m_fh\u001B[0m\u001B[1;33m.\u001B[0m\u001B[0mseek\u001B[0m\u001B[1;33m(\u001B[0m\u001B[0mself\u001B[0m\u001B[1;33m.\u001B[0m\u001B[0m_offset\u001B[0m \u001B[1;33m+\u001B[0m \u001B[0moffset\u001B[0m\u001B[1;33m)\u001B[0m\u001B[1;33m\u001B[0m\u001B[1;33m\u001B[0m\u001B[0m\n\u001B[0;32m  14834\u001B[0m \u001B[1;33m\u001B[0m\u001B[0m\n\u001B[0;32m  14835\u001B[0m         \u001B[1;32mtry\u001B[0m\u001B[1;33m:\u001B[0m\u001B[1;33m\u001B[0m\u001B[1;33m\u001B[0m\u001B[0m\n\u001B[0;32m  14836\u001B[0m             \u001B[0mn\u001B[0m \u001B[1;33m=\u001B[0m \u001B[0mself\u001B[0m\u001B[1;33m.\u001B[0m\u001B[0m_fh\u001B[0m\u001B[1;33m.\u001B[0m\u001B[0mreadinto\u001B[0m\u001B[1;33m(\u001B[0m\u001B[0mresult\u001B[0m\u001B[1;33m)\u001B[0m  \u001B[1;31m# type: ignore\u001B[0m\u001B[1;33m\u001B[0m\u001B[1;33m\u001B[0m\u001B[0m\n\u001B[1;32m> 14837\u001B[1;33m         \u001B[1;32mexcept\u001B[0m \u001B[0mAttributeError\u001B[0m\u001B[1;33m:\u001B[0m\u001B[1;33m\u001B[0m\u001B[1;33m\u001B[0m\u001B[0m\n\u001B[0m\u001B[0;32m  14838\u001B[0m             result[:] = numpy.frombuffer(self._fh.read(nbytes), dtype).reshape(\n\u001B[0;32m  14839\u001B[0m                 \u001B[0mresult\u001B[0m\u001B[1;33m.\u001B[0m\u001B[0mshape\u001B[0m\u001B[1;33m\u001B[0m\u001B[1;33m\u001B[0m\u001B[0m\n\u001B[0;32m  14840\u001B[0m             )\n",
      "\u001B[1;31mKeyboardInterrupt\u001B[0m: "
     ]
    }
   ],
   "execution_count": 7
  }
 ],
 "metadata": {
  "kernelspec": {
   "display_name": "Python 3",
   "language": "python",
   "name": "python3"
  },
  "language_info": {
   "codemirror_mode": {
    "name": "ipython",
    "version": 2
   },
   "file_extension": ".py",
   "mimetype": "text/x-python",
   "name": "python",
   "nbconvert_exporter": "python",
   "pygments_lexer": "ipython2",
   "version": "2.7.6"
  }
 },
 "nbformat": 4,
 "nbformat_minor": 5
}
