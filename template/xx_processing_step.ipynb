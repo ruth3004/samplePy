{
 "cells": [
  {
   "cell_type": "code",
   "execution_count": null,
   "id": "initial_id",
   "metadata": {
    "collapsed": true
   },
   "outputs": [],
   "source": [
    "# [Step Number]_[Step Name].ipynb\n",
    "\n",
    "# Imports\n",
    "import os\n",
    "import glob\n",
    "import numpy as np\n",
    "import pandas as pd\n",
    "from tifffile import imread, imwrite\n",
    "import matplotlib.pyplot as plt\n",
    "from scripts.sample_db import SampleDB\n",
    "from scripts.config_model import save_experiment_config, tree\n",
    "\n",
    "# Load the sample database\n",
    "db_path = r'\\\\tungsten-nas.fmi.ch\\tungsten\\scratch\\gfriedri\\montruth\\sample_db.csv'\n",
    "sample_db = SampleDB()\n",
    "sample_db.load(db_path)\n",
    "\n",
    "# Load experiment\n",
    "sample_id = '20220118_RM0012_124hpf_fP8_f2'  # Replace with your sample ID\n",
    "exp = sample_db.get_sample(sample_id)\n",
    "print(f\"Processing sample: {exp.sample.id}\")\n",
    "\n",
    "# Making shortcuts of sample parameters/information\n",
    "sample = exp.sample\n",
    "root_path = exp.paths.root_path\n",
    "trials_path = exp.paths.trials_path\n",
    "anatomy_path = exp.paths.anatomy_path\n",
    "n_planes = exp.params_lm.n_planes\n",
    "n_trials = exp.params_lm.n_trials\n",
    "doubling = 2 if exp.params_lm.doubling else 1\n",
    "\n",
    "# Define paths\n",
    "processed_folder = os.path.join(trials_path, \"processed\")\n",
    "report_folder = os.path.join(root_path, \"report\")\n",
    "os.makedirs(processed_folder, exist_ok=True)\n",
    "os.makedirs(report_folder, exist_ok=True)\n",
    "\n",
    "# Main processing steps\n",
    "# ... (Add your main processing steps here)\n",
    "\n",
    "# Generate and save report\n",
    "# ... (Add code to generate and save report images/plots)\n",
    "\n",
    "# Update the sample database\n",
    "sample_db.update_sample_field(sample_id, '[Step Number]_[Step Name]', True)\n",
    "sample_db.save(db_path)\n",
    "\n",
    "print(f\"Processing completed for sample: {exp.sample.id}\")"
   ]
  }
 ],
 "metadata": {
  "kernelspec": {
   "display_name": "Python 3",
   "language": "python",
   "name": "python3"
  },
  "language_info": {
   "codemirror_mode": {
    "name": "ipython",
    "version": 2
   },
   "file_extension": ".py",
   "mimetype": "text/x-python",
   "name": "python",
   "nbconvert_exporter": "python",
   "pygments_lexer": "ipython2",
   "version": "2.7.6"
  }
 },
 "nbformat": 4,
 "nbformat_minor": 5
}
